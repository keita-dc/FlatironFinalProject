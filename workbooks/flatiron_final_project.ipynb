{
 "cells": [
  {
   "cell_type": "code",
   "execution_count": 1,
   "metadata": {},
   "outputs": [],
   "source": [
    "import matplotlib.pyplot as plt\n",
    "%matplotlib inline\n",
    "import numpy as np\n",
    "import os\n",
    "import pandas as pd\n",
    "import re\n",
    "import requests\n",
    "import seaborn as sns\n",
    "import descartes\n",
    "import geopandas as gpd\n",
    "\n",
    "from arcgis.geocoding import geocode\n",
    "from arcgis.gis import GIS\n",
    "from dotenv import load_dotenv\n",
    "from functools import reduce\n",
    "from shapely.geometry import Point, Polygon\n",
    "from sklearn.decomposition import PCA\n",
    "from sklearn.ensemble import RandomForestClassifier, RandomForestRegressor\n",
    "from sklearn.model_selection import GridSearchCV\n",
    "from sklearn.metrics import confusion_matrix\n",
    "from sklearn.model_selection import train_test_split, TimeSeriesSplit\n",
    "from sklearn.preprocessing import StandardScaler, LabelEncoder, RobustScaler\n",
    "from sklearn.svm import SVC, SVR\n",
    "from textwrap import wrap\n",
    "from xgboost import XGBClassifier, XGBRegressor, plot_importance\n",
    "from yellowbrick.classifier import ROCAUC, ConfusionMatrix\n",
    "\n",
    "plt.style.use(\"ggplot\")\n",
    "sns.set_context(\"talk\")"
   ]
  },
  {
   "cell_type": "code",
   "execution_count": 2,
   "metadata": {},
   "outputs": [],
   "source": [
    "load_dotenv(\"\")\n",
    "censuskey = os.getenv(\"censuskey\")"
   ]
  },
  {
   "cell_type": "code",
   "execution_count": 11,
   "metadata": {},
   "outputs": [],
   "source": [
    "var_description = pd.DataFrame(pd.DataFrame(\n",
    "    requests.get(\"https://api.census.gov/data/2016/acs/acs5/profile/variables.json\")\n",
    "                                            .json()[\"variables\"])\n",
    "                               .T.iloc[:, 3]\n",
    "                               .str.title()\n",
    "                               .str.replace(\"!!\", \" \", regex=True)\n",
    "                               .str.replace(\"Percent Estimate \", \" \", regex=True))"
   ]
  },
  {
   "cell_type": "code",
   "execution_count": 14,
   "metadata": {},
   "outputs": [],
   "source": [
    "var_description.to_csv(\"../data/var_description.csv\")"
   ]
  },
  {
   "cell_type": "code",
   "execution_count": 19,
   "metadata": {},
   "outputs": [],
   "source": [
    "variables_selected = var_description.loc[((~var_description.index.str.contains(r'DP')|\n",
    "                                           (var_description.index.str.contains(r'DP')&\n",
    "                                            var_description.index.str.contains(r'[0-9]PE')))&\n",
    "                                          ~var_description.index.str.contains(r'PR_'))].sort_index()"
   ]
  },
  {
   "cell_type": "code",
   "execution_count": 22,
   "metadata": {},
   "outputs": [],
   "source": [
    "varlist_2016 = []\n",
    "k = 0\n",
    "for var in variables_selected.index:\n",
    "    resp = requests.get(\n",
    "        \"https://api.census.gov/data/2016/acs/acs5/profile?get={}&for=county:*&in=state:*&key={}\"\n",
    "        .format(var, censuskey))\n",
    "    if resp.status_code ==200:\n",
    "        varlist_2016.append(pd.DataFrame(resp.json()[1:], columns=resp.json()[0]))\n",
    "    k += 1\n",
    "    if k%int(len(variables_selected)/10)==0:\n",
    "        print(\"---progress: {}% completed---\".format(k*10/int(len(variables_selected)/10)))"
   ]
  },
  {
   "cell_type": "code",
   "execution_count": null,
   "metadata": {},
   "outputs": [],
   "source": [
    "api.census.gov/data/2009/acs5\n",
    "api.census.gov/data/2010/acs/acs5"
   ]
  },
  {
   "cell_type": "code",
   "execution_count": null,
   "metadata": {},
   "outputs": [
    {
     "name": "stdout",
     "output_type": "stream",
     "text": [
      "---progress: 10.00% completed for 2010---\n",
      "---progress: 20.00% completed for 2010---\n",
      "---progress: 30.00% completed for 2010---\n",
      "---progress: 40.00% completed for 2010---\n",
      "---progress: 50.00% completed for 2010---\n",
      "---progress: 60.00% completed for 2010---\n",
      "---progress: 70.00% completed for 2010---\n",
      "---progress: 80.00% completed for 2010---\n",
      "---progress: 90.00% completed for 2010---\n",
      "---progress: 100.00% completed for 2010---\n",
      "---progress: 10.00% completed for 2011---\n",
      "---progress: 20.00% completed for 2011---\n",
      "---progress: 30.00% completed for 2011---\n",
      "---progress: 40.00% completed for 2011---\n",
      "---progress: 50.00% completed for 2011---\n",
      "---progress: 60.00% completed for 2011---\n",
      "---progress: 70.00% completed for 2011---\n",
      "---progress: 80.00% completed for 2011---\n",
      "---progress: 90.00% completed for 2011---\n",
      "---progress: 100.00% completed for 2011---\n",
      "---progress: 10.00% completed for 2012---\n",
      "---progress: 20.00% completed for 2012---\n",
      "---progress: 30.00% completed for 2012---\n",
      "---progress: 40.00% completed for 2012---\n"
     ]
    }
   ],
   "source": [
    "varlist_dict = {}\n",
    "for year in range(2010, 2018):\n",
    "    varlist_dict[year] = []\n",
    "    k = 0\n",
    "    for var in variables_selected.index:\n",
    "        resp = requests.get(\n",
    "            \"https://api.census.gov/data/{}/acs/acs5/profile?get={}&for=county:*&in=state:*&key={}\"\n",
    "            .format(year, var, censuskey))\n",
    "        if resp.status_code ==200:\n",
    "            varlist_dict[year].append(pd.DataFrame(resp.json()[1:], columns=resp.json()[0]))\n",
    "        k += 1\n",
    "        if k%int(len(variables_selected)/10)==0:\n",
    "            print(\"---progress: {:0.2f}% completed for {}---\".format(k*10/int(len(variables_selected)/10), year))"
   ]
  },
  {
   "cell_type": "code",
   "execution_count": 26,
   "metadata": {},
   "outputs": [
    {
     "data": {
      "text/plain": [
       "[]"
      ]
     },
     "execution_count": 26,
     "metadata": {},
     "output_type": "execute_result"
    }
   ],
   "source": [
    "varlist_2009"
   ]
  },
  {
   "cell_type": "code",
   "execution_count": null,
   "metadata": {},
   "outputs": [],
   "source": []
  }
 ],
 "metadata": {
  "kernelspec": {
   "display_name": "Python 3",
   "language": "python",
   "name": "python3"
  },
  "language_info": {
   "codemirror_mode": {
    "name": "ipython",
    "version": 3
   },
   "file_extension": ".py",
   "mimetype": "text/x-python",
   "name": "python",
   "nbconvert_exporter": "python",
   "pygments_lexer": "ipython3",
   "version": "3.7.3"
  }
 },
 "nbformat": 4,
 "nbformat_minor": 2
}
