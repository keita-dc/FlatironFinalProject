{
 "cells": [
  {
   "cell_type": "code",
   "execution_count": 119,
   "metadata": {},
   "outputs": [],
   "source": [
    "import matplotlib.pyplot as plt\n",
    "%matplotlib inline\n",
    "import numpy as np\n",
    "import os\n",
    "import pandas as pd\n",
    "import re\n",
    "import requests\n",
    "import seaborn as sns\n",
    "import time\n",
    "import descartes\n",
    "import geopandas as gpd\n",
    "\n",
    "from arcgis.geocoding import geocode\n",
    "from arcgis.gis import GIS\n",
    "from dotenv import load_dotenv\n",
    "from functools import reduce\n",
    "from shapely.geometry import Point, Polygon\n",
    "from sklearn.decomposition import PCA\n",
    "from sklearn.ensemble import RandomForestClassifier, RandomForestRegressor\n",
    "from sklearn.model_selection import GridSearchCV\n",
    "from sklearn.metrics import confusion_matrix\n",
    "from sklearn.model_selection import train_test_split, TimeSeriesSplit\n",
    "from sklearn.preprocessing import StandardScaler, LabelEncoder, RobustScaler\n",
    "from sklearn.svm import SVC, SVR\n",
    "from sklearn.tree import DecisionTreeRegressor\n",
    "from textwrap import wrap\n",
    "from xgboost import XGBClassifier, XGBRegressor, plot_importance\n",
    "from yellowbrick.classifier import ROCAUC, ConfusionMatrix\n",
    "\n",
    "plt.style.use(\"ggplot\")\n",
    "sns.set_context(\"talk\")"
   ]
  },
  {
   "cell_type": "code",
   "execution_count": 2,
   "metadata": {},
   "outputs": [],
   "source": [
    "load_dotenv(\"\")\n",
    "censuskey = os.getenv(\"censuskey\")"
   ]
  },
  {
   "cell_type": "code",
   "execution_count": 207,
   "metadata": {},
   "outputs": [],
   "source": [
    "var_description = pd.DataFrame(pd.DataFrame(\n",
    "    requests.get(\"https://api.census.gov/data/2016/acs/acs5/profile/variables.json\")\n",
    "                                            .json()[\"variables\"])\n",
    "                               .T.iloc[:, 3]\n",
    "                               .str.title()\n",
    "                               .str.split(\"!!\", expand=True)\n",
    "                              ).sort_index()"
   ]
  },
  {
   "cell_type": "code",
   "execution_count": 208,
   "metadata": {},
   "outputs": [],
   "source": [
    "var_description.columns=[\"unit\", \n",
    "                         \"subject\",\n",
    "                         \"denominator\",\n",
    "                         \"criteria_1\",\n",
    "                         \"criteria_2\",\n",
    "                         \"criteria_3\",\n",
    "                         \"criteria_4\"\n",
    "                        ]"
   ]
  },
  {
   "cell_type": "code",
   "execution_count": 213,
   "metadata": {},
   "outputs": [
    {
     "data": {
      "text/html": [
       "<div>\n",
       "<style scoped>\n",
       "    .dataframe tbody tr th:only-of-type {\n",
       "        vertical-align: middle;\n",
       "    }\n",
       "\n",
       "    .dataframe tbody tr th {\n",
       "        vertical-align: top;\n",
       "    }\n",
       "\n",
       "    .dataframe thead th {\n",
       "        text-align: right;\n",
       "    }\n",
       "</style>\n",
       "<table border=\"1\" class=\"dataframe\">\n",
       "  <thead>\n",
       "    <tr style=\"text-align: right;\">\n",
       "      <th></th>\n",
       "      <th>unit</th>\n",
       "      <th>subject</th>\n",
       "      <th>denominator</th>\n",
       "      <th>criteria_1</th>\n",
       "      <th>criteria_2</th>\n",
       "      <th>criteria_3</th>\n",
       "      <th>criteria_4</th>\n",
       "    </tr>\n",
       "  </thead>\n",
       "  <tbody>\n",
       "    <tr>\n",
       "      <th>AIANHH</th>\n",
       "      <td>American Indian Area/Alaska Native Area/Hawaii...</td>\n",
       "      <td>None</td>\n",
       "      <td>None</td>\n",
       "      <td>None</td>\n",
       "      <td>None</td>\n",
       "      <td>None</td>\n",
       "      <td>None</td>\n",
       "    </tr>\n",
       "    <tr>\n",
       "      <th>AIHHTLI</th>\n",
       "      <td>American Indian Area (Off-Reservation Trust La...</td>\n",
       "      <td>None</td>\n",
       "      <td>None</td>\n",
       "      <td>None</td>\n",
       "      <td>None</td>\n",
       "      <td>None</td>\n",
       "      <td>None</td>\n",
       "    </tr>\n",
       "    <tr>\n",
       "      <th>AITSCE</th>\n",
       "      <td>American Indian Tribal Subdivision (Census)</td>\n",
       "      <td>None</td>\n",
       "      <td>None</td>\n",
       "      <td>None</td>\n",
       "      <td>None</td>\n",
       "      <td>None</td>\n",
       "      <td>None</td>\n",
       "    </tr>\n",
       "    <tr>\n",
       "      <th>ANRC</th>\n",
       "      <td>Alaska Native Regional Corporation</td>\n",
       "      <td>None</td>\n",
       "      <td>None</td>\n",
       "      <td>None</td>\n",
       "      <td>None</td>\n",
       "      <td>None</td>\n",
       "      <td>None</td>\n",
       "    </tr>\n",
       "    <tr>\n",
       "      <th>CBSA</th>\n",
       "      <td>Metropolitan Statistical Area/Micropolitan Sta...</td>\n",
       "      <td>None</td>\n",
       "      <td>None</td>\n",
       "      <td>None</td>\n",
       "      <td>None</td>\n",
       "      <td>None</td>\n",
       "      <td>None</td>\n",
       "    </tr>\n",
       "    <tr>\n",
       "      <th>CD115</th>\n",
       "      <td>Congressional District (115Th)</td>\n",
       "      <td>None</td>\n",
       "      <td>None</td>\n",
       "      <td>None</td>\n",
       "      <td>None</td>\n",
       "      <td>None</td>\n",
       "      <td>None</td>\n",
       "    </tr>\n",
       "    <tr>\n",
       "      <th>CNECTA</th>\n",
       "      <td>Combined New England City And Town Area</td>\n",
       "      <td>None</td>\n",
       "      <td>None</td>\n",
       "      <td>None</td>\n",
       "      <td>None</td>\n",
       "      <td>None</td>\n",
       "      <td>None</td>\n",
       "    </tr>\n",
       "    <tr>\n",
       "      <th>CONCIT</th>\n",
       "      <td>Consolidated City</td>\n",
       "      <td>None</td>\n",
       "      <td>None</td>\n",
       "      <td>None</td>\n",
       "      <td>None</td>\n",
       "      <td>None</td>\n",
       "      <td>None</td>\n",
       "    </tr>\n",
       "    <tr>\n",
       "      <th>COUNTY</th>\n",
       "      <td>County (Fips)</td>\n",
       "      <td>None</td>\n",
       "      <td>None</td>\n",
       "      <td>None</td>\n",
       "      <td>None</td>\n",
       "      <td>None</td>\n",
       "      <td>None</td>\n",
       "    </tr>\n",
       "    <tr>\n",
       "      <th>COUSUB</th>\n",
       "      <td>County Subdivision (Fips)</td>\n",
       "      <td>None</td>\n",
       "      <td>None</td>\n",
       "      <td>None</td>\n",
       "      <td>None</td>\n",
       "      <td>None</td>\n",
       "      <td>None</td>\n",
       "    </tr>\n",
       "    <tr>\n",
       "      <th>CSA</th>\n",
       "      <td>Combined Statistical Area</td>\n",
       "      <td>None</td>\n",
       "      <td>None</td>\n",
       "      <td>None</td>\n",
       "      <td>None</td>\n",
       "      <td>None</td>\n",
       "      <td>None</td>\n",
       "    </tr>\n",
       "    <tr>\n",
       "      <th>DIVISION</th>\n",
       "      <td>Census Division</td>\n",
       "      <td>None</td>\n",
       "      <td>None</td>\n",
       "      <td>None</td>\n",
       "      <td>None</td>\n",
       "      <td>None</td>\n",
       "      <td>None</td>\n",
       "    </tr>\n",
       "    <tr>\n",
       "      <th>DP02PR_0001E</th>\n",
       "      <td>Estimate</td>\n",
       "      <td>Households By Type</td>\n",
       "      <td>Total Households</td>\n",
       "      <td>None</td>\n",
       "      <td>None</td>\n",
       "      <td>None</td>\n",
       "      <td>None</td>\n",
       "    </tr>\n",
       "    <tr>\n",
       "      <th>DP02PR_0001PE</th>\n",
       "      <td>Percent</td>\n",
       "      <td>Households By Type</td>\n",
       "      <td>Total Households</td>\n",
       "      <td>None</td>\n",
       "      <td>None</td>\n",
       "      <td>None</td>\n",
       "      <td>None</td>\n",
       "    </tr>\n",
       "    <tr>\n",
       "      <th>DP02PR_0002E</th>\n",
       "      <td>Estimate</td>\n",
       "      <td>Households By Type</td>\n",
       "      <td>Total Households</td>\n",
       "      <td>Family Households (Families)</td>\n",
       "      <td>None</td>\n",
       "      <td>None</td>\n",
       "      <td>None</td>\n",
       "    </tr>\n",
       "    <tr>\n",
       "      <th>DP02PR_0002PE</th>\n",
       "      <td>Percent</td>\n",
       "      <td>Households By Type</td>\n",
       "      <td>Total Households</td>\n",
       "      <td>Family Households (Families)</td>\n",
       "      <td>None</td>\n",
       "      <td>None</td>\n",
       "      <td>None</td>\n",
       "    </tr>\n",
       "    <tr>\n",
       "      <th>DP02PR_0003E</th>\n",
       "      <td>Estimate</td>\n",
       "      <td>Households By Type</td>\n",
       "      <td>Total Households</td>\n",
       "      <td>Family Households (Families)</td>\n",
       "      <td>With Own Children Of The Householder Under 18 ...</td>\n",
       "      <td>None</td>\n",
       "      <td>None</td>\n",
       "    </tr>\n",
       "    <tr>\n",
       "      <th>DP02PR_0003PE</th>\n",
       "      <td>Percent</td>\n",
       "      <td>Households By Type</td>\n",
       "      <td>Total Households</td>\n",
       "      <td>Family Households (Families)</td>\n",
       "      <td>With Own Children Of The Householder Under 18 ...</td>\n",
       "      <td>None</td>\n",
       "      <td>None</td>\n",
       "    </tr>\n",
       "    <tr>\n",
       "      <th>DP02PR_0004E</th>\n",
       "      <td>Estimate</td>\n",
       "      <td>Households By Type</td>\n",
       "      <td>Total Households</td>\n",
       "      <td>Family Households (Families)</td>\n",
       "      <td>Married-Couple Family</td>\n",
       "      <td>None</td>\n",
       "      <td>None</td>\n",
       "    </tr>\n",
       "    <tr>\n",
       "      <th>DP02PR_0004PE</th>\n",
       "      <td>Percent</td>\n",
       "      <td>Households By Type</td>\n",
       "      <td>Total Households</td>\n",
       "      <td>Family Households (Families)</td>\n",
       "      <td>Married-Couple Family</td>\n",
       "      <td>None</td>\n",
       "      <td>None</td>\n",
       "    </tr>\n",
       "    <tr>\n",
       "      <th>DP02PR_0005E</th>\n",
       "      <td>Estimate</td>\n",
       "      <td>Households By Type</td>\n",
       "      <td>Total Households</td>\n",
       "      <td>Family Households (Families)</td>\n",
       "      <td>Married-Couple Family</td>\n",
       "      <td>With Own Children Of The Householder Under 18 ...</td>\n",
       "      <td>None</td>\n",
       "    </tr>\n",
       "    <tr>\n",
       "      <th>DP02PR_0005PE</th>\n",
       "      <td>Percent</td>\n",
       "      <td>Households By Type</td>\n",
       "      <td>Total Households</td>\n",
       "      <td>Family Households (Families)</td>\n",
       "      <td>Married-Couple Family</td>\n",
       "      <td>With Own Children Of The Householder Under 18 ...</td>\n",
       "      <td>None</td>\n",
       "    </tr>\n",
       "    <tr>\n",
       "      <th>DP02PR_0006E</th>\n",
       "      <td>Estimate</td>\n",
       "      <td>Households By Type</td>\n",
       "      <td>Total Households</td>\n",
       "      <td>Family Households (Families)</td>\n",
       "      <td>Male Householder, No Wife Present, Family</td>\n",
       "      <td>None</td>\n",
       "      <td>None</td>\n",
       "    </tr>\n",
       "    <tr>\n",
       "      <th>DP02PR_0006PE</th>\n",
       "      <td>Percent</td>\n",
       "      <td>Households By Type</td>\n",
       "      <td>Total Households</td>\n",
       "      <td>Family Households (Families)</td>\n",
       "      <td>Male Householder, No Wife Present, Family</td>\n",
       "      <td>None</td>\n",
       "      <td>None</td>\n",
       "    </tr>\n",
       "    <tr>\n",
       "      <th>DP02PR_0007E</th>\n",
       "      <td>Estimate</td>\n",
       "      <td>Households By Type</td>\n",
       "      <td>Total Households</td>\n",
       "      <td>Family Households (Families)</td>\n",
       "      <td>Male Householder, No Wife Present, Family</td>\n",
       "      <td>With Own Children Of The Householder Under 18 ...</td>\n",
       "      <td>None</td>\n",
       "    </tr>\n",
       "    <tr>\n",
       "      <th>DP02PR_0007PE</th>\n",
       "      <td>Percent</td>\n",
       "      <td>Households By Type</td>\n",
       "      <td>Total Households</td>\n",
       "      <td>Family Households (Families)</td>\n",
       "      <td>Male Householder, No Wife Present, Family</td>\n",
       "      <td>With Own Children Of The Householder Under 18 ...</td>\n",
       "      <td>None</td>\n",
       "    </tr>\n",
       "    <tr>\n",
       "      <th>DP02PR_0008E</th>\n",
       "      <td>Estimate</td>\n",
       "      <td>Households By Type</td>\n",
       "      <td>Total Households</td>\n",
       "      <td>Family Households (Families)</td>\n",
       "      <td>Female Householder, No Husband Present, Family</td>\n",
       "      <td>None</td>\n",
       "      <td>None</td>\n",
       "    </tr>\n",
       "    <tr>\n",
       "      <th>DP02PR_0008PE</th>\n",
       "      <td>Percent</td>\n",
       "      <td>Households By Type</td>\n",
       "      <td>Total Households</td>\n",
       "      <td>Family Households (Families)</td>\n",
       "      <td>Female Householder, No Husband Present, Family</td>\n",
       "      <td>None</td>\n",
       "      <td>None</td>\n",
       "    </tr>\n",
       "    <tr>\n",
       "      <th>DP02PR_0009E</th>\n",
       "      <td>Estimate</td>\n",
       "      <td>Households By Type</td>\n",
       "      <td>Total Households</td>\n",
       "      <td>Family Households (Families)</td>\n",
       "      <td>Female Householder, No Husband Present, Family</td>\n",
       "      <td>With Own Children Of The Householder Under 18 ...</td>\n",
       "      <td>None</td>\n",
       "    </tr>\n",
       "    <tr>\n",
       "      <th>DP02PR_0009PE</th>\n",
       "      <td>Percent</td>\n",
       "      <td>Households By Type</td>\n",
       "      <td>Total Households</td>\n",
       "      <td>Family Households (Families)</td>\n",
       "      <td>Female Householder, No Husband Present, Family</td>\n",
       "      <td>With Own Children Of The Householder Under 18 ...</td>\n",
       "      <td>None</td>\n",
       "    </tr>\n",
       "    <tr>\n",
       "      <th>...</th>\n",
       "      <td>...</td>\n",
       "      <td>...</td>\n",
       "      <td>...</td>\n",
       "      <td>...</td>\n",
       "      <td>...</td>\n",
       "      <td>...</td>\n",
       "      <td>...</td>\n",
       "    </tr>\n",
       "    <tr>\n",
       "      <th>DP05_0083E</th>\n",
       "      <td>Estimate</td>\n",
       "      <td>Citizen, Voting Age Population</td>\n",
       "      <td>Citizen, 18 And Over Population</td>\n",
       "      <td>Male</td>\n",
       "      <td>None</td>\n",
       "      <td>None</td>\n",
       "      <td>None</td>\n",
       "    </tr>\n",
       "    <tr>\n",
       "      <th>DP05_0083PE</th>\n",
       "      <td>Percent</td>\n",
       "      <td>Citizen, Voting Age Population</td>\n",
       "      <td>Citizen, 18 And Over Population</td>\n",
       "      <td>Male</td>\n",
       "      <td>None</td>\n",
       "      <td>None</td>\n",
       "      <td>None</td>\n",
       "    </tr>\n",
       "    <tr>\n",
       "      <th>DP05_0084E</th>\n",
       "      <td>Estimate</td>\n",
       "      <td>Citizen, Voting Age Population</td>\n",
       "      <td>Citizen, 18 And Over Population</td>\n",
       "      <td>Female</td>\n",
       "      <td>None</td>\n",
       "      <td>None</td>\n",
       "      <td>None</td>\n",
       "    </tr>\n",
       "    <tr>\n",
       "      <th>DP05_0084PE</th>\n",
       "      <td>Percent</td>\n",
       "      <td>Citizen, Voting Age Population</td>\n",
       "      <td>Citizen, 18 And Over Population</td>\n",
       "      <td>Female</td>\n",
       "      <td>None</td>\n",
       "      <td>None</td>\n",
       "      <td>None</td>\n",
       "    </tr>\n",
       "    <tr>\n",
       "      <th>GEOCOMP</th>\n",
       "      <td>Geographic Component Code</td>\n",
       "      <td>None</td>\n",
       "      <td>None</td>\n",
       "      <td>None</td>\n",
       "      <td>None</td>\n",
       "      <td>None</td>\n",
       "      <td>None</td>\n",
       "    </tr>\n",
       "    <tr>\n",
       "      <th>GEOVARIANT</th>\n",
       "      <td>Geographic Variant</td>\n",
       "      <td>None</td>\n",
       "      <td>None</td>\n",
       "      <td>None</td>\n",
       "      <td>None</td>\n",
       "      <td>None</td>\n",
       "      <td>None</td>\n",
       "    </tr>\n",
       "    <tr>\n",
       "      <th>GEO_ID</th>\n",
       "      <td>Geography</td>\n",
       "      <td>None</td>\n",
       "      <td>None</td>\n",
       "      <td>None</td>\n",
       "      <td>None</td>\n",
       "      <td>None</td>\n",
       "      <td>None</td>\n",
       "    </tr>\n",
       "    <tr>\n",
       "      <th>LSAD_NAME</th>\n",
       "      <td>Legal/Statistical Area Description Name</td>\n",
       "      <td>None</td>\n",
       "      <td>None</td>\n",
       "      <td>None</td>\n",
       "      <td>None</td>\n",
       "      <td>None</td>\n",
       "      <td>None</td>\n",
       "    </tr>\n",
       "    <tr>\n",
       "      <th>METDIV</th>\n",
       "      <td>Metropolitan Division</td>\n",
       "      <td>None</td>\n",
       "      <td>None</td>\n",
       "      <td>None</td>\n",
       "      <td>None</td>\n",
       "      <td>None</td>\n",
       "      <td>None</td>\n",
       "    </tr>\n",
       "    <tr>\n",
       "      <th>NAME</th>\n",
       "      <td>Geographic Area Name</td>\n",
       "      <td>None</td>\n",
       "      <td>None</td>\n",
       "      <td>None</td>\n",
       "      <td>None</td>\n",
       "      <td>None</td>\n",
       "      <td>None</td>\n",
       "    </tr>\n",
       "    <tr>\n",
       "      <th>NECTA</th>\n",
       "      <td>New England City And Town Area</td>\n",
       "      <td>None</td>\n",
       "      <td>None</td>\n",
       "      <td>None</td>\n",
       "      <td>None</td>\n",
       "      <td>None</td>\n",
       "      <td>None</td>\n",
       "    </tr>\n",
       "    <tr>\n",
       "      <th>NECTADIV</th>\n",
       "      <td>New England City And Town Division</td>\n",
       "      <td>None</td>\n",
       "      <td>None</td>\n",
       "      <td>None</td>\n",
       "      <td>None</td>\n",
       "      <td>None</td>\n",
       "      <td>None</td>\n",
       "    </tr>\n",
       "    <tr>\n",
       "      <th>PLACE</th>\n",
       "      <td>Place (Fips)</td>\n",
       "      <td>None</td>\n",
       "      <td>None</td>\n",
       "      <td>None</td>\n",
       "      <td>None</td>\n",
       "      <td>None</td>\n",
       "      <td>None</td>\n",
       "    </tr>\n",
       "    <tr>\n",
       "      <th>PUMA5</th>\n",
       "      <td>Public Use Microdata Area ? 5%</td>\n",
       "      <td>None</td>\n",
       "      <td>None</td>\n",
       "      <td>None</td>\n",
       "      <td>None</td>\n",
       "      <td>None</td>\n",
       "      <td>None</td>\n",
       "    </tr>\n",
       "    <tr>\n",
       "      <th>REGION</th>\n",
       "      <td>Census Region</td>\n",
       "      <td>None</td>\n",
       "      <td>None</td>\n",
       "      <td>None</td>\n",
       "      <td>None</td>\n",
       "      <td>None</td>\n",
       "      <td>None</td>\n",
       "    </tr>\n",
       "    <tr>\n",
       "      <th>SDELM</th>\n",
       "      <td>School District, Elementary</td>\n",
       "      <td>None</td>\n",
       "      <td>None</td>\n",
       "      <td>None</td>\n",
       "      <td>None</td>\n",
       "      <td>None</td>\n",
       "      <td>None</td>\n",
       "    </tr>\n",
       "    <tr>\n",
       "      <th>SDSEC</th>\n",
       "      <td>School District, Secondary</td>\n",
       "      <td>None</td>\n",
       "      <td>None</td>\n",
       "      <td>None</td>\n",
       "      <td>None</td>\n",
       "      <td>None</td>\n",
       "      <td>None</td>\n",
       "    </tr>\n",
       "    <tr>\n",
       "      <th>SDUNI</th>\n",
       "      <td>School District, Unified</td>\n",
       "      <td>None</td>\n",
       "      <td>None</td>\n",
       "      <td>None</td>\n",
       "      <td>None</td>\n",
       "      <td>None</td>\n",
       "      <td>None</td>\n",
       "    </tr>\n",
       "    <tr>\n",
       "      <th>SLDL</th>\n",
       "      <td>State Legislative District (Lower Chamber)</td>\n",
       "      <td>None</td>\n",
       "      <td>None</td>\n",
       "      <td>None</td>\n",
       "      <td>None</td>\n",
       "      <td>None</td>\n",
       "      <td>None</td>\n",
       "    </tr>\n",
       "    <tr>\n",
       "      <th>SLDU</th>\n",
       "      <td>State Legislative District (Upper Chamber)</td>\n",
       "      <td>None</td>\n",
       "      <td>None</td>\n",
       "      <td>None</td>\n",
       "      <td>None</td>\n",
       "      <td>None</td>\n",
       "      <td>None</td>\n",
       "    </tr>\n",
       "    <tr>\n",
       "      <th>STATE</th>\n",
       "      <td>State (Fips)</td>\n",
       "      <td>None</td>\n",
       "      <td>None</td>\n",
       "      <td>None</td>\n",
       "      <td>None</td>\n",
       "      <td>None</td>\n",
       "      <td>None</td>\n",
       "    </tr>\n",
       "    <tr>\n",
       "      <th>SUBMCD</th>\n",
       "      <td>Sub-Minor Civil Division (Fips)</td>\n",
       "      <td>None</td>\n",
       "      <td>None</td>\n",
       "      <td>None</td>\n",
       "      <td>None</td>\n",
       "      <td>None</td>\n",
       "      <td>None</td>\n",
       "    </tr>\n",
       "    <tr>\n",
       "      <th>SUMLEVEL</th>\n",
       "      <td>Summary Level Code</td>\n",
       "      <td>None</td>\n",
       "      <td>None</td>\n",
       "      <td>None</td>\n",
       "      <td>None</td>\n",
       "      <td>None</td>\n",
       "      <td>None</td>\n",
       "    </tr>\n",
       "    <tr>\n",
       "      <th>TRACT</th>\n",
       "      <td>Census Tract</td>\n",
       "      <td>None</td>\n",
       "      <td>None</td>\n",
       "      <td>None</td>\n",
       "      <td>None</td>\n",
       "      <td>None</td>\n",
       "      <td>None</td>\n",
       "    </tr>\n",
       "    <tr>\n",
       "      <th>TTRACT</th>\n",
       "      <td>Tribal Census Tract</td>\n",
       "      <td>None</td>\n",
       "      <td>None</td>\n",
       "      <td>None</td>\n",
       "      <td>None</td>\n",
       "      <td>None</td>\n",
       "      <td>None</td>\n",
       "    </tr>\n",
       "    <tr>\n",
       "      <th>UA</th>\n",
       "      <td>Urban Area</td>\n",
       "      <td>None</td>\n",
       "      <td>None</td>\n",
       "      <td>None</td>\n",
       "      <td>None</td>\n",
       "      <td>None</td>\n",
       "      <td>None</td>\n",
       "    </tr>\n",
       "    <tr>\n",
       "      <th>US</th>\n",
       "      <td>United States</td>\n",
       "      <td>None</td>\n",
       "      <td>None</td>\n",
       "      <td>None</td>\n",
       "      <td>None</td>\n",
       "      <td>None</td>\n",
       "      <td>None</td>\n",
       "    </tr>\n",
       "    <tr>\n",
       "      <th>ZCTA5</th>\n",
       "      <td>Zip Code Tabulation Area (Five-Digit)</td>\n",
       "      <td>None</td>\n",
       "      <td>None</td>\n",
       "      <td>None</td>\n",
       "      <td>None</td>\n",
       "      <td>None</td>\n",
       "      <td>None</td>\n",
       "    </tr>\n",
       "    <tr>\n",
       "      <th>for</th>\n",
       "      <td>Census Api Fips 'For' Clause</td>\n",
       "      <td>None</td>\n",
       "      <td>None</td>\n",
       "      <td>None</td>\n",
       "      <td>None</td>\n",
       "      <td>None</td>\n",
       "      <td>None</td>\n",
       "    </tr>\n",
       "    <tr>\n",
       "      <th>in</th>\n",
       "      <td>Census Api Fips 'In' Clause</td>\n",
       "      <td>None</td>\n",
       "      <td>None</td>\n",
       "      <td>None</td>\n",
       "      <td>None</td>\n",
       "      <td>None</td>\n",
       "      <td>None</td>\n",
       "    </tr>\n",
       "  </tbody>\n",
       "</table>\n",
       "<p>1374 rows × 7 columns</p>\n",
       "</div>"
      ],
      "text/plain": [
       "                                                            unit  \\\n",
       "AIANHH         American Indian Area/Alaska Native Area/Hawaii...   \n",
       "AIHHTLI        American Indian Area (Off-Reservation Trust La...   \n",
       "AITSCE               American Indian Tribal Subdivision (Census)   \n",
       "ANRC                          Alaska Native Regional Corporation   \n",
       "CBSA           Metropolitan Statistical Area/Micropolitan Sta...   \n",
       "CD115                            Congressional District (115Th)    \n",
       "CNECTA                   Combined New England City And Town Area   \n",
       "CONCIT                                         Consolidated City   \n",
       "COUNTY                                             County (Fips)   \n",
       "COUSUB                                 County Subdivision (Fips)   \n",
       "CSA                                    Combined Statistical Area   \n",
       "DIVISION                                         Census Division   \n",
       "DP02PR_0001E                                            Estimate   \n",
       "DP02PR_0001PE                                            Percent   \n",
       "DP02PR_0002E                                            Estimate   \n",
       "DP02PR_0002PE                                            Percent   \n",
       "DP02PR_0003E                                            Estimate   \n",
       "DP02PR_0003PE                                            Percent   \n",
       "DP02PR_0004E                                            Estimate   \n",
       "DP02PR_0004PE                                            Percent   \n",
       "DP02PR_0005E                                            Estimate   \n",
       "DP02PR_0005PE                                            Percent   \n",
       "DP02PR_0006E                                            Estimate   \n",
       "DP02PR_0006PE                                            Percent   \n",
       "DP02PR_0007E                                            Estimate   \n",
       "DP02PR_0007PE                                            Percent   \n",
       "DP02PR_0008E                                            Estimate   \n",
       "DP02PR_0008PE                                            Percent   \n",
       "DP02PR_0009E                                            Estimate   \n",
       "DP02PR_0009PE                                            Percent   \n",
       "...                                                          ...   \n",
       "DP05_0083E                                              Estimate   \n",
       "DP05_0083PE                                              Percent   \n",
       "DP05_0084E                                              Estimate   \n",
       "DP05_0084PE                                              Percent   \n",
       "GEOCOMP                                Geographic Component Code   \n",
       "GEOVARIANT                                   Geographic Variant    \n",
       "GEO_ID                                                 Geography   \n",
       "LSAD_NAME                Legal/Statistical Area Description Name   \n",
       "METDIV                                     Metropolitan Division   \n",
       "NAME                                        Geographic Area Name   \n",
       "NECTA                             New England City And Town Area   \n",
       "NECTADIV                      New England City And Town Division   \n",
       "PLACE                                              Place (Fips)    \n",
       "PUMA5                             Public Use Microdata Area ? 5%   \n",
       "REGION                                             Census Region   \n",
       "SDELM                           School District, Elementary        \n",
       "SDSEC                                 School District, Secondary   \n",
       "SDUNI                                   School District, Unified   \n",
       "SLDL                  State Legislative District (Lower Chamber)   \n",
       "SLDU                  State Legislative District (Upper Chamber)   \n",
       "STATE                                               State (Fips)   \n",
       "SUBMCD                           Sub-Minor Civil Division (Fips)   \n",
       "SUMLEVEL                                      Summary Level Code   \n",
       "TRACT                                               Census Tract   \n",
       "TTRACT                                       Tribal Census Tract   \n",
       "UA                                                    Urban Area   \n",
       "US                                                 United States   \n",
       "ZCTA5                      Zip Code Tabulation Area (Five-Digit)   \n",
       "for                                 Census Api Fips 'For' Clause   \n",
       "in                                   Census Api Fips 'In' Clause   \n",
       "\n",
       "                                      subject  \\\n",
       "AIANHH                                   None   \n",
       "AIHHTLI                                  None   \n",
       "AITSCE                                   None   \n",
       "ANRC                                     None   \n",
       "CBSA                                     None   \n",
       "CD115                                    None   \n",
       "CNECTA                                   None   \n",
       "CONCIT                                   None   \n",
       "COUNTY                                   None   \n",
       "COUSUB                                   None   \n",
       "CSA                                      None   \n",
       "DIVISION                                 None   \n",
       "DP02PR_0001E               Households By Type   \n",
       "DP02PR_0001PE              Households By Type   \n",
       "DP02PR_0002E               Households By Type   \n",
       "DP02PR_0002PE              Households By Type   \n",
       "DP02PR_0003E               Households By Type   \n",
       "DP02PR_0003PE              Households By Type   \n",
       "DP02PR_0004E               Households By Type   \n",
       "DP02PR_0004PE              Households By Type   \n",
       "DP02PR_0005E               Households By Type   \n",
       "DP02PR_0005PE              Households By Type   \n",
       "DP02PR_0006E               Households By Type   \n",
       "DP02PR_0006PE              Households By Type   \n",
       "DP02PR_0007E               Households By Type   \n",
       "DP02PR_0007PE              Households By Type   \n",
       "DP02PR_0008E               Households By Type   \n",
       "DP02PR_0008PE              Households By Type   \n",
       "DP02PR_0009E               Households By Type   \n",
       "DP02PR_0009PE              Households By Type   \n",
       "...                                       ...   \n",
       "DP05_0083E     Citizen, Voting Age Population   \n",
       "DP05_0083PE    Citizen, Voting Age Population   \n",
       "DP05_0084E     Citizen, Voting Age Population   \n",
       "DP05_0084PE    Citizen, Voting Age Population   \n",
       "GEOCOMP                                  None   \n",
       "GEOVARIANT                               None   \n",
       "GEO_ID                                   None   \n",
       "LSAD_NAME                                None   \n",
       "METDIV                                   None   \n",
       "NAME                                     None   \n",
       "NECTA                                    None   \n",
       "NECTADIV                                 None   \n",
       "PLACE                                    None   \n",
       "PUMA5                                    None   \n",
       "REGION                                   None   \n",
       "SDELM                                    None   \n",
       "SDSEC                                    None   \n",
       "SDUNI                                    None   \n",
       "SLDL                                     None   \n",
       "SLDU                                     None   \n",
       "STATE                                    None   \n",
       "SUBMCD                                   None   \n",
       "SUMLEVEL                                 None   \n",
       "TRACT                                    None   \n",
       "TTRACT                                   None   \n",
       "UA                                       None   \n",
       "US                                       None   \n",
       "ZCTA5                                    None   \n",
       "for                                      None   \n",
       "in                                       None   \n",
       "\n",
       "                                   denominator                    criteria_1  \\\n",
       "AIANHH                                    None                          None   \n",
       "AIHHTLI                                   None                          None   \n",
       "AITSCE                                    None                          None   \n",
       "ANRC                                      None                          None   \n",
       "CBSA                                      None                          None   \n",
       "CD115                                     None                          None   \n",
       "CNECTA                                    None                          None   \n",
       "CONCIT                                    None                          None   \n",
       "COUNTY                                    None                          None   \n",
       "COUSUB                                    None                          None   \n",
       "CSA                                       None                          None   \n",
       "DIVISION                                  None                          None   \n",
       "DP02PR_0001E                  Total Households                          None   \n",
       "DP02PR_0001PE                 Total Households                          None   \n",
       "DP02PR_0002E                  Total Households  Family Households (Families)   \n",
       "DP02PR_0002PE                 Total Households  Family Households (Families)   \n",
       "DP02PR_0003E                  Total Households  Family Households (Families)   \n",
       "DP02PR_0003PE                 Total Households  Family Households (Families)   \n",
       "DP02PR_0004E                  Total Households  Family Households (Families)   \n",
       "DP02PR_0004PE                 Total Households  Family Households (Families)   \n",
       "DP02PR_0005E                  Total Households  Family Households (Families)   \n",
       "DP02PR_0005PE                 Total Households  Family Households (Families)   \n",
       "DP02PR_0006E                  Total Households  Family Households (Families)   \n",
       "DP02PR_0006PE                 Total Households  Family Households (Families)   \n",
       "DP02PR_0007E                  Total Households  Family Households (Families)   \n",
       "DP02PR_0007PE                 Total Households  Family Households (Families)   \n",
       "DP02PR_0008E                  Total Households  Family Households (Families)   \n",
       "DP02PR_0008PE                 Total Households  Family Households (Families)   \n",
       "DP02PR_0009E                  Total Households  Family Households (Families)   \n",
       "DP02PR_0009PE                 Total Households  Family Households (Families)   \n",
       "...                                        ...                           ...   \n",
       "DP05_0083E     Citizen, 18 And Over Population                          Male   \n",
       "DP05_0083PE    Citizen, 18 And Over Population                          Male   \n",
       "DP05_0084E     Citizen, 18 And Over Population                        Female   \n",
       "DP05_0084PE    Citizen, 18 And Over Population                        Female   \n",
       "GEOCOMP                                   None                          None   \n",
       "GEOVARIANT                                None                          None   \n",
       "GEO_ID                                    None                          None   \n",
       "LSAD_NAME                                 None                          None   \n",
       "METDIV                                    None                          None   \n",
       "NAME                                      None                          None   \n",
       "NECTA                                     None                          None   \n",
       "NECTADIV                                  None                          None   \n",
       "PLACE                                     None                          None   \n",
       "PUMA5                                     None                          None   \n",
       "REGION                                    None                          None   \n",
       "SDELM                                     None                          None   \n",
       "SDSEC                                     None                          None   \n",
       "SDUNI                                     None                          None   \n",
       "SLDL                                      None                          None   \n",
       "SLDU                                      None                          None   \n",
       "STATE                                     None                          None   \n",
       "SUBMCD                                    None                          None   \n",
       "SUMLEVEL                                  None                          None   \n",
       "TRACT                                     None                          None   \n",
       "TTRACT                                    None                          None   \n",
       "UA                                        None                          None   \n",
       "US                                        None                          None   \n",
       "ZCTA5                                     None                          None   \n",
       "for                                       None                          None   \n",
       "in                                        None                          None   \n",
       "\n",
       "                                                      criteria_2  \\\n",
       "AIANHH                                                      None   \n",
       "AIHHTLI                                                     None   \n",
       "AITSCE                                                      None   \n",
       "ANRC                                                        None   \n",
       "CBSA                                                        None   \n",
       "CD115                                                       None   \n",
       "CNECTA                                                      None   \n",
       "CONCIT                                                      None   \n",
       "COUNTY                                                      None   \n",
       "COUSUB                                                      None   \n",
       "CSA                                                         None   \n",
       "DIVISION                                                    None   \n",
       "DP02PR_0001E                                                None   \n",
       "DP02PR_0001PE                                               None   \n",
       "DP02PR_0002E                                                None   \n",
       "DP02PR_0002PE                                               None   \n",
       "DP02PR_0003E   With Own Children Of The Householder Under 18 ...   \n",
       "DP02PR_0003PE  With Own Children Of The Householder Under 18 ...   \n",
       "DP02PR_0004E                               Married-Couple Family   \n",
       "DP02PR_0004PE                              Married-Couple Family   \n",
       "DP02PR_0005E                               Married-Couple Family   \n",
       "DP02PR_0005PE                              Married-Couple Family   \n",
       "DP02PR_0006E           Male Householder, No Wife Present, Family   \n",
       "DP02PR_0006PE          Male Householder, No Wife Present, Family   \n",
       "DP02PR_0007E           Male Householder, No Wife Present, Family   \n",
       "DP02PR_0007PE          Male Householder, No Wife Present, Family   \n",
       "DP02PR_0008E      Female Householder, No Husband Present, Family   \n",
       "DP02PR_0008PE     Female Householder, No Husband Present, Family   \n",
       "DP02PR_0009E      Female Householder, No Husband Present, Family   \n",
       "DP02PR_0009PE     Female Householder, No Husband Present, Family   \n",
       "...                                                          ...   \n",
       "DP05_0083E                                                  None   \n",
       "DP05_0083PE                                                 None   \n",
       "DP05_0084E                                                  None   \n",
       "DP05_0084PE                                                 None   \n",
       "GEOCOMP                                                     None   \n",
       "GEOVARIANT                                                  None   \n",
       "GEO_ID                                                      None   \n",
       "LSAD_NAME                                                   None   \n",
       "METDIV                                                      None   \n",
       "NAME                                                        None   \n",
       "NECTA                                                       None   \n",
       "NECTADIV                                                    None   \n",
       "PLACE                                                       None   \n",
       "PUMA5                                                       None   \n",
       "REGION                                                      None   \n",
       "SDELM                                                       None   \n",
       "SDSEC                                                       None   \n",
       "SDUNI                                                       None   \n",
       "SLDL                                                        None   \n",
       "SLDU                                                        None   \n",
       "STATE                                                       None   \n",
       "SUBMCD                                                      None   \n",
       "SUMLEVEL                                                    None   \n",
       "TRACT                                                       None   \n",
       "TTRACT                                                      None   \n",
       "UA                                                          None   \n",
       "US                                                          None   \n",
       "ZCTA5                                                       None   \n",
       "for                                                         None   \n",
       "in                                                          None   \n",
       "\n",
       "                                                      criteria_3 criteria_4  \n",
       "AIANHH                                                      None       None  \n",
       "AIHHTLI                                                     None       None  \n",
       "AITSCE                                                      None       None  \n",
       "ANRC                                                        None       None  \n",
       "CBSA                                                        None       None  \n",
       "CD115                                                       None       None  \n",
       "CNECTA                                                      None       None  \n",
       "CONCIT                                                      None       None  \n",
       "COUNTY                                                      None       None  \n",
       "COUSUB                                                      None       None  \n",
       "CSA                                                         None       None  \n",
       "DIVISION                                                    None       None  \n",
       "DP02PR_0001E                                                None       None  \n",
       "DP02PR_0001PE                                               None       None  \n",
       "DP02PR_0002E                                                None       None  \n",
       "DP02PR_0002PE                                               None       None  \n",
       "DP02PR_0003E                                                None       None  \n",
       "DP02PR_0003PE                                               None       None  \n",
       "DP02PR_0004E                                                None       None  \n",
       "DP02PR_0004PE                                               None       None  \n",
       "DP02PR_0005E   With Own Children Of The Householder Under 18 ...       None  \n",
       "DP02PR_0005PE  With Own Children Of The Householder Under 18 ...       None  \n",
       "DP02PR_0006E                                                None       None  \n",
       "DP02PR_0006PE                                               None       None  \n",
       "DP02PR_0007E   With Own Children Of The Householder Under 18 ...       None  \n",
       "DP02PR_0007PE  With Own Children Of The Householder Under 18 ...       None  \n",
       "DP02PR_0008E                                                None       None  \n",
       "DP02PR_0008PE                                               None       None  \n",
       "DP02PR_0009E   With Own Children Of The Householder Under 18 ...       None  \n",
       "DP02PR_0009PE  With Own Children Of The Householder Under 18 ...       None  \n",
       "...                                                          ...        ...  \n",
       "DP05_0083E                                                  None       None  \n",
       "DP05_0083PE                                                 None       None  \n",
       "DP05_0084E                                                  None       None  \n",
       "DP05_0084PE                                                 None       None  \n",
       "GEOCOMP                                                     None       None  \n",
       "GEOVARIANT                                                  None       None  \n",
       "GEO_ID                                                      None       None  \n",
       "LSAD_NAME                                                   None       None  \n",
       "METDIV                                                      None       None  \n",
       "NAME                                                        None       None  \n",
       "NECTA                                                       None       None  \n",
       "NECTADIV                                                    None       None  \n",
       "PLACE                                                       None       None  \n",
       "PUMA5                                                       None       None  \n",
       "REGION                                                      None       None  \n",
       "SDELM                                                       None       None  \n",
       "SDSEC                                                       None       None  \n",
       "SDUNI                                                       None       None  \n",
       "SLDL                                                        None       None  \n",
       "SLDU                                                        None       None  \n",
       "STATE                                                       None       None  \n",
       "SUBMCD                                                      None       None  \n",
       "SUMLEVEL                                                    None       None  \n",
       "TRACT                                                       None       None  \n",
       "TTRACT                                                      None       None  \n",
       "UA                                                          None       None  \n",
       "US                                                          None       None  \n",
       "ZCTA5                                                       None       None  \n",
       "for                                                         None       None  \n",
       "in                                                          None       None  \n",
       "\n",
       "[1374 rows x 7 columns]"
      ]
     },
     "execution_count": 213,
     "metadata": {},
     "output_type": "execute_result"
    }
   ],
   "source": [
    "var_description"
   ]
  },
  {
   "cell_type": "code",
   "execution_count": 210,
   "metadata": {},
   "outputs": [],
   "source": [
    "var_description.to_csv(\"../data/var_description.csv\")"
   ]
  },
  {
   "cell_type": "code",
   "execution_count": 211,
   "metadata": {},
   "outputs": [],
   "source": [
    "variables_selected = var_description.loc[((~var_description.index.str.contains(r'DP')|\n",
    "                                           (var_description.index.str.contains(r'DP')&\n",
    "                                            var_description.index.str.contains(r'[0-9]PE')))&\n",
    "                                          ~var_description.index.str.contains(r'PR_'))\n",
    "                                        ].sort_index()"
   ]
  },
  {
   "cell_type": "code",
   "execution_count": 109,
   "metadata": {},
   "outputs": [
    {
     "data": {
      "text/plain": [
       "554"
      ]
     },
     "execution_count": 109,
     "metadata": {},
     "output_type": "execute_result"
    }
   ],
   "source": [
    "len(variables_selected)"
   ]
  },
  {
   "cell_type": "code",
   "execution_count": 193,
   "metadata": {
    "scrolled": true
   },
   "outputs": [
    {
     "name": "stdout",
     "output_type": "stream",
     "text": [
      "---progress: 10.00% completed for 2010---\n",
      "---progress: 20.00% completed for 2010---\n",
      "---progress: 30.00% completed for 2010---\n",
      "---progress: 40.00% completed for 2010---\n",
      "---progress: 50.00% completed for 2010---\n",
      "---progress: 60.00% completed for 2010---\n",
      "---progress: 70.00% completed for 2010---\n",
      "---progress: 80.00% completed for 2010---\n",
      "---progress: 90.00% completed for 2010---\n",
      "---progress: 100.00% completed for 2010---\n",
      "2010 (3221, 544)\n",
      "---progress: 10.00% completed for 2011---\n",
      "---progress: 20.00% completed for 2011---\n",
      "---progress: 30.00% completed for 2011---\n",
      "---progress: 40.00% completed for 2011---\n",
      "---progress: 50.00% completed for 2011---\n",
      "---progress: 60.00% completed for 2011---\n",
      "---progress: 70.00% completed for 2011---\n",
      "---progress: 80.00% completed for 2011---\n",
      "---progress: 90.00% completed for 2011---\n",
      "---progress: 100.00% completed for 2011---\n",
      "2011 (3221, 545)\n",
      "---progress: 10.00% completed for 2012---\n",
      "---progress: 20.00% completed for 2012---\n",
      "---progress: 30.00% completed for 2012---\n",
      "---progress: 40.00% completed for 2012---\n",
      "---progress: 50.00% completed for 2012---\n",
      "---progress: 60.00% completed for 2012---\n",
      "---progress: 70.00% completed for 2012---\n",
      "---progress: 80.00% completed for 2012---\n",
      "---progress: 90.00% completed for 2012---\n",
      "---progress: 100.00% completed for 2012---\n",
      "2012 (3221, 545)\n",
      "---progress: 10.00% completed for 2013---\n",
      "---progress: 20.00% completed for 2013---\n",
      "---progress: 30.00% completed for 2013---\n",
      "---progress: 40.00% completed for 2013---\n",
      "---progress: 50.00% completed for 2013---\n",
      "---progress: 60.00% completed for 2013---\n",
      "---progress: 70.00% completed for 2013---\n",
      "---progress: 80.00% completed for 2013---\n",
      "---progress: 90.00% completed for 2013---\n",
      "---progress: 100.00% completed for 2013---\n",
      "2013 (3221, 548)\n",
      "---progress: 10.00% completed for 2014---\n",
      "---progress: 20.00% completed for 2014---\n",
      "---progress: 30.00% completed for 2014---\n",
      "---progress: 40.00% completed for 2014---\n",
      "---progress: 50.00% completed for 2014---\n",
      "---progress: 60.00% completed for 2014---\n",
      "---progress: 70.00% completed for 2014---\n",
      "---progress: 80.00% completed for 2014---\n",
      "---progress: 90.00% completed for 2014---\n",
      "---progress: 100.00% completed for 2014---\n",
      "2014 (3220, 498)\n",
      "---progress: 10.00% completed for 2015---\n",
      "---progress: 20.00% completed for 2015---\n",
      "---progress: 30.00% completed for 2015---\n",
      "---progress: 40.00% completed for 2015---\n",
      "---progress: 50.00% completed for 2015---\n",
      "---progress: 60.00% completed for 2015---\n",
      "---progress: 70.00% completed for 2015---\n",
      "---progress: 80.00% completed for 2015---\n",
      "---progress: 90.00% completed for 2015---\n",
      "---progress: 100.00% completed for 2015---\n",
      "2015 (3220, 553)\n",
      "---progress: 10.00% completed for 2016---\n",
      "---progress: 20.00% completed for 2016---\n",
      "---progress: 30.00% completed for 2016---\n",
      "---progress: 40.00% completed for 2016---\n",
      "---progress: 50.00% completed for 2016---\n",
      "---progress: 60.00% completed for 2016---\n",
      "---progress: 70.00% completed for 2016---\n",
      "---progress: 80.00% completed for 2016---\n",
      "---progress: 90.00% completed for 2016---\n",
      "---progress: 100.00% completed for 2016---\n",
      "2016 (3220, 554)\n",
      "---progress: 10.00% completed for 2017---\n",
      "---progress: 20.00% completed for 2017---\n",
      "---progress: 30.00% completed for 2017---\n",
      "---progress: 40.00% completed for 2017---\n",
      "---progress: 50.00% completed for 2017---\n",
      "---progress: 60.00% completed for 2017---\n",
      "---progress: 70.00% completed for 2017---\n",
      "---progress: 80.00% completed for 2017---\n",
      "---progress: 90.00% completed for 2017---\n",
      "---progress: 100.00% completed for 2017---\n",
      "2017 (3220, 544)\n"
     ]
    }
   ],
   "source": [
    "varlist_dict = {}\n",
    "var_dict = {}\n",
    "for year in range(2010, 2018):\n",
    "    varlist_dict[year] = []\n",
    "    k = 0\n",
    "    for var in variables_selected.index:\n",
    "        success = False\n",
    "        l = 0\n",
    "        while not success:\n",
    "            l += 1\n",
    "            resp = requests.get(\n",
    "                \"https://api.census.gov/data/{}/acs/acs5/profile?get={}&for=county:*&in=state:*&key={}\"\n",
    "                .format(year, var, censuskey))\n",
    "            time.sleep(1)\n",
    "            if resp.status_code ==200:\n",
    "                varlist_dict[year].append(pd.DataFrame(resp.json()[1:], columns=resp.json()[0]))\n",
    "                success = True\n",
    "            elif l > 10:\n",
    "                success = True\n",
    "        k += 1\n",
    "        \n",
    "        if k%int(len(variables_selected)/10)==0:\n",
    "            print(\"---progress: {:0.2f}% completed for {}---\".format(\n",
    "                k*10/int(len(variables_selected)/10), \n",
    "                year\n",
    "            ))\n",
    "    var_dict[year] = reduce(lambda left, right: pd.merge(left, \n",
    "                                                         right, \n",
    "                                                         how='outer'\n",
    "                                                        ), varlist_dict[year])\n",
    "    print(year, var_dict[year].shape)"
   ]
  },
  {
   "cell_type": "code",
   "execution_count": 459,
   "metadata": {},
   "outputs": [
    {
     "name": "stdout",
     "output_type": "stream",
     "text": [
      "no data for:  2010 CD115\n",
      "no data for:  2010 DP02_0150PE\n",
      "no data for:  2010 DP02_0151PE\n",
      "no data for:  2010 DP02_0152PE\n",
      "no data for:  2010 DP04_0142PE\n",
      "no data for:  2010 DP04_0143PE\n",
      "no data for:  2010 DP05_0082PE\n",
      "no data for:  2010 DP05_0083PE\n",
      "no data for:  2010 DP05_0084PE\n",
      "no data for:  2010 ZCTA5\n",
      "no data for:  2011 CD115\n",
      "no data for:  2011 DP02_0150PE\n",
      "no data for:  2011 DP02_0151PE\n",
      "no data for:  2011 DP02_0152PE\n",
      "no data for:  2011 DP04_0142PE\n",
      "no data for:  2011 DP04_0143PE\n",
      "no data for:  2011 DP05_0082PE\n",
      "no data for:  2011 DP05_0083PE\n",
      "no data for:  2011 DP05_0084PE\n",
      "no data for:  2012 CD115\n",
      "no data for:  2012 DP02_0150PE\n",
      "no data for:  2012 DP02_0151PE\n",
      "no data for:  2012 DP02_0152PE\n",
      "no data for:  2012 DP04_0142PE\n",
      "no data for:  2012 DP04_0143PE\n",
      "no data for:  2012 DP05_0082PE\n",
      "no data for:  2012 DP05_0083PE\n",
      "no data for:  2012 DP05_0084PE\n",
      "no data for:  2013 CD115\n",
      "no data for:  2013 DP04_0142PE\n",
      "no data for:  2013 DP04_0143PE\n",
      "no data for:  2013 DP05_0082PE\n",
      "no data for:  2013 DP05_0083PE\n",
      "no data for:  2013 DP05_0084PE\n",
      "no data for:  2014 CD115\n",
      "no data for:  2014 DP04_0142PE\n",
      "no data for:  2014 DP04_0143PE\n",
      "no data for:  2014 DP05_0082PE\n",
      "no data for:  2014 DP05_0083PE\n",
      "no data for:  2014 DP05_0084PE\n",
      "no data for:  2015 CD115\n",
      "no data for:  2017 CD115\n",
      "no data for:  2017 ZCTA5\n"
     ]
    }
   ],
   "source": [
    "missing_varlist_dict = {}\n",
    "missing_var_dict = {}\n",
    "for year in range(2010, 2018):\n",
    "    missing_col = []\n",
    "    for col in var_dict[2016].columns:\n",
    "        if col not in var_dict[2010].columns:\n",
    "            missing_col.append(col)\n",
    "    missing_varlist_dict[year] = []\n",
    "    k = 0\n",
    "    for var in missing_col:\n",
    "        success = False\n",
    "        l = 0\n",
    "        while not success:\n",
    "            l += 1\n",
    "            resp = requests.get(\n",
    "                \"https://api.census.gov/data/{}/acs/acs5/profile?get={}&for=county:*&in=state:*&key={}\"\n",
    "                .format(year, var, censuskey))\n",
    "#             time.sleep(1)\n",
    "            if resp.status_code ==200:\n",
    "                missing_varlist_dict[year].append(pd.DataFrame(resp.json()[1:], columns=resp.json()[0]))\n",
    "                success = True\n",
    "            elif l > 10:\n",
    "                success = True\n",
    "                print(\"no data for: \", year, var)\n",
    "        k += 1"
   ]
  },
  {
   "cell_type": "code",
   "execution_count": 467,
   "metadata": {
    "scrolled": true
   },
   "outputs": [],
   "source": [
    "for year in range(2010, 2018):\n",
    "    var_dict[year] = var_dict[year].apply(pd.to_numeric, errors='coerce')\n",
    "    var_dict[year] = var_dict[year].loc[var_dict[year].state!=72]\n",
    "    var_dict[year][\"FIPS\"] = var_dict[year].state * 1000 + var_dict[year].county\n",
    "    var_dict[year].to_csv(\"../data/census_{}.csv\".format(year))"
   ]
  },
  {
   "cell_type": "code",
   "execution_count": 265,
   "metadata": {},
   "outputs": [],
   "source": [
    "pd.options.display.float_format = '{:,.2f}'.format"
   ]
  },
  {
   "cell_type": "code",
   "execution_count": 461,
   "metadata": {},
   "outputs": [],
   "source": [
    "for year in range(2010, 2018):\n",
    "    var_dict[year] = var_dict[year].applymap(\n",
    "        lambda x: np.nan if x==-666666666 or x==-888888888 or x==-999999999 else x\n",
    "    )"
   ]
  },
  {
   "cell_type": "code",
   "execution_count": 478,
   "metadata": {},
   "outputs": [
    {
     "name": "stderr",
     "output_type": "stream",
     "text": [
      "/Users/kmiyaki/anaconda3/lib/python3.7/site-packages/xgboost/core.py:587: FutureWarning: Series.base is deprecated and will be removed in a future version\n",
      "  if getattr(data, 'base', None) is not None and \\\n"
     ]
    },
    {
     "name": "stdout",
     "output_type": "stream",
     "text": [
      "[11:27:59] WARNING: src/objective/regression_obj.cu:152: reg:linear is now deprecated in favor of reg:squarederror.\n",
      "DP02_0037PE\n",
      "[11:28:03] WARNING: src/objective/regression_obj.cu:152: reg:linear is now deprecated in favor of reg:squarederror.\n"
     ]
    },
    {
     "name": "stderr",
     "output_type": "stream",
     "text": [
      "/Users/kmiyaki/anaconda3/lib/python3.7/site-packages/xgboost/core.py:587: FutureWarning: Series.base is deprecated and will be removed in a future version\n",
      "  if getattr(data, 'base', None) is not None and \\\n"
     ]
    },
    {
     "name": "stdout",
     "output_type": "stream",
     "text": [
      "DP02_0044PE\n",
      "[11:28:07] WARNING: src/objective/regression_obj.cu:152: reg:linear is now deprecated in favor of reg:squarederror.\n"
     ]
    },
    {
     "name": "stderr",
     "output_type": "stream",
     "text": [
      "/Users/kmiyaki/anaconda3/lib/python3.7/site-packages/xgboost/core.py:587: FutureWarning: Series.base is deprecated and will be removed in a future version\n",
      "  if getattr(data, 'base', None) is not None and \\\n"
     ]
    },
    {
     "name": "stdout",
     "output_type": "stream",
     "text": [
      "DP02_0045PE\n",
      "[11:28:11] WARNING: src/objective/regression_obj.cu:152: reg:linear is now deprecated in favor of reg:squarederror.\n"
     ]
    },
    {
     "name": "stderr",
     "output_type": "stream",
     "text": [
      "/Users/kmiyaki/anaconda3/lib/python3.7/site-packages/xgboost/core.py:587: FutureWarning: Series.base is deprecated and will be removed in a future version\n",
      "  if getattr(data, 'base', None) is not None and \\\n"
     ]
    },
    {
     "name": "stdout",
     "output_type": "stream",
     "text": [
      "DP02_0046PE\n",
      "[11:28:16] WARNING: src/objective/regression_obj.cu:152: reg:linear is now deprecated in favor of reg:squarederror.\n"
     ]
    },
    {
     "name": "stderr",
     "output_type": "stream",
     "text": [
      "/Users/kmiyaki/anaconda3/lib/python3.7/site-packages/xgboost/core.py:587: FutureWarning: Series.base is deprecated and will be removed in a future version\n",
      "  if getattr(data, 'base', None) is not None and \\\n"
     ]
    },
    {
     "name": "stdout",
     "output_type": "stream",
     "text": [
      "DP02_0047PE\n",
      "[11:28:20] WARNING: src/objective/regression_obj.cu:152: reg:linear is now deprecated in favor of reg:squarederror.\n"
     ]
    },
    {
     "name": "stderr",
     "output_type": "stream",
     "text": [
      "/Users/kmiyaki/anaconda3/lib/python3.7/site-packages/xgboost/core.py:587: FutureWarning: Series.base is deprecated and will be removed in a future version\n",
      "  if getattr(data, 'base', None) is not None and \\\n"
     ]
    },
    {
     "name": "stdout",
     "output_type": "stream",
     "text": [
      "DP02_0048PE\n",
      "[11:28:24] WARNING: src/objective/regression_obj.cu:152: reg:linear is now deprecated in favor of reg:squarederror.\n"
     ]
    },
    {
     "name": "stderr",
     "output_type": "stream",
     "text": [
      "/Users/kmiyaki/anaconda3/lib/python3.7/site-packages/xgboost/core.py:587: FutureWarning: Series.base is deprecated and will be removed in a future version\n",
      "  if getattr(data, 'base', None) is not None and \\\n"
     ]
    },
    {
     "name": "stdout",
     "output_type": "stream",
     "text": [
      "DP02_0050PE\n",
      "[11:28:28] WARNING: src/objective/regression_obj.cu:152: reg:linear is now deprecated in favor of reg:squarederror.\n"
     ]
    },
    {
     "name": "stderr",
     "output_type": "stream",
     "text": [
      "/Users/kmiyaki/anaconda3/lib/python3.7/site-packages/xgboost/core.py:587: FutureWarning: Series.base is deprecated and will be removed in a future version\n",
      "  if getattr(data, 'base', None) is not None and \\\n"
     ]
    },
    {
     "name": "stdout",
     "output_type": "stream",
     "text": [
      "DP02_0051PE\n",
      "[11:28:32] WARNING: src/objective/regression_obj.cu:152: reg:linear is now deprecated in favor of reg:squarederror.\n"
     ]
    },
    {
     "name": "stderr",
     "output_type": "stream",
     "text": [
      "/Users/kmiyaki/anaconda3/lib/python3.7/site-packages/xgboost/core.py:587: FutureWarning: Series.base is deprecated and will be removed in a future version\n",
      "  if getattr(data, 'base', None) is not None and \\\n"
     ]
    },
    {
     "name": "stdout",
     "output_type": "stream",
     "text": [
      "DP02_0094PE\n",
      "[11:28:36] WARNING: src/objective/regression_obj.cu:152: reg:linear is now deprecated in favor of reg:squarederror.\n"
     ]
    },
    {
     "name": "stderr",
     "output_type": "stream",
     "text": [
      "/Users/kmiyaki/anaconda3/lib/python3.7/site-packages/xgboost/core.py:587: FutureWarning: Series.base is deprecated and will be removed in a future version\n",
      "  if getattr(data, 'base', None) is not None and \\\n"
     ]
    },
    {
     "name": "stdout",
     "output_type": "stream",
     "text": [
      "DP02_0095PE\n",
      "[11:28:40] WARNING: src/objective/regression_obj.cu:152: reg:linear is now deprecated in favor of reg:squarederror.\n"
     ]
    },
    {
     "name": "stderr",
     "output_type": "stream",
     "text": [
      "/Users/kmiyaki/anaconda3/lib/python3.7/site-packages/xgboost/core.py:587: FutureWarning: Series.base is deprecated and will be removed in a future version\n",
      "  if getattr(data, 'base', None) is not None and \\\n"
     ]
    },
    {
     "name": "stdout",
     "output_type": "stream",
     "text": [
      "DP02_0098PE\n",
      "[11:28:44] WARNING: src/objective/regression_obj.cu:152: reg:linear is now deprecated in favor of reg:squarederror.\n"
     ]
    },
    {
     "name": "stderr",
     "output_type": "stream",
     "text": [
      "/Users/kmiyaki/anaconda3/lib/python3.7/site-packages/xgboost/core.py:587: FutureWarning: Series.base is deprecated and will be removed in a future version\n",
      "  if getattr(data, 'base', None) is not None and \\\n"
     ]
    },
    {
     "name": "stdout",
     "output_type": "stream",
     "text": [
      "DP02_0099PE\n",
      "[11:28:48] WARNING: src/objective/regression_obj.cu:152: reg:linear is now deprecated in favor of reg:squarederror.\n"
     ]
    },
    {
     "name": "stderr",
     "output_type": "stream",
     "text": [
      "/Users/kmiyaki/anaconda3/lib/python3.7/site-packages/xgboost/core.py:587: FutureWarning: Series.base is deprecated and will be removed in a future version\n",
      "  if getattr(data, 'base', None) is not None and \\\n"
     ]
    },
    {
     "name": "stdout",
     "output_type": "stream",
     "text": [
      "DP02_0101PE\n",
      "[11:28:52] WARNING: src/objective/regression_obj.cu:152: reg:linear is now deprecated in favor of reg:squarederror.\n"
     ]
    },
    {
     "name": "stderr",
     "output_type": "stream",
     "text": [
      "/Users/kmiyaki/anaconda3/lib/python3.7/site-packages/xgboost/core.py:587: FutureWarning: Series.base is deprecated and will be removed in a future version\n",
      "  if getattr(data, 'base', None) is not None and \\\n"
     ]
    },
    {
     "name": "stdout",
     "output_type": "stream",
     "text": [
      "DP02_0102PE\n",
      "[11:28:56] WARNING: src/objective/regression_obj.cu:152: reg:linear is now deprecated in favor of reg:squarederror.\n"
     ]
    },
    {
     "name": "stderr",
     "output_type": "stream",
     "text": [
      "/Users/kmiyaki/anaconda3/lib/python3.7/site-packages/xgboost/core.py:587: FutureWarning: Series.base is deprecated and will be removed in a future version\n",
      "  if getattr(data, 'base', None) is not None and \\\n"
     ]
    },
    {
     "name": "stdout",
     "output_type": "stream",
     "text": [
      "DP02_0104PE\n",
      "[11:29:00] WARNING: src/objective/regression_obj.cu:152: reg:linear is now deprecated in favor of reg:squarederror.\n"
     ]
    },
    {
     "name": "stderr",
     "output_type": "stream",
     "text": [
      "/Users/kmiyaki/anaconda3/lib/python3.7/site-packages/xgboost/core.py:587: FutureWarning: Series.base is deprecated and will be removed in a future version\n",
      "  if getattr(data, 'base', None) is not None and \\\n"
     ]
    },
    {
     "name": "stdout",
     "output_type": "stream",
     "text": [
      "DP02_0105PE\n",
      "[11:29:04] WARNING: src/objective/regression_obj.cu:152: reg:linear is now deprecated in favor of reg:squarederror.\n"
     ]
    },
    {
     "name": "stderr",
     "output_type": "stream",
     "text": [
      "/Users/kmiyaki/anaconda3/lib/python3.7/site-packages/xgboost/core.py:587: FutureWarning: Series.base is deprecated and will be removed in a future version\n",
      "  if getattr(data, 'base', None) is not None and \\\n"
     ]
    },
    {
     "name": "stdout",
     "output_type": "stream",
     "text": [
      "DP02_0106PE\n",
      "[11:29:08] WARNING: src/objective/regression_obj.cu:152: reg:linear is now deprecated in favor of reg:squarederror.\n"
     ]
    },
    {
     "name": "stderr",
     "output_type": "stream",
     "text": [
      "/Users/kmiyaki/anaconda3/lib/python3.7/site-packages/xgboost/core.py:587: FutureWarning: Series.base is deprecated and will be removed in a future version\n",
      "  if getattr(data, 'base', None) is not None and \\\n"
     ]
    },
    {
     "name": "stdout",
     "output_type": "stream",
     "text": [
      "DP02_0107PE\n",
      "[11:29:12] WARNING: src/objective/regression_obj.cu:152: reg:linear is now deprecated in favor of reg:squarederror.\n"
     ]
    },
    {
     "name": "stderr",
     "output_type": "stream",
     "text": [
      "/Users/kmiyaki/anaconda3/lib/python3.7/site-packages/xgboost/core.py:587: FutureWarning: Series.base is deprecated and will be removed in a future version\n",
      "  if getattr(data, 'base', None) is not None and \\\n"
     ]
    },
    {
     "name": "stdout",
     "output_type": "stream",
     "text": [
      "DP02_0108PE\n",
      "[11:29:17] WARNING: src/objective/regression_obj.cu:152: reg:linear is now deprecated in favor of reg:squarederror.\n"
     ]
    },
    {
     "name": "stderr",
     "output_type": "stream",
     "text": [
      "/Users/kmiyaki/anaconda3/lib/python3.7/site-packages/xgboost/core.py:587: FutureWarning: Series.base is deprecated and will be removed in a future version\n",
      "  if getattr(data, 'base', None) is not None and \\\n"
     ]
    },
    {
     "name": "stdout",
     "output_type": "stream",
     "text": [
      "DP02_0109PE\n",
      "[11:29:21] WARNING: src/objective/regression_obj.cu:152: reg:linear is now deprecated in favor of reg:squarederror.\n"
     ]
    },
    {
     "name": "stderr",
     "output_type": "stream",
     "text": [
      "/Users/kmiyaki/anaconda3/lib/python3.7/site-packages/xgboost/core.py:587: FutureWarning: Series.base is deprecated and will be removed in a future version\n",
      "  if getattr(data, 'base', None) is not None and \\\n"
     ]
    },
    {
     "name": "stdout",
     "output_type": "stream",
     "text": [
      "DP03_0015PE\n",
      "[11:29:25] WARNING: src/objective/regression_obj.cu:152: reg:linear is now deprecated in favor of reg:squarederror.\n"
     ]
    },
    {
     "name": "stderr",
     "output_type": "stream",
     "text": [
      "/Users/kmiyaki/anaconda3/lib/python3.7/site-packages/xgboost/core.py:587: FutureWarning: Series.base is deprecated and will be removed in a future version\n",
      "  if getattr(data, 'base', None) is not None and \\\n"
     ]
    },
    {
     "name": "stdout",
     "output_type": "stream",
     "text": [
      "DP03_0017PE\n",
      "[11:29:29] WARNING: src/objective/regression_obj.cu:152: reg:linear is now deprecated in favor of reg:squarederror.\n"
     ]
    },
    {
     "name": "stderr",
     "output_type": "stream",
     "text": [
      "/Users/kmiyaki/anaconda3/lib/python3.7/site-packages/xgboost/core.py:587: FutureWarning: Series.base is deprecated and will be removed in a future version\n",
      "  if getattr(data, 'base', None) is not None and \\\n"
     ]
    },
    {
     "name": "stdout",
     "output_type": "stream",
     "text": [
      "DP03_0089PE\n",
      "[11:29:33] WARNING: src/objective/regression_obj.cu:152: reg:linear is now deprecated in favor of reg:squarederror.\n"
     ]
    },
    {
     "name": "stderr",
     "output_type": "stream",
     "text": [
      "/Users/kmiyaki/anaconda3/lib/python3.7/site-packages/xgboost/core.py:587: FutureWarning: Series.base is deprecated and will be removed in a future version\n",
      "  if getattr(data, 'base', None) is not None and \\\n"
     ]
    },
    {
     "name": "stdout",
     "output_type": "stream",
     "text": [
      "DP03_0120PE\n",
      "[11:29:37] WARNING: src/objective/regression_obj.cu:152: reg:linear is now deprecated in favor of reg:squarederror.\n"
     ]
    },
    {
     "name": "stderr",
     "output_type": "stream",
     "text": [
      "/Users/kmiyaki/anaconda3/lib/python3.7/site-packages/xgboost/core.py:587: FutureWarning: Series.base is deprecated and will be removed in a future version\n",
      "  if getattr(data, 'base', None) is not None and \\\n"
     ]
    },
    {
     "name": "stdout",
     "output_type": "stream",
     "text": [
      "DP03_0121PE\n",
      "[11:29:41] WARNING: src/objective/regression_obj.cu:152: reg:linear is now deprecated in favor of reg:squarederror.\n"
     ]
    },
    {
     "name": "stderr",
     "output_type": "stream",
     "text": [
      "/Users/kmiyaki/anaconda3/lib/python3.7/site-packages/xgboost/core.py:587: FutureWarning: Series.base is deprecated and will be removed in a future version\n",
      "  if getattr(data, 'base', None) is not None and \\\n"
     ]
    },
    {
     "name": "stdout",
     "output_type": "stream",
     "text": [
      "DP03_0123PE\n",
      "[11:29:46] WARNING: src/objective/regression_obj.cu:152: reg:linear is now deprecated in favor of reg:squarederror.\n"
     ]
    },
    {
     "name": "stderr",
     "output_type": "stream",
     "text": [
      "/Users/kmiyaki/anaconda3/lib/python3.7/site-packages/xgboost/core.py:587: FutureWarning: Series.base is deprecated and will be removed in a future version\n",
      "  if getattr(data, 'base', None) is not None and \\\n"
     ]
    },
    {
     "name": "stdout",
     "output_type": "stream",
     "text": [
      "DP03_0124PE\n",
      "[11:29:50] WARNING: src/objective/regression_obj.cu:152: reg:linear is now deprecated in favor of reg:squarederror.\n"
     ]
    },
    {
     "name": "stderr",
     "output_type": "stream",
     "text": [
      "/Users/kmiyaki/anaconda3/lib/python3.7/site-packages/xgboost/core.py:587: FutureWarning: Series.base is deprecated and will be removed in a future version\n",
      "  if getattr(data, 'base', None) is not None and \\\n"
     ]
    },
    {
     "name": "stdout",
     "output_type": "stream",
     "text": [
      "DP03_0125PE\n",
      "[11:29:54] WARNING: src/objective/regression_obj.cu:152: reg:linear is now deprecated in favor of reg:squarederror.\n"
     ]
    },
    {
     "name": "stderr",
     "output_type": "stream",
     "text": [
      "/Users/kmiyaki/anaconda3/lib/python3.7/site-packages/xgboost/core.py:587: FutureWarning: Series.base is deprecated and will be removed in a future version\n",
      "  if getattr(data, 'base', None) is not None and \\\n"
     ]
    },
    {
     "name": "stdout",
     "output_type": "stream",
     "text": [
      "DP03_0126PE\n",
      "[11:29:58] WARNING: src/objective/regression_obj.cu:152: reg:linear is now deprecated in favor of reg:squarederror.\n"
     ]
    },
    {
     "name": "stderr",
     "output_type": "stream",
     "text": [
      "/Users/kmiyaki/anaconda3/lib/python3.7/site-packages/xgboost/core.py:587: FutureWarning: Series.base is deprecated and will be removed in a future version\n",
      "  if getattr(data, 'base', None) is not None and \\\n"
     ]
    },
    {
     "name": "stdout",
     "output_type": "stream",
     "text": [
      "DP03_0127PE\n",
      "[11:30:02] WARNING: src/objective/regression_obj.cu:152: reg:linear is now deprecated in favor of reg:squarederror.\n"
     ]
    },
    {
     "name": "stderr",
     "output_type": "stream",
     "text": [
      "/Users/kmiyaki/anaconda3/lib/python3.7/site-packages/xgboost/core.py:587: FutureWarning: Series.base is deprecated and will be removed in a future version\n",
      "  if getattr(data, 'base', None) is not None and \\\n"
     ]
    },
    {
     "name": "stdout",
     "output_type": "stream",
     "text": [
      "DP03_0129PE\n",
      "[11:30:06] WARNING: src/objective/regression_obj.cu:152: reg:linear is now deprecated in favor of reg:squarederror.\n"
     ]
    },
    {
     "name": "stderr",
     "output_type": "stream",
     "text": [
      "/Users/kmiyaki/anaconda3/lib/python3.7/site-packages/xgboost/core.py:587: FutureWarning: Series.base is deprecated and will be removed in a future version\n",
      "  if getattr(data, 'base', None) is not None and \\\n"
     ]
    },
    {
     "name": "stdout",
     "output_type": "stream",
     "text": [
      "DP03_0130PE\n",
      "[11:30:10] WARNING: src/objective/regression_obj.cu:152: reg:linear is now deprecated in favor of reg:squarederror.\n"
     ]
    },
    {
     "name": "stderr",
     "output_type": "stream",
     "text": [
      "/Users/kmiyaki/anaconda3/lib/python3.7/site-packages/xgboost/core.py:587: FutureWarning: Series.base is deprecated and will be removed in a future version\n",
      "  if getattr(data, 'base', None) is not None and \\\n"
     ]
    },
    {
     "name": "stdout",
     "output_type": "stream",
     "text": [
      "DP03_0131PE\n",
      "[11:30:14] WARNING: src/objective/regression_obj.cu:152: reg:linear is now deprecated in favor of reg:squarederror.\n"
     ]
    },
    {
     "name": "stderr",
     "output_type": "stream",
     "text": [
      "/Users/kmiyaki/anaconda3/lib/python3.7/site-packages/xgboost/core.py:587: FutureWarning: Series.base is deprecated and will be removed in a future version\n",
      "  if getattr(data, 'base', None) is not None and \\\n"
     ]
    },
    {
     "name": "stdout",
     "output_type": "stream",
     "text": [
      "DP03_0132PE\n",
      "[11:30:18] WARNING: src/objective/regression_obj.cu:152: reg:linear is now deprecated in favor of reg:squarederror.\n"
     ]
    },
    {
     "name": "stderr",
     "output_type": "stream",
     "text": [
      "/Users/kmiyaki/anaconda3/lib/python3.7/site-packages/xgboost/core.py:587: FutureWarning: Series.base is deprecated and will be removed in a future version\n",
      "  if getattr(data, 'base', None) is not None and \\\n"
     ]
    },
    {
     "name": "stdout",
     "output_type": "stream",
     "text": [
      "DP03_0135PE\n",
      "[11:30:22] WARNING: src/objective/regression_obj.cu:152: reg:linear is now deprecated in favor of reg:squarederror.\n"
     ]
    },
    {
     "name": "stderr",
     "output_type": "stream",
     "text": [
      "/Users/kmiyaki/anaconda3/lib/python3.7/site-packages/xgboost/core.py:587: FutureWarning: Series.base is deprecated and will be removed in a future version\n",
      "  if getattr(data, 'base', None) is not None and \\\n"
     ]
    },
    {
     "name": "stdout",
     "output_type": "stream",
     "text": [
      "DP04_0080PE\n",
      "[11:30:27] WARNING: src/objective/regression_obj.cu:152: reg:linear is now deprecated in favor of reg:squarederror.\n"
     ]
    },
    {
     "name": "stderr",
     "output_type": "stream",
     "text": [
      "/Users/kmiyaki/anaconda3/lib/python3.7/site-packages/xgboost/core.py:587: FutureWarning: Series.base is deprecated and will be removed in a future version\n",
      "  if getattr(data, 'base', None) is not None and \\\n"
     ]
    },
    {
     "name": "stdout",
     "output_type": "stream",
     "text": [
      "DP04_0081PE\n",
      "[11:30:31] WARNING: src/objective/regression_obj.cu:152: reg:linear is now deprecated in favor of reg:squarederror.\n"
     ]
    },
    {
     "name": "stderr",
     "output_type": "stream",
     "text": [
      "/Users/kmiyaki/anaconda3/lib/python3.7/site-packages/xgboost/core.py:587: FutureWarning: Series.base is deprecated and will be removed in a future version\n",
      "  if getattr(data, 'base', None) is not None and \\\n"
     ]
    },
    {
     "name": "stdout",
     "output_type": "stream",
     "text": [
      "DP04_0082PE\n",
      "[11:30:35] WARNING: src/objective/regression_obj.cu:152: reg:linear is now deprecated in favor of reg:squarederror.\n"
     ]
    },
    {
     "name": "stderr",
     "output_type": "stream",
     "text": [
      "/Users/kmiyaki/anaconda3/lib/python3.7/site-packages/xgboost/core.py:587: FutureWarning: Series.base is deprecated and will be removed in a future version\n",
      "  if getattr(data, 'base', None) is not None and \\\n"
     ]
    },
    {
     "name": "stdout",
     "output_type": "stream",
     "text": [
      "DP04_0083PE\n",
      "[11:30:39] WARNING: src/objective/regression_obj.cu:152: reg:linear is now deprecated in favor of reg:squarederror.\n"
     ]
    },
    {
     "name": "stderr",
     "output_type": "stream",
     "text": [
      "/Users/kmiyaki/anaconda3/lib/python3.7/site-packages/xgboost/core.py:587: FutureWarning: Series.base is deprecated and will be removed in a future version\n",
      "  if getattr(data, 'base', None) is not None and \\\n"
     ]
    },
    {
     "name": "stdout",
     "output_type": "stream",
     "text": [
      "DP04_0084PE\n",
      "[11:30:43] WARNING: src/objective/regression_obj.cu:152: reg:linear is now deprecated in favor of reg:squarederror.\n"
     ]
    },
    {
     "name": "stderr",
     "output_type": "stream",
     "text": [
      "/Users/kmiyaki/anaconda3/lib/python3.7/site-packages/xgboost/core.py:587: FutureWarning: Series.base is deprecated and will be removed in a future version\n",
      "  if getattr(data, 'base', None) is not None and \\\n"
     ]
    },
    {
     "name": "stdout",
     "output_type": "stream",
     "text": [
      "DP04_0085PE\n",
      "[11:30:47] WARNING: src/objective/regression_obj.cu:152: reg:linear is now deprecated in favor of reg:squarederror.\n"
     ]
    },
    {
     "name": "stderr",
     "output_type": "stream",
     "text": [
      "/Users/kmiyaki/anaconda3/lib/python3.7/site-packages/xgboost/core.py:587: FutureWarning: Series.base is deprecated and will be removed in a future version\n",
      "  if getattr(data, 'base', None) is not None and \\\n"
     ]
    },
    {
     "name": "stdout",
     "output_type": "stream",
     "text": [
      "DP04_0086PE\n",
      "[11:30:51] WARNING: src/objective/regression_obj.cu:152: reg:linear is now deprecated in favor of reg:squarederror.\n"
     ]
    },
    {
     "name": "stderr",
     "output_type": "stream",
     "text": [
      "/Users/kmiyaki/anaconda3/lib/python3.7/site-packages/xgboost/core.py:587: FutureWarning: Series.base is deprecated and will be removed in a future version\n",
      "  if getattr(data, 'base', None) is not None and \\\n"
     ]
    },
    {
     "name": "stdout",
     "output_type": "stream",
     "text": [
      "DP04_0087PE\n",
      "[11:30:55] WARNING: src/objective/regression_obj.cu:152: reg:linear is now deprecated in favor of reg:squarederror.\n"
     ]
    },
    {
     "name": "stderr",
     "output_type": "stream",
     "text": [
      "/Users/kmiyaki/anaconda3/lib/python3.7/site-packages/xgboost/core.py:587: FutureWarning: Series.base is deprecated and will be removed in a future version\n",
      "  if getattr(data, 'base', None) is not None and \\\n"
     ]
    },
    {
     "name": "stdout",
     "output_type": "stream",
     "text": [
      "DP04_0090PE\n",
      "[11:31:00] WARNING: src/objective/regression_obj.cu:152: reg:linear is now deprecated in favor of reg:squarederror.\n"
     ]
    },
    {
     "name": "stderr",
     "output_type": "stream",
     "text": [
      "/Users/kmiyaki/anaconda3/lib/python3.7/site-packages/xgboost/core.py:587: FutureWarning: Series.base is deprecated and will be removed in a future version\n",
      "  if getattr(data, 'base', None) is not None and \\\n"
     ]
    },
    {
     "name": "stdout",
     "output_type": "stream",
     "text": [
      "DP04_0091PE\n",
      "[11:31:04] WARNING: src/objective/regression_obj.cu:152: reg:linear is now deprecated in favor of reg:squarederror.\n"
     ]
    },
    {
     "name": "stderr",
     "output_type": "stream",
     "text": [
      "/Users/kmiyaki/anaconda3/lib/python3.7/site-packages/xgboost/core.py:587: FutureWarning: Series.base is deprecated and will be removed in a future version\n",
      "  if getattr(data, 'base', None) is not None and \\\n"
     ]
    },
    {
     "name": "stdout",
     "output_type": "stream",
     "text": [
      "DP04_0093PE\n",
      "[11:31:08] WARNING: src/objective/regression_obj.cu:152: reg:linear is now deprecated in favor of reg:squarederror.\n"
     ]
    },
    {
     "name": "stderr",
     "output_type": "stream",
     "text": [
      "/Users/kmiyaki/anaconda3/lib/python3.7/site-packages/xgboost/core.py:587: FutureWarning: Series.base is deprecated and will be removed in a future version\n",
      "  if getattr(data, 'base', None) is not None and \\\n"
     ]
    },
    {
     "name": "stdout",
     "output_type": "stream",
     "text": [
      "DP04_0094PE\n",
      "[11:31:12] WARNING: src/objective/regression_obj.cu:152: reg:linear is now deprecated in favor of reg:squarederror.\n"
     ]
    },
    {
     "name": "stderr",
     "output_type": "stream",
     "text": [
      "/Users/kmiyaki/anaconda3/lib/python3.7/site-packages/xgboost/core.py:587: FutureWarning: Series.base is deprecated and will be removed in a future version\n",
      "  if getattr(data, 'base', None) is not None and \\\n"
     ]
    },
    {
     "name": "stdout",
     "output_type": "stream",
     "text": [
      "DP04_0095PE\n",
      "[11:31:16] WARNING: src/objective/regression_obj.cu:152: reg:linear is now deprecated in favor of reg:squarederror.\n"
     ]
    },
    {
     "name": "stderr",
     "output_type": "stream",
     "text": [
      "/Users/kmiyaki/anaconda3/lib/python3.7/site-packages/xgboost/core.py:587: FutureWarning: Series.base is deprecated and will be removed in a future version\n",
      "  if getattr(data, 'base', None) is not None and \\\n"
     ]
    },
    {
     "name": "stdout",
     "output_type": "stream",
     "text": [
      "DP04_0096PE\n",
      "[11:31:20] WARNING: src/objective/regression_obj.cu:152: reg:linear is now deprecated in favor of reg:squarederror.\n"
     ]
    },
    {
     "name": "stderr",
     "output_type": "stream",
     "text": [
      "/Users/kmiyaki/anaconda3/lib/python3.7/site-packages/xgboost/core.py:587: FutureWarning: Series.base is deprecated and will be removed in a future version\n",
      "  if getattr(data, 'base', None) is not None and \\\n"
     ]
    },
    {
     "name": "stdout",
     "output_type": "stream",
     "text": [
      "DP04_0097PE\n",
      "[11:31:24] WARNING: src/objective/regression_obj.cu:152: reg:linear is now deprecated in favor of reg:squarederror.\n"
     ]
    },
    {
     "name": "stderr",
     "output_type": "stream",
     "text": [
      "/Users/kmiyaki/anaconda3/lib/python3.7/site-packages/xgboost/core.py:587: FutureWarning: Series.base is deprecated and will be removed in a future version\n",
      "  if getattr(data, 'base', None) is not None and \\\n"
     ]
    },
    {
     "name": "stdout",
     "output_type": "stream",
     "text": [
      "DP04_0098PE\n",
      "[11:31:28] WARNING: src/objective/regression_obj.cu:152: reg:linear is now deprecated in favor of reg:squarederror.\n"
     ]
    },
    {
     "name": "stderr",
     "output_type": "stream",
     "text": [
      "/Users/kmiyaki/anaconda3/lib/python3.7/site-packages/xgboost/core.py:587: FutureWarning: Series.base is deprecated and will be removed in a future version\n",
      "  if getattr(data, 'base', None) is not None and \\\n"
     ]
    },
    {
     "name": "stdout",
     "output_type": "stream",
     "text": [
      "DP04_0099PE\n",
      "[11:31:32] WARNING: src/objective/regression_obj.cu:152: reg:linear is now deprecated in favor of reg:squarederror.\n"
     ]
    },
    {
     "name": "stderr",
     "output_type": "stream",
     "text": [
      "/Users/kmiyaki/anaconda3/lib/python3.7/site-packages/xgboost/core.py:587: FutureWarning: Series.base is deprecated and will be removed in a future version\n",
      "  if getattr(data, 'base', None) is not None and \\\n"
     ]
    },
    {
     "name": "stdout",
     "output_type": "stream",
     "text": [
      "DP04_0102PE\n",
      "[11:31:36] WARNING: src/objective/regression_obj.cu:152: reg:linear is now deprecated in favor of reg:squarederror.\n"
     ]
    },
    {
     "name": "stderr",
     "output_type": "stream",
     "text": [
      "/Users/kmiyaki/anaconda3/lib/python3.7/site-packages/xgboost/core.py:587: FutureWarning: Series.base is deprecated and will be removed in a future version\n",
      "  if getattr(data, 'base', None) is not None and \\\n"
     ]
    },
    {
     "name": "stdout",
     "output_type": "stream",
     "text": [
      "DP04_0103PE\n",
      "[11:31:41] WARNING: src/objective/regression_obj.cu:152: reg:linear is now deprecated in favor of reg:squarederror.\n"
     ]
    },
    {
     "name": "stderr",
     "output_type": "stream",
     "text": [
      "/Users/kmiyaki/anaconda3/lib/python3.7/site-packages/xgboost/core.py:587: FutureWarning: Series.base is deprecated and will be removed in a future version\n",
      "  if getattr(data, 'base', None) is not None and \\\n"
     ]
    },
    {
     "name": "stdout",
     "output_type": "stream",
     "text": [
      "DP04_0104PE\n",
      "[11:31:45] WARNING: src/objective/regression_obj.cu:152: reg:linear is now deprecated in favor of reg:squarederror.\n"
     ]
    },
    {
     "name": "stderr",
     "output_type": "stream",
     "text": [
      "/Users/kmiyaki/anaconda3/lib/python3.7/site-packages/xgboost/core.py:587: FutureWarning: Series.base is deprecated and will be removed in a future version\n",
      "  if getattr(data, 'base', None) is not None and \\\n"
     ]
    },
    {
     "name": "stdout",
     "output_type": "stream",
     "text": [
      "DP04_0105PE\n",
      "[11:31:49] WARNING: src/objective/regression_obj.cu:152: reg:linear is now deprecated in favor of reg:squarederror.\n"
     ]
    },
    {
     "name": "stderr",
     "output_type": "stream",
     "text": [
      "/Users/kmiyaki/anaconda3/lib/python3.7/site-packages/xgboost/core.py:587: FutureWarning: Series.base is deprecated and will be removed in a future version\n",
      "  if getattr(data, 'base', None) is not None and \\\n"
     ]
    },
    {
     "name": "stdout",
     "output_type": "stream",
     "text": [
      "DP04_0106PE\n",
      "[11:31:53] WARNING: src/objective/regression_obj.cu:152: reg:linear is now deprecated in favor of reg:squarederror.\n"
     ]
    },
    {
     "name": "stderr",
     "output_type": "stream",
     "text": [
      "/Users/kmiyaki/anaconda3/lib/python3.7/site-packages/xgboost/core.py:587: FutureWarning: Series.base is deprecated and will be removed in a future version\n",
      "  if getattr(data, 'base', None) is not None and \\\n"
     ]
    },
    {
     "name": "stdout",
     "output_type": "stream",
     "text": [
      "DP04_0109PE\n",
      "[11:31:57] WARNING: src/objective/regression_obj.cu:152: reg:linear is now deprecated in favor of reg:squarederror.\n"
     ]
    },
    {
     "name": "stderr",
     "output_type": "stream",
     "text": [
      "/Users/kmiyaki/anaconda3/lib/python3.7/site-packages/xgboost/core.py:587: FutureWarning: Series.base is deprecated and will be removed in a future version\n",
      "  if getattr(data, 'base', None) is not None and \\\n"
     ]
    },
    {
     "name": "stdout",
     "output_type": "stream",
     "text": [
      "DP04_0110PE\n",
      "[11:32:01] WARNING: src/objective/regression_obj.cu:152: reg:linear is now deprecated in favor of reg:squarederror.\n"
     ]
    },
    {
     "name": "stderr",
     "output_type": "stream",
     "text": [
      "/Users/kmiyaki/anaconda3/lib/python3.7/site-packages/xgboost/core.py:587: FutureWarning: Series.base is deprecated and will be removed in a future version\n",
      "  if getattr(data, 'base', None) is not None and \\\n"
     ]
    },
    {
     "name": "stdout",
     "output_type": "stream",
     "text": [
      "DP04_0111PE\n",
      "[11:32:05] WARNING: src/objective/regression_obj.cu:152: reg:linear is now deprecated in favor of reg:squarederror.\n"
     ]
    },
    {
     "name": "stderr",
     "output_type": "stream",
     "text": [
      "/Users/kmiyaki/anaconda3/lib/python3.7/site-packages/xgboost/core.py:587: FutureWarning: Series.base is deprecated and will be removed in a future version\n",
      "  if getattr(data, 'base', None) is not None and \\\n"
     ]
    },
    {
     "name": "stdout",
     "output_type": "stream",
     "text": [
      "DP04_0112PE\n",
      "[11:32:09] WARNING: src/objective/regression_obj.cu:152: reg:linear is now deprecated in favor of reg:squarederror.\n"
     ]
    },
    {
     "name": "stderr",
     "output_type": "stream",
     "text": [
      "/Users/kmiyaki/anaconda3/lib/python3.7/site-packages/xgboost/core.py:587: FutureWarning: Series.base is deprecated and will be removed in a future version\n",
      "  if getattr(data, 'base', None) is not None and \\\n"
     ]
    },
    {
     "name": "stdout",
     "output_type": "stream",
     "text": [
      "DP04_0113PE\n",
      "[11:32:13] WARNING: src/objective/regression_obj.cu:152: reg:linear is now deprecated in favor of reg:squarederror.\n"
     ]
    },
    {
     "name": "stderr",
     "output_type": "stream",
     "text": [
      "/Users/kmiyaki/anaconda3/lib/python3.7/site-packages/xgboost/core.py:587: FutureWarning: Series.base is deprecated and will be removed in a future version\n",
      "  if getattr(data, 'base', None) is not None and \\\n"
     ]
    },
    {
     "name": "stdout",
     "output_type": "stream",
     "text": [
      "DP04_0116PE\n",
      "[11:32:18] WARNING: src/objective/regression_obj.cu:152: reg:linear is now deprecated in favor of reg:squarederror.\n"
     ]
    },
    {
     "name": "stderr",
     "output_type": "stream",
     "text": [
      "/Users/kmiyaki/anaconda3/lib/python3.7/site-packages/xgboost/core.py:587: FutureWarning: Series.base is deprecated and will be removed in a future version\n",
      "  if getattr(data, 'base', None) is not None and \\\n"
     ]
    },
    {
     "name": "stdout",
     "output_type": "stream",
     "text": [
      "DP04_0117PE\n",
      "[11:32:22] WARNING: src/objective/regression_obj.cu:152: reg:linear is now deprecated in favor of reg:squarederror.\n"
     ]
    },
    {
     "name": "stderr",
     "output_type": "stream",
     "text": [
      "/Users/kmiyaki/anaconda3/lib/python3.7/site-packages/xgboost/core.py:587: FutureWarning: Series.base is deprecated and will be removed in a future version\n",
      "  if getattr(data, 'base', None) is not None and \\\n"
     ]
    },
    {
     "name": "stdout",
     "output_type": "stream",
     "text": [
      "DP04_0118PE\n",
      "[11:32:26] WARNING: src/objective/regression_obj.cu:152: reg:linear is now deprecated in favor of reg:squarederror.\n"
     ]
    },
    {
     "name": "stderr",
     "output_type": "stream",
     "text": [
      "/Users/kmiyaki/anaconda3/lib/python3.7/site-packages/xgboost/core.py:587: FutureWarning: Series.base is deprecated and will be removed in a future version\n",
      "  if getattr(data, 'base', None) is not None and \\\n"
     ]
    },
    {
     "name": "stdout",
     "output_type": "stream",
     "text": [
      "DP04_0119PE\n",
      "[11:32:30] WARNING: src/objective/regression_obj.cu:152: reg:linear is now deprecated in favor of reg:squarederror.\n"
     ]
    },
    {
     "name": "stderr",
     "output_type": "stream",
     "text": [
      "/Users/kmiyaki/anaconda3/lib/python3.7/site-packages/xgboost/core.py:587: FutureWarning: Series.base is deprecated and will be removed in a future version\n",
      "  if getattr(data, 'base', None) is not None and \\\n"
     ]
    },
    {
     "name": "stdout",
     "output_type": "stream",
     "text": [
      "DP04_0120PE\n",
      "[11:32:34] WARNING: src/objective/regression_obj.cu:152: reg:linear is now deprecated in favor of reg:squarederror.\n"
     ]
    },
    {
     "name": "stderr",
     "output_type": "stream",
     "text": [
      "/Users/kmiyaki/anaconda3/lib/python3.7/site-packages/xgboost/core.py:587: FutureWarning: Series.base is deprecated and will be removed in a future version\n",
      "  if getattr(data, 'base', None) is not None and \\\n"
     ]
    },
    {
     "name": "stdout",
     "output_type": "stream",
     "text": [
      "DP04_0121PE\n",
      "[11:32:38] WARNING: src/objective/regression_obj.cu:152: reg:linear is now deprecated in favor of reg:squarederror.\n"
     ]
    },
    {
     "name": "stderr",
     "output_type": "stream",
     "text": [
      "/Users/kmiyaki/anaconda3/lib/python3.7/site-packages/xgboost/core.py:587: FutureWarning: Series.base is deprecated and will be removed in a future version\n",
      "  if getattr(data, 'base', None) is not None and \\\n"
     ]
    },
    {
     "name": "stdout",
     "output_type": "stream",
     "text": [
      "DP04_0122PE\n",
      "[11:32:42] WARNING: src/objective/regression_obj.cu:152: reg:linear is now deprecated in favor of reg:squarederror.\n"
     ]
    },
    {
     "name": "stderr",
     "output_type": "stream",
     "text": [
      "/Users/kmiyaki/anaconda3/lib/python3.7/site-packages/xgboost/core.py:587: FutureWarning: Series.base is deprecated and will be removed in a future version\n",
      "  if getattr(data, 'base', None) is not None and \\\n"
     ]
    },
    {
     "name": "stdout",
     "output_type": "stream",
     "text": [
      "DP05_0026PE\n",
      "[11:32:46] WARNING: src/objective/regression_obj.cu:152: reg:linear is now deprecated in favor of reg:squarederror.\n"
     ]
    },
    {
     "name": "stderr",
     "output_type": "stream",
     "text": [
      "/Users/kmiyaki/anaconda3/lib/python3.7/site-packages/xgboost/core.py:587: FutureWarning: Series.base is deprecated and will be removed in a future version\n",
      "  if getattr(data, 'base', None) is not None and \\\n"
     ]
    },
    {
     "name": "stdout",
     "output_type": "stream",
     "text": [
      "DP05_0027PE\n",
      "2010 average test score:  0.4754814671318099\n"
     ]
    },
    {
     "name": "stderr",
     "output_type": "stream",
     "text": [
      "/Users/kmiyaki/anaconda3/lib/python3.7/site-packages/xgboost/core.py:587: FutureWarning: Series.base is deprecated and will be removed in a future version\n",
      "  if getattr(data, 'base', None) is not None and \\\n"
     ]
    },
    {
     "name": "stdout",
     "output_type": "stream",
     "text": [
      "[11:32:59] WARNING: src/objective/regression_obj.cu:152: reg:linear is now deprecated in favor of reg:squarederror.\n",
      "DP02_0036PE\n",
      "[11:33:03] WARNING: src/objective/regression_obj.cu:152: reg:linear is now deprecated in favor of reg:squarederror.\n"
     ]
    },
    {
     "name": "stderr",
     "output_type": "stream",
     "text": [
      "/Users/kmiyaki/anaconda3/lib/python3.7/site-packages/xgboost/core.py:587: FutureWarning: Series.base is deprecated and will be removed in a future version\n",
      "  if getattr(data, 'base', None) is not None and \\\n"
     ]
    },
    {
     "name": "stdout",
     "output_type": "stream",
     "text": [
      "DP02_0037PE\n",
      "[11:33:07] WARNING: src/objective/regression_obj.cu:152: reg:linear is now deprecated in favor of reg:squarederror.\n"
     ]
    },
    {
     "name": "stderr",
     "output_type": "stream",
     "text": [
      "/Users/kmiyaki/anaconda3/lib/python3.7/site-packages/xgboost/core.py:587: FutureWarning: Series.base is deprecated and will be removed in a future version\n",
      "  if getattr(data, 'base', None) is not None and \\\n"
     ]
    },
    {
     "name": "stdout",
     "output_type": "stream",
     "text": [
      "DP02_0044PE\n",
      "[11:33:12] WARNING: src/objective/regression_obj.cu:152: reg:linear is now deprecated in favor of reg:squarederror.\n"
     ]
    },
    {
     "name": "stderr",
     "output_type": "stream",
     "text": [
      "/Users/kmiyaki/anaconda3/lib/python3.7/site-packages/xgboost/core.py:587: FutureWarning: Series.base is deprecated and will be removed in a future version\n",
      "  if getattr(data, 'base', None) is not None and \\\n"
     ]
    },
    {
     "name": "stdout",
     "output_type": "stream",
     "text": [
      "DP02_0045PE\n",
      "[11:33:16] WARNING: src/objective/regression_obj.cu:152: reg:linear is now deprecated in favor of reg:squarederror.\n"
     ]
    },
    {
     "name": "stderr",
     "output_type": "stream",
     "text": [
      "/Users/kmiyaki/anaconda3/lib/python3.7/site-packages/xgboost/core.py:587: FutureWarning: Series.base is deprecated and will be removed in a future version\n",
      "  if getattr(data, 'base', None) is not None and \\\n"
     ]
    },
    {
     "name": "stdout",
     "output_type": "stream",
     "text": [
      "DP02_0046PE\n",
      "[11:33:19] WARNING: src/objective/regression_obj.cu:152: reg:linear is now deprecated in favor of reg:squarederror.\n"
     ]
    },
    {
     "name": "stderr",
     "output_type": "stream",
     "text": [
      "/Users/kmiyaki/anaconda3/lib/python3.7/site-packages/xgboost/core.py:587: FutureWarning: Series.base is deprecated and will be removed in a future version\n",
      "  if getattr(data, 'base', None) is not None and \\\n"
     ]
    },
    {
     "name": "stdout",
     "output_type": "stream",
     "text": [
      "DP02_0047PE\n",
      "[11:33:23] WARNING: src/objective/regression_obj.cu:152: reg:linear is now deprecated in favor of reg:squarederror.\n"
     ]
    },
    {
     "name": "stderr",
     "output_type": "stream",
     "text": [
      "/Users/kmiyaki/anaconda3/lib/python3.7/site-packages/xgboost/core.py:587: FutureWarning: Series.base is deprecated and will be removed in a future version\n",
      "  if getattr(data, 'base', None) is not None and \\\n"
     ]
    },
    {
     "name": "stdout",
     "output_type": "stream",
     "text": [
      "DP02_0048PE\n",
      "[11:33:27] WARNING: src/objective/regression_obj.cu:152: reg:linear is now deprecated in favor of reg:squarederror.\n"
     ]
    },
    {
     "name": "stderr",
     "output_type": "stream",
     "text": [
      "/Users/kmiyaki/anaconda3/lib/python3.7/site-packages/xgboost/core.py:587: FutureWarning: Series.base is deprecated and will be removed in a future version\n",
      "  if getattr(data, 'base', None) is not None and \\\n"
     ]
    },
    {
     "name": "stdout",
     "output_type": "stream",
     "text": [
      "DP02_0050PE\n",
      "[11:33:31] WARNING: src/objective/regression_obj.cu:152: reg:linear is now deprecated in favor of reg:squarederror.\n"
     ]
    },
    {
     "name": "stderr",
     "output_type": "stream",
     "text": [
      "/Users/kmiyaki/anaconda3/lib/python3.7/site-packages/xgboost/core.py:587: FutureWarning: Series.base is deprecated and will be removed in a future version\n",
      "  if getattr(data, 'base', None) is not None and \\\n"
     ]
    },
    {
     "name": "stdout",
     "output_type": "stream",
     "text": [
      "DP02_0051PE\n",
      "[11:33:35] WARNING: src/objective/regression_obj.cu:152: reg:linear is now deprecated in favor of reg:squarederror.\n"
     ]
    },
    {
     "name": "stderr",
     "output_type": "stream",
     "text": [
      "/Users/kmiyaki/anaconda3/lib/python3.7/site-packages/xgboost/core.py:587: FutureWarning: Series.base is deprecated and will be removed in a future version\n",
      "  if getattr(data, 'base', None) is not None and \\\n"
     ]
    },
    {
     "name": "stdout",
     "output_type": "stream",
     "text": [
      "DP02_0053PE\n",
      "[11:33:39] WARNING: src/objective/regression_obj.cu:152: reg:linear is now deprecated in favor of reg:squarederror.\n"
     ]
    },
    {
     "name": "stderr",
     "output_type": "stream",
     "text": [
      "/Users/kmiyaki/anaconda3/lib/python3.7/site-packages/xgboost/core.py:587: FutureWarning: Series.base is deprecated and will be removed in a future version\n",
      "  if getattr(data, 'base', None) is not None and \\\n"
     ]
    },
    {
     "name": "stdout",
     "output_type": "stream",
     "text": [
      "DP02_0054PE\n",
      "[11:33:43] WARNING: src/objective/regression_obj.cu:152: reg:linear is now deprecated in favor of reg:squarederror.\n"
     ]
    },
    {
     "name": "stderr",
     "output_type": "stream",
     "text": [
      "/Users/kmiyaki/anaconda3/lib/python3.7/site-packages/xgboost/core.py:587: FutureWarning: Series.base is deprecated and will be removed in a future version\n",
      "  if getattr(data, 'base', None) is not None and \\\n"
     ]
    },
    {
     "name": "stdout",
     "output_type": "stream",
     "text": [
      "DP02_0055PE\n",
      "[11:33:48] WARNING: src/objective/regression_obj.cu:152: reg:linear is now deprecated in favor of reg:squarederror.\n"
     ]
    },
    {
     "name": "stderr",
     "output_type": "stream",
     "text": [
      "/Users/kmiyaki/anaconda3/lib/python3.7/site-packages/xgboost/core.py:587: FutureWarning: Series.base is deprecated and will be removed in a future version\n",
      "  if getattr(data, 'base', None) is not None and \\\n"
     ]
    },
    {
     "name": "stdout",
     "output_type": "stream",
     "text": [
      "DP02_0056PE\n",
      "[11:33:52] WARNING: src/objective/regression_obj.cu:152: reg:linear is now deprecated in favor of reg:squarederror.\n"
     ]
    },
    {
     "name": "stderr",
     "output_type": "stream",
     "text": [
      "/Users/kmiyaki/anaconda3/lib/python3.7/site-packages/xgboost/core.py:587: FutureWarning: Series.base is deprecated and will be removed in a future version\n",
      "  if getattr(data, 'base', None) is not None and \\\n"
     ]
    },
    {
     "name": "stdout",
     "output_type": "stream",
     "text": [
      "DP02_0057PE\n",
      "[11:33:56] WARNING: src/objective/regression_obj.cu:152: reg:linear is now deprecated in favor of reg:squarederror.\n"
     ]
    },
    {
     "name": "stderr",
     "output_type": "stream",
     "text": [
      "/Users/kmiyaki/anaconda3/lib/python3.7/site-packages/xgboost/core.py:587: FutureWarning: Series.base is deprecated and will be removed in a future version\n",
      "  if getattr(data, 'base', None) is not None and \\\n"
     ]
    },
    {
     "name": "stdout",
     "output_type": "stream",
     "text": [
      "DP02_0094PE\n",
      "[11:34:00] WARNING: src/objective/regression_obj.cu:152: reg:linear is now deprecated in favor of reg:squarederror.\n"
     ]
    },
    {
     "name": "stderr",
     "output_type": "stream",
     "text": [
      "/Users/kmiyaki/anaconda3/lib/python3.7/site-packages/xgboost/core.py:587: FutureWarning: Series.base is deprecated and will be removed in a future version\n",
      "  if getattr(data, 'base', None) is not None and \\\n"
     ]
    },
    {
     "name": "stdout",
     "output_type": "stream",
     "text": [
      "DP02_0095PE\n",
      "[11:34:04] WARNING: src/objective/regression_obj.cu:152: reg:linear is now deprecated in favor of reg:squarederror.\n"
     ]
    },
    {
     "name": "stderr",
     "output_type": "stream",
     "text": [
      "/Users/kmiyaki/anaconda3/lib/python3.7/site-packages/xgboost/core.py:587: FutureWarning: Series.base is deprecated and will be removed in a future version\n",
      "  if getattr(data, 'base', None) is not None and \\\n"
     ]
    },
    {
     "name": "stdout",
     "output_type": "stream",
     "text": [
      "DP02_0098PE\n",
      "[11:34:08] WARNING: src/objective/regression_obj.cu:152: reg:linear is now deprecated in favor of reg:squarederror.\n"
     ]
    },
    {
     "name": "stderr",
     "output_type": "stream",
     "text": [
      "/Users/kmiyaki/anaconda3/lib/python3.7/site-packages/xgboost/core.py:587: FutureWarning: Series.base is deprecated and will be removed in a future version\n",
      "  if getattr(data, 'base', None) is not None and \\\n"
     ]
    },
    {
     "name": "stdout",
     "output_type": "stream",
     "text": [
      "DP02_0099PE\n",
      "[11:34:12] WARNING: src/objective/regression_obj.cu:152: reg:linear is now deprecated in favor of reg:squarederror.\n"
     ]
    },
    {
     "name": "stderr",
     "output_type": "stream",
     "text": [
      "/Users/kmiyaki/anaconda3/lib/python3.7/site-packages/xgboost/core.py:587: FutureWarning: Series.base is deprecated and will be removed in a future version\n",
      "  if getattr(data, 'base', None) is not None and \\\n"
     ]
    },
    {
     "name": "stdout",
     "output_type": "stream",
     "text": [
      "DP02_0101PE\n",
      "[11:34:16] WARNING: src/objective/regression_obj.cu:152: reg:linear is now deprecated in favor of reg:squarederror.\n"
     ]
    },
    {
     "name": "stderr",
     "output_type": "stream",
     "text": [
      "/Users/kmiyaki/anaconda3/lib/python3.7/site-packages/xgboost/core.py:587: FutureWarning: Series.base is deprecated and will be removed in a future version\n",
      "  if getattr(data, 'base', None) is not None and \\\n"
     ]
    },
    {
     "name": "stdout",
     "output_type": "stream",
     "text": [
      "DP02_0102PE\n",
      "[11:34:20] WARNING: src/objective/regression_obj.cu:152: reg:linear is now deprecated in favor of reg:squarederror.\n"
     ]
    },
    {
     "name": "stderr",
     "output_type": "stream",
     "text": [
      "/Users/kmiyaki/anaconda3/lib/python3.7/site-packages/xgboost/core.py:587: FutureWarning: Series.base is deprecated and will be removed in a future version\n",
      "  if getattr(data, 'base', None) is not None and \\\n"
     ]
    },
    {
     "name": "stdout",
     "output_type": "stream",
     "text": [
      "DP02_0104PE\n",
      "[11:34:24] WARNING: src/objective/regression_obj.cu:152: reg:linear is now deprecated in favor of reg:squarederror.\n"
     ]
    },
    {
     "name": "stderr",
     "output_type": "stream",
     "text": [
      "/Users/kmiyaki/anaconda3/lib/python3.7/site-packages/xgboost/core.py:587: FutureWarning: Series.base is deprecated and will be removed in a future version\n",
      "  if getattr(data, 'base', None) is not None and \\\n"
     ]
    },
    {
     "name": "stdout",
     "output_type": "stream",
     "text": [
      "DP02_0105PE\n",
      "[11:34:29] WARNING: src/objective/regression_obj.cu:152: reg:linear is now deprecated in favor of reg:squarederror.\n"
     ]
    },
    {
     "name": "stderr",
     "output_type": "stream",
     "text": [
      "/Users/kmiyaki/anaconda3/lib/python3.7/site-packages/xgboost/core.py:587: FutureWarning: Series.base is deprecated and will be removed in a future version\n",
      "  if getattr(data, 'base', None) is not None and \\\n"
     ]
    },
    {
     "name": "stdout",
     "output_type": "stream",
     "text": [
      "DP02_0106PE\n",
      "[11:34:33] WARNING: src/objective/regression_obj.cu:152: reg:linear is now deprecated in favor of reg:squarederror.\n"
     ]
    },
    {
     "name": "stderr",
     "output_type": "stream",
     "text": [
      "/Users/kmiyaki/anaconda3/lib/python3.7/site-packages/xgboost/core.py:587: FutureWarning: Series.base is deprecated and will be removed in a future version\n",
      "  if getattr(data, 'base', None) is not None and \\\n"
     ]
    },
    {
     "name": "stdout",
     "output_type": "stream",
     "text": [
      "DP02_0107PE\n",
      "[11:34:37] WARNING: src/objective/regression_obj.cu:152: reg:linear is now deprecated in favor of reg:squarederror.\n"
     ]
    },
    {
     "name": "stderr",
     "output_type": "stream",
     "text": [
      "/Users/kmiyaki/anaconda3/lib/python3.7/site-packages/xgboost/core.py:587: FutureWarning: Series.base is deprecated and will be removed in a future version\n",
      "  if getattr(data, 'base', None) is not None and \\\n"
     ]
    },
    {
     "name": "stdout",
     "output_type": "stream",
     "text": [
      "DP02_0108PE\n",
      "[11:34:41] WARNING: src/objective/regression_obj.cu:152: reg:linear is now deprecated in favor of reg:squarederror.\n"
     ]
    },
    {
     "name": "stderr",
     "output_type": "stream",
     "text": [
      "/Users/kmiyaki/anaconda3/lib/python3.7/site-packages/xgboost/core.py:587: FutureWarning: Series.base is deprecated and will be removed in a future version\n",
      "  if getattr(data, 'base', None) is not None and \\\n"
     ]
    },
    {
     "name": "stdout",
     "output_type": "stream",
     "text": [
      "DP02_0109PE\n",
      "[11:34:45] WARNING: src/objective/regression_obj.cu:152: reg:linear is now deprecated in favor of reg:squarederror.\n"
     ]
    },
    {
     "name": "stderr",
     "output_type": "stream",
     "text": [
      "/Users/kmiyaki/anaconda3/lib/python3.7/site-packages/xgboost/core.py:587: FutureWarning: Series.base is deprecated and will be removed in a future version\n",
      "  if getattr(data, 'base', None) is not None and \\\n"
     ]
    },
    {
     "name": "stdout",
     "output_type": "stream",
     "text": [
      "DP03_0015PE\n",
      "[11:34:50] WARNING: src/objective/regression_obj.cu:152: reg:linear is now deprecated in favor of reg:squarederror.\n"
     ]
    },
    {
     "name": "stderr",
     "output_type": "stream",
     "text": [
      "/Users/kmiyaki/anaconda3/lib/python3.7/site-packages/xgboost/core.py:587: FutureWarning: Series.base is deprecated and will be removed in a future version\n",
      "  if getattr(data, 'base', None) is not None and \\\n"
     ]
    },
    {
     "name": "stdout",
     "output_type": "stream",
     "text": [
      "DP03_0017PE\n",
      "[11:34:54] WARNING: src/objective/regression_obj.cu:152: reg:linear is now deprecated in favor of reg:squarederror.\n"
     ]
    },
    {
     "name": "stderr",
     "output_type": "stream",
     "text": [
      "/Users/kmiyaki/anaconda3/lib/python3.7/site-packages/xgboost/core.py:587: FutureWarning: Series.base is deprecated and will be removed in a future version\n",
      "  if getattr(data, 'base', None) is not None and \\\n"
     ]
    },
    {
     "name": "stdout",
     "output_type": "stream",
     "text": [
      "DP03_0120PE\n",
      "[11:34:58] WARNING: src/objective/regression_obj.cu:152: reg:linear is now deprecated in favor of reg:squarederror.\n"
     ]
    },
    {
     "name": "stderr",
     "output_type": "stream",
     "text": [
      "/Users/kmiyaki/anaconda3/lib/python3.7/site-packages/xgboost/core.py:587: FutureWarning: Series.base is deprecated and will be removed in a future version\n",
      "  if getattr(data, 'base', None) is not None and \\\n"
     ]
    },
    {
     "name": "stdout",
     "output_type": "stream",
     "text": [
      "DP03_0121PE\n",
      "[11:35:03] WARNING: src/objective/regression_obj.cu:152: reg:linear is now deprecated in favor of reg:squarederror.\n"
     ]
    },
    {
     "name": "stderr",
     "output_type": "stream",
     "text": [
      "/Users/kmiyaki/anaconda3/lib/python3.7/site-packages/xgboost/core.py:587: FutureWarning: Series.base is deprecated and will be removed in a future version\n",
      "  if getattr(data, 'base', None) is not None and \\\n"
     ]
    },
    {
     "name": "stdout",
     "output_type": "stream",
     "text": [
      "DP03_0123PE\n",
      "[11:35:08] WARNING: src/objective/regression_obj.cu:152: reg:linear is now deprecated in favor of reg:squarederror.\n"
     ]
    },
    {
     "name": "stderr",
     "output_type": "stream",
     "text": [
      "/Users/kmiyaki/anaconda3/lib/python3.7/site-packages/xgboost/core.py:587: FutureWarning: Series.base is deprecated and will be removed in a future version\n",
      "  if getattr(data, 'base', None) is not None and \\\n"
     ]
    },
    {
     "name": "stdout",
     "output_type": "stream",
     "text": [
      "DP03_0124PE\n",
      "[11:35:12] WARNING: src/objective/regression_obj.cu:152: reg:linear is now deprecated in favor of reg:squarederror.\n"
     ]
    },
    {
     "name": "stderr",
     "output_type": "stream",
     "text": [
      "/Users/kmiyaki/anaconda3/lib/python3.7/site-packages/xgboost/core.py:587: FutureWarning: Series.base is deprecated and will be removed in a future version\n",
      "  if getattr(data, 'base', None) is not None and \\\n"
     ]
    },
    {
     "name": "stdout",
     "output_type": "stream",
     "text": [
      "DP03_0125PE\n",
      "[11:35:17] WARNING: src/objective/regression_obj.cu:152: reg:linear is now deprecated in favor of reg:squarederror.\n"
     ]
    },
    {
     "name": "stderr",
     "output_type": "stream",
     "text": [
      "/Users/kmiyaki/anaconda3/lib/python3.7/site-packages/xgboost/core.py:587: FutureWarning: Series.base is deprecated and will be removed in a future version\n",
      "  if getattr(data, 'base', None) is not None and \\\n"
     ]
    },
    {
     "name": "stdout",
     "output_type": "stream",
     "text": [
      "DP03_0126PE\n",
      "[11:35:21] WARNING: src/objective/regression_obj.cu:152: reg:linear is now deprecated in favor of reg:squarederror.\n"
     ]
    },
    {
     "name": "stderr",
     "output_type": "stream",
     "text": [
      "/Users/kmiyaki/anaconda3/lib/python3.7/site-packages/xgboost/core.py:587: FutureWarning: Series.base is deprecated and will be removed in a future version\n",
      "  if getattr(data, 'base', None) is not None and \\\n"
     ]
    },
    {
     "name": "stdout",
     "output_type": "stream",
     "text": [
      "DP03_0127PE\n",
      "[11:35:25] WARNING: src/objective/regression_obj.cu:152: reg:linear is now deprecated in favor of reg:squarederror.\n"
     ]
    },
    {
     "name": "stderr",
     "output_type": "stream",
     "text": [
      "/Users/kmiyaki/anaconda3/lib/python3.7/site-packages/xgboost/core.py:587: FutureWarning: Series.base is deprecated and will be removed in a future version\n",
      "  if getattr(data, 'base', None) is not None and \\\n"
     ]
    },
    {
     "name": "stdout",
     "output_type": "stream",
     "text": [
      "DP03_0129PE\n",
      "[11:35:30] WARNING: src/objective/regression_obj.cu:152: reg:linear is now deprecated in favor of reg:squarederror.\n"
     ]
    },
    {
     "name": "stderr",
     "output_type": "stream",
     "text": [
      "/Users/kmiyaki/anaconda3/lib/python3.7/site-packages/xgboost/core.py:587: FutureWarning: Series.base is deprecated and will be removed in a future version\n",
      "  if getattr(data, 'base', None) is not None and \\\n"
     ]
    },
    {
     "name": "stdout",
     "output_type": "stream",
     "text": [
      "DP03_0130PE\n",
      "[11:35:35] WARNING: src/objective/regression_obj.cu:152: reg:linear is now deprecated in favor of reg:squarederror.\n"
     ]
    },
    {
     "name": "stderr",
     "output_type": "stream",
     "text": [
      "/Users/kmiyaki/anaconda3/lib/python3.7/site-packages/xgboost/core.py:587: FutureWarning: Series.base is deprecated and will be removed in a future version\n",
      "  if getattr(data, 'base', None) is not None and \\\n"
     ]
    },
    {
     "name": "stdout",
     "output_type": "stream",
     "text": [
      "DP03_0131PE\n",
      "[11:35:39] WARNING: src/objective/regression_obj.cu:152: reg:linear is now deprecated in favor of reg:squarederror.\n"
     ]
    },
    {
     "name": "stderr",
     "output_type": "stream",
     "text": [
      "/Users/kmiyaki/anaconda3/lib/python3.7/site-packages/xgboost/core.py:587: FutureWarning: Series.base is deprecated and will be removed in a future version\n",
      "  if getattr(data, 'base', None) is not None and \\\n"
     ]
    },
    {
     "name": "stdout",
     "output_type": "stream",
     "text": [
      "DP03_0132PE\n",
      "[11:35:43] WARNING: src/objective/regression_obj.cu:152: reg:linear is now deprecated in favor of reg:squarederror.\n"
     ]
    },
    {
     "name": "stderr",
     "output_type": "stream",
     "text": [
      "/Users/kmiyaki/anaconda3/lib/python3.7/site-packages/xgboost/core.py:587: FutureWarning: Series.base is deprecated and will be removed in a future version\n",
      "  if getattr(data, 'base', None) is not None and \\\n"
     ]
    },
    {
     "name": "stdout",
     "output_type": "stream",
     "text": [
      "DP03_0135PE\n",
      "[11:35:47] WARNING: src/objective/regression_obj.cu:152: reg:linear is now deprecated in favor of reg:squarederror.\n"
     ]
    },
    {
     "name": "stderr",
     "output_type": "stream",
     "text": [
      "/Users/kmiyaki/anaconda3/lib/python3.7/site-packages/xgboost/core.py:587: FutureWarning: Series.base is deprecated and will be removed in a future version\n",
      "  if getattr(data, 'base', None) is not None and \\\n"
     ]
    },
    {
     "name": "stdout",
     "output_type": "stream",
     "text": [
      "DP04_0074PE\n",
      "[11:35:51] WARNING: src/objective/regression_obj.cu:152: reg:linear is now deprecated in favor of reg:squarederror.\n"
     ]
    },
    {
     "name": "stderr",
     "output_type": "stream",
     "text": [
      "/Users/kmiyaki/anaconda3/lib/python3.7/site-packages/xgboost/core.py:587: FutureWarning: Series.base is deprecated and will be removed in a future version\n",
      "  if getattr(data, 'base', None) is not None and \\\n"
     ]
    },
    {
     "name": "stdout",
     "output_type": "stream",
     "text": [
      "DP04_0080PE\n",
      "[11:35:55] WARNING: src/objective/regression_obj.cu:152: reg:linear is now deprecated in favor of reg:squarederror.\n"
     ]
    },
    {
     "name": "stderr",
     "output_type": "stream",
     "text": [
      "/Users/kmiyaki/anaconda3/lib/python3.7/site-packages/xgboost/core.py:587: FutureWarning: Series.base is deprecated and will be removed in a future version\n",
      "  if getattr(data, 'base', None) is not None and \\\n"
     ]
    },
    {
     "name": "stdout",
     "output_type": "stream",
     "text": [
      "DP04_0081PE\n",
      "[11:36:00] WARNING: src/objective/regression_obj.cu:152: reg:linear is now deprecated in favor of reg:squarederror.\n"
     ]
    },
    {
     "name": "stderr",
     "output_type": "stream",
     "text": [
      "/Users/kmiyaki/anaconda3/lib/python3.7/site-packages/xgboost/core.py:587: FutureWarning: Series.base is deprecated and will be removed in a future version\n",
      "  if getattr(data, 'base', None) is not None and \\\n"
     ]
    },
    {
     "name": "stdout",
     "output_type": "stream",
     "text": [
      "DP04_0082PE\n",
      "[11:36:04] WARNING: src/objective/regression_obj.cu:152: reg:linear is now deprecated in favor of reg:squarederror.\n"
     ]
    },
    {
     "name": "stderr",
     "output_type": "stream",
     "text": [
      "/Users/kmiyaki/anaconda3/lib/python3.7/site-packages/xgboost/core.py:587: FutureWarning: Series.base is deprecated and will be removed in a future version\n",
      "  if getattr(data, 'base', None) is not None and \\\n"
     ]
    },
    {
     "name": "stdout",
     "output_type": "stream",
     "text": [
      "DP04_0083PE\n",
      "[11:36:08] WARNING: src/objective/regression_obj.cu:152: reg:linear is now deprecated in favor of reg:squarederror.\n"
     ]
    },
    {
     "name": "stderr",
     "output_type": "stream",
     "text": [
      "/Users/kmiyaki/anaconda3/lib/python3.7/site-packages/xgboost/core.py:587: FutureWarning: Series.base is deprecated and will be removed in a future version\n",
      "  if getattr(data, 'base', None) is not None and \\\n"
     ]
    },
    {
     "name": "stdout",
     "output_type": "stream",
     "text": [
      "DP04_0084PE\n",
      "[11:36:12] WARNING: src/objective/regression_obj.cu:152: reg:linear is now deprecated in favor of reg:squarederror.\n"
     ]
    },
    {
     "name": "stderr",
     "output_type": "stream",
     "text": [
      "/Users/kmiyaki/anaconda3/lib/python3.7/site-packages/xgboost/core.py:587: FutureWarning: Series.base is deprecated and will be removed in a future version\n",
      "  if getattr(data, 'base', None) is not None and \\\n"
     ]
    },
    {
     "name": "stdout",
     "output_type": "stream",
     "text": [
      "DP04_0085PE\n",
      "[11:36:16] WARNING: src/objective/regression_obj.cu:152: reg:linear is now deprecated in favor of reg:squarederror.\n"
     ]
    },
    {
     "name": "stderr",
     "output_type": "stream",
     "text": [
      "/Users/kmiyaki/anaconda3/lib/python3.7/site-packages/xgboost/core.py:587: FutureWarning: Series.base is deprecated and will be removed in a future version\n",
      "  if getattr(data, 'base', None) is not None and \\\n"
     ]
    },
    {
     "name": "stdout",
     "output_type": "stream",
     "text": [
      "DP04_0086PE\n",
      "[11:36:20] WARNING: src/objective/regression_obj.cu:152: reg:linear is now deprecated in favor of reg:squarederror.\n"
     ]
    },
    {
     "name": "stderr",
     "output_type": "stream",
     "text": [
      "/Users/kmiyaki/anaconda3/lib/python3.7/site-packages/xgboost/core.py:587: FutureWarning: Series.base is deprecated and will be removed in a future version\n",
      "  if getattr(data, 'base', None) is not None and \\\n"
     ]
    },
    {
     "name": "stdout",
     "output_type": "stream",
     "text": [
      "DP04_0087PE\n",
      "[11:36:24] WARNING: src/objective/regression_obj.cu:152: reg:linear is now deprecated in favor of reg:squarederror.\n"
     ]
    },
    {
     "name": "stderr",
     "output_type": "stream",
     "text": [
      "/Users/kmiyaki/anaconda3/lib/python3.7/site-packages/xgboost/core.py:587: FutureWarning: Series.base is deprecated and will be removed in a future version\n",
      "  if getattr(data, 'base', None) is not None and \\\n"
     ]
    },
    {
     "name": "stdout",
     "output_type": "stream",
     "text": [
      "DP04_0090PE\n",
      "[11:36:28] WARNING: src/objective/regression_obj.cu:152: reg:linear is now deprecated in favor of reg:squarederror.\n"
     ]
    },
    {
     "name": "stderr",
     "output_type": "stream",
     "text": [
      "/Users/kmiyaki/anaconda3/lib/python3.7/site-packages/xgboost/core.py:587: FutureWarning: Series.base is deprecated and will be removed in a future version\n",
      "  if getattr(data, 'base', None) is not None and \\\n"
     ]
    },
    {
     "name": "stdout",
     "output_type": "stream",
     "text": [
      "DP04_0091PE\n",
      "[11:36:32] WARNING: src/objective/regression_obj.cu:152: reg:linear is now deprecated in favor of reg:squarederror.\n"
     ]
    },
    {
     "name": "stderr",
     "output_type": "stream",
     "text": [
      "/Users/kmiyaki/anaconda3/lib/python3.7/site-packages/xgboost/core.py:587: FutureWarning: Series.base is deprecated and will be removed in a future version\n",
      "  if getattr(data, 'base', None) is not None and \\\n"
     ]
    },
    {
     "name": "stdout",
     "output_type": "stream",
     "text": [
      "DP04_0093PE\n",
      "[11:36:36] WARNING: src/objective/regression_obj.cu:152: reg:linear is now deprecated in favor of reg:squarederror.\n"
     ]
    },
    {
     "name": "stderr",
     "output_type": "stream",
     "text": [
      "/Users/kmiyaki/anaconda3/lib/python3.7/site-packages/xgboost/core.py:587: FutureWarning: Series.base is deprecated and will be removed in a future version\n",
      "  if getattr(data, 'base', None) is not None and \\\n"
     ]
    },
    {
     "name": "stdout",
     "output_type": "stream",
     "text": [
      "DP04_0094PE\n",
      "[11:36:40] WARNING: src/objective/regression_obj.cu:152: reg:linear is now deprecated in favor of reg:squarederror.\n"
     ]
    },
    {
     "name": "stderr",
     "output_type": "stream",
     "text": [
      "/Users/kmiyaki/anaconda3/lib/python3.7/site-packages/xgboost/core.py:587: FutureWarning: Series.base is deprecated and will be removed in a future version\n",
      "  if getattr(data, 'base', None) is not None and \\\n"
     ]
    },
    {
     "name": "stdout",
     "output_type": "stream",
     "text": [
      "DP04_0095PE\n",
      "[11:36:44] WARNING: src/objective/regression_obj.cu:152: reg:linear is now deprecated in favor of reg:squarederror.\n"
     ]
    },
    {
     "name": "stderr",
     "output_type": "stream",
     "text": [
      "/Users/kmiyaki/anaconda3/lib/python3.7/site-packages/xgboost/core.py:587: FutureWarning: Series.base is deprecated and will be removed in a future version\n",
      "  if getattr(data, 'base', None) is not None and \\\n"
     ]
    },
    {
     "name": "stdout",
     "output_type": "stream",
     "text": [
      "DP04_0096PE\n",
      "[11:36:48] WARNING: src/objective/regression_obj.cu:152: reg:linear is now deprecated in favor of reg:squarederror.\n"
     ]
    },
    {
     "name": "stderr",
     "output_type": "stream",
     "text": [
      "/Users/kmiyaki/anaconda3/lib/python3.7/site-packages/xgboost/core.py:587: FutureWarning: Series.base is deprecated and will be removed in a future version\n",
      "  if getattr(data, 'base', None) is not None and \\\n"
     ]
    },
    {
     "name": "stdout",
     "output_type": "stream",
     "text": [
      "DP04_0097PE\n",
      "[11:36:53] WARNING: src/objective/regression_obj.cu:152: reg:linear is now deprecated in favor of reg:squarederror.\n"
     ]
    },
    {
     "name": "stderr",
     "output_type": "stream",
     "text": [
      "/Users/kmiyaki/anaconda3/lib/python3.7/site-packages/xgboost/core.py:587: FutureWarning: Series.base is deprecated and will be removed in a future version\n",
      "  if getattr(data, 'base', None) is not None and \\\n"
     ]
    },
    {
     "name": "stdout",
     "output_type": "stream",
     "text": [
      "DP04_0098PE\n",
      "[11:36:57] WARNING: src/objective/regression_obj.cu:152: reg:linear is now deprecated in favor of reg:squarederror.\n"
     ]
    },
    {
     "name": "stderr",
     "output_type": "stream",
     "text": [
      "/Users/kmiyaki/anaconda3/lib/python3.7/site-packages/xgboost/core.py:587: FutureWarning: Series.base is deprecated and will be removed in a future version\n",
      "  if getattr(data, 'base', None) is not None and \\\n"
     ]
    },
    {
     "name": "stdout",
     "output_type": "stream",
     "text": [
      "DP04_0099PE\n",
      "[11:37:01] WARNING: src/objective/regression_obj.cu:152: reg:linear is now deprecated in favor of reg:squarederror.\n"
     ]
    },
    {
     "name": "stderr",
     "output_type": "stream",
     "text": [
      "/Users/kmiyaki/anaconda3/lib/python3.7/site-packages/xgboost/core.py:587: FutureWarning: Series.base is deprecated and will be removed in a future version\n",
      "  if getattr(data, 'base', None) is not None and \\\n"
     ]
    },
    {
     "name": "stdout",
     "output_type": "stream",
     "text": [
      "DP04_0102PE\n",
      "[11:37:06] WARNING: src/objective/regression_obj.cu:152: reg:linear is now deprecated in favor of reg:squarederror.\n"
     ]
    },
    {
     "name": "stderr",
     "output_type": "stream",
     "text": [
      "/Users/kmiyaki/anaconda3/lib/python3.7/site-packages/xgboost/core.py:587: FutureWarning: Series.base is deprecated and will be removed in a future version\n",
      "  if getattr(data, 'base', None) is not None and \\\n"
     ]
    },
    {
     "name": "stdout",
     "output_type": "stream",
     "text": [
      "DP04_0103PE\n",
      "[11:37:10] WARNING: src/objective/regression_obj.cu:152: reg:linear is now deprecated in favor of reg:squarederror.\n"
     ]
    },
    {
     "name": "stderr",
     "output_type": "stream",
     "text": [
      "/Users/kmiyaki/anaconda3/lib/python3.7/site-packages/xgboost/core.py:587: FutureWarning: Series.base is deprecated and will be removed in a future version\n",
      "  if getattr(data, 'base', None) is not None and \\\n"
     ]
    },
    {
     "name": "stdout",
     "output_type": "stream",
     "text": [
      "DP04_0104PE\n",
      "[11:37:15] WARNING: src/objective/regression_obj.cu:152: reg:linear is now deprecated in favor of reg:squarederror.\n"
     ]
    },
    {
     "name": "stderr",
     "output_type": "stream",
     "text": [
      "/Users/kmiyaki/anaconda3/lib/python3.7/site-packages/xgboost/core.py:587: FutureWarning: Series.base is deprecated and will be removed in a future version\n",
      "  if getattr(data, 'base', None) is not None and \\\n"
     ]
    },
    {
     "name": "stdout",
     "output_type": "stream",
     "text": [
      "DP04_0105PE\n",
      "[11:37:19] WARNING: src/objective/regression_obj.cu:152: reg:linear is now deprecated in favor of reg:squarederror.\n"
     ]
    },
    {
     "name": "stderr",
     "output_type": "stream",
     "text": [
      "/Users/kmiyaki/anaconda3/lib/python3.7/site-packages/xgboost/core.py:587: FutureWarning: Series.base is deprecated and will be removed in a future version\n",
      "  if getattr(data, 'base', None) is not None and \\\n"
     ]
    },
    {
     "name": "stdout",
     "output_type": "stream",
     "text": [
      "DP04_0106PE\n",
      "[11:37:23] WARNING: src/objective/regression_obj.cu:152: reg:linear is now deprecated in favor of reg:squarederror.\n"
     ]
    },
    {
     "name": "stderr",
     "output_type": "stream",
     "text": [
      "/Users/kmiyaki/anaconda3/lib/python3.7/site-packages/xgboost/core.py:587: FutureWarning: Series.base is deprecated and will be removed in a future version\n",
      "  if getattr(data, 'base', None) is not None and \\\n"
     ]
    },
    {
     "name": "stdout",
     "output_type": "stream",
     "text": [
      "DP04_0109PE\n",
      "[11:37:27] WARNING: src/objective/regression_obj.cu:152: reg:linear is now deprecated in favor of reg:squarederror.\n"
     ]
    },
    {
     "name": "stderr",
     "output_type": "stream",
     "text": [
      "/Users/kmiyaki/anaconda3/lib/python3.7/site-packages/xgboost/core.py:587: FutureWarning: Series.base is deprecated and will be removed in a future version\n",
      "  if getattr(data, 'base', None) is not None and \\\n"
     ]
    },
    {
     "name": "stdout",
     "output_type": "stream",
     "text": [
      "DP04_0110PE\n",
      "[11:37:31] WARNING: src/objective/regression_obj.cu:152: reg:linear is now deprecated in favor of reg:squarederror.\n"
     ]
    },
    {
     "name": "stderr",
     "output_type": "stream",
     "text": [
      "/Users/kmiyaki/anaconda3/lib/python3.7/site-packages/xgboost/core.py:587: FutureWarning: Series.base is deprecated and will be removed in a future version\n",
      "  if getattr(data, 'base', None) is not None and \\\n"
     ]
    },
    {
     "name": "stdout",
     "output_type": "stream",
     "text": [
      "DP04_0111PE\n",
      "[11:37:36] WARNING: src/objective/regression_obj.cu:152: reg:linear is now deprecated in favor of reg:squarederror.\n"
     ]
    },
    {
     "name": "stderr",
     "output_type": "stream",
     "text": [
      "/Users/kmiyaki/anaconda3/lib/python3.7/site-packages/xgboost/core.py:587: FutureWarning: Series.base is deprecated and will be removed in a future version\n",
      "  if getattr(data, 'base', None) is not None and \\\n"
     ]
    },
    {
     "name": "stdout",
     "output_type": "stream",
     "text": [
      "DP04_0112PE\n",
      "[11:37:41] WARNING: src/objective/regression_obj.cu:152: reg:linear is now deprecated in favor of reg:squarederror.\n"
     ]
    },
    {
     "name": "stderr",
     "output_type": "stream",
     "text": [
      "/Users/kmiyaki/anaconda3/lib/python3.7/site-packages/xgboost/core.py:587: FutureWarning: Series.base is deprecated and will be removed in a future version\n",
      "  if getattr(data, 'base', None) is not None and \\\n"
     ]
    },
    {
     "name": "stdout",
     "output_type": "stream",
     "text": [
      "DP04_0113PE\n",
      "[11:37:45] WARNING: src/objective/regression_obj.cu:152: reg:linear is now deprecated in favor of reg:squarederror.\n"
     ]
    },
    {
     "name": "stderr",
     "output_type": "stream",
     "text": [
      "/Users/kmiyaki/anaconda3/lib/python3.7/site-packages/xgboost/core.py:587: FutureWarning: Series.base is deprecated and will be removed in a future version\n",
      "  if getattr(data, 'base', None) is not None and \\\n"
     ]
    },
    {
     "name": "stdout",
     "output_type": "stream",
     "text": [
      "DP04_0116PE\n",
      "[11:37:49] WARNING: src/objective/regression_obj.cu:152: reg:linear is now deprecated in favor of reg:squarederror.\n"
     ]
    },
    {
     "name": "stderr",
     "output_type": "stream",
     "text": [
      "/Users/kmiyaki/anaconda3/lib/python3.7/site-packages/xgboost/core.py:587: FutureWarning: Series.base is deprecated and will be removed in a future version\n",
      "  if getattr(data, 'base', None) is not None and \\\n"
     ]
    },
    {
     "name": "stdout",
     "output_type": "stream",
     "text": [
      "DP04_0117PE\n",
      "[11:37:53] WARNING: src/objective/regression_obj.cu:152: reg:linear is now deprecated in favor of reg:squarederror.\n"
     ]
    },
    {
     "name": "stderr",
     "output_type": "stream",
     "text": [
      "/Users/kmiyaki/anaconda3/lib/python3.7/site-packages/xgboost/core.py:587: FutureWarning: Series.base is deprecated and will be removed in a future version\n",
      "  if getattr(data, 'base', None) is not None and \\\n"
     ]
    },
    {
     "name": "stdout",
     "output_type": "stream",
     "text": [
      "DP04_0118PE\n",
      "[11:37:57] WARNING: src/objective/regression_obj.cu:152: reg:linear is now deprecated in favor of reg:squarederror.\n"
     ]
    },
    {
     "name": "stderr",
     "output_type": "stream",
     "text": [
      "/Users/kmiyaki/anaconda3/lib/python3.7/site-packages/xgboost/core.py:587: FutureWarning: Series.base is deprecated and will be removed in a future version\n",
      "  if getattr(data, 'base', None) is not None and \\\n"
     ]
    },
    {
     "name": "stdout",
     "output_type": "stream",
     "text": [
      "DP04_0119PE\n",
      "[11:38:01] WARNING: src/objective/regression_obj.cu:152: reg:linear is now deprecated in favor of reg:squarederror.\n"
     ]
    },
    {
     "name": "stderr",
     "output_type": "stream",
     "text": [
      "/Users/kmiyaki/anaconda3/lib/python3.7/site-packages/xgboost/core.py:587: FutureWarning: Series.base is deprecated and will be removed in a future version\n",
      "  if getattr(data, 'base', None) is not None and \\\n"
     ]
    },
    {
     "name": "stdout",
     "output_type": "stream",
     "text": [
      "DP04_0120PE\n",
      "[11:38:05] WARNING: src/objective/regression_obj.cu:152: reg:linear is now deprecated in favor of reg:squarederror.\n"
     ]
    },
    {
     "name": "stderr",
     "output_type": "stream",
     "text": [
      "/Users/kmiyaki/anaconda3/lib/python3.7/site-packages/xgboost/core.py:587: FutureWarning: Series.base is deprecated and will be removed in a future version\n",
      "  if getattr(data, 'base', None) is not None and \\\n"
     ]
    },
    {
     "name": "stdout",
     "output_type": "stream",
     "text": [
      "DP04_0121PE\n",
      "[11:38:09] WARNING: src/objective/regression_obj.cu:152: reg:linear is now deprecated in favor of reg:squarederror.\n"
     ]
    },
    {
     "name": "stderr",
     "output_type": "stream",
     "text": [
      "/Users/kmiyaki/anaconda3/lib/python3.7/site-packages/xgboost/core.py:587: FutureWarning: Series.base is deprecated and will be removed in a future version\n",
      "  if getattr(data, 'base', None) is not None and \\\n"
     ]
    },
    {
     "name": "stdout",
     "output_type": "stream",
     "text": [
      "DP04_0122PE\n",
      "[11:38:13] WARNING: src/objective/regression_obj.cu:152: reg:linear is now deprecated in favor of reg:squarederror.\n"
     ]
    },
    {
     "name": "stderr",
     "output_type": "stream",
     "text": [
      "/Users/kmiyaki/anaconda3/lib/python3.7/site-packages/xgboost/core.py:587: FutureWarning: Series.base is deprecated and will be removed in a future version\n",
      "  if getattr(data, 'base', None) is not None and \\\n"
     ]
    },
    {
     "name": "stdout",
     "output_type": "stream",
     "text": [
      "DP05_0026PE\n",
      "[11:38:17] WARNING: src/objective/regression_obj.cu:152: reg:linear is now deprecated in favor of reg:squarederror.\n"
     ]
    },
    {
     "name": "stderr",
     "output_type": "stream",
     "text": [
      "/Users/kmiyaki/anaconda3/lib/python3.7/site-packages/xgboost/core.py:587: FutureWarning: Series.base is deprecated and will be removed in a future version\n",
      "  if getattr(data, 'base', None) is not None and \\\n"
     ]
    },
    {
     "name": "stdout",
     "output_type": "stream",
     "text": [
      "DP05_0027PE\n",
      "2011 average test score:  0.4680606896773729\n"
     ]
    },
    {
     "name": "stderr",
     "output_type": "stream",
     "text": [
      "/Users/kmiyaki/anaconda3/lib/python3.7/site-packages/xgboost/core.py:587: FutureWarning: Series.base is deprecated and will be removed in a future version\n",
      "  if getattr(data, 'base', None) is not None and \\\n"
     ]
    },
    {
     "name": "stdout",
     "output_type": "stream",
     "text": [
      "[11:38:29] WARNING: src/objective/regression_obj.cu:152: reg:linear is now deprecated in favor of reg:squarederror.\n",
      "DP02_0036PE\n",
      "[11:38:34] WARNING: src/objective/regression_obj.cu:152: reg:linear is now deprecated in favor of reg:squarederror.\n"
     ]
    },
    {
     "name": "stderr",
     "output_type": "stream",
     "text": [
      "/Users/kmiyaki/anaconda3/lib/python3.7/site-packages/xgboost/core.py:587: FutureWarning: Series.base is deprecated and will be removed in a future version\n",
      "  if getattr(data, 'base', None) is not None and \\\n"
     ]
    },
    {
     "name": "stdout",
     "output_type": "stream",
     "text": [
      "DP02_0037PE\n",
      "[11:38:38] WARNING: src/objective/regression_obj.cu:152: reg:linear is now deprecated in favor of reg:squarederror.\n"
     ]
    },
    {
     "name": "stderr",
     "output_type": "stream",
     "text": [
      "/Users/kmiyaki/anaconda3/lib/python3.7/site-packages/xgboost/core.py:587: FutureWarning: Series.base is deprecated and will be removed in a future version\n",
      "  if getattr(data, 'base', None) is not None and \\\n"
     ]
    },
    {
     "name": "stdout",
     "output_type": "stream",
     "text": [
      "DP02_0044PE\n",
      "[11:38:43] WARNING: src/objective/regression_obj.cu:152: reg:linear is now deprecated in favor of reg:squarederror.\n"
     ]
    },
    {
     "name": "stderr",
     "output_type": "stream",
     "text": [
      "/Users/kmiyaki/anaconda3/lib/python3.7/site-packages/xgboost/core.py:587: FutureWarning: Series.base is deprecated and will be removed in a future version\n",
      "  if getattr(data, 'base', None) is not None and \\\n"
     ]
    },
    {
     "name": "stdout",
     "output_type": "stream",
     "text": [
      "DP02_0045PE\n",
      "[11:38:47] WARNING: src/objective/regression_obj.cu:152: reg:linear is now deprecated in favor of reg:squarederror.\n"
     ]
    },
    {
     "name": "stderr",
     "output_type": "stream",
     "text": [
      "/Users/kmiyaki/anaconda3/lib/python3.7/site-packages/xgboost/core.py:587: FutureWarning: Series.base is deprecated and will be removed in a future version\n",
      "  if getattr(data, 'base', None) is not None and \\\n"
     ]
    },
    {
     "name": "stdout",
     "output_type": "stream",
     "text": [
      "DP02_0046PE\n",
      "[11:38:52] WARNING: src/objective/regression_obj.cu:152: reg:linear is now deprecated in favor of reg:squarederror.\n"
     ]
    },
    {
     "name": "stderr",
     "output_type": "stream",
     "text": [
      "/Users/kmiyaki/anaconda3/lib/python3.7/site-packages/xgboost/core.py:587: FutureWarning: Series.base is deprecated and will be removed in a future version\n",
      "  if getattr(data, 'base', None) is not None and \\\n"
     ]
    },
    {
     "name": "stdout",
     "output_type": "stream",
     "text": [
      "DP02_0047PE\n",
      "[11:38:57] WARNING: src/objective/regression_obj.cu:152: reg:linear is now deprecated in favor of reg:squarederror.\n"
     ]
    },
    {
     "name": "stderr",
     "output_type": "stream",
     "text": [
      "/Users/kmiyaki/anaconda3/lib/python3.7/site-packages/xgboost/core.py:587: FutureWarning: Series.base is deprecated and will be removed in a future version\n",
      "  if getattr(data, 'base', None) is not None and \\\n"
     ]
    },
    {
     "name": "stdout",
     "output_type": "stream",
     "text": [
      "DP02_0048PE\n",
      "[11:39:01] WARNING: src/objective/regression_obj.cu:152: reg:linear is now deprecated in favor of reg:squarederror.\n"
     ]
    },
    {
     "name": "stderr",
     "output_type": "stream",
     "text": [
      "/Users/kmiyaki/anaconda3/lib/python3.7/site-packages/xgboost/core.py:587: FutureWarning: Series.base is deprecated and will be removed in a future version\n",
      "  if getattr(data, 'base', None) is not None and \\\n"
     ]
    },
    {
     "name": "stdout",
     "output_type": "stream",
     "text": [
      "DP02_0050PE\n",
      "[11:39:06] WARNING: src/objective/regression_obj.cu:152: reg:linear is now deprecated in favor of reg:squarederror.\n"
     ]
    },
    {
     "name": "stderr",
     "output_type": "stream",
     "text": [
      "/Users/kmiyaki/anaconda3/lib/python3.7/site-packages/xgboost/core.py:587: FutureWarning: Series.base is deprecated and will be removed in a future version\n",
      "  if getattr(data, 'base', None) is not None and \\\n"
     ]
    },
    {
     "name": "stdout",
     "output_type": "stream",
     "text": [
      "DP02_0051PE\n",
      "[11:39:10] WARNING: src/objective/regression_obj.cu:152: reg:linear is now deprecated in favor of reg:squarederror.\n"
     ]
    },
    {
     "name": "stderr",
     "output_type": "stream",
     "text": [
      "/Users/kmiyaki/anaconda3/lib/python3.7/site-packages/xgboost/core.py:587: FutureWarning: Series.base is deprecated and will be removed in a future version\n",
      "  if getattr(data, 'base', None) is not None and \\\n"
     ]
    },
    {
     "name": "stdout",
     "output_type": "stream",
     "text": [
      "DP02_0053PE\n",
      "[11:39:14] WARNING: src/objective/regression_obj.cu:152: reg:linear is now deprecated in favor of reg:squarederror.\n"
     ]
    },
    {
     "name": "stderr",
     "output_type": "stream",
     "text": [
      "/Users/kmiyaki/anaconda3/lib/python3.7/site-packages/xgboost/core.py:587: FutureWarning: Series.base is deprecated and will be removed in a future version\n",
      "  if getattr(data, 'base', None) is not None and \\\n"
     ]
    },
    {
     "name": "stdout",
     "output_type": "stream",
     "text": [
      "DP02_0054PE\n",
      "[11:39:19] WARNING: src/objective/regression_obj.cu:152: reg:linear is now deprecated in favor of reg:squarederror.\n"
     ]
    },
    {
     "name": "stderr",
     "output_type": "stream",
     "text": [
      "/Users/kmiyaki/anaconda3/lib/python3.7/site-packages/xgboost/core.py:587: FutureWarning: Series.base is deprecated and will be removed in a future version\n",
      "  if getattr(data, 'base', None) is not None and \\\n"
     ]
    },
    {
     "name": "stdout",
     "output_type": "stream",
     "text": [
      "DP02_0055PE\n",
      "[11:39:24] WARNING: src/objective/regression_obj.cu:152: reg:linear is now deprecated in favor of reg:squarederror.\n"
     ]
    },
    {
     "name": "stderr",
     "output_type": "stream",
     "text": [
      "/Users/kmiyaki/anaconda3/lib/python3.7/site-packages/xgboost/core.py:587: FutureWarning: Series.base is deprecated and will be removed in a future version\n",
      "  if getattr(data, 'base', None) is not None and \\\n"
     ]
    },
    {
     "name": "stdout",
     "output_type": "stream",
     "text": [
      "DP02_0056PE\n",
      "[11:39:29] WARNING: src/objective/regression_obj.cu:152: reg:linear is now deprecated in favor of reg:squarederror.\n"
     ]
    },
    {
     "name": "stderr",
     "output_type": "stream",
     "text": [
      "/Users/kmiyaki/anaconda3/lib/python3.7/site-packages/xgboost/core.py:587: FutureWarning: Series.base is deprecated and will be removed in a future version\n",
      "  if getattr(data, 'base', None) is not None and \\\n"
     ]
    },
    {
     "name": "stdout",
     "output_type": "stream",
     "text": [
      "DP02_0057PE\n",
      "[11:39:35] WARNING: src/objective/regression_obj.cu:152: reg:linear is now deprecated in favor of reg:squarederror.\n"
     ]
    },
    {
     "name": "stderr",
     "output_type": "stream",
     "text": [
      "/Users/kmiyaki/anaconda3/lib/python3.7/site-packages/xgboost/core.py:587: FutureWarning: Series.base is deprecated and will be removed in a future version\n",
      "  if getattr(data, 'base', None) is not None and \\\n"
     ]
    },
    {
     "name": "stdout",
     "output_type": "stream",
     "text": [
      "DP02_0073PE\n",
      "[11:39:39] WARNING: src/objective/regression_obj.cu:152: reg:linear is now deprecated in favor of reg:squarederror.\n"
     ]
    },
    {
     "name": "stderr",
     "output_type": "stream",
     "text": [
      "/Users/kmiyaki/anaconda3/lib/python3.7/site-packages/xgboost/core.py:587: FutureWarning: Series.base is deprecated and will be removed in a future version\n",
      "  if getattr(data, 'base', None) is not None and \\\n"
     ]
    },
    {
     "name": "stdout",
     "output_type": "stream",
     "text": [
      "DP02_0094PE\n",
      "[11:39:44] WARNING: src/objective/regression_obj.cu:152: reg:linear is now deprecated in favor of reg:squarederror.\n"
     ]
    },
    {
     "name": "stderr",
     "output_type": "stream",
     "text": [
      "/Users/kmiyaki/anaconda3/lib/python3.7/site-packages/xgboost/core.py:587: FutureWarning: Series.base is deprecated and will be removed in a future version\n",
      "  if getattr(data, 'base', None) is not None and \\\n"
     ]
    },
    {
     "name": "stdout",
     "output_type": "stream",
     "text": [
      "DP02_0095PE\n",
      "[11:39:48] WARNING: src/objective/regression_obj.cu:152: reg:linear is now deprecated in favor of reg:squarederror.\n"
     ]
    },
    {
     "name": "stderr",
     "output_type": "stream",
     "text": [
      "/Users/kmiyaki/anaconda3/lib/python3.7/site-packages/xgboost/core.py:587: FutureWarning: Series.base is deprecated and will be removed in a future version\n",
      "  if getattr(data, 'base', None) is not None and \\\n"
     ]
    },
    {
     "name": "stdout",
     "output_type": "stream",
     "text": [
      "DP02_0098PE\n",
      "[11:39:52] WARNING: src/objective/regression_obj.cu:152: reg:linear is now deprecated in favor of reg:squarederror.\n"
     ]
    },
    {
     "name": "stderr",
     "output_type": "stream",
     "text": [
      "/Users/kmiyaki/anaconda3/lib/python3.7/site-packages/xgboost/core.py:587: FutureWarning: Series.base is deprecated and will be removed in a future version\n",
      "  if getattr(data, 'base', None) is not None and \\\n"
     ]
    },
    {
     "name": "stdout",
     "output_type": "stream",
     "text": [
      "DP02_0099PE\n",
      "[11:39:57] WARNING: src/objective/regression_obj.cu:152: reg:linear is now deprecated in favor of reg:squarederror.\n"
     ]
    },
    {
     "name": "stderr",
     "output_type": "stream",
     "text": [
      "/Users/kmiyaki/anaconda3/lib/python3.7/site-packages/xgboost/core.py:587: FutureWarning: Series.base is deprecated and will be removed in a future version\n",
      "  if getattr(data, 'base', None) is not None and \\\n"
     ]
    },
    {
     "name": "stdout",
     "output_type": "stream",
     "text": [
      "DP02_0101PE\n",
      "[11:40:01] WARNING: src/objective/regression_obj.cu:152: reg:linear is now deprecated in favor of reg:squarederror.\n"
     ]
    },
    {
     "name": "stderr",
     "output_type": "stream",
     "text": [
      "/Users/kmiyaki/anaconda3/lib/python3.7/site-packages/xgboost/core.py:587: FutureWarning: Series.base is deprecated and will be removed in a future version\n",
      "  if getattr(data, 'base', None) is not None and \\\n"
     ]
    },
    {
     "name": "stdout",
     "output_type": "stream",
     "text": [
      "DP02_0102PE\n",
      "[11:40:05] WARNING: src/objective/regression_obj.cu:152: reg:linear is now deprecated in favor of reg:squarederror.\n"
     ]
    },
    {
     "name": "stderr",
     "output_type": "stream",
     "text": [
      "/Users/kmiyaki/anaconda3/lib/python3.7/site-packages/xgboost/core.py:587: FutureWarning: Series.base is deprecated and will be removed in a future version\n",
      "  if getattr(data, 'base', None) is not None and \\\n"
     ]
    },
    {
     "name": "stdout",
     "output_type": "stream",
     "text": [
      "DP02_0104PE\n",
      "[11:40:10] WARNING: src/objective/regression_obj.cu:152: reg:linear is now deprecated in favor of reg:squarederror.\n"
     ]
    },
    {
     "name": "stderr",
     "output_type": "stream",
     "text": [
      "/Users/kmiyaki/anaconda3/lib/python3.7/site-packages/xgboost/core.py:587: FutureWarning: Series.base is deprecated and will be removed in a future version\n",
      "  if getattr(data, 'base', None) is not None and \\\n"
     ]
    },
    {
     "name": "stdout",
     "output_type": "stream",
     "text": [
      "DP02_0105PE\n",
      "[11:40:14] WARNING: src/objective/regression_obj.cu:152: reg:linear is now deprecated in favor of reg:squarederror.\n"
     ]
    },
    {
     "name": "stderr",
     "output_type": "stream",
     "text": [
      "/Users/kmiyaki/anaconda3/lib/python3.7/site-packages/xgboost/core.py:587: FutureWarning: Series.base is deprecated and will be removed in a future version\n",
      "  if getattr(data, 'base', None) is not None and \\\n"
     ]
    },
    {
     "name": "stdout",
     "output_type": "stream",
     "text": [
      "DP02_0106PE\n",
      "[11:40:19] WARNING: src/objective/regression_obj.cu:152: reg:linear is now deprecated in favor of reg:squarederror.\n"
     ]
    },
    {
     "name": "stderr",
     "output_type": "stream",
     "text": [
      "/Users/kmiyaki/anaconda3/lib/python3.7/site-packages/xgboost/core.py:587: FutureWarning: Series.base is deprecated and will be removed in a future version\n",
      "  if getattr(data, 'base', None) is not None and \\\n"
     ]
    },
    {
     "name": "stdout",
     "output_type": "stream",
     "text": [
      "DP02_0107PE\n",
      "[11:40:23] WARNING: src/objective/regression_obj.cu:152: reg:linear is now deprecated in favor of reg:squarederror.\n"
     ]
    },
    {
     "name": "stderr",
     "output_type": "stream",
     "text": [
      "/Users/kmiyaki/anaconda3/lib/python3.7/site-packages/xgboost/core.py:587: FutureWarning: Series.base is deprecated and will be removed in a future version\n",
      "  if getattr(data, 'base', None) is not None and \\\n"
     ]
    },
    {
     "name": "stdout",
     "output_type": "stream",
     "text": [
      "DP02_0108PE\n",
      "[11:40:28] WARNING: src/objective/regression_obj.cu:152: reg:linear is now deprecated in favor of reg:squarederror.\n"
     ]
    },
    {
     "name": "stderr",
     "output_type": "stream",
     "text": [
      "/Users/kmiyaki/anaconda3/lib/python3.7/site-packages/xgboost/core.py:587: FutureWarning: Series.base is deprecated and will be removed in a future version\n",
      "  if getattr(data, 'base', None) is not None and \\\n"
     ]
    },
    {
     "name": "stdout",
     "output_type": "stream",
     "text": [
      "DP02_0109PE\n",
      "[11:40:32] WARNING: src/objective/regression_obj.cu:152: reg:linear is now deprecated in favor of reg:squarederror.\n"
     ]
    },
    {
     "name": "stderr",
     "output_type": "stream",
     "text": [
      "/Users/kmiyaki/anaconda3/lib/python3.7/site-packages/xgboost/core.py:587: FutureWarning: Series.base is deprecated and will be removed in a future version\n",
      "  if getattr(data, 'base', None) is not None and \\\n"
     ]
    },
    {
     "name": "stdout",
     "output_type": "stream",
     "text": [
      "DP03_0015PE\n",
      "[11:40:37] WARNING: src/objective/regression_obj.cu:152: reg:linear is now deprecated in favor of reg:squarederror.\n"
     ]
    },
    {
     "name": "stderr",
     "output_type": "stream",
     "text": [
      "/Users/kmiyaki/anaconda3/lib/python3.7/site-packages/xgboost/core.py:587: FutureWarning: Series.base is deprecated and will be removed in a future version\n",
      "  if getattr(data, 'base', None) is not None and \\\n"
     ]
    },
    {
     "name": "stdout",
     "output_type": "stream",
     "text": [
      "DP03_0017PE\n",
      "[11:40:41] WARNING: src/objective/regression_obj.cu:152: reg:linear is now deprecated in favor of reg:squarederror.\n"
     ]
    },
    {
     "name": "stderr",
     "output_type": "stream",
     "text": [
      "/Users/kmiyaki/anaconda3/lib/python3.7/site-packages/xgboost/core.py:587: FutureWarning: Series.base is deprecated and will be removed in a future version\n",
      "  if getattr(data, 'base', None) is not None and \\\n"
     ]
    },
    {
     "name": "stdout",
     "output_type": "stream",
     "text": [
      "DP03_0101PE\n",
      "[11:40:46] WARNING: src/objective/regression_obj.cu:152: reg:linear is now deprecated in favor of reg:squarederror.\n"
     ]
    },
    {
     "name": "stderr",
     "output_type": "stream",
     "text": [
      "/Users/kmiyaki/anaconda3/lib/python3.7/site-packages/xgboost/core.py:587: FutureWarning: Series.base is deprecated and will be removed in a future version\n",
      "  if getattr(data, 'base', None) is not None and \\\n"
     ]
    },
    {
     "name": "stdout",
     "output_type": "stream",
     "text": [
      "DP03_0110PE\n",
      "[11:40:50] WARNING: src/objective/regression_obj.cu:152: reg:linear is now deprecated in favor of reg:squarederror.\n"
     ]
    },
    {
     "name": "stderr",
     "output_type": "stream",
     "text": [
      "/Users/kmiyaki/anaconda3/lib/python3.7/site-packages/xgboost/core.py:587: FutureWarning: Series.base is deprecated and will be removed in a future version\n",
      "  if getattr(data, 'base', None) is not None and \\\n"
     ]
    },
    {
     "name": "stdout",
     "output_type": "stream",
     "text": [
      "DP03_0111PE\n",
      "[11:40:55] WARNING: src/objective/regression_obj.cu:152: reg:linear is now deprecated in favor of reg:squarederror.\n"
     ]
    },
    {
     "name": "stderr",
     "output_type": "stream",
     "text": [
      "/Users/kmiyaki/anaconda3/lib/python3.7/site-packages/xgboost/core.py:587: FutureWarning: Series.base is deprecated and will be removed in a future version\n",
      "  if getattr(data, 'base', None) is not None and \\\n"
     ]
    },
    {
     "name": "stdout",
     "output_type": "stream",
     "text": [
      "DP03_0112PE\n",
      "[11:40:59] WARNING: src/objective/regression_obj.cu:152: reg:linear is now deprecated in favor of reg:squarederror.\n"
     ]
    },
    {
     "name": "stderr",
     "output_type": "stream",
     "text": [
      "/Users/kmiyaki/anaconda3/lib/python3.7/site-packages/xgboost/core.py:587: FutureWarning: Series.base is deprecated and will be removed in a future version\n",
      "  if getattr(data, 'base', None) is not None and \\\n"
     ]
    },
    {
     "name": "stdout",
     "output_type": "stream",
     "text": [
      "DP03_0113PE\n",
      "[11:41:04] WARNING: src/objective/regression_obj.cu:152: reg:linear is now deprecated in favor of reg:squarederror.\n"
     ]
    },
    {
     "name": "stderr",
     "output_type": "stream",
     "text": [
      "/Users/kmiyaki/anaconda3/lib/python3.7/site-packages/xgboost/core.py:587: FutureWarning: Series.base is deprecated and will be removed in a future version\n",
      "  if getattr(data, 'base', None) is not None and \\\n"
     ]
    },
    {
     "name": "stdout",
     "output_type": "stream",
     "text": [
      "DP03_0120PE\n",
      "[11:41:08] WARNING: src/objective/regression_obj.cu:152: reg:linear is now deprecated in favor of reg:squarederror.\n"
     ]
    },
    {
     "name": "stderr",
     "output_type": "stream",
     "text": [
      "/Users/kmiyaki/anaconda3/lib/python3.7/site-packages/xgboost/core.py:587: FutureWarning: Series.base is deprecated and will be removed in a future version\n",
      "  if getattr(data, 'base', None) is not None and \\\n"
     ]
    },
    {
     "name": "stdout",
     "output_type": "stream",
     "text": [
      "DP03_0121PE\n",
      "[11:41:13] WARNING: src/objective/regression_obj.cu:152: reg:linear is now deprecated in favor of reg:squarederror.\n"
     ]
    },
    {
     "name": "stderr",
     "output_type": "stream",
     "text": [
      "/Users/kmiyaki/anaconda3/lib/python3.7/site-packages/xgboost/core.py:587: FutureWarning: Series.base is deprecated and will be removed in a future version\n",
      "  if getattr(data, 'base', None) is not None and \\\n"
     ]
    },
    {
     "name": "stdout",
     "output_type": "stream",
     "text": [
      "DP03_0123PE\n",
      "[11:41:17] WARNING: src/objective/regression_obj.cu:152: reg:linear is now deprecated in favor of reg:squarederror.\n"
     ]
    },
    {
     "name": "stderr",
     "output_type": "stream",
     "text": [
      "/Users/kmiyaki/anaconda3/lib/python3.7/site-packages/xgboost/core.py:587: FutureWarning: Series.base is deprecated and will be removed in a future version\n",
      "  if getattr(data, 'base', None) is not None and \\\n"
     ]
    },
    {
     "name": "stdout",
     "output_type": "stream",
     "text": [
      "DP03_0124PE\n",
      "[11:41:21] WARNING: src/objective/regression_obj.cu:152: reg:linear is now deprecated in favor of reg:squarederror.\n"
     ]
    },
    {
     "name": "stderr",
     "output_type": "stream",
     "text": [
      "/Users/kmiyaki/anaconda3/lib/python3.7/site-packages/xgboost/core.py:587: FutureWarning: Series.base is deprecated and will be removed in a future version\n",
      "  if getattr(data, 'base', None) is not None and \\\n"
     ]
    },
    {
     "name": "stdout",
     "output_type": "stream",
     "text": [
      "DP03_0125PE\n",
      "[11:41:26] WARNING: src/objective/regression_obj.cu:152: reg:linear is now deprecated in favor of reg:squarederror.\n"
     ]
    },
    {
     "name": "stderr",
     "output_type": "stream",
     "text": [
      "/Users/kmiyaki/anaconda3/lib/python3.7/site-packages/xgboost/core.py:587: FutureWarning: Series.base is deprecated and will be removed in a future version\n",
      "  if getattr(data, 'base', None) is not None and \\\n"
     ]
    },
    {
     "name": "stdout",
     "output_type": "stream",
     "text": [
      "DP03_0126PE\n",
      "[11:41:31] WARNING: src/objective/regression_obj.cu:152: reg:linear is now deprecated in favor of reg:squarederror.\n"
     ]
    },
    {
     "name": "stderr",
     "output_type": "stream",
     "text": [
      "/Users/kmiyaki/anaconda3/lib/python3.7/site-packages/xgboost/core.py:587: FutureWarning: Series.base is deprecated and will be removed in a future version\n",
      "  if getattr(data, 'base', None) is not None and \\\n"
     ]
    },
    {
     "name": "stdout",
     "output_type": "stream",
     "text": [
      "DP03_0127PE\n",
      "[11:41:35] WARNING: src/objective/regression_obj.cu:152: reg:linear is now deprecated in favor of reg:squarederror.\n"
     ]
    },
    {
     "name": "stderr",
     "output_type": "stream",
     "text": [
      "/Users/kmiyaki/anaconda3/lib/python3.7/site-packages/xgboost/core.py:587: FutureWarning: Series.base is deprecated and will be removed in a future version\n",
      "  if getattr(data, 'base', None) is not None and \\\n"
     ]
    },
    {
     "name": "stdout",
     "output_type": "stream",
     "text": [
      "DP03_0129PE\n",
      "[11:41:40] WARNING: src/objective/regression_obj.cu:152: reg:linear is now deprecated in favor of reg:squarederror.\n"
     ]
    },
    {
     "name": "stderr",
     "output_type": "stream",
     "text": [
      "/Users/kmiyaki/anaconda3/lib/python3.7/site-packages/xgboost/core.py:587: FutureWarning: Series.base is deprecated and will be removed in a future version\n",
      "  if getattr(data, 'base', None) is not None and \\\n"
     ]
    },
    {
     "name": "stdout",
     "output_type": "stream",
     "text": [
      "DP03_0130PE\n",
      "[11:41:44] WARNING: src/objective/regression_obj.cu:152: reg:linear is now deprecated in favor of reg:squarederror.\n"
     ]
    },
    {
     "name": "stderr",
     "output_type": "stream",
     "text": [
      "/Users/kmiyaki/anaconda3/lib/python3.7/site-packages/xgboost/core.py:587: FutureWarning: Series.base is deprecated and will be removed in a future version\n",
      "  if getattr(data, 'base', None) is not None and \\\n"
     ]
    },
    {
     "name": "stdout",
     "output_type": "stream",
     "text": [
      "DP03_0131PE\n",
      "[11:41:49] WARNING: src/objective/regression_obj.cu:152: reg:linear is now deprecated in favor of reg:squarederror.\n"
     ]
    },
    {
     "name": "stderr",
     "output_type": "stream",
     "text": [
      "/Users/kmiyaki/anaconda3/lib/python3.7/site-packages/xgboost/core.py:587: FutureWarning: Series.base is deprecated and will be removed in a future version\n",
      "  if getattr(data, 'base', None) is not None and \\\n"
     ]
    },
    {
     "name": "stdout",
     "output_type": "stream",
     "text": [
      "DP03_0132PE\n",
      "[11:41:53] WARNING: src/objective/regression_obj.cu:152: reg:linear is now deprecated in favor of reg:squarederror.\n"
     ]
    },
    {
     "name": "stderr",
     "output_type": "stream",
     "text": [
      "/Users/kmiyaki/anaconda3/lib/python3.7/site-packages/xgboost/core.py:587: FutureWarning: Series.base is deprecated and will be removed in a future version\n",
      "  if getattr(data, 'base', None) is not None and \\\n"
     ]
    },
    {
     "name": "stdout",
     "output_type": "stream",
     "text": [
      "DP04_0074PE\n",
      "[11:41:58] WARNING: src/objective/regression_obj.cu:152: reg:linear is now deprecated in favor of reg:squarederror.\n"
     ]
    },
    {
     "name": "stderr",
     "output_type": "stream",
     "text": [
      "/Users/kmiyaki/anaconda3/lib/python3.7/site-packages/xgboost/core.py:587: FutureWarning: Series.base is deprecated and will be removed in a future version\n",
      "  if getattr(data, 'base', None) is not None and \\\n"
     ]
    },
    {
     "name": "stdout",
     "output_type": "stream",
     "text": [
      "DP04_0080PE\n",
      "[11:42:02] WARNING: src/objective/regression_obj.cu:152: reg:linear is now deprecated in favor of reg:squarederror.\n"
     ]
    },
    {
     "name": "stderr",
     "output_type": "stream",
     "text": [
      "/Users/kmiyaki/anaconda3/lib/python3.7/site-packages/xgboost/core.py:587: FutureWarning: Series.base is deprecated and will be removed in a future version\n",
      "  if getattr(data, 'base', None) is not None and \\\n"
     ]
    },
    {
     "name": "stdout",
     "output_type": "stream",
     "text": [
      "DP04_0081PE\n",
      "[11:42:07] WARNING: src/objective/regression_obj.cu:152: reg:linear is now deprecated in favor of reg:squarederror.\n"
     ]
    },
    {
     "name": "stderr",
     "output_type": "stream",
     "text": [
      "/Users/kmiyaki/anaconda3/lib/python3.7/site-packages/xgboost/core.py:587: FutureWarning: Series.base is deprecated and will be removed in a future version\n",
      "  if getattr(data, 'base', None) is not None and \\\n"
     ]
    },
    {
     "name": "stdout",
     "output_type": "stream",
     "text": [
      "DP04_0082PE\n",
      "[11:42:11] WARNING: src/objective/regression_obj.cu:152: reg:linear is now deprecated in favor of reg:squarederror.\n"
     ]
    },
    {
     "name": "stderr",
     "output_type": "stream",
     "text": [
      "/Users/kmiyaki/anaconda3/lib/python3.7/site-packages/xgboost/core.py:587: FutureWarning: Series.base is deprecated and will be removed in a future version\n",
      "  if getattr(data, 'base', None) is not None and \\\n"
     ]
    },
    {
     "name": "stdout",
     "output_type": "stream",
     "text": [
      "DP04_0083PE\n",
      "[11:42:15] WARNING: src/objective/regression_obj.cu:152: reg:linear is now deprecated in favor of reg:squarederror.\n"
     ]
    },
    {
     "name": "stderr",
     "output_type": "stream",
     "text": [
      "/Users/kmiyaki/anaconda3/lib/python3.7/site-packages/xgboost/core.py:587: FutureWarning: Series.base is deprecated and will be removed in a future version\n",
      "  if getattr(data, 'base', None) is not None and \\\n"
     ]
    },
    {
     "name": "stdout",
     "output_type": "stream",
     "text": [
      "DP04_0084PE\n",
      "[11:42:20] WARNING: src/objective/regression_obj.cu:152: reg:linear is now deprecated in favor of reg:squarederror.\n"
     ]
    },
    {
     "name": "stderr",
     "output_type": "stream",
     "text": [
      "/Users/kmiyaki/anaconda3/lib/python3.7/site-packages/xgboost/core.py:587: FutureWarning: Series.base is deprecated and will be removed in a future version\n",
      "  if getattr(data, 'base', None) is not None and \\\n"
     ]
    },
    {
     "name": "stdout",
     "output_type": "stream",
     "text": [
      "DP04_0085PE\n",
      "[11:42:24] WARNING: src/objective/regression_obj.cu:152: reg:linear is now deprecated in favor of reg:squarederror.\n"
     ]
    },
    {
     "name": "stderr",
     "output_type": "stream",
     "text": [
      "/Users/kmiyaki/anaconda3/lib/python3.7/site-packages/xgboost/core.py:587: FutureWarning: Series.base is deprecated and will be removed in a future version\n",
      "  if getattr(data, 'base', None) is not None and \\\n"
     ]
    },
    {
     "name": "stdout",
     "output_type": "stream",
     "text": [
      "DP04_0086PE\n",
      "[11:42:29] WARNING: src/objective/regression_obj.cu:152: reg:linear is now deprecated in favor of reg:squarederror.\n"
     ]
    },
    {
     "name": "stderr",
     "output_type": "stream",
     "text": [
      "/Users/kmiyaki/anaconda3/lib/python3.7/site-packages/xgboost/core.py:587: FutureWarning: Series.base is deprecated and will be removed in a future version\n",
      "  if getattr(data, 'base', None) is not None and \\\n"
     ]
    },
    {
     "name": "stdout",
     "output_type": "stream",
     "text": [
      "DP04_0087PE\n",
      "[11:42:34] WARNING: src/objective/regression_obj.cu:152: reg:linear is now deprecated in favor of reg:squarederror.\n"
     ]
    },
    {
     "name": "stderr",
     "output_type": "stream",
     "text": [
      "/Users/kmiyaki/anaconda3/lib/python3.7/site-packages/xgboost/core.py:587: FutureWarning: Series.base is deprecated and will be removed in a future version\n",
      "  if getattr(data, 'base', None) is not None and \\\n"
     ]
    },
    {
     "name": "stdout",
     "output_type": "stream",
     "text": [
      "DP04_0090PE\n",
      "[11:42:39] WARNING: src/objective/regression_obj.cu:152: reg:linear is now deprecated in favor of reg:squarederror.\n"
     ]
    },
    {
     "name": "stderr",
     "output_type": "stream",
     "text": [
      "/Users/kmiyaki/anaconda3/lib/python3.7/site-packages/xgboost/core.py:587: FutureWarning: Series.base is deprecated and will be removed in a future version\n",
      "  if getattr(data, 'base', None) is not None and \\\n"
     ]
    },
    {
     "name": "stdout",
     "output_type": "stream",
     "text": [
      "DP04_0091PE\n",
      "[11:42:43] WARNING: src/objective/regression_obj.cu:152: reg:linear is now deprecated in favor of reg:squarederror.\n"
     ]
    },
    {
     "name": "stderr",
     "output_type": "stream",
     "text": [
      "/Users/kmiyaki/anaconda3/lib/python3.7/site-packages/xgboost/core.py:587: FutureWarning: Series.base is deprecated and will be removed in a future version\n",
      "  if getattr(data, 'base', None) is not None and \\\n"
     ]
    },
    {
     "name": "stdout",
     "output_type": "stream",
     "text": [
      "DP04_0093PE\n",
      "[11:42:48] WARNING: src/objective/regression_obj.cu:152: reg:linear is now deprecated in favor of reg:squarederror.\n"
     ]
    },
    {
     "name": "stderr",
     "output_type": "stream",
     "text": [
      "/Users/kmiyaki/anaconda3/lib/python3.7/site-packages/xgboost/core.py:587: FutureWarning: Series.base is deprecated and will be removed in a future version\n",
      "  if getattr(data, 'base', None) is not None and \\\n"
     ]
    },
    {
     "name": "stdout",
     "output_type": "stream",
     "text": [
      "DP04_0094PE\n",
      "[11:42:52] WARNING: src/objective/regression_obj.cu:152: reg:linear is now deprecated in favor of reg:squarederror.\n"
     ]
    },
    {
     "name": "stderr",
     "output_type": "stream",
     "text": [
      "/Users/kmiyaki/anaconda3/lib/python3.7/site-packages/xgboost/core.py:587: FutureWarning: Series.base is deprecated and will be removed in a future version\n",
      "  if getattr(data, 'base', None) is not None and \\\n"
     ]
    },
    {
     "name": "stdout",
     "output_type": "stream",
     "text": [
      "DP04_0095PE\n",
      "[11:42:57] WARNING: src/objective/regression_obj.cu:152: reg:linear is now deprecated in favor of reg:squarederror.\n"
     ]
    },
    {
     "name": "stderr",
     "output_type": "stream",
     "text": [
      "/Users/kmiyaki/anaconda3/lib/python3.7/site-packages/xgboost/core.py:587: FutureWarning: Series.base is deprecated and will be removed in a future version\n",
      "  if getattr(data, 'base', None) is not None and \\\n"
     ]
    },
    {
     "name": "stdout",
     "output_type": "stream",
     "text": [
      "DP04_0096PE\n",
      "[11:43:01] WARNING: src/objective/regression_obj.cu:152: reg:linear is now deprecated in favor of reg:squarederror.\n"
     ]
    },
    {
     "name": "stderr",
     "output_type": "stream",
     "text": [
      "/Users/kmiyaki/anaconda3/lib/python3.7/site-packages/xgboost/core.py:587: FutureWarning: Series.base is deprecated and will be removed in a future version\n",
      "  if getattr(data, 'base', None) is not None and \\\n"
     ]
    },
    {
     "name": "stdout",
     "output_type": "stream",
     "text": [
      "DP04_0097PE\n",
      "[11:43:06] WARNING: src/objective/regression_obj.cu:152: reg:linear is now deprecated in favor of reg:squarederror.\n"
     ]
    },
    {
     "name": "stderr",
     "output_type": "stream",
     "text": [
      "/Users/kmiyaki/anaconda3/lib/python3.7/site-packages/xgboost/core.py:587: FutureWarning: Series.base is deprecated and will be removed in a future version\n",
      "  if getattr(data, 'base', None) is not None and \\\n"
     ]
    },
    {
     "name": "stdout",
     "output_type": "stream",
     "text": [
      "DP04_0098PE\n",
      "[11:43:10] WARNING: src/objective/regression_obj.cu:152: reg:linear is now deprecated in favor of reg:squarederror.\n"
     ]
    },
    {
     "name": "stderr",
     "output_type": "stream",
     "text": [
      "/Users/kmiyaki/anaconda3/lib/python3.7/site-packages/xgboost/core.py:587: FutureWarning: Series.base is deprecated and will be removed in a future version\n",
      "  if getattr(data, 'base', None) is not None and \\\n"
     ]
    },
    {
     "name": "stdout",
     "output_type": "stream",
     "text": [
      "DP04_0099PE\n",
      "[11:43:15] WARNING: src/objective/regression_obj.cu:152: reg:linear is now deprecated in favor of reg:squarederror.\n"
     ]
    },
    {
     "name": "stderr",
     "output_type": "stream",
     "text": [
      "/Users/kmiyaki/anaconda3/lib/python3.7/site-packages/xgboost/core.py:587: FutureWarning: Series.base is deprecated and will be removed in a future version\n",
      "  if getattr(data, 'base', None) is not None and \\\n"
     ]
    },
    {
     "name": "stdout",
     "output_type": "stream",
     "text": [
      "DP04_0102PE\n",
      "[11:43:19] WARNING: src/objective/regression_obj.cu:152: reg:linear is now deprecated in favor of reg:squarederror.\n"
     ]
    },
    {
     "name": "stderr",
     "output_type": "stream",
     "text": [
      "/Users/kmiyaki/anaconda3/lib/python3.7/site-packages/xgboost/core.py:587: FutureWarning: Series.base is deprecated and will be removed in a future version\n",
      "  if getattr(data, 'base', None) is not None and \\\n"
     ]
    },
    {
     "name": "stdout",
     "output_type": "stream",
     "text": [
      "DP04_0103PE\n",
      "[11:43:24] WARNING: src/objective/regression_obj.cu:152: reg:linear is now deprecated in favor of reg:squarederror.\n"
     ]
    },
    {
     "name": "stderr",
     "output_type": "stream",
     "text": [
      "/Users/kmiyaki/anaconda3/lib/python3.7/site-packages/xgboost/core.py:587: FutureWarning: Series.base is deprecated and will be removed in a future version\n",
      "  if getattr(data, 'base', None) is not None and \\\n"
     ]
    },
    {
     "name": "stdout",
     "output_type": "stream",
     "text": [
      "DP04_0104PE\n",
      "[11:43:28] WARNING: src/objective/regression_obj.cu:152: reg:linear is now deprecated in favor of reg:squarederror.\n"
     ]
    },
    {
     "name": "stderr",
     "output_type": "stream",
     "text": [
      "/Users/kmiyaki/anaconda3/lib/python3.7/site-packages/xgboost/core.py:587: FutureWarning: Series.base is deprecated and will be removed in a future version\n",
      "  if getattr(data, 'base', None) is not None and \\\n"
     ]
    },
    {
     "name": "stdout",
     "output_type": "stream",
     "text": [
      "DP04_0105PE\n",
      "[11:43:33] WARNING: src/objective/regression_obj.cu:152: reg:linear is now deprecated in favor of reg:squarederror.\n"
     ]
    },
    {
     "name": "stderr",
     "output_type": "stream",
     "text": [
      "/Users/kmiyaki/anaconda3/lib/python3.7/site-packages/xgboost/core.py:587: FutureWarning: Series.base is deprecated and will be removed in a future version\n",
      "  if getattr(data, 'base', None) is not None and \\\n"
     ]
    },
    {
     "name": "stdout",
     "output_type": "stream",
     "text": [
      "DP04_0106PE\n",
      "[11:43:37] WARNING: src/objective/regression_obj.cu:152: reg:linear is now deprecated in favor of reg:squarederror.\n"
     ]
    },
    {
     "name": "stderr",
     "output_type": "stream",
     "text": [
      "/Users/kmiyaki/anaconda3/lib/python3.7/site-packages/xgboost/core.py:587: FutureWarning: Series.base is deprecated and will be removed in a future version\n",
      "  if getattr(data, 'base', None) is not None and \\\n"
     ]
    },
    {
     "name": "stdout",
     "output_type": "stream",
     "text": [
      "DP04_0109PE\n",
      "[11:43:42] WARNING: src/objective/regression_obj.cu:152: reg:linear is now deprecated in favor of reg:squarederror.\n"
     ]
    },
    {
     "name": "stderr",
     "output_type": "stream",
     "text": [
      "/Users/kmiyaki/anaconda3/lib/python3.7/site-packages/xgboost/core.py:587: FutureWarning: Series.base is deprecated and will be removed in a future version\n",
      "  if getattr(data, 'base', None) is not None and \\\n"
     ]
    },
    {
     "name": "stdout",
     "output_type": "stream",
     "text": [
      "DP04_0110PE\n",
      "[11:43:47] WARNING: src/objective/regression_obj.cu:152: reg:linear is now deprecated in favor of reg:squarederror.\n"
     ]
    },
    {
     "name": "stderr",
     "output_type": "stream",
     "text": [
      "/Users/kmiyaki/anaconda3/lib/python3.7/site-packages/xgboost/core.py:587: FutureWarning: Series.base is deprecated and will be removed in a future version\n",
      "  if getattr(data, 'base', None) is not None and \\\n"
     ]
    },
    {
     "name": "stdout",
     "output_type": "stream",
     "text": [
      "DP04_0111PE\n",
      "[11:43:51] WARNING: src/objective/regression_obj.cu:152: reg:linear is now deprecated in favor of reg:squarederror.\n"
     ]
    },
    {
     "name": "stderr",
     "output_type": "stream",
     "text": [
      "/Users/kmiyaki/anaconda3/lib/python3.7/site-packages/xgboost/core.py:587: FutureWarning: Series.base is deprecated and will be removed in a future version\n",
      "  if getattr(data, 'base', None) is not None and \\\n"
     ]
    },
    {
     "name": "stdout",
     "output_type": "stream",
     "text": [
      "DP04_0112PE\n",
      "[11:43:56] WARNING: src/objective/regression_obj.cu:152: reg:linear is now deprecated in favor of reg:squarederror.\n"
     ]
    },
    {
     "name": "stderr",
     "output_type": "stream",
     "text": [
      "/Users/kmiyaki/anaconda3/lib/python3.7/site-packages/xgboost/core.py:587: FutureWarning: Series.base is deprecated and will be removed in a future version\n",
      "  if getattr(data, 'base', None) is not None and \\\n"
     ]
    },
    {
     "name": "stdout",
     "output_type": "stream",
     "text": [
      "DP04_0113PE\n",
      "[11:44:00] WARNING: src/objective/regression_obj.cu:152: reg:linear is now deprecated in favor of reg:squarederror.\n"
     ]
    },
    {
     "name": "stderr",
     "output_type": "stream",
     "text": [
      "/Users/kmiyaki/anaconda3/lib/python3.7/site-packages/xgboost/core.py:587: FutureWarning: Series.base is deprecated and will be removed in a future version\n",
      "  if getattr(data, 'base', None) is not None and \\\n"
     ]
    },
    {
     "name": "stdout",
     "output_type": "stream",
     "text": [
      "DP04_0116PE\n",
      "[11:44:04] WARNING: src/objective/regression_obj.cu:152: reg:linear is now deprecated in favor of reg:squarederror.\n"
     ]
    },
    {
     "name": "stderr",
     "output_type": "stream",
     "text": [
      "/Users/kmiyaki/anaconda3/lib/python3.7/site-packages/xgboost/core.py:587: FutureWarning: Series.base is deprecated and will be removed in a future version\n",
      "  if getattr(data, 'base', None) is not None and \\\n"
     ]
    },
    {
     "name": "stdout",
     "output_type": "stream",
     "text": [
      "DP04_0117PE\n",
      "[11:44:09] WARNING: src/objective/regression_obj.cu:152: reg:linear is now deprecated in favor of reg:squarederror.\n"
     ]
    },
    {
     "name": "stderr",
     "output_type": "stream",
     "text": [
      "/Users/kmiyaki/anaconda3/lib/python3.7/site-packages/xgboost/core.py:587: FutureWarning: Series.base is deprecated and will be removed in a future version\n",
      "  if getattr(data, 'base', None) is not None and \\\n"
     ]
    },
    {
     "name": "stdout",
     "output_type": "stream",
     "text": [
      "DP04_0118PE\n",
      "[11:44:13] WARNING: src/objective/regression_obj.cu:152: reg:linear is now deprecated in favor of reg:squarederror.\n"
     ]
    },
    {
     "name": "stderr",
     "output_type": "stream",
     "text": [
      "/Users/kmiyaki/anaconda3/lib/python3.7/site-packages/xgboost/core.py:587: FutureWarning: Series.base is deprecated and will be removed in a future version\n",
      "  if getattr(data, 'base', None) is not None and \\\n"
     ]
    },
    {
     "name": "stdout",
     "output_type": "stream",
     "text": [
      "DP04_0119PE\n",
      "[11:44:18] WARNING: src/objective/regression_obj.cu:152: reg:linear is now deprecated in favor of reg:squarederror.\n"
     ]
    },
    {
     "name": "stderr",
     "output_type": "stream",
     "text": [
      "/Users/kmiyaki/anaconda3/lib/python3.7/site-packages/xgboost/core.py:587: FutureWarning: Series.base is deprecated and will be removed in a future version\n",
      "  if getattr(data, 'base', None) is not None and \\\n"
     ]
    },
    {
     "name": "stdout",
     "output_type": "stream",
     "text": [
      "DP04_0120PE\n",
      "[11:44:22] WARNING: src/objective/regression_obj.cu:152: reg:linear is now deprecated in favor of reg:squarederror.\n"
     ]
    },
    {
     "name": "stderr",
     "output_type": "stream",
     "text": [
      "/Users/kmiyaki/anaconda3/lib/python3.7/site-packages/xgboost/core.py:587: FutureWarning: Series.base is deprecated and will be removed in a future version\n",
      "  if getattr(data, 'base', None) is not None and \\\n"
     ]
    },
    {
     "name": "stdout",
     "output_type": "stream",
     "text": [
      "DP04_0121PE\n",
      "[11:44:26] WARNING: src/objective/regression_obj.cu:152: reg:linear is now deprecated in favor of reg:squarederror.\n"
     ]
    },
    {
     "name": "stderr",
     "output_type": "stream",
     "text": [
      "/Users/kmiyaki/anaconda3/lib/python3.7/site-packages/xgboost/core.py:587: FutureWarning: Series.base is deprecated and will be removed in a future version\n",
      "  if getattr(data, 'base', None) is not None and \\\n"
     ]
    },
    {
     "name": "stdout",
     "output_type": "stream",
     "text": [
      "DP04_0122PE\n",
      "2012 average test score:  0.45049992540366335\n"
     ]
    },
    {
     "name": "stderr",
     "output_type": "stream",
     "text": [
      "/Users/kmiyaki/anaconda3/lib/python3.7/site-packages/xgboost/core.py:587: FutureWarning: Series.base is deprecated and will be removed in a future version\n",
      "  if getattr(data, 'base', None) is not None and \\\n"
     ]
    },
    {
     "name": "stdout",
     "output_type": "stream",
     "text": [
      "[11:44:39] WARNING: src/objective/regression_obj.cu:152: reg:linear is now deprecated in favor of reg:squarederror.\n",
      "DP02_0036PE\n",
      "[11:44:43] WARNING: src/objective/regression_obj.cu:152: reg:linear is now deprecated in favor of reg:squarederror.\n"
     ]
    },
    {
     "name": "stderr",
     "output_type": "stream",
     "text": [
      "/Users/kmiyaki/anaconda3/lib/python3.7/site-packages/xgboost/core.py:587: FutureWarning: Series.base is deprecated and will be removed in a future version\n",
      "  if getattr(data, 'base', None) is not None and \\\n"
     ]
    },
    {
     "name": "stdout",
     "output_type": "stream",
     "text": [
      "DP02_0037PE\n",
      "[11:44:48] WARNING: src/objective/regression_obj.cu:152: reg:linear is now deprecated in favor of reg:squarederror.\n"
     ]
    },
    {
     "name": "stderr",
     "output_type": "stream",
     "text": [
      "/Users/kmiyaki/anaconda3/lib/python3.7/site-packages/xgboost/core.py:587: FutureWarning: Series.base is deprecated and will be removed in a future version\n",
      "  if getattr(data, 'base', None) is not None and \\\n"
     ]
    },
    {
     "name": "stdout",
     "output_type": "stream",
     "text": [
      "DP02_0044PE\n",
      "[11:44:52] WARNING: src/objective/regression_obj.cu:152: reg:linear is now deprecated in favor of reg:squarederror.\n"
     ]
    },
    {
     "name": "stderr",
     "output_type": "stream",
     "text": [
      "/Users/kmiyaki/anaconda3/lib/python3.7/site-packages/xgboost/core.py:587: FutureWarning: Series.base is deprecated and will be removed in a future version\n",
      "  if getattr(data, 'base', None) is not None and \\\n"
     ]
    },
    {
     "name": "stdout",
     "output_type": "stream",
     "text": [
      "DP02_0045PE\n",
      "[11:44:57] WARNING: src/objective/regression_obj.cu:152: reg:linear is now deprecated in favor of reg:squarederror.\n"
     ]
    },
    {
     "name": "stderr",
     "output_type": "stream",
     "text": [
      "/Users/kmiyaki/anaconda3/lib/python3.7/site-packages/xgboost/core.py:587: FutureWarning: Series.base is deprecated and will be removed in a future version\n",
      "  if getattr(data, 'base', None) is not None and \\\n"
     ]
    },
    {
     "name": "stdout",
     "output_type": "stream",
     "text": [
      "DP02_0046PE\n",
      "[11:45:01] WARNING: src/objective/regression_obj.cu:152: reg:linear is now deprecated in favor of reg:squarederror.\n"
     ]
    },
    {
     "name": "stderr",
     "output_type": "stream",
     "text": [
      "/Users/kmiyaki/anaconda3/lib/python3.7/site-packages/xgboost/core.py:587: FutureWarning: Series.base is deprecated and will be removed in a future version\n",
      "  if getattr(data, 'base', None) is not None and \\\n"
     ]
    },
    {
     "name": "stdout",
     "output_type": "stream",
     "text": [
      "DP02_0047PE\n",
      "[11:45:06] WARNING: src/objective/regression_obj.cu:152: reg:linear is now deprecated in favor of reg:squarederror.\n"
     ]
    },
    {
     "name": "stderr",
     "output_type": "stream",
     "text": [
      "/Users/kmiyaki/anaconda3/lib/python3.7/site-packages/xgboost/core.py:587: FutureWarning: Series.base is deprecated and will be removed in a future version\n",
      "  if getattr(data, 'base', None) is not None and \\\n"
     ]
    },
    {
     "name": "stdout",
     "output_type": "stream",
     "text": [
      "DP02_0048PE\n",
      "[11:45:10] WARNING: src/objective/regression_obj.cu:152: reg:linear is now deprecated in favor of reg:squarederror.\n"
     ]
    },
    {
     "name": "stderr",
     "output_type": "stream",
     "text": [
      "/Users/kmiyaki/anaconda3/lib/python3.7/site-packages/xgboost/core.py:587: FutureWarning: Series.base is deprecated and will be removed in a future version\n",
      "  if getattr(data, 'base', None) is not None and \\\n"
     ]
    },
    {
     "name": "stdout",
     "output_type": "stream",
     "text": [
      "DP02_0050PE\n",
      "[11:45:15] WARNING: src/objective/regression_obj.cu:152: reg:linear is now deprecated in favor of reg:squarederror.\n"
     ]
    },
    {
     "name": "stderr",
     "output_type": "stream",
     "text": [
      "/Users/kmiyaki/anaconda3/lib/python3.7/site-packages/xgboost/core.py:587: FutureWarning: Series.base is deprecated and will be removed in a future version\n",
      "  if getattr(data, 'base', None) is not None and \\\n"
     ]
    },
    {
     "name": "stdout",
     "output_type": "stream",
     "text": [
      "DP02_0051PE\n",
      "[11:45:19] WARNING: src/objective/regression_obj.cu:152: reg:linear is now deprecated in favor of reg:squarederror.\n"
     ]
    },
    {
     "name": "stderr",
     "output_type": "stream",
     "text": [
      "/Users/kmiyaki/anaconda3/lib/python3.7/site-packages/xgboost/core.py:587: FutureWarning: Series.base is deprecated and will be removed in a future version\n",
      "  if getattr(data, 'base', None) is not None and \\\n"
     ]
    },
    {
     "name": "stdout",
     "output_type": "stream",
     "text": [
      "DP02_0073PE\n"
     ]
    },
    {
     "name": "stderr",
     "output_type": "stream",
     "text": [
      "/Users/kmiyaki/anaconda3/lib/python3.7/site-packages/xgboost/core.py:587: FutureWarning: Series.base is deprecated and will be removed in a future version\n",
      "  if getattr(data, 'base', None) is not None and \\\n"
     ]
    },
    {
     "name": "stdout",
     "output_type": "stream",
     "text": [
      "[11:45:24] WARNING: src/objective/regression_obj.cu:152: reg:linear is now deprecated in favor of reg:squarederror.\n",
      "DP02_0094PE\n",
      "[11:45:29] WARNING: src/objective/regression_obj.cu:152: reg:linear is now deprecated in favor of reg:squarederror.\n"
     ]
    },
    {
     "name": "stderr",
     "output_type": "stream",
     "text": [
      "/Users/kmiyaki/anaconda3/lib/python3.7/site-packages/xgboost/core.py:587: FutureWarning: Series.base is deprecated and will be removed in a future version\n",
      "  if getattr(data, 'base', None) is not None and \\\n"
     ]
    },
    {
     "name": "stdout",
     "output_type": "stream",
     "text": [
      "DP02_0095PE\n",
      "[11:45:34] WARNING: src/objective/regression_obj.cu:152: reg:linear is now deprecated in favor of reg:squarederror.\n"
     ]
    },
    {
     "name": "stderr",
     "output_type": "stream",
     "text": [
      "/Users/kmiyaki/anaconda3/lib/python3.7/site-packages/xgboost/core.py:587: FutureWarning: Series.base is deprecated and will be removed in a future version\n",
      "  if getattr(data, 'base', None) is not None and \\\n"
     ]
    },
    {
     "name": "stdout",
     "output_type": "stream",
     "text": [
      "DP02_0098PE\n",
      "[11:45:39] WARNING: src/objective/regression_obj.cu:152: reg:linear is now deprecated in favor of reg:squarederror.\n"
     ]
    },
    {
     "name": "stderr",
     "output_type": "stream",
     "text": [
      "/Users/kmiyaki/anaconda3/lib/python3.7/site-packages/xgboost/core.py:587: FutureWarning: Series.base is deprecated and will be removed in a future version\n",
      "  if getattr(data, 'base', None) is not None and \\\n"
     ]
    },
    {
     "name": "stdout",
     "output_type": "stream",
     "text": [
      "DP02_0099PE\n",
      "[11:45:43] WARNING: src/objective/regression_obj.cu:152: reg:linear is now deprecated in favor of reg:squarederror.\n"
     ]
    },
    {
     "name": "stderr",
     "output_type": "stream",
     "text": [
      "/Users/kmiyaki/anaconda3/lib/python3.7/site-packages/xgboost/core.py:587: FutureWarning: Series.base is deprecated and will be removed in a future version\n",
      "  if getattr(data, 'base', None) is not None and \\\n"
     ]
    },
    {
     "name": "stdout",
     "output_type": "stream",
     "text": [
      "DP02_0101PE\n",
      "[11:45:48] WARNING: src/objective/regression_obj.cu:152: reg:linear is now deprecated in favor of reg:squarederror.\n"
     ]
    },
    {
     "name": "stderr",
     "output_type": "stream",
     "text": [
      "/Users/kmiyaki/anaconda3/lib/python3.7/site-packages/xgboost/core.py:587: FutureWarning: Series.base is deprecated and will be removed in a future version\n",
      "  if getattr(data, 'base', None) is not None and \\\n"
     ]
    },
    {
     "name": "stdout",
     "output_type": "stream",
     "text": [
      "DP02_0102PE\n",
      "[11:45:52] WARNING: src/objective/regression_obj.cu:152: reg:linear is now deprecated in favor of reg:squarederror.\n"
     ]
    },
    {
     "name": "stderr",
     "output_type": "stream",
     "text": [
      "/Users/kmiyaki/anaconda3/lib/python3.7/site-packages/xgboost/core.py:587: FutureWarning: Series.base is deprecated and will be removed in a future version\n",
      "  if getattr(data, 'base', None) is not None and \\\n"
     ]
    },
    {
     "name": "stdout",
     "output_type": "stream",
     "text": [
      "DP02_0104PE\n",
      "[11:45:57] WARNING: src/objective/regression_obj.cu:152: reg:linear is now deprecated in favor of reg:squarederror.\n"
     ]
    },
    {
     "name": "stderr",
     "output_type": "stream",
     "text": [
      "/Users/kmiyaki/anaconda3/lib/python3.7/site-packages/xgboost/core.py:587: FutureWarning: Series.base is deprecated and will be removed in a future version\n",
      "  if getattr(data, 'base', None) is not None and \\\n"
     ]
    },
    {
     "name": "stdout",
     "output_type": "stream",
     "text": [
      "DP02_0105PE\n",
      "[11:46:01] WARNING: src/objective/regression_obj.cu:152: reg:linear is now deprecated in favor of reg:squarederror.\n"
     ]
    },
    {
     "name": "stderr",
     "output_type": "stream",
     "text": [
      "/Users/kmiyaki/anaconda3/lib/python3.7/site-packages/xgboost/core.py:587: FutureWarning: Series.base is deprecated and will be removed in a future version\n",
      "  if getattr(data, 'base', None) is not None and \\\n"
     ]
    },
    {
     "name": "stdout",
     "output_type": "stream",
     "text": [
      "DP02_0106PE\n",
      "[11:46:05] WARNING: src/objective/regression_obj.cu:152: reg:linear is now deprecated in favor of reg:squarederror.\n"
     ]
    },
    {
     "name": "stderr",
     "output_type": "stream",
     "text": [
      "/Users/kmiyaki/anaconda3/lib/python3.7/site-packages/xgboost/core.py:587: FutureWarning: Series.base is deprecated and will be removed in a future version\n",
      "  if getattr(data, 'base', None) is not None and \\\n"
     ]
    },
    {
     "name": "stdout",
     "output_type": "stream",
     "text": [
      "DP02_0107PE\n",
      "[11:46:10] WARNING: src/objective/regression_obj.cu:152: reg:linear is now deprecated in favor of reg:squarederror.\n"
     ]
    },
    {
     "name": "stderr",
     "output_type": "stream",
     "text": [
      "/Users/kmiyaki/anaconda3/lib/python3.7/site-packages/xgboost/core.py:587: FutureWarning: Series.base is deprecated and will be removed in a future version\n",
      "  if getattr(data, 'base', None) is not None and \\\n"
     ]
    },
    {
     "name": "stdout",
     "output_type": "stream",
     "text": [
      "DP02_0108PE\n",
      "[11:46:14] WARNING: src/objective/regression_obj.cu:152: reg:linear is now deprecated in favor of reg:squarederror.\n"
     ]
    },
    {
     "name": "stderr",
     "output_type": "stream",
     "text": [
      "/Users/kmiyaki/anaconda3/lib/python3.7/site-packages/xgboost/core.py:587: FutureWarning: Series.base is deprecated and will be removed in a future version\n",
      "  if getattr(data, 'base', None) is not None and \\\n"
     ]
    },
    {
     "name": "stdout",
     "output_type": "stream",
     "text": [
      "DP02_0109PE\n",
      "[11:46:19] WARNING: src/objective/regression_obj.cu:152: reg:linear is now deprecated in favor of reg:squarederror.\n"
     ]
    },
    {
     "name": "stderr",
     "output_type": "stream",
     "text": [
      "/Users/kmiyaki/anaconda3/lib/python3.7/site-packages/xgboost/core.py:587: FutureWarning: Series.base is deprecated and will be removed in a future version\n",
      "  if getattr(data, 'base', None) is not None and \\\n"
     ]
    },
    {
     "name": "stdout",
     "output_type": "stream",
     "text": [
      "DP03_0015PE\n",
      "[11:46:23] WARNING: src/objective/regression_obj.cu:152: reg:linear is now deprecated in favor of reg:squarederror.\n"
     ]
    },
    {
     "name": "stderr",
     "output_type": "stream",
     "text": [
      "/Users/kmiyaki/anaconda3/lib/python3.7/site-packages/xgboost/core.py:587: FutureWarning: Series.base is deprecated and will be removed in a future version\n",
      "  if getattr(data, 'base', None) is not None and \\\n"
     ]
    },
    {
     "name": "stdout",
     "output_type": "stream",
     "text": [
      "DP03_0017PE\n",
      "[11:46:28] WARNING: src/objective/regression_obj.cu:152: reg:linear is now deprecated in favor of reg:squarederror.\n"
     ]
    },
    {
     "name": "stderr",
     "output_type": "stream",
     "text": [
      "/Users/kmiyaki/anaconda3/lib/python3.7/site-packages/xgboost/core.py:587: FutureWarning: Series.base is deprecated and will be removed in a future version\n",
      "  if getattr(data, 'base', None) is not None and \\\n"
     ]
    },
    {
     "name": "stdout",
     "output_type": "stream",
     "text": [
      "DP03_0101PE\n",
      "[11:46:32] WARNING: src/objective/regression_obj.cu:152: reg:linear is now deprecated in favor of reg:squarederror.\n"
     ]
    },
    {
     "name": "stderr",
     "output_type": "stream",
     "text": [
      "/Users/kmiyaki/anaconda3/lib/python3.7/site-packages/xgboost/core.py:587: FutureWarning: Series.base is deprecated and will be removed in a future version\n",
      "  if getattr(data, 'base', None) is not None and \\\n"
     ]
    },
    {
     "name": "stdout",
     "output_type": "stream",
     "text": [
      "DP03_0110PE\n",
      "[11:46:37] WARNING: src/objective/regression_obj.cu:152: reg:linear is now deprecated in favor of reg:squarederror.\n"
     ]
    },
    {
     "name": "stderr",
     "output_type": "stream",
     "text": [
      "/Users/kmiyaki/anaconda3/lib/python3.7/site-packages/xgboost/core.py:587: FutureWarning: Series.base is deprecated and will be removed in a future version\n",
      "  if getattr(data, 'base', None) is not None and \\\n"
     ]
    },
    {
     "name": "stdout",
     "output_type": "stream",
     "text": [
      "DP03_0111PE\n",
      "[11:46:41] WARNING: src/objective/regression_obj.cu:152: reg:linear is now deprecated in favor of reg:squarederror.\n"
     ]
    },
    {
     "name": "stderr",
     "output_type": "stream",
     "text": [
      "/Users/kmiyaki/anaconda3/lib/python3.7/site-packages/xgboost/core.py:587: FutureWarning: Series.base is deprecated and will be removed in a future version\n",
      "  if getattr(data, 'base', None) is not None and \\\n"
     ]
    },
    {
     "name": "stdout",
     "output_type": "stream",
     "text": [
      "DP03_0112PE\n",
      "[11:46:46] WARNING: src/objective/regression_obj.cu:152: reg:linear is now deprecated in favor of reg:squarederror.\n"
     ]
    },
    {
     "name": "stderr",
     "output_type": "stream",
     "text": [
      "/Users/kmiyaki/anaconda3/lib/python3.7/site-packages/xgboost/core.py:587: FutureWarning: Series.base is deprecated and will be removed in a future version\n",
      "  if getattr(data, 'base', None) is not None and \\\n"
     ]
    },
    {
     "name": "stdout",
     "output_type": "stream",
     "text": [
      "DP03_0113PE\n",
      "[11:46:50] WARNING: src/objective/regression_obj.cu:152: reg:linear is now deprecated in favor of reg:squarederror.\n"
     ]
    },
    {
     "name": "stderr",
     "output_type": "stream",
     "text": [
      "/Users/kmiyaki/anaconda3/lib/python3.7/site-packages/xgboost/core.py:587: FutureWarning: Series.base is deprecated and will be removed in a future version\n",
      "  if getattr(data, 'base', None) is not None and \\\n"
     ]
    },
    {
     "name": "stdout",
     "output_type": "stream",
     "text": [
      "DP03_0120PE\n",
      "[11:46:55] WARNING: src/objective/regression_obj.cu:152: reg:linear is now deprecated in favor of reg:squarederror.\n"
     ]
    },
    {
     "name": "stderr",
     "output_type": "stream",
     "text": [
      "/Users/kmiyaki/anaconda3/lib/python3.7/site-packages/xgboost/core.py:587: FutureWarning: Series.base is deprecated and will be removed in a future version\n",
      "  if getattr(data, 'base', None) is not None and \\\n"
     ]
    },
    {
     "name": "stdout",
     "output_type": "stream",
     "text": [
      "DP03_0121PE\n"
     ]
    },
    {
     "name": "stderr",
     "output_type": "stream",
     "text": [
      "/Users/kmiyaki/anaconda3/lib/python3.7/site-packages/xgboost/core.py:587: FutureWarning: Series.base is deprecated and will be removed in a future version\n",
      "  if getattr(data, 'base', None) is not None and \\\n"
     ]
    },
    {
     "name": "stdout",
     "output_type": "stream",
     "text": [
      "[11:47:00] WARNING: src/objective/regression_obj.cu:152: reg:linear is now deprecated in favor of reg:squarederror.\n",
      "DP03_0123PE\n",
      "[11:47:05] WARNING: src/objective/regression_obj.cu:152: reg:linear is now deprecated in favor of reg:squarederror.\n"
     ]
    },
    {
     "name": "stderr",
     "output_type": "stream",
     "text": [
      "/Users/kmiyaki/anaconda3/lib/python3.7/site-packages/xgboost/core.py:587: FutureWarning: Series.base is deprecated and will be removed in a future version\n",
      "  if getattr(data, 'base', None) is not None and \\\n"
     ]
    },
    {
     "name": "stdout",
     "output_type": "stream",
     "text": [
      "DP03_0124PE\n",
      "[11:47:10] WARNING: src/objective/regression_obj.cu:152: reg:linear is now deprecated in favor of reg:squarederror.\n"
     ]
    },
    {
     "name": "stderr",
     "output_type": "stream",
     "text": [
      "/Users/kmiyaki/anaconda3/lib/python3.7/site-packages/xgboost/core.py:587: FutureWarning: Series.base is deprecated and will be removed in a future version\n",
      "  if getattr(data, 'base', None) is not None and \\\n"
     ]
    },
    {
     "name": "stdout",
     "output_type": "stream",
     "text": [
      "DP03_0125PE\n",
      "[11:47:15] WARNING: src/objective/regression_obj.cu:152: reg:linear is now deprecated in favor of reg:squarederror.\n"
     ]
    },
    {
     "name": "stderr",
     "output_type": "stream",
     "text": [
      "/Users/kmiyaki/anaconda3/lib/python3.7/site-packages/xgboost/core.py:587: FutureWarning: Series.base is deprecated and will be removed in a future version\n",
      "  if getattr(data, 'base', None) is not None and \\\n"
     ]
    },
    {
     "name": "stdout",
     "output_type": "stream",
     "text": [
      "DP03_0126PE\n",
      "[11:47:20] WARNING: src/objective/regression_obj.cu:152: reg:linear is now deprecated in favor of reg:squarederror.\n"
     ]
    },
    {
     "name": "stderr",
     "output_type": "stream",
     "text": [
      "/Users/kmiyaki/anaconda3/lib/python3.7/site-packages/xgboost/core.py:587: FutureWarning: Series.base is deprecated and will be removed in a future version\n",
      "  if getattr(data, 'base', None) is not None and \\\n"
     ]
    },
    {
     "name": "stdout",
     "output_type": "stream",
     "text": [
      "DP03_0127PE\n",
      "[11:47:25] WARNING: src/objective/regression_obj.cu:152: reg:linear is now deprecated in favor of reg:squarederror.\n"
     ]
    },
    {
     "name": "stderr",
     "output_type": "stream",
     "text": [
      "/Users/kmiyaki/anaconda3/lib/python3.7/site-packages/xgboost/core.py:587: FutureWarning: Series.base is deprecated and will be removed in a future version\n",
      "  if getattr(data, 'base', None) is not None and \\\n"
     ]
    },
    {
     "name": "stdout",
     "output_type": "stream",
     "text": [
      "DP03_0129PE\n",
      "[11:47:29] WARNING: src/objective/regression_obj.cu:152: reg:linear is now deprecated in favor of reg:squarederror.\n"
     ]
    },
    {
     "name": "stderr",
     "output_type": "stream",
     "text": [
      "/Users/kmiyaki/anaconda3/lib/python3.7/site-packages/xgboost/core.py:587: FutureWarning: Series.base is deprecated and will be removed in a future version\n",
      "  if getattr(data, 'base', None) is not None and \\\n"
     ]
    },
    {
     "name": "stdout",
     "output_type": "stream",
     "text": [
      "DP03_0130PE\n",
      "[11:47:34] WARNING: src/objective/regression_obj.cu:152: reg:linear is now deprecated in favor of reg:squarederror.\n"
     ]
    },
    {
     "name": "stderr",
     "output_type": "stream",
     "text": [
      "/Users/kmiyaki/anaconda3/lib/python3.7/site-packages/xgboost/core.py:587: FutureWarning: Series.base is deprecated and will be removed in a future version\n",
      "  if getattr(data, 'base', None) is not None and \\\n"
     ]
    },
    {
     "name": "stdout",
     "output_type": "stream",
     "text": [
      "DP03_0131PE\n",
      "[11:47:39] WARNING: src/objective/regression_obj.cu:152: reg:linear is now deprecated in favor of reg:squarederror.\n"
     ]
    },
    {
     "name": "stderr",
     "output_type": "stream",
     "text": [
      "/Users/kmiyaki/anaconda3/lib/python3.7/site-packages/xgboost/core.py:587: FutureWarning: Series.base is deprecated and will be removed in a future version\n",
      "  if getattr(data, 'base', None) is not None and \\\n"
     ]
    },
    {
     "name": "stdout",
     "output_type": "stream",
     "text": [
      "DP03_0132PE\n",
      "[11:47:43] WARNING: src/objective/regression_obj.cu:152: reg:linear is now deprecated in favor of reg:squarederror.\n"
     ]
    },
    {
     "name": "stderr",
     "output_type": "stream",
     "text": [
      "/Users/kmiyaki/anaconda3/lib/python3.7/site-packages/xgboost/core.py:587: FutureWarning: Series.base is deprecated and will be removed in a future version\n",
      "  if getattr(data, 'base', None) is not None and \\\n"
     ]
    },
    {
     "name": "stdout",
     "output_type": "stream",
     "text": [
      "DP04_0074PE\n",
      "[11:47:48] WARNING: src/objective/regression_obj.cu:152: reg:linear is now deprecated in favor of reg:squarederror.\n"
     ]
    },
    {
     "name": "stderr",
     "output_type": "stream",
     "text": [
      "/Users/kmiyaki/anaconda3/lib/python3.7/site-packages/xgboost/core.py:587: FutureWarning: Series.base is deprecated and will be removed in a future version\n",
      "  if getattr(data, 'base', None) is not None and \\\n"
     ]
    },
    {
     "name": "stdout",
     "output_type": "stream",
     "text": [
      "DP04_0080PE\n",
      "[11:47:53] WARNING: src/objective/regression_obj.cu:152: reg:linear is now deprecated in favor of reg:squarederror.\n"
     ]
    },
    {
     "name": "stderr",
     "output_type": "stream",
     "text": [
      "/Users/kmiyaki/anaconda3/lib/python3.7/site-packages/xgboost/core.py:587: FutureWarning: Series.base is deprecated and will be removed in a future version\n",
      "  if getattr(data, 'base', None) is not None and \\\n"
     ]
    },
    {
     "name": "stdout",
     "output_type": "stream",
     "text": [
      "DP04_0081PE\n",
      "[11:47:58] WARNING: src/objective/regression_obj.cu:152: reg:linear is now deprecated in favor of reg:squarederror.\n"
     ]
    },
    {
     "name": "stderr",
     "output_type": "stream",
     "text": [
      "/Users/kmiyaki/anaconda3/lib/python3.7/site-packages/xgboost/core.py:587: FutureWarning: Series.base is deprecated and will be removed in a future version\n",
      "  if getattr(data, 'base', None) is not None and \\\n"
     ]
    },
    {
     "name": "stdout",
     "output_type": "stream",
     "text": [
      "DP04_0082PE\n",
      "[11:48:02] WARNING: src/objective/regression_obj.cu:152: reg:linear is now deprecated in favor of reg:squarederror.\n"
     ]
    },
    {
     "name": "stderr",
     "output_type": "stream",
     "text": [
      "/Users/kmiyaki/anaconda3/lib/python3.7/site-packages/xgboost/core.py:587: FutureWarning: Series.base is deprecated and will be removed in a future version\n",
      "  if getattr(data, 'base', None) is not None and \\\n"
     ]
    },
    {
     "name": "stdout",
     "output_type": "stream",
     "text": [
      "DP04_0083PE\n",
      "[11:48:07] WARNING: src/objective/regression_obj.cu:152: reg:linear is now deprecated in favor of reg:squarederror.\n"
     ]
    },
    {
     "name": "stderr",
     "output_type": "stream",
     "text": [
      "/Users/kmiyaki/anaconda3/lib/python3.7/site-packages/xgboost/core.py:587: FutureWarning: Series.base is deprecated and will be removed in a future version\n",
      "  if getattr(data, 'base', None) is not None and \\\n"
     ]
    },
    {
     "name": "stdout",
     "output_type": "stream",
     "text": [
      "DP04_0084PE\n",
      "[11:48:11] WARNING: src/objective/regression_obj.cu:152: reg:linear is now deprecated in favor of reg:squarederror.\n"
     ]
    },
    {
     "name": "stderr",
     "output_type": "stream",
     "text": [
      "/Users/kmiyaki/anaconda3/lib/python3.7/site-packages/xgboost/core.py:587: FutureWarning: Series.base is deprecated and will be removed in a future version\n",
      "  if getattr(data, 'base', None) is not None and \\\n"
     ]
    },
    {
     "name": "stdout",
     "output_type": "stream",
     "text": [
      "DP04_0085PE\n",
      "[11:48:16] WARNING: src/objective/regression_obj.cu:152: reg:linear is now deprecated in favor of reg:squarederror.\n"
     ]
    },
    {
     "name": "stderr",
     "output_type": "stream",
     "text": [
      "/Users/kmiyaki/anaconda3/lib/python3.7/site-packages/xgboost/core.py:587: FutureWarning: Series.base is deprecated and will be removed in a future version\n",
      "  if getattr(data, 'base', None) is not None and \\\n"
     ]
    },
    {
     "name": "stdout",
     "output_type": "stream",
     "text": [
      "DP04_0086PE\n",
      "[11:48:20] WARNING: src/objective/regression_obj.cu:152: reg:linear is now deprecated in favor of reg:squarederror.\n"
     ]
    },
    {
     "name": "stderr",
     "output_type": "stream",
     "text": [
      "/Users/kmiyaki/anaconda3/lib/python3.7/site-packages/xgboost/core.py:587: FutureWarning: Series.base is deprecated and will be removed in a future version\n",
      "  if getattr(data, 'base', None) is not None and \\\n"
     ]
    },
    {
     "name": "stdout",
     "output_type": "stream",
     "text": [
      "DP04_0087PE\n",
      "[11:48:25] WARNING: src/objective/regression_obj.cu:152: reg:linear is now deprecated in favor of reg:squarederror.\n"
     ]
    },
    {
     "name": "stderr",
     "output_type": "stream",
     "text": [
      "/Users/kmiyaki/anaconda3/lib/python3.7/site-packages/xgboost/core.py:587: FutureWarning: Series.base is deprecated and will be removed in a future version\n",
      "  if getattr(data, 'base', None) is not None and \\\n"
     ]
    },
    {
     "name": "stdout",
     "output_type": "stream",
     "text": [
      "DP04_0090PE\n",
      "[11:48:29] WARNING: src/objective/regression_obj.cu:152: reg:linear is now deprecated in favor of reg:squarederror.\n"
     ]
    },
    {
     "name": "stderr",
     "output_type": "stream",
     "text": [
      "/Users/kmiyaki/anaconda3/lib/python3.7/site-packages/xgboost/core.py:587: FutureWarning: Series.base is deprecated and will be removed in a future version\n",
      "  if getattr(data, 'base', None) is not None and \\\n"
     ]
    },
    {
     "name": "stdout",
     "output_type": "stream",
     "text": [
      "DP04_0091PE\n",
      "[11:48:34] WARNING: src/objective/regression_obj.cu:152: reg:linear is now deprecated in favor of reg:squarederror.\n"
     ]
    },
    {
     "name": "stderr",
     "output_type": "stream",
     "text": [
      "/Users/kmiyaki/anaconda3/lib/python3.7/site-packages/xgboost/core.py:587: FutureWarning: Series.base is deprecated and will be removed in a future version\n",
      "  if getattr(data, 'base', None) is not None and \\\n"
     ]
    },
    {
     "name": "stdout",
     "output_type": "stream",
     "text": [
      "DP04_0093PE\n",
      "[11:48:38] WARNING: src/objective/regression_obj.cu:152: reg:linear is now deprecated in favor of reg:squarederror.\n"
     ]
    },
    {
     "name": "stderr",
     "output_type": "stream",
     "text": [
      "/Users/kmiyaki/anaconda3/lib/python3.7/site-packages/xgboost/core.py:587: FutureWarning: Series.base is deprecated and will be removed in a future version\n",
      "  if getattr(data, 'base', None) is not None and \\\n"
     ]
    },
    {
     "name": "stdout",
     "output_type": "stream",
     "text": [
      "DP04_0094PE\n",
      "[11:48:43] WARNING: src/objective/regression_obj.cu:152: reg:linear is now deprecated in favor of reg:squarederror.\n"
     ]
    },
    {
     "name": "stderr",
     "output_type": "stream",
     "text": [
      "/Users/kmiyaki/anaconda3/lib/python3.7/site-packages/xgboost/core.py:587: FutureWarning: Series.base is deprecated and will be removed in a future version\n",
      "  if getattr(data, 'base', None) is not None and \\\n"
     ]
    },
    {
     "name": "stdout",
     "output_type": "stream",
     "text": [
      "DP04_0095PE\n",
      "[11:48:48] WARNING: src/objective/regression_obj.cu:152: reg:linear is now deprecated in favor of reg:squarederror.\n"
     ]
    },
    {
     "name": "stderr",
     "output_type": "stream",
     "text": [
      "/Users/kmiyaki/anaconda3/lib/python3.7/site-packages/xgboost/core.py:587: FutureWarning: Series.base is deprecated and will be removed in a future version\n",
      "  if getattr(data, 'base', None) is not None and \\\n"
     ]
    },
    {
     "name": "stdout",
     "output_type": "stream",
     "text": [
      "DP04_0096PE\n",
      "[11:48:52] WARNING: src/objective/regression_obj.cu:152: reg:linear is now deprecated in favor of reg:squarederror.\n"
     ]
    },
    {
     "name": "stderr",
     "output_type": "stream",
     "text": [
      "/Users/kmiyaki/anaconda3/lib/python3.7/site-packages/xgboost/core.py:587: FutureWarning: Series.base is deprecated and will be removed in a future version\n",
      "  if getattr(data, 'base', None) is not None and \\\n"
     ]
    },
    {
     "name": "stdout",
     "output_type": "stream",
     "text": [
      "DP04_0097PE\n",
      "[11:48:57] WARNING: src/objective/regression_obj.cu:152: reg:linear is now deprecated in favor of reg:squarederror.\n"
     ]
    },
    {
     "name": "stderr",
     "output_type": "stream",
     "text": [
      "/Users/kmiyaki/anaconda3/lib/python3.7/site-packages/xgboost/core.py:587: FutureWarning: Series.base is deprecated and will be removed in a future version\n",
      "  if getattr(data, 'base', None) is not None and \\\n"
     ]
    },
    {
     "name": "stdout",
     "output_type": "stream",
     "text": [
      "DP04_0098PE\n",
      "[11:49:02] WARNING: src/objective/regression_obj.cu:152: reg:linear is now deprecated in favor of reg:squarederror.\n"
     ]
    },
    {
     "name": "stderr",
     "output_type": "stream",
     "text": [
      "/Users/kmiyaki/anaconda3/lib/python3.7/site-packages/xgboost/core.py:587: FutureWarning: Series.base is deprecated and will be removed in a future version\n",
      "  if getattr(data, 'base', None) is not None and \\\n"
     ]
    },
    {
     "name": "stdout",
     "output_type": "stream",
     "text": [
      "DP04_0099PE\n",
      "[11:49:07] WARNING: src/objective/regression_obj.cu:152: reg:linear is now deprecated in favor of reg:squarederror.\n"
     ]
    },
    {
     "name": "stderr",
     "output_type": "stream",
     "text": [
      "/Users/kmiyaki/anaconda3/lib/python3.7/site-packages/xgboost/core.py:587: FutureWarning: Series.base is deprecated and will be removed in a future version\n",
      "  if getattr(data, 'base', None) is not None and \\\n"
     ]
    },
    {
     "name": "stdout",
     "output_type": "stream",
     "text": [
      "DP04_0102PE\n",
      "[11:49:12] WARNING: src/objective/regression_obj.cu:152: reg:linear is now deprecated in favor of reg:squarederror.\n"
     ]
    },
    {
     "name": "stderr",
     "output_type": "stream",
     "text": [
      "/Users/kmiyaki/anaconda3/lib/python3.7/site-packages/xgboost/core.py:587: FutureWarning: Series.base is deprecated and will be removed in a future version\n",
      "  if getattr(data, 'base', None) is not None and \\\n"
     ]
    },
    {
     "name": "stdout",
     "output_type": "stream",
     "text": [
      "DP04_0103PE\n",
      "[11:49:17] WARNING: src/objective/regression_obj.cu:152: reg:linear is now deprecated in favor of reg:squarederror.\n"
     ]
    },
    {
     "name": "stderr",
     "output_type": "stream",
     "text": [
      "/Users/kmiyaki/anaconda3/lib/python3.7/site-packages/xgboost/core.py:587: FutureWarning: Series.base is deprecated and will be removed in a future version\n",
      "  if getattr(data, 'base', None) is not None and \\\n"
     ]
    },
    {
     "name": "stdout",
     "output_type": "stream",
     "text": [
      "DP04_0104PE\n",
      "[11:49:22] WARNING: src/objective/regression_obj.cu:152: reg:linear is now deprecated in favor of reg:squarederror.\n"
     ]
    },
    {
     "name": "stderr",
     "output_type": "stream",
     "text": [
      "/Users/kmiyaki/anaconda3/lib/python3.7/site-packages/xgboost/core.py:587: FutureWarning: Series.base is deprecated and will be removed in a future version\n",
      "  if getattr(data, 'base', None) is not None and \\\n"
     ]
    },
    {
     "name": "stdout",
     "output_type": "stream",
     "text": [
      "DP04_0105PE\n",
      "[11:49:27] WARNING: src/objective/regression_obj.cu:152: reg:linear is now deprecated in favor of reg:squarederror.\n"
     ]
    },
    {
     "name": "stderr",
     "output_type": "stream",
     "text": [
      "/Users/kmiyaki/anaconda3/lib/python3.7/site-packages/xgboost/core.py:587: FutureWarning: Series.base is deprecated and will be removed in a future version\n",
      "  if getattr(data, 'base', None) is not None and \\\n"
     ]
    },
    {
     "name": "stdout",
     "output_type": "stream",
     "text": [
      "DP04_0106PE\n",
      "[11:49:33] WARNING: src/objective/regression_obj.cu:152: reg:linear is now deprecated in favor of reg:squarederror.\n"
     ]
    },
    {
     "name": "stderr",
     "output_type": "stream",
     "text": [
      "/Users/kmiyaki/anaconda3/lib/python3.7/site-packages/xgboost/core.py:587: FutureWarning: Series.base is deprecated and will be removed in a future version\n",
      "  if getattr(data, 'base', None) is not None and \\\n"
     ]
    },
    {
     "name": "stdout",
     "output_type": "stream",
     "text": [
      "DP04_0109PE\n",
      "[11:49:37] WARNING: src/objective/regression_obj.cu:152: reg:linear is now deprecated in favor of reg:squarederror.\n"
     ]
    },
    {
     "name": "stderr",
     "output_type": "stream",
     "text": [
      "/Users/kmiyaki/anaconda3/lib/python3.7/site-packages/xgboost/core.py:587: FutureWarning: Series.base is deprecated and will be removed in a future version\n",
      "  if getattr(data, 'base', None) is not None and \\\n"
     ]
    },
    {
     "name": "stdout",
     "output_type": "stream",
     "text": [
      "DP04_0110PE\n",
      "[11:49:42] WARNING: src/objective/regression_obj.cu:152: reg:linear is now deprecated in favor of reg:squarederror.\n"
     ]
    },
    {
     "name": "stderr",
     "output_type": "stream",
     "text": [
      "/Users/kmiyaki/anaconda3/lib/python3.7/site-packages/xgboost/core.py:587: FutureWarning: Series.base is deprecated and will be removed in a future version\n",
      "  if getattr(data, 'base', None) is not None and \\\n"
     ]
    },
    {
     "name": "stdout",
     "output_type": "stream",
     "text": [
      "DP04_0111PE\n",
      "[11:49:46] WARNING: src/objective/regression_obj.cu:152: reg:linear is now deprecated in favor of reg:squarederror.\n"
     ]
    },
    {
     "name": "stderr",
     "output_type": "stream",
     "text": [
      "/Users/kmiyaki/anaconda3/lib/python3.7/site-packages/xgboost/core.py:587: FutureWarning: Series.base is deprecated and will be removed in a future version\n",
      "  if getattr(data, 'base', None) is not None and \\\n"
     ]
    },
    {
     "name": "stdout",
     "output_type": "stream",
     "text": [
      "DP04_0112PE\n",
      "[11:49:51] WARNING: src/objective/regression_obj.cu:152: reg:linear is now deprecated in favor of reg:squarederror.\n"
     ]
    },
    {
     "name": "stderr",
     "output_type": "stream",
     "text": [
      "/Users/kmiyaki/anaconda3/lib/python3.7/site-packages/xgboost/core.py:587: FutureWarning: Series.base is deprecated and will be removed in a future version\n",
      "  if getattr(data, 'base', None) is not None and \\\n"
     ]
    },
    {
     "name": "stdout",
     "output_type": "stream",
     "text": [
      "DP04_0113PE\n",
      "[11:49:55] WARNING: src/objective/regression_obj.cu:152: reg:linear is now deprecated in favor of reg:squarederror.\n"
     ]
    },
    {
     "name": "stderr",
     "output_type": "stream",
     "text": [
      "/Users/kmiyaki/anaconda3/lib/python3.7/site-packages/xgboost/core.py:587: FutureWarning: Series.base is deprecated and will be removed in a future version\n",
      "  if getattr(data, 'base', None) is not None and \\\n"
     ]
    },
    {
     "name": "stdout",
     "output_type": "stream",
     "text": [
      "DP04_0116PE\n",
      "[11:50:00] WARNING: src/objective/regression_obj.cu:152: reg:linear is now deprecated in favor of reg:squarederror.\n"
     ]
    },
    {
     "name": "stderr",
     "output_type": "stream",
     "text": [
      "/Users/kmiyaki/anaconda3/lib/python3.7/site-packages/xgboost/core.py:587: FutureWarning: Series.base is deprecated and will be removed in a future version\n",
      "  if getattr(data, 'base', None) is not None and \\\n"
     ]
    },
    {
     "name": "stdout",
     "output_type": "stream",
     "text": [
      "DP04_0117PE\n",
      "[11:50:05] WARNING: src/objective/regression_obj.cu:152: reg:linear is now deprecated in favor of reg:squarederror.\n"
     ]
    },
    {
     "name": "stderr",
     "output_type": "stream",
     "text": [
      "/Users/kmiyaki/anaconda3/lib/python3.7/site-packages/xgboost/core.py:587: FutureWarning: Series.base is deprecated and will be removed in a future version\n",
      "  if getattr(data, 'base', None) is not None and \\\n"
     ]
    },
    {
     "name": "stdout",
     "output_type": "stream",
     "text": [
      "DP04_0118PE\n",
      "[11:50:10] WARNING: src/objective/regression_obj.cu:152: reg:linear is now deprecated in favor of reg:squarederror.\n"
     ]
    },
    {
     "name": "stderr",
     "output_type": "stream",
     "text": [
      "/Users/kmiyaki/anaconda3/lib/python3.7/site-packages/xgboost/core.py:587: FutureWarning: Series.base is deprecated and will be removed in a future version\n",
      "  if getattr(data, 'base', None) is not None and \\\n"
     ]
    },
    {
     "name": "stdout",
     "output_type": "stream",
     "text": [
      "DP04_0119PE\n",
      "[11:50:15] WARNING: src/objective/regression_obj.cu:152: reg:linear is now deprecated in favor of reg:squarederror.\n"
     ]
    },
    {
     "name": "stderr",
     "output_type": "stream",
     "text": [
      "/Users/kmiyaki/anaconda3/lib/python3.7/site-packages/xgboost/core.py:587: FutureWarning: Series.base is deprecated and will be removed in a future version\n",
      "  if getattr(data, 'base', None) is not None and \\\n"
     ]
    },
    {
     "name": "stdout",
     "output_type": "stream",
     "text": [
      "DP04_0120PE\n",
      "[11:50:20] WARNING: src/objective/regression_obj.cu:152: reg:linear is now deprecated in favor of reg:squarederror.\n"
     ]
    },
    {
     "name": "stderr",
     "output_type": "stream",
     "text": [
      "/Users/kmiyaki/anaconda3/lib/python3.7/site-packages/xgboost/core.py:587: FutureWarning: Series.base is deprecated and will be removed in a future version\n",
      "  if getattr(data, 'base', None) is not None and \\\n"
     ]
    },
    {
     "name": "stdout",
     "output_type": "stream",
     "text": [
      "DP04_0121PE\n",
      "[11:50:24] WARNING: src/objective/regression_obj.cu:152: reg:linear is now deprecated in favor of reg:squarederror.\n"
     ]
    },
    {
     "name": "stderr",
     "output_type": "stream",
     "text": [
      "/Users/kmiyaki/anaconda3/lib/python3.7/site-packages/xgboost/core.py:587: FutureWarning: Series.base is deprecated and will be removed in a future version\n",
      "  if getattr(data, 'base', None) is not None and \\\n"
     ]
    },
    {
     "name": "stdout",
     "output_type": "stream",
     "text": [
      "DP04_0122PE\n",
      "2013 average test score:  0.4509275775442236\n"
     ]
    },
    {
     "name": "stderr",
     "output_type": "stream",
     "text": [
      "/Users/kmiyaki/anaconda3/lib/python3.7/site-packages/xgboost/core.py:587: FutureWarning: Series.base is deprecated and will be removed in a future version\n",
      "  if getattr(data, 'base', None) is not None and \\\n"
     ]
    },
    {
     "name": "stdout",
     "output_type": "stream",
     "text": [
      "[11:50:36] WARNING: src/objective/regression_obj.cu:152: reg:linear is now deprecated in favor of reg:squarederror.\n",
      "DP02_0036PE\n",
      "[11:50:41] WARNING: src/objective/regression_obj.cu:152: reg:linear is now deprecated in favor of reg:squarederror.\n"
     ]
    },
    {
     "name": "stderr",
     "output_type": "stream",
     "text": [
      "/Users/kmiyaki/anaconda3/lib/python3.7/site-packages/xgboost/core.py:587: FutureWarning: Series.base is deprecated and will be removed in a future version\n",
      "  if getattr(data, 'base', None) is not None and \\\n"
     ]
    },
    {
     "name": "stdout",
     "output_type": "stream",
     "text": [
      "DP02_0037PE\n",
      "[11:50:46] WARNING: src/objective/regression_obj.cu:152: reg:linear is now deprecated in favor of reg:squarederror.\n"
     ]
    },
    {
     "name": "stderr",
     "output_type": "stream",
     "text": [
      "/Users/kmiyaki/anaconda3/lib/python3.7/site-packages/xgboost/core.py:587: FutureWarning: Series.base is deprecated and will be removed in a future version\n",
      "  if getattr(data, 'base', None) is not None and \\\n"
     ]
    },
    {
     "name": "stdout",
     "output_type": "stream",
     "text": [
      "DP02_0044PE\n",
      "[11:50:50] WARNING: src/objective/regression_obj.cu:152: reg:linear is now deprecated in favor of reg:squarederror.\n"
     ]
    },
    {
     "name": "stderr",
     "output_type": "stream",
     "text": [
      "/Users/kmiyaki/anaconda3/lib/python3.7/site-packages/xgboost/core.py:587: FutureWarning: Series.base is deprecated and will be removed in a future version\n",
      "  if getattr(data, 'base', None) is not None and \\\n"
     ]
    },
    {
     "name": "stdout",
     "output_type": "stream",
     "text": [
      "DP02_0045PE\n",
      "[11:50:55] WARNING: src/objective/regression_obj.cu:152: reg:linear is now deprecated in favor of reg:squarederror.\n"
     ]
    },
    {
     "name": "stderr",
     "output_type": "stream",
     "text": [
      "/Users/kmiyaki/anaconda3/lib/python3.7/site-packages/xgboost/core.py:587: FutureWarning: Series.base is deprecated and will be removed in a future version\n",
      "  if getattr(data, 'base', None) is not None and \\\n"
     ]
    },
    {
     "name": "stdout",
     "output_type": "stream",
     "text": [
      "DP02_0046PE\n",
      "[11:51:00] WARNING: src/objective/regression_obj.cu:152: reg:linear is now deprecated in favor of reg:squarederror.\n"
     ]
    },
    {
     "name": "stderr",
     "output_type": "stream",
     "text": [
      "/Users/kmiyaki/anaconda3/lib/python3.7/site-packages/xgboost/core.py:587: FutureWarning: Series.base is deprecated and will be removed in a future version\n",
      "  if getattr(data, 'base', None) is not None and \\\n"
     ]
    },
    {
     "name": "stdout",
     "output_type": "stream",
     "text": [
      "DP02_0047PE\n",
      "[11:51:04] WARNING: src/objective/regression_obj.cu:152: reg:linear is now deprecated in favor of reg:squarederror.\n"
     ]
    },
    {
     "name": "stderr",
     "output_type": "stream",
     "text": [
      "/Users/kmiyaki/anaconda3/lib/python3.7/site-packages/xgboost/core.py:587: FutureWarning: Series.base is deprecated and will be removed in a future version\n",
      "  if getattr(data, 'base', None) is not None and \\\n"
     ]
    },
    {
     "name": "stdout",
     "output_type": "stream",
     "text": [
      "DP02_0048PE\n",
      "[11:51:09] WARNING: src/objective/regression_obj.cu:152: reg:linear is now deprecated in favor of reg:squarederror.\n"
     ]
    },
    {
     "name": "stderr",
     "output_type": "stream",
     "text": [
      "/Users/kmiyaki/anaconda3/lib/python3.7/site-packages/xgboost/core.py:587: FutureWarning: Series.base is deprecated and will be removed in a future version\n",
      "  if getattr(data, 'base', None) is not None and \\\n"
     ]
    },
    {
     "name": "stdout",
     "output_type": "stream",
     "text": [
      "DP02_0050PE\n",
      "[11:51:14] WARNING: src/objective/regression_obj.cu:152: reg:linear is now deprecated in favor of reg:squarederror.\n"
     ]
    },
    {
     "name": "stderr",
     "output_type": "stream",
     "text": [
      "/Users/kmiyaki/anaconda3/lib/python3.7/site-packages/xgboost/core.py:587: FutureWarning: Series.base is deprecated and will be removed in a future version\n",
      "  if getattr(data, 'base', None) is not None and \\\n"
     ]
    },
    {
     "name": "stdout",
     "output_type": "stream",
     "text": [
      "DP02_0051PE\n",
      "[11:51:18] WARNING: src/objective/regression_obj.cu:152: reg:linear is now deprecated in favor of reg:squarederror.\n"
     ]
    },
    {
     "name": "stderr",
     "output_type": "stream",
     "text": [
      "/Users/kmiyaki/anaconda3/lib/python3.7/site-packages/xgboost/core.py:587: FutureWarning: Series.base is deprecated and will be removed in a future version\n",
      "  if getattr(data, 'base', None) is not None and \\\n"
     ]
    },
    {
     "name": "stdout",
     "output_type": "stream",
     "text": [
      "DP02_0094PE\n",
      "[11:51:23] WARNING: src/objective/regression_obj.cu:152: reg:linear is now deprecated in favor of reg:squarederror.\n"
     ]
    },
    {
     "name": "stderr",
     "output_type": "stream",
     "text": [
      "/Users/kmiyaki/anaconda3/lib/python3.7/site-packages/xgboost/core.py:587: FutureWarning: Series.base is deprecated and will be removed in a future version\n",
      "  if getattr(data, 'base', None) is not None and \\\n"
     ]
    },
    {
     "name": "stdout",
     "output_type": "stream",
     "text": [
      "DP02_0095PE\n",
      "[11:51:29] WARNING: src/objective/regression_obj.cu:152: reg:linear is now deprecated in favor of reg:squarederror.\n"
     ]
    },
    {
     "name": "stderr",
     "output_type": "stream",
     "text": [
      "/Users/kmiyaki/anaconda3/lib/python3.7/site-packages/xgboost/core.py:587: FutureWarning: Series.base is deprecated and will be removed in a future version\n",
      "  if getattr(data, 'base', None) is not None and \\\n"
     ]
    },
    {
     "name": "stdout",
     "output_type": "stream",
     "text": [
      "DP02_0098PE\n",
      "[11:51:34] WARNING: src/objective/regression_obj.cu:152: reg:linear is now deprecated in favor of reg:squarederror.\n"
     ]
    },
    {
     "name": "stderr",
     "output_type": "stream",
     "text": [
      "/Users/kmiyaki/anaconda3/lib/python3.7/site-packages/xgboost/core.py:587: FutureWarning: Series.base is deprecated and will be removed in a future version\n",
      "  if getattr(data, 'base', None) is not None and \\\n"
     ]
    },
    {
     "name": "stdout",
     "output_type": "stream",
     "text": [
      "DP02_0099PE\n",
      "[11:51:40] WARNING: src/objective/regression_obj.cu:152: reg:linear is now deprecated in favor of reg:squarederror.\n"
     ]
    },
    {
     "name": "stderr",
     "output_type": "stream",
     "text": [
      "/Users/kmiyaki/anaconda3/lib/python3.7/site-packages/xgboost/core.py:587: FutureWarning: Series.base is deprecated and will be removed in a future version\n",
      "  if getattr(data, 'base', None) is not None and \\\n"
     ]
    },
    {
     "name": "stdout",
     "output_type": "stream",
     "text": [
      "DP02_0101PE\n",
      "[11:51:44] WARNING: src/objective/regression_obj.cu:152: reg:linear is now deprecated in favor of reg:squarederror.\n"
     ]
    },
    {
     "name": "stderr",
     "output_type": "stream",
     "text": [
      "/Users/kmiyaki/anaconda3/lib/python3.7/site-packages/xgboost/core.py:587: FutureWarning: Series.base is deprecated and will be removed in a future version\n",
      "  if getattr(data, 'base', None) is not None and \\\n"
     ]
    },
    {
     "name": "stdout",
     "output_type": "stream",
     "text": [
      "DP02_0102PE\n",
      "[11:51:49] WARNING: src/objective/regression_obj.cu:152: reg:linear is now deprecated in favor of reg:squarederror.\n"
     ]
    },
    {
     "name": "stderr",
     "output_type": "stream",
     "text": [
      "/Users/kmiyaki/anaconda3/lib/python3.7/site-packages/xgboost/core.py:587: FutureWarning: Series.base is deprecated and will be removed in a future version\n",
      "  if getattr(data, 'base', None) is not None and \\\n"
     ]
    },
    {
     "name": "stdout",
     "output_type": "stream",
     "text": [
      "DP02_0104PE\n",
      "[11:51:55] WARNING: src/objective/regression_obj.cu:152: reg:linear is now deprecated in favor of reg:squarederror.\n"
     ]
    },
    {
     "name": "stderr",
     "output_type": "stream",
     "text": [
      "/Users/kmiyaki/anaconda3/lib/python3.7/site-packages/xgboost/core.py:587: FutureWarning: Series.base is deprecated and will be removed in a future version\n",
      "  if getattr(data, 'base', None) is not None and \\\n"
     ]
    },
    {
     "name": "stdout",
     "output_type": "stream",
     "text": [
      "DP02_0105PE\n",
      "[11:51:59] WARNING: src/objective/regression_obj.cu:152: reg:linear is now deprecated in favor of reg:squarederror.\n"
     ]
    },
    {
     "name": "stderr",
     "output_type": "stream",
     "text": [
      "/Users/kmiyaki/anaconda3/lib/python3.7/site-packages/xgboost/core.py:587: FutureWarning: Series.base is deprecated and will be removed in a future version\n",
      "  if getattr(data, 'base', None) is not None and \\\n"
     ]
    },
    {
     "name": "stdout",
     "output_type": "stream",
     "text": [
      "DP02_0106PE\n",
      "[11:52:04] WARNING: src/objective/regression_obj.cu:152: reg:linear is now deprecated in favor of reg:squarederror.\n"
     ]
    },
    {
     "name": "stderr",
     "output_type": "stream",
     "text": [
      "/Users/kmiyaki/anaconda3/lib/python3.7/site-packages/xgboost/core.py:587: FutureWarning: Series.base is deprecated and will be removed in a future version\n",
      "  if getattr(data, 'base', None) is not None and \\\n"
     ]
    },
    {
     "name": "stdout",
     "output_type": "stream",
     "text": [
      "DP02_0107PE\n",
      "[11:52:09] WARNING: src/objective/regression_obj.cu:152: reg:linear is now deprecated in favor of reg:squarederror.\n"
     ]
    },
    {
     "name": "stderr",
     "output_type": "stream",
     "text": [
      "/Users/kmiyaki/anaconda3/lib/python3.7/site-packages/xgboost/core.py:587: FutureWarning: Series.base is deprecated and will be removed in a future version\n",
      "  if getattr(data, 'base', None) is not None and \\\n"
     ]
    },
    {
     "name": "stdout",
     "output_type": "stream",
     "text": [
      "DP02_0108PE\n",
      "[11:52:14] WARNING: src/objective/regression_obj.cu:152: reg:linear is now deprecated in favor of reg:squarederror.\n"
     ]
    },
    {
     "name": "stderr",
     "output_type": "stream",
     "text": [
      "/Users/kmiyaki/anaconda3/lib/python3.7/site-packages/xgboost/core.py:587: FutureWarning: Series.base is deprecated and will be removed in a future version\n",
      "  if getattr(data, 'base', None) is not None and \\\n"
     ]
    },
    {
     "name": "stdout",
     "output_type": "stream",
     "text": [
      "DP02_0109PE\n",
      "[11:52:19] WARNING: src/objective/regression_obj.cu:152: reg:linear is now deprecated in favor of reg:squarederror.\n"
     ]
    },
    {
     "name": "stderr",
     "output_type": "stream",
     "text": [
      "/Users/kmiyaki/anaconda3/lib/python3.7/site-packages/xgboost/core.py:587: FutureWarning: Series.base is deprecated and will be removed in a future version\n",
      "  if getattr(data, 'base', None) is not None and \\\n"
     ]
    },
    {
     "name": "stdout",
     "output_type": "stream",
     "text": [
      "DP03_0015PE\n",
      "[11:52:24] WARNING: src/objective/regression_obj.cu:152: reg:linear is now deprecated in favor of reg:squarederror.\n"
     ]
    },
    {
     "name": "stderr",
     "output_type": "stream",
     "text": [
      "/Users/kmiyaki/anaconda3/lib/python3.7/site-packages/xgboost/core.py:587: FutureWarning: Series.base is deprecated and will be removed in a future version\n",
      "  if getattr(data, 'base', None) is not None and \\\n"
     ]
    },
    {
     "name": "stdout",
     "output_type": "stream",
     "text": [
      "DP03_0017PE\n",
      "[11:52:29] WARNING: src/objective/regression_obj.cu:152: reg:linear is now deprecated in favor of reg:squarederror.\n"
     ]
    },
    {
     "name": "stderr",
     "output_type": "stream",
     "text": [
      "/Users/kmiyaki/anaconda3/lib/python3.7/site-packages/xgboost/core.py:587: FutureWarning: Series.base is deprecated and will be removed in a future version\n",
      "  if getattr(data, 'base', None) is not None and \\\n"
     ]
    },
    {
     "name": "stdout",
     "output_type": "stream",
     "text": [
      "DP03_0110PE\n",
      "[11:52:34] WARNING: src/objective/regression_obj.cu:152: reg:linear is now deprecated in favor of reg:squarederror.\n"
     ]
    },
    {
     "name": "stderr",
     "output_type": "stream",
     "text": [
      "/Users/kmiyaki/anaconda3/lib/python3.7/site-packages/xgboost/core.py:587: FutureWarning: Series.base is deprecated and will be removed in a future version\n",
      "  if getattr(data, 'base', None) is not None and \\\n"
     ]
    },
    {
     "name": "stdout",
     "output_type": "stream",
     "text": [
      "DP03_0111PE\n",
      "[11:52:39] WARNING: src/objective/regression_obj.cu:152: reg:linear is now deprecated in favor of reg:squarederror.\n"
     ]
    },
    {
     "name": "stderr",
     "output_type": "stream",
     "text": [
      "/Users/kmiyaki/anaconda3/lib/python3.7/site-packages/xgboost/core.py:587: FutureWarning: Series.base is deprecated and will be removed in a future version\n",
      "  if getattr(data, 'base', None) is not None and \\\n"
     ]
    },
    {
     "name": "stdout",
     "output_type": "stream",
     "text": [
      "DP03_0112PE\n",
      "[11:52:43] WARNING: src/objective/regression_obj.cu:152: reg:linear is now deprecated in favor of reg:squarederror.\n"
     ]
    },
    {
     "name": "stderr",
     "output_type": "stream",
     "text": [
      "/Users/kmiyaki/anaconda3/lib/python3.7/site-packages/xgboost/core.py:587: FutureWarning: Series.base is deprecated and will be removed in a future version\n",
      "  if getattr(data, 'base', None) is not None and \\\n"
     ]
    },
    {
     "name": "stdout",
     "output_type": "stream",
     "text": [
      "DP03_0113PE\n",
      "[11:52:48] WARNING: src/objective/regression_obj.cu:152: reg:linear is now deprecated in favor of reg:squarederror.\n"
     ]
    },
    {
     "name": "stderr",
     "output_type": "stream",
     "text": [
      "/Users/kmiyaki/anaconda3/lib/python3.7/site-packages/xgboost/core.py:587: FutureWarning: Series.base is deprecated and will be removed in a future version\n",
      "  if getattr(data, 'base', None) is not None and \\\n"
     ]
    },
    {
     "name": "stdout",
     "output_type": "stream",
     "text": [
      "DP03_0120PE\n",
      "[11:52:53] WARNING: src/objective/regression_obj.cu:152: reg:linear is now deprecated in favor of reg:squarederror.\n"
     ]
    },
    {
     "name": "stderr",
     "output_type": "stream",
     "text": [
      "/Users/kmiyaki/anaconda3/lib/python3.7/site-packages/xgboost/core.py:587: FutureWarning: Series.base is deprecated and will be removed in a future version\n",
      "  if getattr(data, 'base', None) is not None and \\\n"
     ]
    },
    {
     "name": "stdout",
     "output_type": "stream",
     "text": [
      "DP03_0121PE\n",
      "[11:52:58] WARNING: src/objective/regression_obj.cu:152: reg:linear is now deprecated in favor of reg:squarederror.\n"
     ]
    },
    {
     "name": "stderr",
     "output_type": "stream",
     "text": [
      "/Users/kmiyaki/anaconda3/lib/python3.7/site-packages/xgboost/core.py:587: FutureWarning: Series.base is deprecated and will be removed in a future version\n",
      "  if getattr(data, 'base', None) is not None and \\\n"
     ]
    },
    {
     "name": "stdout",
     "output_type": "stream",
     "text": [
      "DP03_0123PE\n",
      "[11:53:03] WARNING: src/objective/regression_obj.cu:152: reg:linear is now deprecated in favor of reg:squarederror.\n"
     ]
    },
    {
     "name": "stderr",
     "output_type": "stream",
     "text": [
      "/Users/kmiyaki/anaconda3/lib/python3.7/site-packages/xgboost/core.py:587: FutureWarning: Series.base is deprecated and will be removed in a future version\n",
      "  if getattr(data, 'base', None) is not None and \\\n"
     ]
    },
    {
     "name": "stdout",
     "output_type": "stream",
     "text": [
      "DP03_0124PE\n",
      "[11:53:08] WARNING: src/objective/regression_obj.cu:152: reg:linear is now deprecated in favor of reg:squarederror.\n"
     ]
    },
    {
     "name": "stderr",
     "output_type": "stream",
     "text": [
      "/Users/kmiyaki/anaconda3/lib/python3.7/site-packages/xgboost/core.py:587: FutureWarning: Series.base is deprecated and will be removed in a future version\n",
      "  if getattr(data, 'base', None) is not None and \\\n"
     ]
    },
    {
     "name": "stdout",
     "output_type": "stream",
     "text": [
      "DP03_0125PE\n",
      "[11:53:13] WARNING: src/objective/regression_obj.cu:152: reg:linear is now deprecated in favor of reg:squarederror.\n"
     ]
    },
    {
     "name": "stderr",
     "output_type": "stream",
     "text": [
      "/Users/kmiyaki/anaconda3/lib/python3.7/site-packages/xgboost/core.py:587: FutureWarning: Series.base is deprecated and will be removed in a future version\n",
      "  if getattr(data, 'base', None) is not None and \\\n"
     ]
    },
    {
     "name": "stdout",
     "output_type": "stream",
     "text": [
      "DP03_0126PE\n",
      "[11:53:18] WARNING: src/objective/regression_obj.cu:152: reg:linear is now deprecated in favor of reg:squarederror.\n"
     ]
    },
    {
     "name": "stderr",
     "output_type": "stream",
     "text": [
      "/Users/kmiyaki/anaconda3/lib/python3.7/site-packages/xgboost/core.py:587: FutureWarning: Series.base is deprecated and will be removed in a future version\n",
      "  if getattr(data, 'base', None) is not None and \\\n"
     ]
    },
    {
     "name": "stdout",
     "output_type": "stream",
     "text": [
      "DP03_0127PE\n",
      "[11:53:23] WARNING: src/objective/regression_obj.cu:152: reg:linear is now deprecated in favor of reg:squarederror.\n"
     ]
    },
    {
     "name": "stderr",
     "output_type": "stream",
     "text": [
      "/Users/kmiyaki/anaconda3/lib/python3.7/site-packages/xgboost/core.py:587: FutureWarning: Series.base is deprecated and will be removed in a future version\n",
      "  if getattr(data, 'base', None) is not None and \\\n"
     ]
    },
    {
     "name": "stdout",
     "output_type": "stream",
     "text": [
      "DP03_0129PE\n",
      "[11:53:28] WARNING: src/objective/regression_obj.cu:152: reg:linear is now deprecated in favor of reg:squarederror.\n"
     ]
    },
    {
     "name": "stderr",
     "output_type": "stream",
     "text": [
      "/Users/kmiyaki/anaconda3/lib/python3.7/site-packages/xgboost/core.py:587: FutureWarning: Series.base is deprecated and will be removed in a future version\n",
      "  if getattr(data, 'base', None) is not None and \\\n"
     ]
    },
    {
     "name": "stdout",
     "output_type": "stream",
     "text": [
      "DP03_0130PE\n",
      "[11:53:33] WARNING: src/objective/regression_obj.cu:152: reg:linear is now deprecated in favor of reg:squarederror.\n"
     ]
    },
    {
     "name": "stderr",
     "output_type": "stream",
     "text": [
      "/Users/kmiyaki/anaconda3/lib/python3.7/site-packages/xgboost/core.py:587: FutureWarning: Series.base is deprecated and will be removed in a future version\n",
      "  if getattr(data, 'base', None) is not None and \\\n"
     ]
    },
    {
     "name": "stdout",
     "output_type": "stream",
     "text": [
      "DP03_0131PE\n",
      "[11:53:38] WARNING: src/objective/regression_obj.cu:152: reg:linear is now deprecated in favor of reg:squarederror.\n"
     ]
    },
    {
     "name": "stderr",
     "output_type": "stream",
     "text": [
      "/Users/kmiyaki/anaconda3/lib/python3.7/site-packages/xgboost/core.py:587: FutureWarning: Series.base is deprecated and will be removed in a future version\n",
      "  if getattr(data, 'base', None) is not None and \\\n"
     ]
    },
    {
     "name": "stdout",
     "output_type": "stream",
     "text": [
      "DP03_0132PE\n",
      "[11:53:43] WARNING: src/objective/regression_obj.cu:152: reg:linear is now deprecated in favor of reg:squarederror.\n"
     ]
    },
    {
     "name": "stderr",
     "output_type": "stream",
     "text": [
      "/Users/kmiyaki/anaconda3/lib/python3.7/site-packages/xgboost/core.py:587: FutureWarning: Series.base is deprecated and will be removed in a future version\n",
      "  if getattr(data, 'base', None) is not None and \\\n"
     ]
    },
    {
     "name": "stdout",
     "output_type": "stream",
     "text": [
      "DP04_0074PE\n",
      "[11:53:48] WARNING: src/objective/regression_obj.cu:152: reg:linear is now deprecated in favor of reg:squarederror.\n"
     ]
    },
    {
     "name": "stderr",
     "output_type": "stream",
     "text": [
      "/Users/kmiyaki/anaconda3/lib/python3.7/site-packages/xgboost/core.py:587: FutureWarning: Series.base is deprecated and will be removed in a future version\n",
      "  if getattr(data, 'base', None) is not None and \\\n"
     ]
    },
    {
     "name": "stdout",
     "output_type": "stream",
     "text": [
      "DP04_0093PE\n",
      "[11:53:53] WARNING: src/objective/regression_obj.cu:152: reg:linear is now deprecated in favor of reg:squarederror.\n"
     ]
    },
    {
     "name": "stderr",
     "output_type": "stream",
     "text": [
      "/Users/kmiyaki/anaconda3/lib/python3.7/site-packages/xgboost/core.py:587: FutureWarning: Series.base is deprecated and will be removed in a future version\n",
      "  if getattr(data, 'base', None) is not None and \\\n"
     ]
    },
    {
     "name": "stdout",
     "output_type": "stream",
     "text": [
      "DP04_0094PE\n",
      "[11:53:57] WARNING: src/objective/regression_obj.cu:152: reg:linear is now deprecated in favor of reg:squarederror.\n"
     ]
    },
    {
     "name": "stderr",
     "output_type": "stream",
     "text": [
      "/Users/kmiyaki/anaconda3/lib/python3.7/site-packages/xgboost/core.py:587: FutureWarning: Series.base is deprecated and will be removed in a future version\n",
      "  if getattr(data, 'base', None) is not None and \\\n"
     ]
    },
    {
     "name": "stdout",
     "output_type": "stream",
     "text": [
      "DP04_0095PE\n",
      "[11:54:02] WARNING: src/objective/regression_obj.cu:152: reg:linear is now deprecated in favor of reg:squarederror.\n"
     ]
    },
    {
     "name": "stderr",
     "output_type": "stream",
     "text": [
      "/Users/kmiyaki/anaconda3/lib/python3.7/site-packages/xgboost/core.py:587: FutureWarning: Series.base is deprecated and will be removed in a future version\n",
      "  if getattr(data, 'base', None) is not None and \\\n"
     ]
    },
    {
     "name": "stdout",
     "output_type": "stream",
     "text": [
      "DP04_0096PE\n",
      "[11:54:07] WARNING: src/objective/regression_obj.cu:152: reg:linear is now deprecated in favor of reg:squarederror.\n"
     ]
    },
    {
     "name": "stderr",
     "output_type": "stream",
     "text": [
      "/Users/kmiyaki/anaconda3/lib/python3.7/site-packages/xgboost/core.py:587: FutureWarning: Series.base is deprecated and will be removed in a future version\n",
      "  if getattr(data, 'base', None) is not None and \\\n"
     ]
    },
    {
     "name": "stdout",
     "output_type": "stream",
     "text": [
      "DP04_0097PE\n",
      "[11:54:12] WARNING: src/objective/regression_obj.cu:152: reg:linear is now deprecated in favor of reg:squarederror.\n"
     ]
    },
    {
     "name": "stderr",
     "output_type": "stream",
     "text": [
      "/Users/kmiyaki/anaconda3/lib/python3.7/site-packages/xgboost/core.py:587: FutureWarning: Series.base is deprecated and will be removed in a future version\n",
      "  if getattr(data, 'base', None) is not None and \\\n"
     ]
    },
    {
     "name": "stdout",
     "output_type": "stream",
     "text": [
      "DP04_0098PE\n",
      "[11:54:16] WARNING: src/objective/regression_obj.cu:152: reg:linear is now deprecated in favor of reg:squarederror.\n"
     ]
    },
    {
     "name": "stderr",
     "output_type": "stream",
     "text": [
      "/Users/kmiyaki/anaconda3/lib/python3.7/site-packages/xgboost/core.py:587: FutureWarning: Series.base is deprecated and will be removed in a future version\n",
      "  if getattr(data, 'base', None) is not None and \\\n"
     ]
    },
    {
     "name": "stdout",
     "output_type": "stream",
     "text": [
      "DP04_0099PE\n",
      "[11:54:21] WARNING: src/objective/regression_obj.cu:152: reg:linear is now deprecated in favor of reg:squarederror.\n"
     ]
    },
    {
     "name": "stderr",
     "output_type": "stream",
     "text": [
      "/Users/kmiyaki/anaconda3/lib/python3.7/site-packages/xgboost/core.py:587: FutureWarning: Series.base is deprecated and will be removed in a future version\n",
      "  if getattr(data, 'base', None) is not None and \\\n"
     ]
    },
    {
     "name": "stdout",
     "output_type": "stream",
     "text": [
      "DP04_0109PE\n",
      "[11:54:26] WARNING: src/objective/regression_obj.cu:152: reg:linear is now deprecated in favor of reg:squarederror.\n"
     ]
    },
    {
     "name": "stderr",
     "output_type": "stream",
     "text": [
      "/Users/kmiyaki/anaconda3/lib/python3.7/site-packages/xgboost/core.py:587: FutureWarning: Series.base is deprecated and will be removed in a future version\n",
      "  if getattr(data, 'base', None) is not None and \\\n"
     ]
    },
    {
     "name": "stdout",
     "output_type": "stream",
     "text": [
      "DP04_0110PE\n",
      "[11:54:31] WARNING: src/objective/regression_obj.cu:152: reg:linear is now deprecated in favor of reg:squarederror.\n"
     ]
    },
    {
     "name": "stderr",
     "output_type": "stream",
     "text": [
      "/Users/kmiyaki/anaconda3/lib/python3.7/site-packages/xgboost/core.py:587: FutureWarning: Series.base is deprecated and will be removed in a future version\n",
      "  if getattr(data, 'base', None) is not None and \\\n"
     ]
    },
    {
     "name": "stdout",
     "output_type": "stream",
     "text": [
      "DP04_0111PE\n",
      "[11:54:36] WARNING: src/objective/regression_obj.cu:152: reg:linear is now deprecated in favor of reg:squarederror.\n"
     ]
    },
    {
     "name": "stderr",
     "output_type": "stream",
     "text": [
      "/Users/kmiyaki/anaconda3/lib/python3.7/site-packages/xgboost/core.py:587: FutureWarning: Series.base is deprecated and will be removed in a future version\n",
      "  if getattr(data, 'base', None) is not None and \\\n"
     ]
    },
    {
     "name": "stdout",
     "output_type": "stream",
     "text": [
      "DP04_0112PE\n",
      "[11:54:40] WARNING: src/objective/regression_obj.cu:152: reg:linear is now deprecated in favor of reg:squarederror.\n"
     ]
    },
    {
     "name": "stderr",
     "output_type": "stream",
     "text": [
      "/Users/kmiyaki/anaconda3/lib/python3.7/site-packages/xgboost/core.py:587: FutureWarning: Series.base is deprecated and will be removed in a future version\n",
      "  if getattr(data, 'base', None) is not None and \\\n"
     ]
    },
    {
     "name": "stdout",
     "output_type": "stream",
     "text": [
      "DP04_0113PE\n",
      "2014 average test score:  0.41564607674183024\n"
     ]
    },
    {
     "name": "stderr",
     "output_type": "stream",
     "text": [
      "/Users/kmiyaki/anaconda3/lib/python3.7/site-packages/xgboost/core.py:587: FutureWarning: Series.base is deprecated and will be removed in a future version\n",
      "  if getattr(data, 'base', None) is not None and \\\n"
     ]
    },
    {
     "name": "stdout",
     "output_type": "stream",
     "text": [
      "[11:54:51] WARNING: src/objective/regression_obj.cu:152: reg:linear is now deprecated in favor of reg:squarederror.\n",
      "DP02_0036PE\n",
      "[11:54:56] WARNING: src/objective/regression_obj.cu:152: reg:linear is now deprecated in favor of reg:squarederror.\n"
     ]
    },
    {
     "name": "stderr",
     "output_type": "stream",
     "text": [
      "/Users/kmiyaki/anaconda3/lib/python3.7/site-packages/xgboost/core.py:587: FutureWarning: Series.base is deprecated and will be removed in a future version\n",
      "  if getattr(data, 'base', None) is not None and \\\n"
     ]
    },
    {
     "name": "stdout",
     "output_type": "stream",
     "text": [
      "DP02_0037PE\n",
      "[11:55:01] WARNING: src/objective/regression_obj.cu:152: reg:linear is now deprecated in favor of reg:squarederror.\n"
     ]
    },
    {
     "name": "stderr",
     "output_type": "stream",
     "text": [
      "/Users/kmiyaki/anaconda3/lib/python3.7/site-packages/xgboost/core.py:587: FutureWarning: Series.base is deprecated and will be removed in a future version\n",
      "  if getattr(data, 'base', None) is not None and \\\n"
     ]
    },
    {
     "name": "stdout",
     "output_type": "stream",
     "text": [
      "DP02_0044PE\n",
      "[11:55:06] WARNING: src/objective/regression_obj.cu:152: reg:linear is now deprecated in favor of reg:squarederror.\n"
     ]
    },
    {
     "name": "stderr",
     "output_type": "stream",
     "text": [
      "/Users/kmiyaki/anaconda3/lib/python3.7/site-packages/xgboost/core.py:587: FutureWarning: Series.base is deprecated and will be removed in a future version\n",
      "  if getattr(data, 'base', None) is not None and \\\n"
     ]
    },
    {
     "name": "stdout",
     "output_type": "stream",
     "text": [
      "DP02_0045PE\n",
      "[11:55:11] WARNING: src/objective/regression_obj.cu:152: reg:linear is now deprecated in favor of reg:squarederror.\n"
     ]
    },
    {
     "name": "stderr",
     "output_type": "stream",
     "text": [
      "/Users/kmiyaki/anaconda3/lib/python3.7/site-packages/xgboost/core.py:587: FutureWarning: Series.base is deprecated and will be removed in a future version\n",
      "  if getattr(data, 'base', None) is not None and \\\n"
     ]
    },
    {
     "name": "stdout",
     "output_type": "stream",
     "text": [
      "DP02_0046PE\n",
      "[11:55:16] WARNING: src/objective/regression_obj.cu:152: reg:linear is now deprecated in favor of reg:squarederror.\n"
     ]
    },
    {
     "name": "stderr",
     "output_type": "stream",
     "text": [
      "/Users/kmiyaki/anaconda3/lib/python3.7/site-packages/xgboost/core.py:587: FutureWarning: Series.base is deprecated and will be removed in a future version\n",
      "  if getattr(data, 'base', None) is not None and \\\n"
     ]
    },
    {
     "name": "stdout",
     "output_type": "stream",
     "text": [
      "DP02_0047PE\n",
      "[11:55:21] WARNING: src/objective/regression_obj.cu:152: reg:linear is now deprecated in favor of reg:squarederror.\n"
     ]
    },
    {
     "name": "stderr",
     "output_type": "stream",
     "text": [
      "/Users/kmiyaki/anaconda3/lib/python3.7/site-packages/xgboost/core.py:587: FutureWarning: Series.base is deprecated and will be removed in a future version\n",
      "  if getattr(data, 'base', None) is not None and \\\n"
     ]
    },
    {
     "name": "stdout",
     "output_type": "stream",
     "text": [
      "DP02_0048PE\n",
      "[11:55:25] WARNING: src/objective/regression_obj.cu:152: reg:linear is now deprecated in favor of reg:squarederror.\n"
     ]
    },
    {
     "name": "stderr",
     "output_type": "stream",
     "text": [
      "/Users/kmiyaki/anaconda3/lib/python3.7/site-packages/xgboost/core.py:587: FutureWarning: Series.base is deprecated and will be removed in a future version\n",
      "  if getattr(data, 'base', None) is not None and \\\n"
     ]
    },
    {
     "name": "stdout",
     "output_type": "stream",
     "text": [
      "DP02_0050PE\n",
      "[11:55:30] WARNING: src/objective/regression_obj.cu:152: reg:linear is now deprecated in favor of reg:squarederror.\n"
     ]
    },
    {
     "name": "stderr",
     "output_type": "stream",
     "text": [
      "/Users/kmiyaki/anaconda3/lib/python3.7/site-packages/xgboost/core.py:587: FutureWarning: Series.base is deprecated and will be removed in a future version\n",
      "  if getattr(data, 'base', None) is not None and \\\n"
     ]
    },
    {
     "name": "stdout",
     "output_type": "stream",
     "text": [
      "DP02_0051PE\n",
      "[11:55:35] WARNING: src/objective/regression_obj.cu:152: reg:linear is now deprecated in favor of reg:squarederror.\n"
     ]
    },
    {
     "name": "stderr",
     "output_type": "stream",
     "text": [
      "/Users/kmiyaki/anaconda3/lib/python3.7/site-packages/xgboost/core.py:587: FutureWarning: Series.base is deprecated and will be removed in a future version\n",
      "  if getattr(data, 'base', None) is not None and \\\n"
     ]
    },
    {
     "name": "stdout",
     "output_type": "stream",
     "text": [
      "DP02_0094PE\n",
      "[11:55:40] WARNING: src/objective/regression_obj.cu:152: reg:linear is now deprecated in favor of reg:squarederror.\n"
     ]
    },
    {
     "name": "stderr",
     "output_type": "stream",
     "text": [
      "/Users/kmiyaki/anaconda3/lib/python3.7/site-packages/xgboost/core.py:587: FutureWarning: Series.base is deprecated and will be removed in a future version\n",
      "  if getattr(data, 'base', None) is not None and \\\n"
     ]
    },
    {
     "name": "stdout",
     "output_type": "stream",
     "text": [
      "DP02_0095PE\n",
      "[11:55:45] WARNING: src/objective/regression_obj.cu:152: reg:linear is now deprecated in favor of reg:squarederror.\n"
     ]
    },
    {
     "name": "stderr",
     "output_type": "stream",
     "text": [
      "/Users/kmiyaki/anaconda3/lib/python3.7/site-packages/xgboost/core.py:587: FutureWarning: Series.base is deprecated and will be removed in a future version\n",
      "  if getattr(data, 'base', None) is not None and \\\n"
     ]
    },
    {
     "name": "stdout",
     "output_type": "stream",
     "text": [
      "DP02_0098PE\n",
      "[11:55:49] WARNING: src/objective/regression_obj.cu:152: reg:linear is now deprecated in favor of reg:squarederror.\n"
     ]
    },
    {
     "name": "stderr",
     "output_type": "stream",
     "text": [
      "/Users/kmiyaki/anaconda3/lib/python3.7/site-packages/xgboost/core.py:587: FutureWarning: Series.base is deprecated and will be removed in a future version\n",
      "  if getattr(data, 'base', None) is not None and \\\n"
     ]
    },
    {
     "name": "stdout",
     "output_type": "stream",
     "text": [
      "DP02_0099PE\n",
      "[11:55:54] WARNING: src/objective/regression_obj.cu:152: reg:linear is now deprecated in favor of reg:squarederror.\n"
     ]
    },
    {
     "name": "stderr",
     "output_type": "stream",
     "text": [
      "/Users/kmiyaki/anaconda3/lib/python3.7/site-packages/xgboost/core.py:587: FutureWarning: Series.base is deprecated and will be removed in a future version\n",
      "  if getattr(data, 'base', None) is not None and \\\n"
     ]
    },
    {
     "name": "stdout",
     "output_type": "stream",
     "text": [
      "DP02_0101PE\n",
      "[11:56:00] WARNING: src/objective/regression_obj.cu:152: reg:linear is now deprecated in favor of reg:squarederror.\n"
     ]
    },
    {
     "name": "stderr",
     "output_type": "stream",
     "text": [
      "/Users/kmiyaki/anaconda3/lib/python3.7/site-packages/xgboost/core.py:587: FutureWarning: Series.base is deprecated and will be removed in a future version\n",
      "  if getattr(data, 'base', None) is not None and \\\n"
     ]
    },
    {
     "name": "stdout",
     "output_type": "stream",
     "text": [
      "DP02_0102PE\n",
      "[11:56:05] WARNING: src/objective/regression_obj.cu:152: reg:linear is now deprecated in favor of reg:squarederror.\n"
     ]
    },
    {
     "name": "stderr",
     "output_type": "stream",
     "text": [
      "/Users/kmiyaki/anaconda3/lib/python3.7/site-packages/xgboost/core.py:587: FutureWarning: Series.base is deprecated and will be removed in a future version\n",
      "  if getattr(data, 'base', None) is not None and \\\n"
     ]
    },
    {
     "name": "stdout",
     "output_type": "stream",
     "text": [
      "DP02_0104PE\n",
      "[11:56:10] WARNING: src/objective/regression_obj.cu:152: reg:linear is now deprecated in favor of reg:squarederror.\n"
     ]
    },
    {
     "name": "stderr",
     "output_type": "stream",
     "text": [
      "/Users/kmiyaki/anaconda3/lib/python3.7/site-packages/xgboost/core.py:587: FutureWarning: Series.base is deprecated and will be removed in a future version\n",
      "  if getattr(data, 'base', None) is not None and \\\n"
     ]
    },
    {
     "name": "stdout",
     "output_type": "stream",
     "text": [
      "DP02_0105PE\n",
      "[11:56:16] WARNING: src/objective/regression_obj.cu:152: reg:linear is now deprecated in favor of reg:squarederror.\n"
     ]
    },
    {
     "name": "stderr",
     "output_type": "stream",
     "text": [
      "/Users/kmiyaki/anaconda3/lib/python3.7/site-packages/xgboost/core.py:587: FutureWarning: Series.base is deprecated and will be removed in a future version\n",
      "  if getattr(data, 'base', None) is not None and \\\n"
     ]
    },
    {
     "name": "stdout",
     "output_type": "stream",
     "text": [
      "DP02_0106PE\n",
      "[11:56:21] WARNING: src/objective/regression_obj.cu:152: reg:linear is now deprecated in favor of reg:squarederror.\n"
     ]
    },
    {
     "name": "stderr",
     "output_type": "stream",
     "text": [
      "/Users/kmiyaki/anaconda3/lib/python3.7/site-packages/xgboost/core.py:587: FutureWarning: Series.base is deprecated and will be removed in a future version\n",
      "  if getattr(data, 'base', None) is not None and \\\n"
     ]
    },
    {
     "name": "stdout",
     "output_type": "stream",
     "text": [
      "DP02_0107PE\n",
      "[11:56:25] WARNING: src/objective/regression_obj.cu:152: reg:linear is now deprecated in favor of reg:squarederror.\n"
     ]
    },
    {
     "name": "stderr",
     "output_type": "stream",
     "text": [
      "/Users/kmiyaki/anaconda3/lib/python3.7/site-packages/xgboost/core.py:587: FutureWarning: Series.base is deprecated and will be removed in a future version\n",
      "  if getattr(data, 'base', None) is not None and \\\n"
     ]
    },
    {
     "name": "stdout",
     "output_type": "stream",
     "text": [
      "DP02_0108PE\n",
      "[11:56:31] WARNING: src/objective/regression_obj.cu:152: reg:linear is now deprecated in favor of reg:squarederror.\n"
     ]
    },
    {
     "name": "stderr",
     "output_type": "stream",
     "text": [
      "/Users/kmiyaki/anaconda3/lib/python3.7/site-packages/xgboost/core.py:587: FutureWarning: Series.base is deprecated and will be removed in a future version\n",
      "  if getattr(data, 'base', None) is not None and \\\n"
     ]
    },
    {
     "name": "stdout",
     "output_type": "stream",
     "text": [
      "DP02_0109PE\n",
      "[11:56:36] WARNING: src/objective/regression_obj.cu:152: reg:linear is now deprecated in favor of reg:squarederror.\n"
     ]
    },
    {
     "name": "stderr",
     "output_type": "stream",
     "text": [
      "/Users/kmiyaki/anaconda3/lib/python3.7/site-packages/xgboost/core.py:587: FutureWarning: Series.base is deprecated and will be removed in a future version\n",
      "  if getattr(data, 'base', None) is not None and \\\n"
     ]
    },
    {
     "name": "stdout",
     "output_type": "stream",
     "text": [
      "DP03_0015PE\n",
      "[11:56:41] WARNING: src/objective/regression_obj.cu:152: reg:linear is now deprecated in favor of reg:squarederror.\n"
     ]
    },
    {
     "name": "stderr",
     "output_type": "stream",
     "text": [
      "/Users/kmiyaki/anaconda3/lib/python3.7/site-packages/xgboost/core.py:587: FutureWarning: Series.base is deprecated and will be removed in a future version\n",
      "  if getattr(data, 'base', None) is not None and \\\n"
     ]
    },
    {
     "name": "stdout",
     "output_type": "stream",
     "text": [
      "DP03_0017PE\n",
      "[11:56:46] WARNING: src/objective/regression_obj.cu:152: reg:linear is now deprecated in favor of reg:squarederror.\n"
     ]
    },
    {
     "name": "stderr",
     "output_type": "stream",
     "text": [
      "/Users/kmiyaki/anaconda3/lib/python3.7/site-packages/xgboost/core.py:587: FutureWarning: Series.base is deprecated and will be removed in a future version\n",
      "  if getattr(data, 'base', None) is not None and \\\n"
     ]
    },
    {
     "name": "stdout",
     "output_type": "stream",
     "text": [
      "DP03_0110PE\n",
      "[11:56:51] WARNING: src/objective/regression_obj.cu:152: reg:linear is now deprecated in favor of reg:squarederror.\n"
     ]
    },
    {
     "name": "stderr",
     "output_type": "stream",
     "text": [
      "/Users/kmiyaki/anaconda3/lib/python3.7/site-packages/xgboost/core.py:587: FutureWarning: Series.base is deprecated and will be removed in a future version\n",
      "  if getattr(data, 'base', None) is not None and \\\n"
     ]
    },
    {
     "name": "stdout",
     "output_type": "stream",
     "text": [
      "DP03_0111PE\n",
      "[11:56:56] WARNING: src/objective/regression_obj.cu:152: reg:linear is now deprecated in favor of reg:squarederror.\n"
     ]
    },
    {
     "name": "stderr",
     "output_type": "stream",
     "text": [
      "/Users/kmiyaki/anaconda3/lib/python3.7/site-packages/xgboost/core.py:587: FutureWarning: Series.base is deprecated and will be removed in a future version\n",
      "  if getattr(data, 'base', None) is not None and \\\n"
     ]
    },
    {
     "name": "stdout",
     "output_type": "stream",
     "text": [
      "DP03_0112PE\n",
      "[11:57:00] WARNING: src/objective/regression_obj.cu:152: reg:linear is now deprecated in favor of reg:squarederror.\n"
     ]
    },
    {
     "name": "stderr",
     "output_type": "stream",
     "text": [
      "/Users/kmiyaki/anaconda3/lib/python3.7/site-packages/xgboost/core.py:587: FutureWarning: Series.base is deprecated and will be removed in a future version\n",
      "  if getattr(data, 'base', None) is not None and \\\n"
     ]
    },
    {
     "name": "stdout",
     "output_type": "stream",
     "text": [
      "DP03_0113PE\n",
      "[11:57:05] WARNING: src/objective/regression_obj.cu:152: reg:linear is now deprecated in favor of reg:squarederror.\n"
     ]
    },
    {
     "name": "stderr",
     "output_type": "stream",
     "text": [
      "/Users/kmiyaki/anaconda3/lib/python3.7/site-packages/xgboost/core.py:587: FutureWarning: Series.base is deprecated and will be removed in a future version\n",
      "  if getattr(data, 'base', None) is not None and \\\n"
     ]
    },
    {
     "name": "stdout",
     "output_type": "stream",
     "text": [
      "DP03_0120PE\n",
      "[11:57:10] WARNING: src/objective/regression_obj.cu:152: reg:linear is now deprecated in favor of reg:squarederror.\n"
     ]
    },
    {
     "name": "stderr",
     "output_type": "stream",
     "text": [
      "/Users/kmiyaki/anaconda3/lib/python3.7/site-packages/xgboost/core.py:587: FutureWarning: Series.base is deprecated and will be removed in a future version\n",
      "  if getattr(data, 'base', None) is not None and \\\n"
     ]
    },
    {
     "name": "stdout",
     "output_type": "stream",
     "text": [
      "DP03_0121PE\n",
      "[11:57:15] WARNING: src/objective/regression_obj.cu:152: reg:linear is now deprecated in favor of reg:squarederror.\n"
     ]
    },
    {
     "name": "stderr",
     "output_type": "stream",
     "text": [
      "/Users/kmiyaki/anaconda3/lib/python3.7/site-packages/xgboost/core.py:587: FutureWarning: Series.base is deprecated and will be removed in a future version\n",
      "  if getattr(data, 'base', None) is not None and \\\n"
     ]
    },
    {
     "name": "stdout",
     "output_type": "stream",
     "text": [
      "DP03_0123PE\n",
      "[11:57:20] WARNING: src/objective/regression_obj.cu:152: reg:linear is now deprecated in favor of reg:squarederror.\n"
     ]
    },
    {
     "name": "stderr",
     "output_type": "stream",
     "text": [
      "/Users/kmiyaki/anaconda3/lib/python3.7/site-packages/xgboost/core.py:587: FutureWarning: Series.base is deprecated and will be removed in a future version\n",
      "  if getattr(data, 'base', None) is not None and \\\n"
     ]
    },
    {
     "name": "stdout",
     "output_type": "stream",
     "text": [
      "DP03_0124PE\n",
      "[11:57:24] WARNING: src/objective/regression_obj.cu:152: reg:linear is now deprecated in favor of reg:squarederror.\n"
     ]
    },
    {
     "name": "stderr",
     "output_type": "stream",
     "text": [
      "/Users/kmiyaki/anaconda3/lib/python3.7/site-packages/xgboost/core.py:587: FutureWarning: Series.base is deprecated and will be removed in a future version\n",
      "  if getattr(data, 'base', None) is not None and \\\n"
     ]
    },
    {
     "name": "stdout",
     "output_type": "stream",
     "text": [
      "DP03_0125PE\n",
      "[11:57:29] WARNING: src/objective/regression_obj.cu:152: reg:linear is now deprecated in favor of reg:squarederror.\n"
     ]
    },
    {
     "name": "stderr",
     "output_type": "stream",
     "text": [
      "/Users/kmiyaki/anaconda3/lib/python3.7/site-packages/xgboost/core.py:587: FutureWarning: Series.base is deprecated and will be removed in a future version\n",
      "  if getattr(data, 'base', None) is not None and \\\n"
     ]
    },
    {
     "name": "stdout",
     "output_type": "stream",
     "text": [
      "DP03_0126PE\n",
      "[11:57:34] WARNING: src/objective/regression_obj.cu:152: reg:linear is now deprecated in favor of reg:squarederror.\n"
     ]
    },
    {
     "name": "stderr",
     "output_type": "stream",
     "text": [
      "/Users/kmiyaki/anaconda3/lib/python3.7/site-packages/xgboost/core.py:587: FutureWarning: Series.base is deprecated and will be removed in a future version\n",
      "  if getattr(data, 'base', None) is not None and \\\n"
     ]
    },
    {
     "name": "stdout",
     "output_type": "stream",
     "text": [
      "DP03_0127PE\n",
      "[11:57:39] WARNING: src/objective/regression_obj.cu:152: reg:linear is now deprecated in favor of reg:squarederror.\n"
     ]
    },
    {
     "name": "stderr",
     "output_type": "stream",
     "text": [
      "/Users/kmiyaki/anaconda3/lib/python3.7/site-packages/xgboost/core.py:587: FutureWarning: Series.base is deprecated and will be removed in a future version\n",
      "  if getattr(data, 'base', None) is not None and \\\n"
     ]
    },
    {
     "name": "stdout",
     "output_type": "stream",
     "text": [
      "DP03_0129PE\n",
      "[11:57:44] WARNING: src/objective/regression_obj.cu:152: reg:linear is now deprecated in favor of reg:squarederror.\n"
     ]
    },
    {
     "name": "stderr",
     "output_type": "stream",
     "text": [
      "/Users/kmiyaki/anaconda3/lib/python3.7/site-packages/xgboost/core.py:587: FutureWarning: Series.base is deprecated and will be removed in a future version\n",
      "  if getattr(data, 'base', None) is not None and \\\n"
     ]
    },
    {
     "name": "stdout",
     "output_type": "stream",
     "text": [
      "DP03_0130PE\n",
      "[11:57:49] WARNING: src/objective/regression_obj.cu:152: reg:linear is now deprecated in favor of reg:squarederror.\n"
     ]
    },
    {
     "name": "stderr",
     "output_type": "stream",
     "text": [
      "/Users/kmiyaki/anaconda3/lib/python3.7/site-packages/xgboost/core.py:587: FutureWarning: Series.base is deprecated and will be removed in a future version\n",
      "  if getattr(data, 'base', None) is not None and \\\n"
     ]
    },
    {
     "name": "stdout",
     "output_type": "stream",
     "text": [
      "DP03_0131PE\n",
      "[11:57:54] WARNING: src/objective/regression_obj.cu:152: reg:linear is now deprecated in favor of reg:squarederror.\n"
     ]
    },
    {
     "name": "stderr",
     "output_type": "stream",
     "text": [
      "/Users/kmiyaki/anaconda3/lib/python3.7/site-packages/xgboost/core.py:587: FutureWarning: Series.base is deprecated and will be removed in a future version\n",
      "  if getattr(data, 'base', None) is not None and \\\n"
     ]
    },
    {
     "name": "stdout",
     "output_type": "stream",
     "text": [
      "DP03_0132PE\n",
      "[11:57:59] WARNING: src/objective/regression_obj.cu:152: reg:linear is now deprecated in favor of reg:squarederror.\n"
     ]
    },
    {
     "name": "stderr",
     "output_type": "stream",
     "text": [
      "/Users/kmiyaki/anaconda3/lib/python3.7/site-packages/xgboost/core.py:587: FutureWarning: Series.base is deprecated and will be removed in a future version\n",
      "  if getattr(data, 'base', None) is not None and \\\n"
     ]
    },
    {
     "name": "stdout",
     "output_type": "stream",
     "text": [
      "DP04_0075PE\n",
      "[11:58:04] WARNING: src/objective/regression_obj.cu:152: reg:linear is now deprecated in favor of reg:squarederror.\n"
     ]
    },
    {
     "name": "stderr",
     "output_type": "stream",
     "text": [
      "/Users/kmiyaki/anaconda3/lib/python3.7/site-packages/xgboost/core.py:587: FutureWarning: Series.base is deprecated and will be removed in a future version\n",
      "  if getattr(data, 'base', None) is not None and \\\n"
     ]
    },
    {
     "name": "stdout",
     "output_type": "stream",
     "text": [
      "DP04_0094PE\n",
      "[11:58:09] WARNING: src/objective/regression_obj.cu:152: reg:linear is now deprecated in favor of reg:squarederror.\n"
     ]
    },
    {
     "name": "stderr",
     "output_type": "stream",
     "text": [
      "/Users/kmiyaki/anaconda3/lib/python3.7/site-packages/xgboost/core.py:587: FutureWarning: Series.base is deprecated and will be removed in a future version\n",
      "  if getattr(data, 'base', None) is not None and \\\n"
     ]
    },
    {
     "name": "stdout",
     "output_type": "stream",
     "text": [
      "DP04_0095PE\n",
      "[11:58:14] WARNING: src/objective/regression_obj.cu:152: reg:linear is now deprecated in favor of reg:squarederror.\n"
     ]
    },
    {
     "name": "stderr",
     "output_type": "stream",
     "text": [
      "/Users/kmiyaki/anaconda3/lib/python3.7/site-packages/xgboost/core.py:587: FutureWarning: Series.base is deprecated and will be removed in a future version\n",
      "  if getattr(data, 'base', None) is not None and \\\n"
     ]
    },
    {
     "name": "stdout",
     "output_type": "stream",
     "text": [
      "DP04_0096PE\n",
      "[11:58:19] WARNING: src/objective/regression_obj.cu:152: reg:linear is now deprecated in favor of reg:squarederror.\n"
     ]
    },
    {
     "name": "stderr",
     "output_type": "stream",
     "text": [
      "/Users/kmiyaki/anaconda3/lib/python3.7/site-packages/xgboost/core.py:587: FutureWarning: Series.base is deprecated and will be removed in a future version\n",
      "  if getattr(data, 'base', None) is not None and \\\n"
     ]
    },
    {
     "name": "stdout",
     "output_type": "stream",
     "text": [
      "DP04_0097PE\n",
      "[11:58:24] WARNING: src/objective/regression_obj.cu:152: reg:linear is now deprecated in favor of reg:squarederror.\n"
     ]
    },
    {
     "name": "stderr",
     "output_type": "stream",
     "text": [
      "/Users/kmiyaki/anaconda3/lib/python3.7/site-packages/xgboost/core.py:587: FutureWarning: Series.base is deprecated and will be removed in a future version\n",
      "  if getattr(data, 'base', None) is not None and \\\n"
     ]
    },
    {
     "name": "stdout",
     "output_type": "stream",
     "text": [
      "DP04_0098PE\n",
      "[11:58:29] WARNING: src/objective/regression_obj.cu:152: reg:linear is now deprecated in favor of reg:squarederror.\n"
     ]
    },
    {
     "name": "stderr",
     "output_type": "stream",
     "text": [
      "/Users/kmiyaki/anaconda3/lib/python3.7/site-packages/xgboost/core.py:587: FutureWarning: Series.base is deprecated and will be removed in a future version\n",
      "  if getattr(data, 'base', None) is not None and \\\n"
     ]
    },
    {
     "name": "stdout",
     "output_type": "stream",
     "text": [
      "DP04_0099PE\n",
      "[11:58:34] WARNING: src/objective/regression_obj.cu:152: reg:linear is now deprecated in favor of reg:squarederror.\n"
     ]
    },
    {
     "name": "stderr",
     "output_type": "stream",
     "text": [
      "/Users/kmiyaki/anaconda3/lib/python3.7/site-packages/xgboost/core.py:587: FutureWarning: Series.base is deprecated and will be removed in a future version\n",
      "  if getattr(data, 'base', None) is not None and \\\n"
     ]
    },
    {
     "name": "stdout",
     "output_type": "stream",
     "text": [
      "DP04_0100PE\n",
      "[11:58:38] WARNING: src/objective/regression_obj.cu:152: reg:linear is now deprecated in favor of reg:squarederror.\n"
     ]
    },
    {
     "name": "stderr",
     "output_type": "stream",
     "text": [
      "/Users/kmiyaki/anaconda3/lib/python3.7/site-packages/xgboost/core.py:587: FutureWarning: Series.base is deprecated and will be removed in a future version\n",
      "  if getattr(data, 'base', None) is not None and \\\n"
     ]
    },
    {
     "name": "stdout",
     "output_type": "stream",
     "text": [
      "DP04_0111PE\n",
      "[11:58:43] WARNING: src/objective/regression_obj.cu:152: reg:linear is now deprecated in favor of reg:squarederror.\n"
     ]
    },
    {
     "name": "stderr",
     "output_type": "stream",
     "text": [
      "/Users/kmiyaki/anaconda3/lib/python3.7/site-packages/xgboost/core.py:587: FutureWarning: Series.base is deprecated and will be removed in a future version\n",
      "  if getattr(data, 'base', None) is not None and \\\n"
     ]
    },
    {
     "name": "stdout",
     "output_type": "stream",
     "text": [
      "DP04_0112PE\n",
      "[11:58:48] WARNING: src/objective/regression_obj.cu:152: reg:linear is now deprecated in favor of reg:squarederror.\n"
     ]
    },
    {
     "name": "stderr",
     "output_type": "stream",
     "text": [
      "/Users/kmiyaki/anaconda3/lib/python3.7/site-packages/xgboost/core.py:587: FutureWarning: Series.base is deprecated and will be removed in a future version\n",
      "  if getattr(data, 'base', None) is not None and \\\n"
     ]
    },
    {
     "name": "stdout",
     "output_type": "stream",
     "text": [
      "DP04_0113PE\n",
      "[11:58:54] WARNING: src/objective/regression_obj.cu:152: reg:linear is now deprecated in favor of reg:squarederror.\n"
     ]
    },
    {
     "name": "stderr",
     "output_type": "stream",
     "text": [
      "/Users/kmiyaki/anaconda3/lib/python3.7/site-packages/xgboost/core.py:587: FutureWarning: Series.base is deprecated and will be removed in a future version\n",
      "  if getattr(data, 'base', None) is not None and \\\n"
     ]
    },
    {
     "name": "stdout",
     "output_type": "stream",
     "text": [
      "DP04_0114PE\n",
      "[11:58:58] WARNING: src/objective/regression_obj.cu:152: reg:linear is now deprecated in favor of reg:squarederror.\n"
     ]
    },
    {
     "name": "stderr",
     "output_type": "stream",
     "text": [
      "/Users/kmiyaki/anaconda3/lib/python3.7/site-packages/xgboost/core.py:587: FutureWarning: Series.base is deprecated and will be removed in a future version\n",
      "  if getattr(data, 'base', None) is not None and \\\n"
     ]
    },
    {
     "name": "stdout",
     "output_type": "stream",
     "text": [
      "DP04_0115PE\n",
      "2015 average test score:  0.4507937341725967\n",
      "2016 average test score:  nan\n"
     ]
    },
    {
     "name": "stderr",
     "output_type": "stream",
     "text": [
      "/Users/kmiyaki/anaconda3/lib/python3.7/site-packages/numpy/core/fromnumeric.py:3118: RuntimeWarning: Mean of empty slice.\n",
      "  out=out, **kwargs)\n",
      "/Users/kmiyaki/anaconda3/lib/python3.7/site-packages/numpy/core/_methods.py:85: RuntimeWarning: invalid value encountered in double_scalars\n",
      "  ret = ret.dtype.type(ret / rcount)\n"
     ]
    },
    {
     "ename": "TypeError",
     "evalue": "reduce() of empty sequence with no initial value",
     "output_type": "error",
     "traceback": [
      "\u001b[0;31m---------------------------------------------------------------------------\u001b[0m",
      "\u001b[0;31mTypeError\u001b[0m                                 Traceback (most recent call last)",
      "\u001b[0;32m<ipython-input-478-020495295e43>\u001b[0m in \u001b[0;36m<module>\u001b[0;34m\u001b[0m\n\u001b[1;32m     33\u001b[0m     df_impute = reduce(lambda left, right: pd.merge(\n\u001b[1;32m     34\u001b[0m         \u001b[0mleft\u001b[0m\u001b[0;34m,\u001b[0m \u001b[0mright\u001b[0m\u001b[0;34m,\u001b[0m \u001b[0mleft_index\u001b[0m\u001b[0;34m=\u001b[0m\u001b[0;32mTrue\u001b[0m\u001b[0;34m,\u001b[0m \u001b[0mright_index\u001b[0m\u001b[0;34m=\u001b[0m\u001b[0;32mTrue\u001b[0m\u001b[0;34m\u001b[0m\u001b[0;34m\u001b[0m\u001b[0m\n\u001b[0;32m---> 35\u001b[0;31m     ), impute_var_df_list\n\u001b[0m\u001b[1;32m     36\u001b[0m                       )\n\u001b[1;32m     37\u001b[0m     \u001b[0;32mfor\u001b[0m \u001b[0mi\u001b[0m \u001b[0;32min\u001b[0m \u001b[0mrange\u001b[0m\u001b[0;34m(\u001b[0m\u001b[0mdf_target\u001b[0m\u001b[0;34m.\u001b[0m\u001b[0mshape\u001b[0m\u001b[0;34m[\u001b[0m\u001b[0;36m0\u001b[0m\u001b[0;34m]\u001b[0m\u001b[0;34m)\u001b[0m\u001b[0;34m:\u001b[0m\u001b[0;34m\u001b[0m\u001b[0;34m\u001b[0m\u001b[0m\n",
      "\u001b[0;31mTypeError\u001b[0m: reduce() of empty sequence with no initial value"
     ]
    }
   ],
   "source": [
    "for year in range(2010, 2018):\n",
    "    df = var_dict[year].drop(\n",
    "        columns=var_dict[year].loc[\n",
    "            0, \n",
    "            ((var_dict[year].isnull().sum()>0)&(var_dict[year].isnull().sum()!=var_dict[year].shape[0]))\n",
    "        ].index\n",
    "    )\n",
    "    df = df.loc[:, df.columns.str.contains(r\"DP0\")].dropna(axis=1)\n",
    "    df_target = var_dict[year].loc[\n",
    "        :, var_dict[year].loc[\n",
    "            0,\n",
    "            ((var_dict[year].isnull().sum()>0)&(var_dict[year].isnull().sum()!=var_dict[year].shape[0]))\n",
    "        ].index\n",
    "    ]\n",
    "    impute_var_df_list = []\n",
    "    test_scores = []\n",
    "    for i, col in enumerate(var_dict[year].loc[0, \n",
    "                                               ((var_dict[year].isnull().sum()>0)&\n",
    "                                                (var_dict[year].isnull().sum()!=var_dict[year].shape[0]))\n",
    "                                              ].index):\n",
    "\n",
    "        xgr_impute = XGBRegressor()\n",
    "        df_temp = df.loc[df_target.iloc[:, i].notnull()]\n",
    "        df_target_temp = df_target.iloc[:, i].dropna()\n",
    "\n",
    "        X_train, X_test, y_train, y_test = train_test_split(df_temp, df_target_temp)\n",
    "        xgr_impute.fit(X_train, y_train)\n",
    "        print(col)\n",
    "        test_scores.append(xgr_impute.score(X_test, y_test))\n",
    "\n",
    "        impute_var_df_list.append(pd.DataFrame(xgr_impute.predict(df), columns=[col]))\n",
    "    print(year, \"average test score: \", np.mean(test_scores))\n",
    "    df_impute = reduce(lambda left, right: pd.merge(\n",
    "        left, right, left_index=True, right_index=True\n",
    "    ), impute_var_df_list\n",
    "                      )\n",
    "    for i in range(df_target.shape[0]):\n",
    "        for j in range(df_target.shape[1]):\n",
    "            if df_target.iloc[i, j] != df_target.iloc[i, j]:\n",
    "                df_target.iloc[i, j] = df_impute.iloc[i, j]\n",
    "    for col in df_target.columns:\n",
    "        var_dict[year].loc[:, col] = df_target.loc[:, col]"
   ]
  },
  {
   "cell_type": "code",
   "execution_count": 500,
   "metadata": {},
   "outputs": [],
   "source": [
    "for year in range(2010, 2018):\n",
    "    var_dict[year].dropna(axis=1, inplace=True)\n",
    "    \n",
    "    var_dict[year] = pd.concat([var_dict[year].FIPS,\n",
    "                    var_dict[year].loc[:, var_dict[year].columns.str.contains(r'[0-9]PE')]\n",
    "                    .loc[:, ((var_dict[year].loc[:, var_dict[year].columns.str.contains(r'[0-9]PE')].max()<100)&\n",
    "                             (var_dict[year].loc[:, var_dict[year].columns.str.contains(r'[0-9]PE')].min()>=0))]],\n",
    "                     axis=1\n",
    "                   )"
   ]
  },
  {
   "cell_type": "code",
   "execution_count": 480,
   "metadata": {},
   "outputs": [],
   "source": [
    "election = pd.read_csv(\"../data/countypres_2000-2016.csv\")"
   ]
  },
  {
   "cell_type": "code",
   "execution_count": 481,
   "metadata": {
    "scrolled": true
   },
   "outputs": [],
   "source": [
    "election.dropna(inplace=True)"
   ]
  },
  {
   "cell_type": "code",
   "execution_count": 483,
   "metadata": {
    "scrolled": true
   },
   "outputs": [
    {
     "data": {
      "text/html": [
       "<div>\n",
       "<style scoped>\n",
       "    .dataframe tbody tr th:only-of-type {\n",
       "        vertical-align: middle;\n",
       "    }\n",
       "\n",
       "    .dataframe tbody tr th {\n",
       "        vertical-align: top;\n",
       "    }\n",
       "\n",
       "    .dataframe thead th {\n",
       "        text-align: right;\n",
       "    }\n",
       "</style>\n",
       "<table border=\"1\" class=\"dataframe\">\n",
       "  <thead>\n",
       "    <tr style=\"text-align: right;\">\n",
       "      <th></th>\n",
       "      <th>state</th>\n",
       "      <th>county</th>\n",
       "      <th>hillary</th>\n",
       "      <th>FIPS</th>\n",
       "      <th>trump</th>\n",
       "      <th>margin</th>\n",
       "    </tr>\n",
       "  </thead>\n",
       "  <tbody>\n",
       "    <tr>\n",
       "      <th>0</th>\n",
       "      <td>Alabama</td>\n",
       "      <td>Autauga</td>\n",
       "      <td>0.24</td>\n",
       "      <td>1001</td>\n",
       "      <td>0.73</td>\n",
       "      <td>0.49</td>\n",
       "    </tr>\n",
       "    <tr>\n",
       "      <th>1</th>\n",
       "      <td>Alabama</td>\n",
       "      <td>Baldwin</td>\n",
       "      <td>0.19</td>\n",
       "      <td>1003</td>\n",
       "      <td>0.77</td>\n",
       "      <td>0.57</td>\n",
       "    </tr>\n",
       "    <tr>\n",
       "      <th>2</th>\n",
       "      <td>Alabama</td>\n",
       "      <td>Barbour</td>\n",
       "      <td>0.47</td>\n",
       "      <td>1005</td>\n",
       "      <td>0.52</td>\n",
       "      <td>0.06</td>\n",
       "    </tr>\n",
       "    <tr>\n",
       "      <th>3</th>\n",
       "      <td>Alabama</td>\n",
       "      <td>Bibb</td>\n",
       "      <td>0.21</td>\n",
       "      <td>1007</td>\n",
       "      <td>0.76</td>\n",
       "      <td>0.55</td>\n",
       "    </tr>\n",
       "    <tr>\n",
       "      <th>4</th>\n",
       "      <td>Alabama</td>\n",
       "      <td>Blount</td>\n",
       "      <td>0.08</td>\n",
       "      <td>1009</td>\n",
       "      <td>0.89</td>\n",
       "      <td>0.81</td>\n",
       "    </tr>\n",
       "  </tbody>\n",
       "</table>\n",
       "</div>"
      ],
      "text/plain": [
       "     state   county  hillary  FIPS  trump  margin\n",
       "0  Alabama  Autauga     0.24  1001   0.73    0.49\n",
       "1  Alabama  Baldwin     0.19  1003   0.77    0.57\n",
       "2  Alabama  Barbour     0.47  1005   0.52    0.06\n",
       "3  Alabama     Bibb     0.21  1007   0.76    0.55\n",
       "4  Alabama   Blount     0.08  1009   0.89    0.81"
      ]
     },
     "execution_count": 483,
     "metadata": {},
     "output_type": "execute_result"
    }
   ],
   "source": [
    "election[\"candidateshare\"] = election.candidatevotes / election.totalvotes\n",
    "hillary = election.loc[((election.year==2016)&(election.candidate==\"Hillary Clinton\"))]\n",
    "hillary = hillary[[\"state\", \"county\", \"candidateshare\", \"FIPS\"]]\n",
    "hillary.rename(columns={\"candidateshare\":\"hillary\"}, inplace=True)\n",
    "trump = election.loc[((election.year==2016)&(election.candidate==\"Donald Trump\"))]\n",
    "trump = trump[[\"state\", \"county\", \"candidateshare\", \"FIPS\"]]\n",
    "trump.rename(columns={\"candidateshare\":\"trump\"}, inplace=True)\n",
    "\n",
    "election_result_2016 = pd.merge(hillary, trump, on=[\"state\", \"county\", \"FIPS\"])\n",
    "\n",
    "election_result_2016[\"margin\"] = (election_result_2016.trump - election_result_2016.hillary)\n",
    "election_result_2016.FIPS = election_result_2016.FIPS.astype(int)\n",
    "election_result_2016.head()"
   ]
  },
  {
   "cell_type": "code",
   "execution_count": 484,
   "metadata": {},
   "outputs": [
    {
     "data": {
      "text/html": [
       "<div>\n",
       "<style scoped>\n",
       "    .dataframe tbody tr th:only-of-type {\n",
       "        vertical-align: middle;\n",
       "    }\n",
       "\n",
       "    .dataframe tbody tr th {\n",
       "        vertical-align: top;\n",
       "    }\n",
       "\n",
       "    .dataframe thead th {\n",
       "        text-align: right;\n",
       "    }\n",
       "</style>\n",
       "<table border=\"1\" class=\"dataframe\">\n",
       "  <thead>\n",
       "    <tr style=\"text-align: right;\">\n",
       "      <th></th>\n",
       "      <th>state</th>\n",
       "      <th>county</th>\n",
       "      <th>obama</th>\n",
       "      <th>FIPS</th>\n",
       "      <th>romney</th>\n",
       "      <th>margin</th>\n",
       "    </tr>\n",
       "  </thead>\n",
       "  <tbody>\n",
       "    <tr>\n",
       "      <th>0</th>\n",
       "      <td>Alabama</td>\n",
       "      <td>Autauga</td>\n",
       "      <td>0.27</td>\n",
       "      <td>1001</td>\n",
       "      <td>0.73</td>\n",
       "      <td>0.46</td>\n",
       "    </tr>\n",
       "    <tr>\n",
       "      <th>1</th>\n",
       "      <td>Alabama</td>\n",
       "      <td>Baldwin</td>\n",
       "      <td>0.22</td>\n",
       "      <td>1003</td>\n",
       "      <td>0.77</td>\n",
       "      <td>0.56</td>\n",
       "    </tr>\n",
       "    <tr>\n",
       "      <th>2</th>\n",
       "      <td>Alabama</td>\n",
       "      <td>Barbour</td>\n",
       "      <td>0.51</td>\n",
       "      <td>1005</td>\n",
       "      <td>0.48</td>\n",
       "      <td>-0.03</td>\n",
       "    </tr>\n",
       "    <tr>\n",
       "      <th>3</th>\n",
       "      <td>Alabama</td>\n",
       "      <td>Bibb</td>\n",
       "      <td>0.26</td>\n",
       "      <td>1007</td>\n",
       "      <td>0.73</td>\n",
       "      <td>0.47</td>\n",
       "    </tr>\n",
       "    <tr>\n",
       "      <th>4</th>\n",
       "      <td>Alabama</td>\n",
       "      <td>Blount</td>\n",
       "      <td>0.12</td>\n",
       "      <td>1009</td>\n",
       "      <td>0.86</td>\n",
       "      <td>0.74</td>\n",
       "    </tr>\n",
       "  </tbody>\n",
       "</table>\n",
       "</div>"
      ],
      "text/plain": [
       "     state   county  obama  FIPS  romney  margin\n",
       "0  Alabama  Autauga   0.27  1001    0.73    0.46\n",
       "1  Alabama  Baldwin   0.22  1003    0.77    0.56\n",
       "2  Alabama  Barbour   0.51  1005    0.48   -0.03\n",
       "3  Alabama     Bibb   0.26  1007    0.73    0.47\n",
       "4  Alabama   Blount   0.12  1009    0.86    0.74"
      ]
     },
     "execution_count": 484,
     "metadata": {},
     "output_type": "execute_result"
    }
   ],
   "source": [
    "obama = election.loc[((election.year==2012)&(election.candidate==\"Barack Obama\"))]\n",
    "obama = obama[[\"state\", \"county\", \"candidateshare\", \"FIPS\"]]\n",
    "obama.rename(columns={\"candidateshare\":\"obama\"}, inplace=True)\n",
    "romney = election.loc[((election.year==2012)&(election.candidate==\"Mitt Romney\"))]\n",
    "romney = romney[[\"state\", \"county\", \"candidateshare\", \"FIPS\"]]\n",
    "romney.rename(columns={\"candidateshare\":\"romney\"}, inplace=True)\n",
    "\n",
    "election_result_2012 = pd.merge(obama, romney, on=[\"state\", \"county\", \"FIPS\"])\n",
    "\n",
    "election_result_2012[\"margin\"] = (election_result_2012.romney - election_result_2012.obama)\n",
    "election_result_2012.FIPS = election_result_2012.FIPS.astype(int)\n",
    "election_result_2012.head()"
   ]
  },
  {
   "cell_type": "code",
   "execution_count": 501,
   "metadata": {
    "scrolled": false
   },
   "outputs": [],
   "source": [
    "var_dict_2016 = {}\n",
    "for year in range(2010, 2018):\n",
    "    var_dict_2016[year] = pd.merge(var_dict[year], \n",
    "              election_result_2016.drop(columns=[\"state\", \"county\"]), \n",
    "              on=\"FIPS\",\n",
    "              how=\"inner\").apply(pd.to_numeric, errors=\"ignore\")"
   ]
  },
  {
   "cell_type": "code",
   "execution_count": 502,
   "metadata": {},
   "outputs": [],
   "source": [
    "var_dict_2012 = {}\n",
    "for year in range(2010, 2018):\n",
    "    var_dict_2012[year] = pd.merge(var_dict[year], \n",
    "              election_result_2012.drop(columns=[\"state\", \"county\"]), \n",
    "              on=\"FIPS\",\n",
    "              how=\"inner\").apply(pd.to_numeric, errors=\"ignore\")"
   ]
  },
  {
   "cell_type": "code",
   "execution_count": 506,
   "metadata": {},
   "outputs": [
    {
     "data": {
      "text/html": [
       "<div>\n",
       "<style scoped>\n",
       "    .dataframe tbody tr th:only-of-type {\n",
       "        vertical-align: middle;\n",
       "    }\n",
       "\n",
       "    .dataframe tbody tr th {\n",
       "        vertical-align: top;\n",
       "    }\n",
       "\n",
       "    .dataframe thead th {\n",
       "        text-align: right;\n",
       "    }\n",
       "</style>\n",
       "<table border=\"1\" class=\"dataframe\">\n",
       "  <thead>\n",
       "    <tr style=\"text-align: right;\">\n",
       "      <th></th>\n",
       "      <th>FIPS</th>\n",
       "      <th>DP02_0002PE</th>\n",
       "      <th>DP02_0003PE</th>\n",
       "      <th>DP02_0004PE</th>\n",
       "      <th>DP02_0005PE</th>\n",
       "      <th>DP02_0006PE</th>\n",
       "      <th>DP02_0007PE</th>\n",
       "      <th>DP02_0008PE</th>\n",
       "      <th>DP02_0009PE</th>\n",
       "      <th>DP02_0010PE</th>\n",
       "      <th>DP02_0011PE</th>\n",
       "      <th>DP02_0012PE</th>\n",
       "      <th>DP02_0013PE</th>\n",
       "      <th>DP02_0014PE</th>\n",
       "      <th>DP02_0018PE</th>\n",
       "      <th>DP02_0019PE</th>\n",
       "      <th>DP02_0020PE</th>\n",
       "      <th>DP02_0021PE</th>\n",
       "      <th>DP02_0022PE</th>\n",
       "      <th>DP02_0023PE</th>\n",
       "      <th>DP02_0025PE</th>\n",
       "      <th>DP02_0026PE</th>\n",
       "      <th>DP02_0027PE</th>\n",
       "      <th>DP02_0028PE</th>\n",
       "      <th>DP02_0029PE</th>\n",
       "      <th>DP02_0031PE</th>\n",
       "      <th>DP02_0032PE</th>\n",
       "      <th>DP02_0033PE</th>\n",
       "      <th>DP02_0034PE</th>\n",
       "      <th>DP02_0035PE</th>\n",
       "      <th>DP02_0053PE</th>\n",
       "      <th>DP02_0054PE</th>\n",
       "      <th>DP02_0056PE</th>\n",
       "      <th>DP02_0059PE</th>\n",
       "      <th>DP02_0060PE</th>\n",
       "      <th>DP02_0061PE</th>\n",
       "      <th>DP02_0062PE</th>\n",
       "      <th>DP02_0063PE</th>\n",
       "      <th>DP02_0064PE</th>\n",
       "      <th>DP02_0065PE</th>\n",
       "      <th>DP02_0066PE</th>\n",
       "      <th>DP02_0067PE</th>\n",
       "      <th>DP02_0069PE</th>\n",
       "      <th>DP02_0071PE</th>\n",
       "      <th>DP02_0073PE</th>\n",
       "      <th>DP02_0075PE</th>\n",
       "      <th>DP02_0077PE</th>\n",
       "      <th>DP02_0080PE</th>\n",
       "      <th>DP02_0081PE</th>\n",
       "      <th>DP02_0082PE</th>\n",
       "      <th>DP02_0083PE</th>\n",
       "      <th>DP02_0084PE</th>\n",
       "      <th>DP02_0085PE</th>\n",
       "      <th>DP02_0089PE</th>\n",
       "      <th>DP02_0090PE</th>\n",
       "      <th>DP02_0091PE</th>\n",
       "      <th>DP02_0092PE</th>\n",
       "      <th>DP02_0109PE</th>\n",
       "      <th>DP02_0112PE</th>\n",
       "      <th>DP02_0113PE</th>\n",
       "      <th>DP02_0114PE</th>\n",
       "      <th>DP02_0115PE</th>\n",
       "      <th>DP02_0116PE</th>\n",
       "      <th>DP02_0117PE</th>\n",
       "      <th>DP02_0118PE</th>\n",
       "      <th>DP02_0119PE</th>\n",
       "      <th>DP02_0120PE</th>\n",
       "      <th>DP02_0121PE</th>\n",
       "      <th>DP02_0123PE</th>\n",
       "      <th>DP02_0124PE</th>\n",
       "      <th>DP02_0125PE</th>\n",
       "      <th>DP02_0126PE</th>\n",
       "      <th>DP02_0127PE</th>\n",
       "      <th>DP02_0128PE</th>\n",
       "      <th>DP02_0129PE</th>\n",
       "      <th>DP02_0130PE</th>\n",
       "      <th>DP02_0131PE</th>\n",
       "      <th>DP02_0132PE</th>\n",
       "      <th>DP02_0133PE</th>\n",
       "      <th>DP02_0134PE</th>\n",
       "      <th>DP02_0135PE</th>\n",
       "      <th>DP02_0136PE</th>\n",
       "      <th>DP02_0137PE</th>\n",
       "      <th>DP02_0138PE</th>\n",
       "      <th>DP02_0139PE</th>\n",
       "      <th>DP02_0140PE</th>\n",
       "      <th>DP02_0141PE</th>\n",
       "      <th>DP02_0142PE</th>\n",
       "      <th>DP02_0143PE</th>\n",
       "      <th>DP02_0144PE</th>\n",
       "      <th>DP02_0145PE</th>\n",
       "      <th>DP02_0146PE</th>\n",
       "      <th>DP02_0147PE</th>\n",
       "      <th>DP02_0148PE</th>\n",
       "      <th>DP02_0149PE</th>\n",
       "      <th>DP03_0002PE</th>\n",
       "      <th>DP03_0003PE</th>\n",
       "      <th>DP03_0004PE</th>\n",
       "      <th>DP03_0005PE</th>\n",
       "      <th>DP03_0006PE</th>\n",
       "      <th>DP03_0007PE</th>\n",
       "      <th>DP03_0009PE</th>\n",
       "      <th>DP03_0011PE</th>\n",
       "      <th>DP03_0012PE</th>\n",
       "      <th>DP03_0013PE</th>\n",
       "      <th>DP03_0019PE</th>\n",
       "      <th>DP03_0020PE</th>\n",
       "      <th>DP03_0021PE</th>\n",
       "      <th>DP03_0022PE</th>\n",
       "      <th>DP03_0023PE</th>\n",
       "      <th>DP03_0024PE</th>\n",
       "      <th>DP03_0027PE</th>\n",
       "      <th>DP03_0028PE</th>\n",
       "      <th>DP03_0029PE</th>\n",
       "      <th>DP03_0030PE</th>\n",
       "      <th>DP03_0031PE</th>\n",
       "      <th>DP03_0033PE</th>\n",
       "      <th>DP03_0034PE</th>\n",
       "      <th>DP03_0035PE</th>\n",
       "      <th>DP03_0036PE</th>\n",
       "      <th>DP03_0037PE</th>\n",
       "      <th>DP03_0038PE</th>\n",
       "      <th>DP03_0039PE</th>\n",
       "      <th>DP03_0040PE</th>\n",
       "      <th>DP03_0041PE</th>\n",
       "      <th>DP03_0042PE</th>\n",
       "      <th>DP03_0043PE</th>\n",
       "      <th>DP03_0044PE</th>\n",
       "      <th>DP03_0045PE</th>\n",
       "      <th>DP03_0047PE</th>\n",
       "      <th>DP03_0048PE</th>\n",
       "      <th>DP03_0049PE</th>\n",
       "      <th>DP03_0050PE</th>\n",
       "      <th>DP03_0052PE</th>\n",
       "      <th>DP03_0053PE</th>\n",
       "      <th>DP03_0054PE</th>\n",
       "      <th>DP03_0055PE</th>\n",
       "      <th>DP03_0056PE</th>\n",
       "      <th>DP03_0057PE</th>\n",
       "      <th>DP03_0058PE</th>\n",
       "      <th>DP03_0059PE</th>\n",
       "      <th>DP03_0060PE</th>\n",
       "      <th>DP03_0061PE</th>\n",
       "      <th>DP03_0064PE</th>\n",
       "      <th>DP03_0066PE</th>\n",
       "      <th>DP03_0068PE</th>\n",
       "      <th>DP03_0070PE</th>\n",
       "      <th>DP03_0072PE</th>\n",
       "      <th>DP03_0074PE</th>\n",
       "      <th>DP03_0076PE</th>\n",
       "      <th>DP03_0077PE</th>\n",
       "      <th>DP03_0078PE</th>\n",
       "      <th>DP03_0079PE</th>\n",
       "      <th>DP03_0080PE</th>\n",
       "      <th>DP03_0081PE</th>\n",
       "      <th>DP03_0082PE</th>\n",
       "      <th>DP03_0083PE</th>\n",
       "      <th>DP03_0084PE</th>\n",
       "      <th>DP03_0085PE</th>\n",
       "      <th>DP03_0096PE</th>\n",
       "      <th>DP03_0097PE</th>\n",
       "      <th>DP03_0098PE</th>\n",
       "      <th>DP03_0099PE</th>\n",
       "      <th>DP03_0101PE</th>\n",
       "      <th>DP03_0105PE</th>\n",
       "      <th>DP03_0106PE</th>\n",
       "      <th>DP03_0107PE</th>\n",
       "      <th>DP03_0108PE</th>\n",
       "      <th>DP03_0116PE</th>\n",
       "      <th>DP03_0117PE</th>\n",
       "      <th>DP03_0119PE</th>\n",
       "      <th>DP03_0120PE</th>\n",
       "      <th>DP03_0122PE</th>\n",
       "      <th>DP03_0125PE</th>\n",
       "      <th>DP03_0128PE</th>\n",
       "      <th>DP03_0129PE</th>\n",
       "      <th>DP03_0130PE</th>\n",
       "      <th>DP03_0132PE</th>\n",
       "      <th>DP03_0133PE</th>\n",
       "      <th>DP03_0134PE</th>\n",
       "      <th>DP03_0135PE</th>\n",
       "      <th>DP03_0136PE</th>\n",
       "      <th>DP03_0137PE</th>\n",
       "      <th>DP04_0002PE</th>\n",
       "      <th>DP04_0003PE</th>\n",
       "      <th>DP04_0007PE</th>\n",
       "      <th>DP04_0008PE</th>\n",
       "      <th>DP04_0009PE</th>\n",
       "      <th>DP04_0010PE</th>\n",
       "      <th>DP04_0011PE</th>\n",
       "      <th>DP04_0012PE</th>\n",
       "      <th>DP04_0013PE</th>\n",
       "      <th>DP04_0014PE</th>\n",
       "      <th>DP04_0015PE</th>\n",
       "      <th>DP04_0017PE</th>\n",
       "      <th>DP04_0018PE</th>\n",
       "      <th>DP04_0019PE</th>\n",
       "      <th>DP04_0020PE</th>\n",
       "      <th>DP04_0021PE</th>\n",
       "      <th>DP04_0022PE</th>\n",
       "      <th>DP04_0023PE</th>\n",
       "      <th>DP04_0024PE</th>\n",
       "      <th>DP04_0025PE</th>\n",
       "      <th>DP04_0026PE</th>\n",
       "      <th>DP04_0028PE</th>\n",
       "      <th>DP04_0029PE</th>\n",
       "      <th>DP04_0030PE</th>\n",
       "      <th>DP04_0031PE</th>\n",
       "      <th>DP04_0032PE</th>\n",
       "      <th>DP04_0033PE</th>\n",
       "      <th>DP04_0034PE</th>\n",
       "      <th>DP04_0035PE</th>\n",
       "      <th>DP04_0036PE</th>\n",
       "      <th>DP04_0039PE</th>\n",
       "      <th>DP04_0040PE</th>\n",
       "      <th>DP04_0041PE</th>\n",
       "      <th>DP04_0042PE</th>\n",
       "      <th>DP04_0043PE</th>\n",
       "      <th>DP04_0044PE</th>\n",
       "      <th>DP04_0046PE</th>\n",
       "      <th>DP04_0047PE</th>\n",
       "      <th>DP04_0051PE</th>\n",
       "      <th>DP04_0052PE</th>\n",
       "      <th>DP04_0053PE</th>\n",
       "      <th>DP04_0054PE</th>\n",
       "      <th>DP04_0055PE</th>\n",
       "      <th>DP04_0056PE</th>\n",
       "      <th>DP04_0058PE</th>\n",
       "      <th>DP04_0059PE</th>\n",
       "      <th>DP04_0060PE</th>\n",
       "      <th>DP04_0061PE</th>\n",
       "      <th>DP04_0063PE</th>\n",
       "      <th>DP04_0064PE</th>\n",
       "      <th>DP04_0065PE</th>\n",
       "      <th>DP04_0066PE</th>\n",
       "      <th>DP04_0067PE</th>\n",
       "      <th>DP04_0068PE</th>\n",
       "      <th>DP04_0069PE</th>\n",
       "      <th>DP04_0070PE</th>\n",
       "      <th>DP04_0071PE</th>\n",
       "      <th>DP04_0073PE</th>\n",
       "      <th>DP04_0074PE</th>\n",
       "      <th>DP04_0075PE</th>\n",
       "      <th>DP04_0078PE</th>\n",
       "      <th>DP04_0079PE</th>\n",
       "      <th>DP04_0081PE</th>\n",
       "      <th>DP04_0082PE</th>\n",
       "      <th>DP04_0083PE</th>\n",
       "      <th>DP04_0084PE</th>\n",
       "      <th>DP04_0085PE</th>\n",
       "      <th>DP04_0086PE</th>\n",
       "      <th>DP04_0088PE</th>\n",
       "      <th>DP04_0091PE</th>\n",
       "      <th>DP04_0094PE</th>\n",
       "      <th>DP04_0096PE</th>\n",
       "      <th>DP04_0097PE</th>\n",
       "      <th>DP04_0098PE</th>\n",
       "      <th>DP04_0099PE</th>\n",
       "      <th>DP04_0100PE</th>\n",
       "      <th>DP04_0103PE</th>\n",
       "      <th>DP04_0104PE</th>\n",
       "      <th>DP04_0106PE</th>\n",
       "      <th>DP04_0107PE</th>\n",
       "      <th>DP04_0108PE</th>\n",
       "      <th>DP04_0112PE</th>\n",
       "      <th>DP04_0113PE</th>\n",
       "      <th>DP04_0114PE</th>\n",
       "      <th>DP04_0119PE</th>\n",
       "      <th>DP04_0120PE</th>\n",
       "      <th>DP04_0121PE</th>\n",
       "      <th>DP04_0122PE</th>\n",
       "      <th>DP04_0123PE</th>\n",
       "      <th>DP04_0124PE</th>\n",
       "      <th>DP04_0127PE</th>\n",
       "      <th>DP04_0128PE</th>\n",
       "      <th>DP04_0129PE</th>\n",
       "      <th>DP04_0130PE</th>\n",
       "      <th>DP04_0131PE</th>\n",
       "      <th>DP04_0132PE</th>\n",
       "      <th>DP04_0133PE</th>\n",
       "      <th>DP04_0138PE</th>\n",
       "      <th>DP04_0139PE</th>\n",
       "      <th>DP04_0140PE</th>\n",
       "      <th>DP04_0141PE</th>\n",
       "      <th>DP04_0142PE</th>\n",
       "      <th>DP05_0002PE</th>\n",
       "      <th>DP05_0003PE</th>\n",
       "      <th>DP05_0004PE</th>\n",
       "      <th>DP05_0005PE</th>\n",
       "      <th>DP05_0006PE</th>\n",
       "      <th>DP05_0007PE</th>\n",
       "      <th>DP05_0008PE</th>\n",
       "      <th>DP05_0009PE</th>\n",
       "      <th>DP05_0010PE</th>\n",
       "      <th>DP05_0011PE</th>\n",
       "      <th>DP05_0012PE</th>\n",
       "      <th>DP05_0013PE</th>\n",
       "      <th>DP05_0014PE</th>\n",
       "      <th>DP05_0015PE</th>\n",
       "      <th>DP05_0016PE</th>\n",
       "      <th>DP05_0018PE</th>\n",
       "      <th>DP05_0019PE</th>\n",
       "      <th>DP05_0020PE</th>\n",
       "      <th>DP05_0021PE</th>\n",
       "      <th>DP05_0023PE</th>\n",
       "      <th>DP05_0024PE</th>\n",
       "      <th>DP05_0026PE</th>\n",
       "      <th>DP05_0027PE</th>\n",
       "      <th>DP05_0030PE</th>\n",
       "      <th>DP05_0033PE</th>\n",
       "      <th>DP05_0034PE</th>\n",
       "      <th>DP05_0035PE</th>\n",
       "      <th>DP05_0036PE</th>\n",
       "      <th>DP05_0037PE</th>\n",
       "      <th>DP05_0038PE</th>\n",
       "      <th>DP05_0039PE</th>\n",
       "      <th>DP05_0040PE</th>\n",
       "      <th>DP05_0041PE</th>\n",
       "      <th>DP05_0042PE</th>\n",
       "      <th>DP05_0043PE</th>\n",
       "      <th>DP05_0044PE</th>\n",
       "      <th>DP05_0045PE</th>\n",
       "      <th>DP05_0046PE</th>\n",
       "      <th>DP05_0047PE</th>\n",
       "      <th>DP05_0048PE</th>\n",
       "      <th>DP05_0049PE</th>\n",
       "      <th>DP05_0050PE</th>\n",
       "      <th>DP05_0051PE</th>\n",
       "      <th>DP05_0052PE</th>\n",
       "      <th>DP05_0053PE</th>\n",
       "      <th>DP05_0054PE</th>\n",
       "      <th>DP05_0055PE</th>\n",
       "      <th>DP05_0056PE</th>\n",
       "      <th>DP05_0057PE</th>\n",
       "      <th>DP05_0060PE</th>\n",
       "      <th>DP05_0061PE</th>\n",
       "      <th>DP05_0062PE</th>\n",
       "      <th>DP05_0063PE</th>\n",
       "      <th>DP05_0064PE</th>\n",
       "      <th>DP05_0066PE</th>\n",
       "      <th>DP05_0067PE</th>\n",
       "      <th>DP05_0068PE</th>\n",
       "      <th>DP05_0069PE</th>\n",
       "      <th>DP05_0070PE</th>\n",
       "      <th>DP05_0073PE</th>\n",
       "      <th>DP05_0074PE</th>\n",
       "      <th>DP05_0075PE</th>\n",
       "      <th>DP05_0076PE</th>\n",
       "      <th>DP05_0077PE</th>\n",
       "      <th>DP05_0078PE</th>\n",
       "      <th>DP05_0079PE</th>\n",
       "      <th>DP05_0080PE</th>\n",
       "      <th>DP05_0083PE</th>\n",
       "      <th>DP05_0084PE</th>\n",
       "      <th>hillary</th>\n",
       "      <th>trump</th>\n",
       "      <th>margin</th>\n",
       "    </tr>\n",
       "  </thead>\n",
       "  <tbody>\n",
       "    <tr>\n",
       "      <th>0</th>\n",
       "      <td>5027</td>\n",
       "      <td>67.40</td>\n",
       "      <td>28.80</td>\n",
       "      <td>47.00</td>\n",
       "      <td>17.10</td>\n",
       "      <td>3.80</td>\n",
       "      <td>2.10</td>\n",
       "      <td>16.50</td>\n",
       "      <td>9.60</td>\n",
       "      <td>32.60</td>\n",
       "      <td>27.10</td>\n",
       "      <td>13.10</td>\n",
       "      <td>32.70</td>\n",
       "      <td>29.90</td>\n",
       "      <td>42.30</td>\n",
       "      <td>19.80</td>\n",
       "      <td>27.60</td>\n",
       "      <td>4.70</td>\n",
       "      <td>5.50</td>\n",
       "      <td>1.70</td>\n",
       "      <td>36.70</td>\n",
       "      <td>50.70</td>\n",
       "      <td>1.00</td>\n",
       "      <td>3.90</td>\n",
       "      <td>7.70</td>\n",
       "      <td>29.30</td>\n",
       "      <td>44.00</td>\n",
       "      <td>3.30</td>\n",
       "      <td>11.30</td>\n",
       "      <td>12.00</td>\n",
       "      <td>6.50</td>\n",
       "      <td>5.20</td>\n",
       "      <td>18.30</td>\n",
       "      <td>5.00</td>\n",
       "      <td>9.80</td>\n",
       "      <td>39.20</td>\n",
       "      <td>18.90</td>\n",
       "      <td>5.10</td>\n",
       "      <td>14.90</td>\n",
       "      <td>7.00</td>\n",
       "      <td>85.20</td>\n",
       "      <td>21.90</td>\n",
       "      <td>7.80</td>\n",
       "      <td>18.50</td>\n",
       "      <td>4.70</td>\n",
       "      <td>14.50</td>\n",
       "      <td>53.20</td>\n",
       "      <td>16.70</td>\n",
       "      <td>9.30</td>\n",
       "      <td>7.40</td>\n",
       "      <td>4.80</td>\n",
       "      <td>2.60</td>\n",
       "      <td>0.10</td>\n",
       "      <td>69.60</td>\n",
       "      <td>27.50</td>\n",
       "      <td>0.20</td>\n",
       "      <td>2.60</td>\n",
       "      <td>0.00</td>\n",
       "      <td>4.40</td>\n",
       "      <td>1.50</td>\n",
       "      <td>2.90</td>\n",
       "      <td>1.00</td>\n",
       "      <td>0.70</td>\n",
       "      <td>0.00</td>\n",
       "      <td>0.70</td>\n",
       "      <td>0.50</td>\n",
       "      <td>0.10</td>\n",
       "      <td>0.00</td>\n",
       "      <td>13.60</td>\n",
       "      <td>0.00</td>\n",
       "      <td>0.20</td>\n",
       "      <td>0.00</td>\n",
       "      <td>0.90</td>\n",
       "      <td>7.40</td>\n",
       "      <td>1.50</td>\n",
       "      <td>0.10</td>\n",
       "      <td>5.10</td>\n",
       "      <td>0.10</td>\n",
       "      <td>0.10</td>\n",
       "      <td>9.30</td>\n",
       "      <td>1.00</td>\n",
       "      <td>0.00</td>\n",
       "      <td>0.20</td>\n",
       "      <td>0.20</td>\n",
       "      <td>0.00</td>\n",
       "      <td>0.30</td>\n",
       "      <td>1.30</td>\n",
       "      <td>1.00</td>\n",
       "      <td>0.00</td>\n",
       "      <td>0.50</td>\n",
       "      <td>0.10</td>\n",
       "      <td>0.10</td>\n",
       "      <td>0.00</td>\n",
       "      <td>0.40</td>\n",
       "      <td>0.00</td>\n",
       "      <td>57.10</td>\n",
       "      <td>57.10</td>\n",
       "      <td>51.80</td>\n",
       "      <td>5.30</td>\n",
       "      <td>0.00</td>\n",
       "      <td>42.90</td>\n",
       "      <td>9.30</td>\n",
       "      <td>51.40</td>\n",
       "      <td>51.40</td>\n",
       "      <td>47.60</td>\n",
       "      <td>86.70</td>\n",
       "      <td>6.10</td>\n",
       "      <td>0.10</td>\n",
       "      <td>4.20</td>\n",
       "      <td>0.70</td>\n",
       "      <td>2.20</td>\n",
       "      <td>29.40</td>\n",
       "      <td>16.00</td>\n",
       "      <td>25.10</td>\n",
       "      <td>10.30</td>\n",
       "      <td>19.20</td>\n",
       "      <td>6.20</td>\n",
       "      <td>3.80</td>\n",
       "      <td>20.20</td>\n",
       "      <td>2.50</td>\n",
       "      <td>12.60</td>\n",
       "      <td>3.40</td>\n",
       "      <td>0.40</td>\n",
       "      <td>3.20</td>\n",
       "      <td>3.90</td>\n",
       "      <td>28.20</td>\n",
       "      <td>7.90</td>\n",
       "      <td>4.00</td>\n",
       "      <td>3.50</td>\n",
       "      <td>75.40</td>\n",
       "      <td>20.10</td>\n",
       "      <td>4.30</td>\n",
       "      <td>0.10</td>\n",
       "      <td>12.90</td>\n",
       "      <td>10.40</td>\n",
       "      <td>14.20</td>\n",
       "      <td>10.70</td>\n",
       "      <td>12.70</td>\n",
       "      <td>16.60</td>\n",
       "      <td>10.10</td>\n",
       "      <td>9.90</td>\n",
       "      <td>1.40</td>\n",
       "      <td>1.00</td>\n",
       "      <td>69.70</td>\n",
       "      <td>39.90</td>\n",
       "      <td>17.20</td>\n",
       "      <td>7.40</td>\n",
       "      <td>1.70</td>\n",
       "      <td>18.20</td>\n",
       "      <td>9.00</td>\n",
       "      <td>5.20</td>\n",
       "      <td>11.00</td>\n",
       "      <td>9.20</td>\n",
       "      <td>14.00</td>\n",
       "      <td>21.30</td>\n",
       "      <td>12.30</td>\n",
       "      <td>14.20</td>\n",
       "      <td>2.10</td>\n",
       "      <td>1.50</td>\n",
       "      <td>88.40</td>\n",
       "      <td>60.30</td>\n",
       "      <td>39.80</td>\n",
       "      <td>11.60</td>\n",
       "      <td>2.10</td>\n",
       "      <td>84.80</td>\n",
       "      <td>79.70</td>\n",
       "      <td>7.40</td>\n",
       "      <td>15.20</td>\n",
       "      <td>47.20</td>\n",
       "      <td>41.40</td>\n",
       "      <td>19.40</td>\n",
       "      <td>31.50</td>\n",
       "      <td>10.60</td>\n",
       "      <td>40.00</td>\n",
       "      <td>24.90</td>\n",
       "      <td>36.50</td>\n",
       "      <td>35.90</td>\n",
       "      <td>35.90</td>\n",
       "      <td>21.70</td>\n",
       "      <td>23.40</td>\n",
       "      <td>15.70</td>\n",
       "      <td>21.20</td>\n",
       "      <td>41.10</td>\n",
       "      <td>82.20</td>\n",
       "      <td>17.80</td>\n",
       "      <td>67.10</td>\n",
       "      <td>0.80</td>\n",
       "      <td>1.40</td>\n",
       "      <td>2.80</td>\n",
       "      <td>2.20</td>\n",
       "      <td>3.20</td>\n",
       "      <td>2.70</td>\n",
       "      <td>19.90</td>\n",
       "      <td>0.00</td>\n",
       "      <td>0.00</td>\n",
       "      <td>1.20</td>\n",
       "      <td>12.80</td>\n",
       "      <td>15.30</td>\n",
       "      <td>14.80</td>\n",
       "      <td>17.70</td>\n",
       "      <td>12.50</td>\n",
       "      <td>14.10</td>\n",
       "      <td>5.20</td>\n",
       "      <td>6.40</td>\n",
       "      <td>3.20</td>\n",
       "      <td>1.30</td>\n",
       "      <td>6.30</td>\n",
       "      <td>16.80</td>\n",
       "      <td>25.40</td>\n",
       "      <td>21.20</td>\n",
       "      <td>13.90</td>\n",
       "      <td>6.10</td>\n",
       "      <td>5.90</td>\n",
       "      <td>3.40</td>\n",
       "      <td>5.70</td>\n",
       "      <td>29.90</td>\n",
       "      <td>46.90</td>\n",
       "      <td>12.30</td>\n",
       "      <td>1.80</td>\n",
       "      <td>66.10</td>\n",
       "      <td>33.90</td>\n",
       "      <td>4.30</td>\n",
       "      <td>30.60</td>\n",
       "      <td>31.90</td>\n",
       "      <td>13.10</td>\n",
       "      <td>7.60</td>\n",
       "      <td>12.50</td>\n",
       "      <td>6.40</td>\n",
       "      <td>37.30</td>\n",
       "      <td>33.50</td>\n",
       "      <td>22.90</td>\n",
       "      <td>41.40</td>\n",
       "      <td>5.30</td>\n",
       "      <td>50.10</td>\n",
       "      <td>0.30</td>\n",
       "      <td>0.00</td>\n",
       "      <td>2.80</td>\n",
       "      <td>0.00</td>\n",
       "      <td>0.00</td>\n",
       "      <td>0.10</td>\n",
       "      <td>0.20</td>\n",
       "      <td>0.40</td>\n",
       "      <td>2.40</td>\n",
       "      <td>0.80</td>\n",
       "      <td>1.20</td>\n",
       "      <td>29.50</td>\n",
       "      <td>30.90</td>\n",
       "      <td>10.80</td>\n",
       "      <td>11.10</td>\n",
       "      <td>13.30</td>\n",
       "      <td>3.00</td>\n",
       "      <td>0.00</td>\n",
       "      <td>48.20</td>\n",
       "      <td>7.70</td>\n",
       "      <td>21.20</td>\n",
       "      <td>6.60</td>\n",
       "      <td>3.90</td>\n",
       "      <td>0.30</td>\n",
       "      <td>2.80</td>\n",
       "      <td>31.50</td>\n",
       "      <td>38.30</td>\n",
       "      <td>3.30</td>\n",
       "      <td>1.40</td>\n",
       "      <td>0.60</td>\n",
       "      <td>16.00</td>\n",
       "      <td>4.90</td>\n",
       "      <td>5.60</td>\n",
       "      <td>16.40</td>\n",
       "      <td>10.00</td>\n",
       "      <td>10.10</td>\n",
       "      <td>4.30</td>\n",
       "      <td>3.30</td>\n",
       "      <td>8.50</td>\n",
       "      <td>31.10</td>\n",
       "      <td>64.70</td>\n",
       "      <td>2.40</td>\n",
       "      <td>1.20</td>\n",
       "      <td>0.00</td>\n",
       "      <td>0.60</td>\n",
       "      <td>0.00</td>\n",
       "      <td>14.10</td>\n",
       "      <td>5.40</td>\n",
       "      <td>15.70</td>\n",
       "      <td>6.10</td>\n",
       "      <td>39.10</td>\n",
       "      <td>47.60</td>\n",
       "      <td>52.40</td>\n",
       "      <td>6.10</td>\n",
       "      <td>6.00</td>\n",
       "      <td>5.60</td>\n",
       "      <td>9.90</td>\n",
       "      <td>10.20</td>\n",
       "      <td>11.40</td>\n",
       "      <td>10.60</td>\n",
       "      <td>11.70</td>\n",
       "      <td>5.40</td>\n",
       "      <td>6.50</td>\n",
       "      <td>8.70</td>\n",
       "      <td>5.70</td>\n",
       "      <td>2.10</td>\n",
       "      <td>78.60</td>\n",
       "      <td>70.20</td>\n",
       "      <td>20.60</td>\n",
       "      <td>16.60</td>\n",
       "      <td>46.70</td>\n",
       "      <td>53.30</td>\n",
       "      <td>42.10</td>\n",
       "      <td>57.90</td>\n",
       "      <td>1.00</td>\n",
       "      <td>34.80</td>\n",
       "      <td>0.30</td>\n",
       "      <td>0.00</td>\n",
       "      <td>0.00</td>\n",
       "      <td>0.00</td>\n",
       "      <td>0.00</td>\n",
       "      <td>1.10</td>\n",
       "      <td>0.10</td>\n",
       "      <td>0.10</td>\n",
       "      <td>0.00</td>\n",
       "      <td>0.00</td>\n",
       "      <td>0.00</td>\n",
       "      <td>0.10</td>\n",
       "      <td>0.80</td>\n",
       "      <td>0.00</td>\n",
       "      <td>0.00</td>\n",
       "      <td>0.00</td>\n",
       "      <td>0.00</td>\n",
       "      <td>0.00</td>\n",
       "      <td>2.80</td>\n",
       "      <td>1.00</td>\n",
       "      <td>0.70</td>\n",
       "      <td>0.10</td>\n",
       "      <td>0.00</td>\n",
       "      <td>0.00</td>\n",
       "      <td>35.80</td>\n",
       "      <td>0.40</td>\n",
       "      <td>1.10</td>\n",
       "      <td>0.00</td>\n",
       "      <td>3.00</td>\n",
       "      <td>2.60</td>\n",
       "      <td>2.20</td>\n",
       "      <td>0.00</td>\n",
       "      <td>0.00</td>\n",
       "      <td>0.40</td>\n",
       "      <td>34.70</td>\n",
       "      <td>0.30</td>\n",
       "      <td>1.10</td>\n",
       "      <td>0.00</td>\n",
       "      <td>1.40</td>\n",
       "      <td>0.70</td>\n",
       "      <td>0.00</td>\n",
       "      <td>0.70</td>\n",
       "      <td>46.80</td>\n",
       "      <td>53.20</td>\n",
       "      <td>0.35</td>\n",
       "      <td>0.61</td>\n",
       "      <td>0.26</td>\n",
       "    </tr>\n",
       "    <tr>\n",
       "      <th>1</th>\n",
       "      <td>5029</td>\n",
       "      <td>66.90</td>\n",
       "      <td>26.40</td>\n",
       "      <td>49.10</td>\n",
       "      <td>15.60</td>\n",
       "      <td>4.80</td>\n",
       "      <td>3.40</td>\n",
       "      <td>13.00</td>\n",
       "      <td>7.40</td>\n",
       "      <td>33.10</td>\n",
       "      <td>29.70</td>\n",
       "      <td>13.10</td>\n",
       "      <td>29.30</td>\n",
       "      <td>32.40</td>\n",
       "      <td>40.20</td>\n",
       "      <td>19.80</td>\n",
       "      <td>28.30</td>\n",
       "      <td>7.60</td>\n",
       "      <td>4.10</td>\n",
       "      <td>1.70</td>\n",
       "      <td>25.80</td>\n",
       "      <td>57.10</td>\n",
       "      <td>1.80</td>\n",
       "      <td>3.70</td>\n",
       "      <td>11.50</td>\n",
       "      <td>20.20</td>\n",
       "      <td>51.90</td>\n",
       "      <td>2.40</td>\n",
       "      <td>12.60</td>\n",
       "      <td>12.90</td>\n",
       "      <td>5.50</td>\n",
       "      <td>6.80</td>\n",
       "      <td>24.10</td>\n",
       "      <td>5.00</td>\n",
       "      <td>10.00</td>\n",
       "      <td>42.30</td>\n",
       "      <td>19.30</td>\n",
       "      <td>6.40</td>\n",
       "      <td>11.30</td>\n",
       "      <td>5.60</td>\n",
       "      <td>85.00</td>\n",
       "      <td>16.90</td>\n",
       "      <td>9.30</td>\n",
       "      <td>20.90</td>\n",
       "      <td>7.10</td>\n",
       "      <td>19.10</td>\n",
       "      <td>44.20</td>\n",
       "      <td>11.00</td>\n",
       "      <td>6.60</td>\n",
       "      <td>4.40</td>\n",
       "      <td>3.20</td>\n",
       "      <td>1.20</td>\n",
       "      <td>0.10</td>\n",
       "      <td>75.20</td>\n",
       "      <td>22.30</td>\n",
       "      <td>0.50</td>\n",
       "      <td>2.00</td>\n",
       "      <td>1.60</td>\n",
       "      <td>3.80</td>\n",
       "      <td>1.90</td>\n",
       "      <td>3.20</td>\n",
       "      <td>1.80</td>\n",
       "      <td>0.40</td>\n",
       "      <td>0.00</td>\n",
       "      <td>0.10</td>\n",
       "      <td>0.10</td>\n",
       "      <td>0.00</td>\n",
       "      <td>0.00</td>\n",
       "      <td>24.20</td>\n",
       "      <td>0.00</td>\n",
       "      <td>0.00</td>\n",
       "      <td>0.00</td>\n",
       "      <td>0.90</td>\n",
       "      <td>5.80</td>\n",
       "      <td>4.00</td>\n",
       "      <td>0.30</td>\n",
       "      <td>12.30</td>\n",
       "      <td>0.20</td>\n",
       "      <td>0.50</td>\n",
       "      <td>9.40</td>\n",
       "      <td>2.80</td>\n",
       "      <td>0.00</td>\n",
       "      <td>0.20</td>\n",
       "      <td>0.90</td>\n",
       "      <td>0.30</td>\n",
       "      <td>0.10</td>\n",
       "      <td>1.10</td>\n",
       "      <td>1.80</td>\n",
       "      <td>0.00</td>\n",
       "      <td>0.90</td>\n",
       "      <td>0.10</td>\n",
       "      <td>0.90</td>\n",
       "      <td>0.10</td>\n",
       "      <td>0.30</td>\n",
       "      <td>0.00</td>\n",
       "      <td>54.20</td>\n",
       "      <td>54.10</td>\n",
       "      <td>50.20</td>\n",
       "      <td>3.90</td>\n",
       "      <td>0.10</td>\n",
       "      <td>45.80</td>\n",
       "      <td>7.20</td>\n",
       "      <td>49.70</td>\n",
       "      <td>49.60</td>\n",
       "      <td>45.70</td>\n",
       "      <td>83.30</td>\n",
       "      <td>10.70</td>\n",
       "      <td>0.80</td>\n",
       "      <td>1.30</td>\n",
       "      <td>1.20</td>\n",
       "      <td>2.70</td>\n",
       "      <td>28.80</td>\n",
       "      <td>14.70</td>\n",
       "      <td>23.10</td>\n",
       "      <td>17.70</td>\n",
       "      <td>15.70</td>\n",
       "      <td>8.40</td>\n",
       "      <td>8.40</td>\n",
       "      <td>11.90</td>\n",
       "      <td>2.70</td>\n",
       "      <td>11.40</td>\n",
       "      <td>6.70</td>\n",
       "      <td>1.50</td>\n",
       "      <td>6.50</td>\n",
       "      <td>5.70</td>\n",
       "      <td>23.30</td>\n",
       "      <td>6.10</td>\n",
       "      <td>3.40</td>\n",
       "      <td>3.90</td>\n",
       "      <td>77.30</td>\n",
       "      <td>16.10</td>\n",
       "      <td>6.40</td>\n",
       "      <td>0.10</td>\n",
       "      <td>10.90</td>\n",
       "      <td>9.30</td>\n",
       "      <td>14.90</td>\n",
       "      <td>11.80</td>\n",
       "      <td>12.80</td>\n",
       "      <td>17.50</td>\n",
       "      <td>10.00</td>\n",
       "      <td>8.40</td>\n",
       "      <td>1.90</td>\n",
       "      <td>2.40</td>\n",
       "      <td>66.90</td>\n",
       "      <td>41.60</td>\n",
       "      <td>19.80</td>\n",
       "      <td>9.90</td>\n",
       "      <td>2.30</td>\n",
       "      <td>17.10</td>\n",
       "      <td>5.00</td>\n",
       "      <td>5.70</td>\n",
       "      <td>13.70</td>\n",
       "      <td>10.90</td>\n",
       "      <td>14.00</td>\n",
       "      <td>22.20</td>\n",
       "      <td>11.20</td>\n",
       "      <td>11.40</td>\n",
       "      <td>2.60</td>\n",
       "      <td>3.50</td>\n",
       "      <td>89.10</td>\n",
       "      <td>58.00</td>\n",
       "      <td>44.00</td>\n",
       "      <td>10.90</td>\n",
       "      <td>3.90</td>\n",
       "      <td>86.70</td>\n",
       "      <td>79.70</td>\n",
       "      <td>9.20</td>\n",
       "      <td>13.30</td>\n",
       "      <td>38.60</td>\n",
       "      <td>51.40</td>\n",
       "      <td>15.70</td>\n",
       "      <td>28.70</td>\n",
       "      <td>8.80</td>\n",
       "      <td>38.90</td>\n",
       "      <td>21.50</td>\n",
       "      <td>33.60</td>\n",
       "      <td>32.90</td>\n",
       "      <td>33.40</td>\n",
       "      <td>18.00</td>\n",
       "      <td>19.70</td>\n",
       "      <td>12.50</td>\n",
       "      <td>17.90</td>\n",
       "      <td>38.50</td>\n",
       "      <td>85.90</td>\n",
       "      <td>14.10</td>\n",
       "      <td>75.00</td>\n",
       "      <td>0.30</td>\n",
       "      <td>4.30</td>\n",
       "      <td>1.20</td>\n",
       "      <td>1.40</td>\n",
       "      <td>0.00</td>\n",
       "      <td>1.50</td>\n",
       "      <td>15.80</td>\n",
       "      <td>0.40</td>\n",
       "      <td>0.30</td>\n",
       "      <td>2.40</td>\n",
       "      <td>15.70</td>\n",
       "      <td>13.60</td>\n",
       "      <td>18.30</td>\n",
       "      <td>19.40</td>\n",
       "      <td>10.60</td>\n",
       "      <td>8.50</td>\n",
       "      <td>4.00</td>\n",
       "      <td>7.10</td>\n",
       "      <td>2.40</td>\n",
       "      <td>0.90</td>\n",
       "      <td>4.70</td>\n",
       "      <td>12.20</td>\n",
       "      <td>35.20</td>\n",
       "      <td>21.10</td>\n",
       "      <td>11.60</td>\n",
       "      <td>5.60</td>\n",
       "      <td>6.20</td>\n",
       "      <td>2.60</td>\n",
       "      <td>5.10</td>\n",
       "      <td>23.10</td>\n",
       "      <td>60.00</td>\n",
       "      <td>7.80</td>\n",
       "      <td>1.30</td>\n",
       "      <td>72.60</td>\n",
       "      <td>27.40</td>\n",
       "      <td>3.30</td>\n",
       "      <td>28.40</td>\n",
       "      <td>31.90</td>\n",
       "      <td>14.30</td>\n",
       "      <td>9.20</td>\n",
       "      <td>12.80</td>\n",
       "      <td>6.60</td>\n",
       "      <td>31.40</td>\n",
       "      <td>40.30</td>\n",
       "      <td>21.70</td>\n",
       "      <td>25.80</td>\n",
       "      <td>6.70</td>\n",
       "      <td>59.10</td>\n",
       "      <td>0.20</td>\n",
       "      <td>0.00</td>\n",
       "      <td>6.10</td>\n",
       "      <td>0.00</td>\n",
       "      <td>1.80</td>\n",
       "      <td>0.40</td>\n",
       "      <td>0.10</td>\n",
       "      <td>0.40</td>\n",
       "      <td>2.20</td>\n",
       "      <td>2.40</td>\n",
       "      <td>0.40</td>\n",
       "      <td>17.80</td>\n",
       "      <td>32.10</td>\n",
       "      <td>19.70</td>\n",
       "      <td>14.00</td>\n",
       "      <td>11.00</td>\n",
       "      <td>3.30</td>\n",
       "      <td>0.20</td>\n",
       "      <td>51.70</td>\n",
       "      <td>6.10</td>\n",
       "      <td>28.50</td>\n",
       "      <td>6.90</td>\n",
       "      <td>1.00</td>\n",
       "      <td>0.60</td>\n",
       "      <td>0.50</td>\n",
       "      <td>30.30</td>\n",
       "      <td>43.70</td>\n",
       "      <td>5.10</td>\n",
       "      <td>1.30</td>\n",
       "      <td>0.20</td>\n",
       "      <td>10.20</td>\n",
       "      <td>7.50</td>\n",
       "      <td>11.80</td>\n",
       "      <td>16.40</td>\n",
       "      <td>12.00</td>\n",
       "      <td>5.80</td>\n",
       "      <td>2.40</td>\n",
       "      <td>1.40</td>\n",
       "      <td>7.60</td>\n",
       "      <td>34.70</td>\n",
       "      <td>60.30</td>\n",
       "      <td>5.00</td>\n",
       "      <td>0.00</td>\n",
       "      <td>0.00</td>\n",
       "      <td>0.00</td>\n",
       "      <td>0.00</td>\n",
       "      <td>10.60</td>\n",
       "      <td>3.70</td>\n",
       "      <td>11.70</td>\n",
       "      <td>7.50</td>\n",
       "      <td>50.10</td>\n",
       "      <td>48.90</td>\n",
       "      <td>51.10</td>\n",
       "      <td>6.00</td>\n",
       "      <td>6.90</td>\n",
       "      <td>6.20</td>\n",
       "      <td>6.00</td>\n",
       "      <td>5.90</td>\n",
       "      <td>11.70</td>\n",
       "      <td>11.50</td>\n",
       "      <td>13.80</td>\n",
       "      <td>7.10</td>\n",
       "      <td>6.40</td>\n",
       "      <td>10.30</td>\n",
       "      <td>5.40</td>\n",
       "      <td>2.70</td>\n",
       "      <td>76.90</td>\n",
       "      <td>73.40</td>\n",
       "      <td>22.00</td>\n",
       "      <td>18.30</td>\n",
       "      <td>48.60</td>\n",
       "      <td>51.40</td>\n",
       "      <td>45.20</td>\n",
       "      <td>54.80</td>\n",
       "      <td>2.10</td>\n",
       "      <td>11.80</td>\n",
       "      <td>0.50</td>\n",
       "      <td>0.30</td>\n",
       "      <td>0.00</td>\n",
       "      <td>0.00</td>\n",
       "      <td>0.00</td>\n",
       "      <td>0.10</td>\n",
       "      <td>0.00</td>\n",
       "      <td>0.00</td>\n",
       "      <td>0.00</td>\n",
       "      <td>0.00</td>\n",
       "      <td>0.00</td>\n",
       "      <td>0.00</td>\n",
       "      <td>0.10</td>\n",
       "      <td>0.00</td>\n",
       "      <td>0.00</td>\n",
       "      <td>0.00</td>\n",
       "      <td>0.00</td>\n",
       "      <td>0.00</td>\n",
       "      <td>0.20</td>\n",
       "      <td>2.10</td>\n",
       "      <td>0.60</td>\n",
       "      <td>1.00</td>\n",
       "      <td>0.10</td>\n",
       "      <td>0.00</td>\n",
       "      <td>12.70</td>\n",
       "      <td>1.80</td>\n",
       "      <td>0.20</td>\n",
       "      <td>0.10</td>\n",
       "      <td>0.20</td>\n",
       "      <td>3.80</td>\n",
       "      <td>3.20</td>\n",
       "      <td>0.00</td>\n",
       "      <td>0.00</td>\n",
       "      <td>0.60</td>\n",
       "      <td>11.80</td>\n",
       "      <td>0.50</td>\n",
       "      <td>0.10</td>\n",
       "      <td>0.00</td>\n",
       "      <td>0.00</td>\n",
       "      <td>2.10</td>\n",
       "      <td>0.00</td>\n",
       "      <td>2.10</td>\n",
       "      <td>48.70</td>\n",
       "      <td>51.30</td>\n",
       "      <td>0.34</td>\n",
       "      <td>0.61</td>\n",
       "      <td>0.28</td>\n",
       "    </tr>\n",
       "    <tr>\n",
       "      <th>2</th>\n",
       "      <td>5031</td>\n",
       "      <td>66.40</td>\n",
       "      <td>30.20</td>\n",
       "      <td>45.30</td>\n",
       "      <td>17.40</td>\n",
       "      <td>6.30</td>\n",
       "      <td>4.10</td>\n",
       "      <td>14.70</td>\n",
       "      <td>8.70</td>\n",
       "      <td>33.60</td>\n",
       "      <td>26.60</td>\n",
       "      <td>9.00</td>\n",
       "      <td>34.70</td>\n",
       "      <td>23.50</td>\n",
       "      <td>39.30</td>\n",
       "      <td>17.80</td>\n",
       "      <td>29.00</td>\n",
       "      <td>7.30</td>\n",
       "      <td>6.60</td>\n",
       "      <td>2.80</td>\n",
       "      <td>33.00</td>\n",
       "      <td>49.90</td>\n",
       "      <td>1.60</td>\n",
       "      <td>2.30</td>\n",
       "      <td>13.20</td>\n",
       "      <td>27.60</td>\n",
       "      <td>45.00</td>\n",
       "      <td>2.70</td>\n",
       "      <td>10.00</td>\n",
       "      <td>14.60</td>\n",
       "      <td>7.40</td>\n",
       "      <td>6.30</td>\n",
       "      <td>16.20</td>\n",
       "      <td>4.00</td>\n",
       "      <td>8.10</td>\n",
       "      <td>34.20</td>\n",
       "      <td>22.30</td>\n",
       "      <td>6.00</td>\n",
       "      <td>16.10</td>\n",
       "      <td>9.30</td>\n",
       "      <td>88.00</td>\n",
       "      <td>25.40</td>\n",
       "      <td>7.60</td>\n",
       "      <td>17.70</td>\n",
       "      <td>9.20</td>\n",
       "      <td>15.40</td>\n",
       "      <td>46.30</td>\n",
       "      <td>22.90</td>\n",
       "      <td>14.70</td>\n",
       "      <td>8.20</td>\n",
       "      <td>5.90</td>\n",
       "      <td>2.30</td>\n",
       "      <td>0.40</td>\n",
       "      <td>68.60</td>\n",
       "      <td>27.20</td>\n",
       "      <td>0.40</td>\n",
       "      <td>3.80</td>\n",
       "      <td>4.70</td>\n",
       "      <td>5.40</td>\n",
       "      <td>2.30</td>\n",
       "      <td>3.50</td>\n",
       "      <td>1.60</td>\n",
       "      <td>0.70</td>\n",
       "      <td>0.20</td>\n",
       "      <td>0.80</td>\n",
       "      <td>0.40</td>\n",
       "      <td>0.30</td>\n",
       "      <td>0.00</td>\n",
       "      <td>16.80</td>\n",
       "      <td>0.10</td>\n",
       "      <td>0.00</td>\n",
       "      <td>0.10</td>\n",
       "      <td>0.70</td>\n",
       "      <td>6.60</td>\n",
       "      <td>1.70</td>\n",
       "      <td>0.30</td>\n",
       "      <td>9.50</td>\n",
       "      <td>0.10</td>\n",
       "      <td>0.00</td>\n",
       "      <td>10.50</td>\n",
       "      <td>2.00</td>\n",
       "      <td>0.00</td>\n",
       "      <td>0.30</td>\n",
       "      <td>0.70</td>\n",
       "      <td>0.10</td>\n",
       "      <td>0.30</td>\n",
       "      <td>1.10</td>\n",
       "      <td>1.60</td>\n",
       "      <td>0.10</td>\n",
       "      <td>0.70</td>\n",
       "      <td>0.30</td>\n",
       "      <td>0.00</td>\n",
       "      <td>0.10</td>\n",
       "      <td>0.40</td>\n",
       "      <td>0.10</td>\n",
       "      <td>62.70</td>\n",
       "      <td>62.70</td>\n",
       "      <td>58.70</td>\n",
       "      <td>4.00</td>\n",
       "      <td>0.10</td>\n",
       "      <td>37.30</td>\n",
       "      <td>6.30</td>\n",
       "      <td>56.60</td>\n",
       "      <td>56.60</td>\n",
       "      <td>52.80</td>\n",
       "      <td>82.60</td>\n",
       "      <td>10.40</td>\n",
       "      <td>0.30</td>\n",
       "      <td>2.10</td>\n",
       "      <td>1.10</td>\n",
       "      <td>3.50</td>\n",
       "      <td>33.40</td>\n",
       "      <td>16.20</td>\n",
       "      <td>23.60</td>\n",
       "      <td>10.10</td>\n",
       "      <td>16.70</td>\n",
       "      <td>2.10</td>\n",
       "      <td>7.20</td>\n",
       "      <td>14.30</td>\n",
       "      <td>2.30</td>\n",
       "      <td>13.20</td>\n",
       "      <td>4.40</td>\n",
       "      <td>1.70</td>\n",
       "      <td>5.00</td>\n",
       "      <td>5.90</td>\n",
       "      <td>28.00</td>\n",
       "      <td>9.10</td>\n",
       "      <td>4.30</td>\n",
       "      <td>2.40</td>\n",
       "      <td>79.30</td>\n",
       "      <td>13.80</td>\n",
       "      <td>6.80</td>\n",
       "      <td>0.10</td>\n",
       "      <td>8.30</td>\n",
       "      <td>6.70</td>\n",
       "      <td>13.50</td>\n",
       "      <td>11.50</td>\n",
       "      <td>16.00</td>\n",
       "      <td>18.10</td>\n",
       "      <td>10.80</td>\n",
       "      <td>9.20</td>\n",
       "      <td>3.10</td>\n",
       "      <td>2.80</td>\n",
       "      <td>78.50</td>\n",
       "      <td>29.80</td>\n",
       "      <td>17.70</td>\n",
       "      <td>7.80</td>\n",
       "      <td>1.90</td>\n",
       "      <td>15.60</td>\n",
       "      <td>4.80</td>\n",
       "      <td>3.30</td>\n",
       "      <td>10.80</td>\n",
       "      <td>10.90</td>\n",
       "      <td>16.50</td>\n",
       "      <td>19.70</td>\n",
       "      <td>13.70</td>\n",
       "      <td>12.40</td>\n",
       "      <td>4.00</td>\n",
       "      <td>3.90</td>\n",
       "      <td>86.40</td>\n",
       "      <td>58.00</td>\n",
       "      <td>39.50</td>\n",
       "      <td>13.60</td>\n",
       "      <td>4.90</td>\n",
       "      <td>80.40</td>\n",
       "      <td>73.10</td>\n",
       "      <td>9.60</td>\n",
       "      <td>19.60</td>\n",
       "      <td>41.70</td>\n",
       "      <td>49.00</td>\n",
       "      <td>13.20</td>\n",
       "      <td>21.20</td>\n",
       "      <td>5.50</td>\n",
       "      <td>35.30</td>\n",
       "      <td>18.90</td>\n",
       "      <td>27.60</td>\n",
       "      <td>27.40</td>\n",
       "      <td>25.00</td>\n",
       "      <td>16.00</td>\n",
       "      <td>17.80</td>\n",
       "      <td>7.50</td>\n",
       "      <td>15.70</td>\n",
       "      <td>32.20</td>\n",
       "      <td>90.20</td>\n",
       "      <td>9.80</td>\n",
       "      <td>69.50</td>\n",
       "      <td>1.30</td>\n",
       "      <td>3.40</td>\n",
       "      <td>6.70</td>\n",
       "      <td>4.40</td>\n",
       "      <td>4.90</td>\n",
       "      <td>3.60</td>\n",
       "      <td>6.20</td>\n",
       "      <td>0.00</td>\n",
       "      <td>1.30</td>\n",
       "      <td>7.30</td>\n",
       "      <td>19.20</td>\n",
       "      <td>20.50</td>\n",
       "      <td>13.60</td>\n",
       "      <td>17.70</td>\n",
       "      <td>8.80</td>\n",
       "      <td>5.40</td>\n",
       "      <td>2.30</td>\n",
       "      <td>3.90</td>\n",
       "      <td>1.10</td>\n",
       "      <td>2.20</td>\n",
       "      <td>9.60</td>\n",
       "      <td>16.10</td>\n",
       "      <td>22.20</td>\n",
       "      <td>19.30</td>\n",
       "      <td>12.80</td>\n",
       "      <td>8.30</td>\n",
       "      <td>8.30</td>\n",
       "      <td>1.20</td>\n",
       "      <td>8.20</td>\n",
       "      <td>27.00</td>\n",
       "      <td>49.20</td>\n",
       "      <td>12.00</td>\n",
       "      <td>2.30</td>\n",
       "      <td>58.90</td>\n",
       "      <td>41.10</td>\n",
       "      <td>5.80</td>\n",
       "      <td>41.90</td>\n",
       "      <td>29.30</td>\n",
       "      <td>12.50</td>\n",
       "      <td>4.70</td>\n",
       "      <td>5.80</td>\n",
       "      <td>7.40</td>\n",
       "      <td>33.50</td>\n",
       "      <td>41.10</td>\n",
       "      <td>17.90</td>\n",
       "      <td>39.30</td>\n",
       "      <td>5.40</td>\n",
       "      <td>53.70</td>\n",
       "      <td>0.00</td>\n",
       "      <td>0.00</td>\n",
       "      <td>1.20</td>\n",
       "      <td>0.00</td>\n",
       "      <td>0.20</td>\n",
       "      <td>0.20</td>\n",
       "      <td>0.10</td>\n",
       "      <td>1.10</td>\n",
       "      <td>2.70</td>\n",
       "      <td>1.90</td>\n",
       "      <td>0.50</td>\n",
       "      <td>11.30</td>\n",
       "      <td>23.90</td>\n",
       "      <td>24.10</td>\n",
       "      <td>17.70</td>\n",
       "      <td>13.10</td>\n",
       "      <td>6.40</td>\n",
       "      <td>1.30</td>\n",
       "      <td>63.00</td>\n",
       "      <td>3.40</td>\n",
       "      <td>27.50</td>\n",
       "      <td>13.40</td>\n",
       "      <td>5.30</td>\n",
       "      <td>2.20</td>\n",
       "      <td>2.20</td>\n",
       "      <td>28.80</td>\n",
       "      <td>39.60</td>\n",
       "      <td>7.00</td>\n",
       "      <td>1.30</td>\n",
       "      <td>0.80</td>\n",
       "      <td>14.80</td>\n",
       "      <td>8.50</td>\n",
       "      <td>4.90</td>\n",
       "      <td>19.10</td>\n",
       "      <td>9.60</td>\n",
       "      <td>5.70</td>\n",
       "      <td>3.20</td>\n",
       "      <td>1.70</td>\n",
       "      <td>7.40</td>\n",
       "      <td>18.00</td>\n",
       "      <td>67.40</td>\n",
       "      <td>12.00</td>\n",
       "      <td>2.20</td>\n",
       "      <td>0.40</td>\n",
       "      <td>0.10</td>\n",
       "      <td>0.10</td>\n",
       "      <td>14.30</td>\n",
       "      <td>13.90</td>\n",
       "      <td>11.10</td>\n",
       "      <td>8.50</td>\n",
       "      <td>39.30</td>\n",
       "      <td>48.70</td>\n",
       "      <td>51.30</td>\n",
       "      <td>7.00</td>\n",
       "      <td>7.80</td>\n",
       "      <td>6.10</td>\n",
       "      <td>7.30</td>\n",
       "      <td>8.20</td>\n",
       "      <td>15.00</td>\n",
       "      <td>12.80</td>\n",
       "      <td>12.00</td>\n",
       "      <td>5.50</td>\n",
       "      <td>5.40</td>\n",
       "      <td>7.50</td>\n",
       "      <td>3.70</td>\n",
       "      <td>1.70</td>\n",
       "      <td>75.20</td>\n",
       "      <td>70.30</td>\n",
       "      <td>16.20</td>\n",
       "      <td>12.80</td>\n",
       "      <td>47.80</td>\n",
       "      <td>52.20</td>\n",
       "      <td>42.20</td>\n",
       "      <td>57.80</td>\n",
       "      <td>1.90</td>\n",
       "      <td>13.80</td>\n",
       "      <td>0.60</td>\n",
       "      <td>0.10</td>\n",
       "      <td>0.00</td>\n",
       "      <td>0.00</td>\n",
       "      <td>0.00</td>\n",
       "      <td>1.20</td>\n",
       "      <td>0.20</td>\n",
       "      <td>0.40</td>\n",
       "      <td>0.20</td>\n",
       "      <td>0.10</td>\n",
       "      <td>0.10</td>\n",
       "      <td>0.10</td>\n",
       "      <td>0.20</td>\n",
       "      <td>0.10</td>\n",
       "      <td>0.00</td>\n",
       "      <td>0.00</td>\n",
       "      <td>0.00</td>\n",
       "      <td>0.10</td>\n",
       "      <td>1.60</td>\n",
       "      <td>1.90</td>\n",
       "      <td>1.00</td>\n",
       "      <td>0.40</td>\n",
       "      <td>0.10</td>\n",
       "      <td>0.20</td>\n",
       "      <td>15.10</td>\n",
       "      <td>1.30</td>\n",
       "      <td>1.30</td>\n",
       "      <td>0.10</td>\n",
       "      <td>1.70</td>\n",
       "      <td>4.70</td>\n",
       "      <td>3.80</td>\n",
       "      <td>0.10</td>\n",
       "      <td>0.00</td>\n",
       "      <td>0.80</td>\n",
       "      <td>13.80</td>\n",
       "      <td>0.30</td>\n",
       "      <td>1.20</td>\n",
       "      <td>0.10</td>\n",
       "      <td>0.10</td>\n",
       "      <td>1.90</td>\n",
       "      <td>0.10</td>\n",
       "      <td>1.80</td>\n",
       "      <td>47.70</td>\n",
       "      <td>52.30</td>\n",
       "      <td>0.30</td>\n",
       "      <td>0.64</td>\n",
       "      <td>0.35</td>\n",
       "    </tr>\n",
       "    <tr>\n",
       "      <th>3</th>\n",
       "      <td>5033</td>\n",
       "      <td>75.50</td>\n",
       "      <td>30.00</td>\n",
       "      <td>58.10</td>\n",
       "      <td>20.90</td>\n",
       "      <td>4.80</td>\n",
       "      <td>2.40</td>\n",
       "      <td>12.70</td>\n",
       "      <td>6.60</td>\n",
       "      <td>24.50</td>\n",
       "      <td>21.50</td>\n",
       "      <td>9.20</td>\n",
       "      <td>36.30</td>\n",
       "      <td>27.80</td>\n",
       "      <td>38.40</td>\n",
       "      <td>22.30</td>\n",
       "      <td>29.40</td>\n",
       "      <td>6.60</td>\n",
       "      <td>3.30</td>\n",
       "      <td>1.60</td>\n",
       "      <td>24.50</td>\n",
       "      <td>60.80</td>\n",
       "      <td>1.80</td>\n",
       "      <td>1.90</td>\n",
       "      <td>11.10</td>\n",
       "      <td>17.50</td>\n",
       "      <td>56.70</td>\n",
       "      <td>1.50</td>\n",
       "      <td>11.30</td>\n",
       "      <td>13.00</td>\n",
       "      <td>7.00</td>\n",
       "      <td>5.50</td>\n",
       "      <td>24.00</td>\n",
       "      <td>5.40</td>\n",
       "      <td>9.30</td>\n",
       "      <td>40.00</td>\n",
       "      <td>23.70</td>\n",
       "      <td>8.10</td>\n",
       "      <td>9.40</td>\n",
       "      <td>4.10</td>\n",
       "      <td>85.30</td>\n",
       "      <td>13.50</td>\n",
       "      <td>10.40</td>\n",
       "      <td>18.80</td>\n",
       "      <td>6.00</td>\n",
       "      <td>17.90</td>\n",
       "      <td>43.80</td>\n",
       "      <td>13.90</td>\n",
       "      <td>8.10</td>\n",
       "      <td>5.80</td>\n",
       "      <td>3.40</td>\n",
       "      <td>2.30</td>\n",
       "      <td>0.10</td>\n",
       "      <td>64.50</td>\n",
       "      <td>30.70</td>\n",
       "      <td>0.60</td>\n",
       "      <td>4.20</td>\n",
       "      <td>3.50</td>\n",
       "      <td>7.20</td>\n",
       "      <td>3.60</td>\n",
       "      <td>5.50</td>\n",
       "      <td>2.80</td>\n",
       "      <td>0.40</td>\n",
       "      <td>0.20</td>\n",
       "      <td>1.20</td>\n",
       "      <td>0.70</td>\n",
       "      <td>0.00</td>\n",
       "      <td>0.00</td>\n",
       "      <td>13.50</td>\n",
       "      <td>0.10</td>\n",
       "      <td>0.20</td>\n",
       "      <td>0.10</td>\n",
       "      <td>1.80</td>\n",
       "      <td>16.50</td>\n",
       "      <td>2.10</td>\n",
       "      <td>0.20</td>\n",
       "      <td>12.00</td>\n",
       "      <td>0.00</td>\n",
       "      <td>0.10</td>\n",
       "      <td>12.60</td>\n",
       "      <td>1.00</td>\n",
       "      <td>0.10</td>\n",
       "      <td>0.50</td>\n",
       "      <td>0.40</td>\n",
       "      <td>0.10</td>\n",
       "      <td>0.20</td>\n",
       "      <td>1.00</td>\n",
       "      <td>1.80</td>\n",
       "      <td>0.00</td>\n",
       "      <td>0.10</td>\n",
       "      <td>0.40</td>\n",
       "      <td>0.10</td>\n",
       "      <td>0.00</td>\n",
       "      <td>0.30</td>\n",
       "      <td>0.20</td>\n",
       "      <td>57.10</td>\n",
       "      <td>57.10</td>\n",
       "      <td>53.00</td>\n",
       "      <td>4.00</td>\n",
       "      <td>0.00</td>\n",
       "      <td>42.90</td>\n",
       "      <td>7.10</td>\n",
       "      <td>51.70</td>\n",
       "      <td>51.70</td>\n",
       "      <td>48.70</td>\n",
       "      <td>86.50</td>\n",
       "      <td>9.20</td>\n",
       "      <td>0.20</td>\n",
       "      <td>1.80</td>\n",
       "      <td>0.40</td>\n",
       "      <td>2.00</td>\n",
       "      <td>28.50</td>\n",
       "      <td>17.00</td>\n",
       "      <td>24.40</td>\n",
       "      <td>11.50</td>\n",
       "      <td>18.70</td>\n",
       "      <td>2.30</td>\n",
       "      <td>7.40</td>\n",
       "      <td>16.70</td>\n",
       "      <td>2.90</td>\n",
       "      <td>12.20</td>\n",
       "      <td>6.00</td>\n",
       "      <td>1.10</td>\n",
       "      <td>5.10</td>\n",
       "      <td>6.30</td>\n",
       "      <td>23.90</td>\n",
       "      <td>6.90</td>\n",
       "      <td>4.70</td>\n",
       "      <td>4.30</td>\n",
       "      <td>81.10</td>\n",
       "      <td>14.50</td>\n",
       "      <td>4.30</td>\n",
       "      <td>0.10</td>\n",
       "      <td>8.70</td>\n",
       "      <td>6.10</td>\n",
       "      <td>13.90</td>\n",
       "      <td>12.80</td>\n",
       "      <td>17.60</td>\n",
       "      <td>19.40</td>\n",
       "      <td>10.30</td>\n",
       "      <td>8.10</td>\n",
       "      <td>1.50</td>\n",
       "      <td>1.60</td>\n",
       "      <td>72.20</td>\n",
       "      <td>37.70</td>\n",
       "      <td>17.20</td>\n",
       "      <td>7.10</td>\n",
       "      <td>2.60</td>\n",
       "      <td>14.90</td>\n",
       "      <td>6.70</td>\n",
       "      <td>3.40</td>\n",
       "      <td>10.90</td>\n",
       "      <td>11.50</td>\n",
       "      <td>18.90</td>\n",
       "      <td>22.00</td>\n",
       "      <td>12.60</td>\n",
       "      <td>10.00</td>\n",
       "      <td>2.00</td>\n",
       "      <td>2.00</td>\n",
       "      <td>87.20</td>\n",
       "      <td>57.00</td>\n",
       "      <td>41.50</td>\n",
       "      <td>12.80</td>\n",
       "      <td>7.00</td>\n",
       "      <td>83.90</td>\n",
       "      <td>77.00</td>\n",
       "      <td>10.60</td>\n",
       "      <td>16.10</td>\n",
       "      <td>38.30</td>\n",
       "      <td>54.30</td>\n",
       "      <td>14.70</td>\n",
       "      <td>23.60</td>\n",
       "      <td>8.70</td>\n",
       "      <td>38.30</td>\n",
       "      <td>18.80</td>\n",
       "      <td>27.30</td>\n",
       "      <td>27.10</td>\n",
       "      <td>27.90</td>\n",
       "      <td>15.90</td>\n",
       "      <td>17.00</td>\n",
       "      <td>11.70</td>\n",
       "      <td>16.60</td>\n",
       "      <td>33.80</td>\n",
       "      <td>89.10</td>\n",
       "      <td>10.90</td>\n",
       "      <td>76.50</td>\n",
       "      <td>1.40</td>\n",
       "      <td>2.90</td>\n",
       "      <td>2.30</td>\n",
       "      <td>2.10</td>\n",
       "      <td>1.80</td>\n",
       "      <td>1.00</td>\n",
       "      <td>11.90</td>\n",
       "      <td>0.00</td>\n",
       "      <td>0.60</td>\n",
       "      <td>4.00</td>\n",
       "      <td>17.40</td>\n",
       "      <td>23.50</td>\n",
       "      <td>17.70</td>\n",
       "      <td>15.50</td>\n",
       "      <td>7.90</td>\n",
       "      <td>5.90</td>\n",
       "      <td>3.60</td>\n",
       "      <td>3.90</td>\n",
       "      <td>1.70</td>\n",
       "      <td>1.30</td>\n",
       "      <td>4.20</td>\n",
       "      <td>12.90</td>\n",
       "      <td>30.90</td>\n",
       "      <td>22.60</td>\n",
       "      <td>13.80</td>\n",
       "      <td>6.50</td>\n",
       "      <td>6.10</td>\n",
       "      <td>1.80</td>\n",
       "      <td>5.30</td>\n",
       "      <td>23.80</td>\n",
       "      <td>55.40</td>\n",
       "      <td>11.90</td>\n",
       "      <td>1.70</td>\n",
       "      <td>76.40</td>\n",
       "      <td>23.60</td>\n",
       "      <td>3.90</td>\n",
       "      <td>27.70</td>\n",
       "      <td>35.00</td>\n",
       "      <td>18.20</td>\n",
       "      <td>8.10</td>\n",
       "      <td>7.20</td>\n",
       "      <td>3.90</td>\n",
       "      <td>33.10</td>\n",
       "      <td>41.10</td>\n",
       "      <td>22.00</td>\n",
       "      <td>35.40</td>\n",
       "      <td>3.90</td>\n",
       "      <td>53.10</td>\n",
       "      <td>0.20</td>\n",
       "      <td>0.10</td>\n",
       "      <td>5.90</td>\n",
       "      <td>0.00</td>\n",
       "      <td>0.70</td>\n",
       "      <td>0.70</td>\n",
       "      <td>0.20</td>\n",
       "      <td>0.70</td>\n",
       "      <td>2.90</td>\n",
       "      <td>2.80</td>\n",
       "      <td>1.00</td>\n",
       "      <td>13.70</td>\n",
       "      <td>31.00</td>\n",
       "      <td>24.20</td>\n",
       "      <td>16.60</td>\n",
       "      <td>10.40</td>\n",
       "      <td>3.40</td>\n",
       "      <td>0.00</td>\n",
       "      <td>56.40</td>\n",
       "      <td>4.80</td>\n",
       "      <td>31.30</td>\n",
       "      <td>7.80</td>\n",
       "      <td>2.50</td>\n",
       "      <td>0.50</td>\n",
       "      <td>1.30</td>\n",
       "      <td>32.70</td>\n",
       "      <td>36.90</td>\n",
       "      <td>3.80</td>\n",
       "      <td>1.40</td>\n",
       "      <td>0.30</td>\n",
       "      <td>15.20</td>\n",
       "      <td>10.60</td>\n",
       "      <td>5.80</td>\n",
       "      <td>21.90</td>\n",
       "      <td>14.60</td>\n",
       "      <td>5.70</td>\n",
       "      <td>3.20</td>\n",
       "      <td>1.90</td>\n",
       "      <td>6.30</td>\n",
       "      <td>23.90</td>\n",
       "      <td>70.60</td>\n",
       "      <td>4.50</td>\n",
       "      <td>0.20</td>\n",
       "      <td>0.80</td>\n",
       "      <td>0.00</td>\n",
       "      <td>0.00</td>\n",
       "      <td>14.60</td>\n",
       "      <td>15.60</td>\n",
       "      <td>12.20</td>\n",
       "      <td>8.20</td>\n",
       "      <td>36.20</td>\n",
       "      <td>49.20</td>\n",
       "      <td>50.80</td>\n",
       "      <td>6.10</td>\n",
       "      <td>6.90</td>\n",
       "      <td>7.60</td>\n",
       "      <td>6.70</td>\n",
       "      <td>5.90</td>\n",
       "      <td>12.10</td>\n",
       "      <td>12.90</td>\n",
       "      <td>13.80</td>\n",
       "      <td>6.90</td>\n",
       "      <td>5.90</td>\n",
       "      <td>9.20</td>\n",
       "      <td>4.50</td>\n",
       "      <td>1.60</td>\n",
       "      <td>74.90</td>\n",
       "      <td>71.70</td>\n",
       "      <td>18.90</td>\n",
       "      <td>15.30</td>\n",
       "      <td>48.60</td>\n",
       "      <td>51.40</td>\n",
       "      <td>44.60</td>\n",
       "      <td>55.40</td>\n",
       "      <td>3.10</td>\n",
       "      <td>1.30</td>\n",
       "      <td>2.00</td>\n",
       "      <td>1.00</td>\n",
       "      <td>0.00</td>\n",
       "      <td>0.00</td>\n",
       "      <td>0.30</td>\n",
       "      <td>1.80</td>\n",
       "      <td>0.00</td>\n",
       "      <td>0.00</td>\n",
       "      <td>0.50</td>\n",
       "      <td>0.00</td>\n",
       "      <td>0.10</td>\n",
       "      <td>0.30</td>\n",
       "      <td>0.90</td>\n",
       "      <td>0.00</td>\n",
       "      <td>0.00</td>\n",
       "      <td>0.00</td>\n",
       "      <td>0.00</td>\n",
       "      <td>0.00</td>\n",
       "      <td>1.50</td>\n",
       "      <td>3.10</td>\n",
       "      <td>0.50</td>\n",
       "      <td>2.40</td>\n",
       "      <td>0.10</td>\n",
       "      <td>0.00</td>\n",
       "      <td>1.90</td>\n",
       "      <td>4.50</td>\n",
       "      <td>1.90</td>\n",
       "      <td>0.10</td>\n",
       "      <td>1.60</td>\n",
       "      <td>7.00</td>\n",
       "      <td>4.50</td>\n",
       "      <td>0.30</td>\n",
       "      <td>0.00</td>\n",
       "      <td>2.20</td>\n",
       "      <td>1.30</td>\n",
       "      <td>1.40</td>\n",
       "      <td>1.70</td>\n",
       "      <td>0.00</td>\n",
       "      <td>0.00</td>\n",
       "      <td>3.00</td>\n",
       "      <td>0.00</td>\n",
       "      <td>3.00</td>\n",
       "      <td>48.90</td>\n",
       "      <td>51.10</td>\n",
       "      <td>0.20</td>\n",
       "      <td>0.74</td>\n",
       "      <td>0.54</td>\n",
       "    </tr>\n",
       "    <tr>\n",
       "      <th>4</th>\n",
       "      <td>5035</td>\n",
       "      <td>66.40</td>\n",
       "      <td>31.60</td>\n",
       "      <td>38.70</td>\n",
       "      <td>15.10</td>\n",
       "      <td>4.20</td>\n",
       "      <td>2.10</td>\n",
       "      <td>23.60</td>\n",
       "      <td>14.40</td>\n",
       "      <td>33.60</td>\n",
       "      <td>27.80</td>\n",
       "      <td>9.80</td>\n",
       "      <td>37.00</td>\n",
       "      <td>24.40</td>\n",
       "      <td>37.90</td>\n",
       "      <td>14.70</td>\n",
       "      <td>33.90</td>\n",
       "      <td>8.90</td>\n",
       "      <td>4.60</td>\n",
       "      <td>2.40</td>\n",
       "      <td>37.20</td>\n",
       "      <td>44.10</td>\n",
       "      <td>3.50</td>\n",
       "      <td>3.10</td>\n",
       "      <td>12.10</td>\n",
       "      <td>33.00</td>\n",
       "      <td>37.70</td>\n",
       "      <td>5.40</td>\n",
       "      <td>10.10</td>\n",
       "      <td>13.80</td>\n",
       "      <td>7.20</td>\n",
       "      <td>6.70</td>\n",
       "      <td>21.00</td>\n",
       "      <td>6.10</td>\n",
       "      <td>12.20</td>\n",
       "      <td>35.60</td>\n",
       "      <td>22.30</td>\n",
       "      <td>6.50</td>\n",
       "      <td>11.90</td>\n",
       "      <td>5.50</td>\n",
       "      <td>81.80</td>\n",
       "      <td>17.40</td>\n",
       "      <td>8.10</td>\n",
       "      <td>17.50</td>\n",
       "      <td>6.70</td>\n",
       "      <td>16.60</td>\n",
       "      <td>48.30</td>\n",
       "      <td>15.40</td>\n",
       "      <td>11.00</td>\n",
       "      <td>4.40</td>\n",
       "      <td>1.70</td>\n",
       "      <td>2.80</td>\n",
       "      <td>0.30</td>\n",
       "      <td>54.80</td>\n",
       "      <td>43.20</td>\n",
       "      <td>0.50</td>\n",
       "      <td>1.50</td>\n",
       "      <td>1.40</td>\n",
       "      <td>2.80</td>\n",
       "      <td>1.20</td>\n",
       "      <td>1.80</td>\n",
       "      <td>0.80</td>\n",
       "      <td>0.30</td>\n",
       "      <td>0.20</td>\n",
       "      <td>0.50</td>\n",
       "      <td>0.20</td>\n",
       "      <td>0.20</td>\n",
       "      <td>0.00</td>\n",
       "      <td>7.00</td>\n",
       "      <td>0.30</td>\n",
       "      <td>0.10</td>\n",
       "      <td>0.00</td>\n",
       "      <td>1.60</td>\n",
       "      <td>4.60</td>\n",
       "      <td>0.80</td>\n",
       "      <td>0.10</td>\n",
       "      <td>4.20</td>\n",
       "      <td>0.00</td>\n",
       "      <td>0.20</td>\n",
       "      <td>5.80</td>\n",
       "      <td>1.20</td>\n",
       "      <td>0.00</td>\n",
       "      <td>0.00</td>\n",
       "      <td>0.40</td>\n",
       "      <td>0.00</td>\n",
       "      <td>0.00</td>\n",
       "      <td>0.90</td>\n",
       "      <td>0.90</td>\n",
       "      <td>0.00</td>\n",
       "      <td>0.50</td>\n",
       "      <td>0.30</td>\n",
       "      <td>0.10</td>\n",
       "      <td>0.00</td>\n",
       "      <td>0.10</td>\n",
       "      <td>0.00</td>\n",
       "      <td>60.50</td>\n",
       "      <td>60.50</td>\n",
       "      <td>55.00</td>\n",
       "      <td>5.50</td>\n",
       "      <td>0.00</td>\n",
       "      <td>39.50</td>\n",
       "      <td>9.10</td>\n",
       "      <td>56.20</td>\n",
       "      <td>56.20</td>\n",
       "      <td>50.30</td>\n",
       "      <td>81.80</td>\n",
       "      <td>11.00</td>\n",
       "      <td>0.30</td>\n",
       "      <td>1.90</td>\n",
       "      <td>2.40</td>\n",
       "      <td>2.60</td>\n",
       "      <td>30.90</td>\n",
       "      <td>17.20</td>\n",
       "      <td>24.20</td>\n",
       "      <td>9.80</td>\n",
       "      <td>17.90</td>\n",
       "      <td>3.40</td>\n",
       "      <td>3.40</td>\n",
       "      <td>11.40</td>\n",
       "      <td>4.00</td>\n",
       "      <td>11.80</td>\n",
       "      <td>9.90</td>\n",
       "      <td>1.60</td>\n",
       "      <td>4.00</td>\n",
       "      <td>6.30</td>\n",
       "      <td>26.20</td>\n",
       "      <td>8.60</td>\n",
       "      <td>4.60</td>\n",
       "      <td>4.60</td>\n",
       "      <td>76.20</td>\n",
       "      <td>17.80</td>\n",
       "      <td>5.60</td>\n",
       "      <td>0.40</td>\n",
       "      <td>10.10</td>\n",
       "      <td>6.90</td>\n",
       "      <td>16.40</td>\n",
       "      <td>13.00</td>\n",
       "      <td>11.90</td>\n",
       "      <td>18.50</td>\n",
       "      <td>9.70</td>\n",
       "      <td>9.00</td>\n",
       "      <td>2.60</td>\n",
       "      <td>1.70</td>\n",
       "      <td>75.20</td>\n",
       "      <td>30.00</td>\n",
       "      <td>15.10</td>\n",
       "      <td>8.30</td>\n",
       "      <td>1.90</td>\n",
       "      <td>23.50</td>\n",
       "      <td>7.00</td>\n",
       "      <td>4.90</td>\n",
       "      <td>14.00</td>\n",
       "      <td>12.90</td>\n",
       "      <td>11.70</td>\n",
       "      <td>19.90</td>\n",
       "      <td>12.30</td>\n",
       "      <td>11.40</td>\n",
       "      <td>3.70</td>\n",
       "      <td>2.30</td>\n",
       "      <td>88.50</td>\n",
       "      <td>53.30</td>\n",
       "      <td>43.50</td>\n",
       "      <td>11.50</td>\n",
       "      <td>5.00</td>\n",
       "      <td>86.20</td>\n",
       "      <td>77.00</td>\n",
       "      <td>11.70</td>\n",
       "      <td>13.80</td>\n",
       "      <td>31.10</td>\n",
       "      <td>54.20</td>\n",
       "      <td>19.00</td>\n",
       "      <td>27.70</td>\n",
       "      <td>5.10</td>\n",
       "      <td>41.30</td>\n",
       "      <td>24.60</td>\n",
       "      <td>37.00</td>\n",
       "      <td>36.90</td>\n",
       "      <td>33.80</td>\n",
       "      <td>19.70</td>\n",
       "      <td>20.60</td>\n",
       "      <td>15.20</td>\n",
       "      <td>22.80</td>\n",
       "      <td>33.20</td>\n",
       "      <td>85.60</td>\n",
       "      <td>14.40</td>\n",
       "      <td>69.00</td>\n",
       "      <td>1.10</td>\n",
       "      <td>3.10</td>\n",
       "      <td>5.50</td>\n",
       "      <td>8.00</td>\n",
       "      <td>2.90</td>\n",
       "      <td>1.30</td>\n",
       "      <td>9.00</td>\n",
       "      <td>0.20</td>\n",
       "      <td>0.30</td>\n",
       "      <td>1.70</td>\n",
       "      <td>17.70</td>\n",
       "      <td>15.80</td>\n",
       "      <td>15.80</td>\n",
       "      <td>18.80</td>\n",
       "      <td>13.10</td>\n",
       "      <td>8.60</td>\n",
       "      <td>4.80</td>\n",
       "      <td>3.40</td>\n",
       "      <td>1.30</td>\n",
       "      <td>1.60</td>\n",
       "      <td>6.20</td>\n",
       "      <td>19.20</td>\n",
       "      <td>27.30</td>\n",
       "      <td>18.90</td>\n",
       "      <td>12.70</td>\n",
       "      <td>7.20</td>\n",
       "      <td>5.50</td>\n",
       "      <td>1.40</td>\n",
       "      <td>6.20</td>\n",
       "      <td>27.10</td>\n",
       "      <td>50.60</td>\n",
       "      <td>12.80</td>\n",
       "      <td>1.80</td>\n",
       "      <td>57.10</td>\n",
       "      <td>42.90</td>\n",
       "      <td>6.20</td>\n",
       "      <td>33.60</td>\n",
       "      <td>33.60</td>\n",
       "      <td>13.60</td>\n",
       "      <td>5.30</td>\n",
       "      <td>7.70</td>\n",
       "      <td>10.80</td>\n",
       "      <td>39.70</td>\n",
       "      <td>31.60</td>\n",
       "      <td>17.80</td>\n",
       "      <td>47.50</td>\n",
       "      <td>5.70</td>\n",
       "      <td>45.50</td>\n",
       "      <td>0.30</td>\n",
       "      <td>0.00</td>\n",
       "      <td>0.60</td>\n",
       "      <td>0.00</td>\n",
       "      <td>0.40</td>\n",
       "      <td>0.20</td>\n",
       "      <td>0.50</td>\n",
       "      <td>0.70</td>\n",
       "      <td>3.50</td>\n",
       "      <td>3.00</td>\n",
       "      <td>1.00</td>\n",
       "      <td>17.70</td>\n",
       "      <td>31.00</td>\n",
       "      <td>21.70</td>\n",
       "      <td>14.30</td>\n",
       "      <td>11.20</td>\n",
       "      <td>3.50</td>\n",
       "      <td>0.10</td>\n",
       "      <td>64.30</td>\n",
       "      <td>2.40</td>\n",
       "      <td>33.90</td>\n",
       "      <td>12.20</td>\n",
       "      <td>3.50</td>\n",
       "      <td>1.90</td>\n",
       "      <td>0.40</td>\n",
       "      <td>26.40</td>\n",
       "      <td>37.30</td>\n",
       "      <td>6.70</td>\n",
       "      <td>1.90</td>\n",
       "      <td>0.80</td>\n",
       "      <td>16.70</td>\n",
       "      <td>8.20</td>\n",
       "      <td>5.10</td>\n",
       "      <td>21.50</td>\n",
       "      <td>12.30</td>\n",
       "      <td>6.00</td>\n",
       "      <td>4.50</td>\n",
       "      <td>2.30</td>\n",
       "      <td>7.90</td>\n",
       "      <td>21.00</td>\n",
       "      <td>65.80</td>\n",
       "      <td>11.70</td>\n",
       "      <td>1.30</td>\n",
       "      <td>0.20</td>\n",
       "      <td>0.00</td>\n",
       "      <td>0.00</td>\n",
       "      <td>11.20</td>\n",
       "      <td>10.60</td>\n",
       "      <td>8.90</td>\n",
       "      <td>10.10</td>\n",
       "      <td>44.50</td>\n",
       "      <td>47.20</td>\n",
       "      <td>52.80</td>\n",
       "      <td>7.70</td>\n",
       "      <td>8.00</td>\n",
       "      <td>7.60</td>\n",
       "      <td>7.20</td>\n",
       "      <td>6.70</td>\n",
       "      <td>13.10</td>\n",
       "      <td>12.10</td>\n",
       "      <td>13.30</td>\n",
       "      <td>5.80</td>\n",
       "      <td>6.10</td>\n",
       "      <td>7.30</td>\n",
       "      <td>3.80</td>\n",
       "      <td>1.10</td>\n",
       "      <td>71.90</td>\n",
       "      <td>67.90</td>\n",
       "      <td>15.50</td>\n",
       "      <td>12.20</td>\n",
       "      <td>46.00</td>\n",
       "      <td>54.00</td>\n",
       "      <td>42.10</td>\n",
       "      <td>57.90</td>\n",
       "      <td>2.70</td>\n",
       "      <td>50.70</td>\n",
       "      <td>0.20</td>\n",
       "      <td>0.10</td>\n",
       "      <td>0.00</td>\n",
       "      <td>0.00</td>\n",
       "      <td>0.00</td>\n",
       "      <td>0.70</td>\n",
       "      <td>0.10</td>\n",
       "      <td>0.10</td>\n",
       "      <td>0.20</td>\n",
       "      <td>0.00</td>\n",
       "      <td>0.10</td>\n",
       "      <td>0.10</td>\n",
       "      <td>0.10</td>\n",
       "      <td>0.20</td>\n",
       "      <td>0.10</td>\n",
       "      <td>0.00</td>\n",
       "      <td>0.00</td>\n",
       "      <td>0.00</td>\n",
       "      <td>0.50</td>\n",
       "      <td>2.70</td>\n",
       "      <td>0.80</td>\n",
       "      <td>0.30</td>\n",
       "      <td>0.10</td>\n",
       "      <td>1.00</td>\n",
       "      <td>52.80</td>\n",
       "      <td>1.70</td>\n",
       "      <td>0.80</td>\n",
       "      <td>0.20</td>\n",
       "      <td>0.70</td>\n",
       "      <td>2.30</td>\n",
       "      <td>2.00</td>\n",
       "      <td>0.10</td>\n",
       "      <td>0.00</td>\n",
       "      <td>0.20</td>\n",
       "      <td>50.60</td>\n",
       "      <td>0.20</td>\n",
       "      <td>0.70</td>\n",
       "      <td>0.20</td>\n",
       "      <td>0.10</td>\n",
       "      <td>2.40</td>\n",
       "      <td>0.00</td>\n",
       "      <td>2.40</td>\n",
       "      <td>45.60</td>\n",
       "      <td>54.40</td>\n",
       "      <td>0.53</td>\n",
       "      <td>0.44</td>\n",
       "      <td>-0.09</td>\n",
       "    </tr>\n",
       "  </tbody>\n",
       "</table>\n",
       "</div>"
      ],
      "text/plain": [
       "   FIPS  DP02_0002PE  DP02_0003PE  DP02_0004PE  DP02_0005PE  DP02_0006PE  \\\n",
       "0  5027        67.40        28.80        47.00        17.10         3.80   \n",
       "1  5029        66.90        26.40        49.10        15.60         4.80   \n",
       "2  5031        66.40        30.20        45.30        17.40         6.30   \n",
       "3  5033        75.50        30.00        58.10        20.90         4.80   \n",
       "4  5035        66.40        31.60        38.70        15.10         4.20   \n",
       "\n",
       "   DP02_0007PE  DP02_0008PE  DP02_0009PE  DP02_0010PE  DP02_0011PE  \\\n",
       "0         2.10        16.50         9.60        32.60        27.10   \n",
       "1         3.40        13.00         7.40        33.10        29.70   \n",
       "2         4.10        14.70         8.70        33.60        26.60   \n",
       "3         2.40        12.70         6.60        24.50        21.50   \n",
       "4         2.10        23.60        14.40        33.60        27.80   \n",
       "\n",
       "   DP02_0012PE  DP02_0013PE  DP02_0014PE  DP02_0018PE  DP02_0019PE  \\\n",
       "0        13.10        32.70        29.90        42.30        19.80   \n",
       "1        13.10        29.30        32.40        40.20        19.80   \n",
       "2         9.00        34.70        23.50        39.30        17.80   \n",
       "3         9.20        36.30        27.80        38.40        22.30   \n",
       "4         9.80        37.00        24.40        37.90        14.70   \n",
       "\n",
       "   DP02_0020PE  DP02_0021PE  DP02_0022PE  DP02_0023PE  DP02_0025PE  \\\n",
       "0        27.60         4.70         5.50         1.70        36.70   \n",
       "1        28.30         7.60         4.10         1.70        25.80   \n",
       "2        29.00         7.30         6.60         2.80        33.00   \n",
       "3        29.40         6.60         3.30         1.60        24.50   \n",
       "4        33.90         8.90         4.60         2.40        37.20   \n",
       "\n",
       "   DP02_0026PE  DP02_0027PE  DP02_0028PE  DP02_0029PE  DP02_0031PE  \\\n",
       "0        50.70         1.00         3.90         7.70        29.30   \n",
       "1        57.10         1.80         3.70        11.50        20.20   \n",
       "2        49.90         1.60         2.30        13.20        27.60   \n",
       "3        60.80         1.80         1.90        11.10        17.50   \n",
       "4        44.10         3.50         3.10        12.10        33.00   \n",
       "\n",
       "   DP02_0032PE  DP02_0033PE  DP02_0034PE  DP02_0035PE  DP02_0053PE  \\\n",
       "0        44.00         3.30        11.30        12.00         6.50   \n",
       "1        51.90         2.40        12.60        12.90         5.50   \n",
       "2        45.00         2.70        10.00        14.60         7.40   \n",
       "3        56.70         1.50        11.30        13.00         7.00   \n",
       "4        37.70         5.40        10.10        13.80         7.20   \n",
       "\n",
       "   DP02_0054PE  DP02_0056PE  DP02_0059PE  DP02_0060PE  DP02_0061PE  \\\n",
       "0         5.20        18.30         5.00         9.80        39.20   \n",
       "1         6.80        24.10         5.00        10.00        42.30   \n",
       "2         6.30        16.20         4.00         8.10        34.20   \n",
       "3         5.50        24.00         5.40         9.30        40.00   \n",
       "4         6.70        21.00         6.10        12.20        35.60   \n",
       "\n",
       "   DP02_0062PE  DP02_0063PE  DP02_0064PE  DP02_0065PE  DP02_0066PE  \\\n",
       "0        18.90         5.10        14.90         7.00        85.20   \n",
       "1        19.30         6.40        11.30         5.60        85.00   \n",
       "2        22.30         6.00        16.10         9.30        88.00   \n",
       "3        23.70         8.10         9.40         4.10        85.30   \n",
       "4        22.30         6.50        11.90         5.50        81.80   \n",
       "\n",
       "   DP02_0067PE  DP02_0069PE  DP02_0071PE  DP02_0073PE  DP02_0075PE  \\\n",
       "0        21.90         7.80        18.50         4.70        14.50   \n",
       "1        16.90         9.30        20.90         7.10        19.10   \n",
       "2        25.40         7.60        17.70         9.20        15.40   \n",
       "3        13.50        10.40        18.80         6.00        17.90   \n",
       "4        17.40         8.10        17.50         6.70        16.60   \n",
       "\n",
       "   DP02_0077PE  DP02_0080PE  DP02_0081PE  DP02_0082PE  DP02_0083PE  \\\n",
       "0        53.20        16.70         9.30         7.40         4.80   \n",
       "1        44.20        11.00         6.60         4.40         3.20   \n",
       "2        46.30        22.90        14.70         8.20         5.90   \n",
       "3        43.80        13.90         8.10         5.80         3.40   \n",
       "4        48.30        15.40        11.00         4.40         1.70   \n",
       "\n",
       "   DP02_0084PE  DP02_0085PE  DP02_0089PE  DP02_0090PE  DP02_0091PE  \\\n",
       "0         2.60         0.10        69.60        27.50         0.20   \n",
       "1         1.20         0.10        75.20        22.30         0.50   \n",
       "2         2.30         0.40        68.60        27.20         0.40   \n",
       "3         2.30         0.10        64.50        30.70         0.60   \n",
       "4         2.80         0.30        54.80        43.20         0.50   \n",
       "\n",
       "   DP02_0092PE  DP02_0109PE  DP02_0112PE  DP02_0113PE  DP02_0114PE  \\\n",
       "0         2.60         0.00         4.40         1.50         2.90   \n",
       "1         2.00         1.60         3.80         1.90         3.20   \n",
       "2         3.80         4.70         5.40         2.30         3.50   \n",
       "3         4.20         3.50         7.20         3.60         5.50   \n",
       "4         1.50         1.40         2.80         1.20         1.80   \n",
       "\n",
       "   DP02_0115PE  DP02_0116PE  DP02_0117PE  DP02_0118PE  DP02_0119PE  \\\n",
       "0         1.00         0.70         0.00         0.70         0.50   \n",
       "1         1.80         0.40         0.00         0.10         0.10   \n",
       "2         1.60         0.70         0.20         0.80         0.40   \n",
       "3         2.80         0.40         0.20         1.20         0.70   \n",
       "4         0.80         0.30         0.20         0.50         0.20   \n",
       "\n",
       "   DP02_0120PE  DP02_0121PE  DP02_0123PE  DP02_0124PE  DP02_0125PE  \\\n",
       "0         0.10         0.00        13.60         0.00         0.20   \n",
       "1         0.00         0.00        24.20         0.00         0.00   \n",
       "2         0.30         0.00        16.80         0.10         0.00   \n",
       "3         0.00         0.00        13.50         0.10         0.20   \n",
       "4         0.20         0.00         7.00         0.30         0.10   \n",
       "\n",
       "   DP02_0126PE  DP02_0127PE  DP02_0128PE  DP02_0129PE  DP02_0130PE  \\\n",
       "0         0.00         0.90         7.40         1.50         0.10   \n",
       "1         0.00         0.90         5.80         4.00         0.30   \n",
       "2         0.10         0.70         6.60         1.70         0.30   \n",
       "3         0.10         1.80        16.50         2.10         0.20   \n",
       "4         0.00         1.60         4.60         0.80         0.10   \n",
       "\n",
       "   DP02_0131PE  DP02_0132PE  DP02_0133PE  DP02_0134PE  DP02_0135PE  \\\n",
       "0         5.10         0.10         0.10         9.30         1.00   \n",
       "1        12.30         0.20         0.50         9.40         2.80   \n",
       "2         9.50         0.10         0.00        10.50         2.00   \n",
       "3        12.00         0.00         0.10        12.60         1.00   \n",
       "4         4.20         0.00         0.20         5.80         1.20   \n",
       "\n",
       "   DP02_0136PE  DP02_0137PE  DP02_0138PE  DP02_0139PE  DP02_0140PE  \\\n",
       "0         0.00         0.20         0.20         0.00         0.30   \n",
       "1         0.00         0.20         0.90         0.30         0.10   \n",
       "2         0.00         0.30         0.70         0.10         0.30   \n",
       "3         0.10         0.50         0.40         0.10         0.20   \n",
       "4         0.00         0.00         0.40         0.00         0.00   \n",
       "\n",
       "   DP02_0141PE  DP02_0142PE  DP02_0143PE  DP02_0144PE  DP02_0145PE  \\\n",
       "0         1.30         1.00         0.00         0.50         0.10   \n",
       "1         1.10         1.80         0.00         0.90         0.10   \n",
       "2         1.10         1.60         0.10         0.70         0.30   \n",
       "3         1.00         1.80         0.00         0.10         0.40   \n",
       "4         0.90         0.90         0.00         0.50         0.30   \n",
       "\n",
       "   DP02_0146PE  DP02_0147PE  DP02_0148PE  DP02_0149PE  DP03_0002PE  \\\n",
       "0         0.10         0.00         0.40         0.00        57.10   \n",
       "1         0.90         0.10         0.30         0.00        54.20   \n",
       "2         0.00         0.10         0.40         0.10        62.70   \n",
       "3         0.10         0.00         0.30         0.20        57.10   \n",
       "4         0.10         0.00         0.10         0.00        60.50   \n",
       "\n",
       "   DP03_0003PE  DP03_0004PE  DP03_0005PE  DP03_0006PE  DP03_0007PE  \\\n",
       "0        57.10        51.80         5.30         0.00        42.90   \n",
       "1        54.10        50.20         3.90         0.10        45.80   \n",
       "2        62.70        58.70         4.00         0.10        37.30   \n",
       "3        57.10        53.00         4.00         0.00        42.90   \n",
       "4        60.50        55.00         5.50         0.00        39.50   \n",
       "\n",
       "   DP03_0009PE  DP03_0011PE  DP03_0012PE  DP03_0013PE  DP03_0019PE  \\\n",
       "0         9.30        51.40        51.40        47.60        86.70   \n",
       "1         7.20        49.70        49.60        45.70        83.30   \n",
       "2         6.30        56.60        56.60        52.80        82.60   \n",
       "3         7.10        51.70        51.70        48.70        86.50   \n",
       "4         9.10        56.20        56.20        50.30        81.80   \n",
       "\n",
       "   DP03_0020PE  DP03_0021PE  DP03_0022PE  DP03_0023PE  DP03_0024PE  \\\n",
       "0         6.10         0.10         4.20         0.70         2.20   \n",
       "1        10.70         0.80         1.30         1.20         2.70   \n",
       "2        10.40         0.30         2.10         1.10         3.50   \n",
       "3         9.20         0.20         1.80         0.40         2.00   \n",
       "4        11.00         0.30         1.90         2.40         2.60   \n",
       "\n",
       "   DP03_0027PE  DP03_0028PE  DP03_0029PE  DP03_0030PE  DP03_0031PE  \\\n",
       "0        29.40        16.00        25.10        10.30        19.20   \n",
       "1        28.80        14.70        23.10        17.70        15.70   \n",
       "2        33.40        16.20        23.60        10.10        16.70   \n",
       "3        28.50        17.00        24.40        11.50        18.70   \n",
       "4        30.90        17.20        24.20         9.80        17.90   \n",
       "\n",
       "   DP03_0033PE  DP03_0034PE  DP03_0035PE  DP03_0036PE  DP03_0037PE  \\\n",
       "0         6.20         3.80        20.20         2.50        12.60   \n",
       "1         8.40         8.40        11.90         2.70        11.40   \n",
       "2         2.10         7.20        14.30         2.30        13.20   \n",
       "3         2.30         7.40        16.70         2.90        12.20   \n",
       "4         3.40         3.40        11.40         4.00        11.80   \n",
       "\n",
       "   DP03_0038PE  DP03_0039PE  DP03_0040PE  DP03_0041PE  DP03_0042PE  \\\n",
       "0         3.40         0.40         3.20         3.90        28.20   \n",
       "1         6.70         1.50         6.50         5.70        23.30   \n",
       "2         4.40         1.70         5.00         5.90        28.00   \n",
       "3         6.00         1.10         5.10         6.30        23.90   \n",
       "4         9.90         1.60         4.00         6.30        26.20   \n",
       "\n",
       "   DP03_0043PE  DP03_0044PE  DP03_0045PE  DP03_0047PE  DP03_0048PE  \\\n",
       "0         7.90         4.00         3.50        75.40        20.10   \n",
       "1         6.10         3.40         3.90        77.30        16.10   \n",
       "2         9.10         4.30         2.40        79.30        13.80   \n",
       "3         6.90         4.70         4.30        81.10        14.50   \n",
       "4         8.60         4.60         4.60        76.20        17.80   \n",
       "\n",
       "   DP03_0049PE  DP03_0050PE  DP03_0052PE  DP03_0053PE  DP03_0054PE  \\\n",
       "0         4.30         0.10        12.90        10.40        14.20   \n",
       "1         6.40         0.10        10.90         9.30        14.90   \n",
       "2         6.80         0.10         8.30         6.70        13.50   \n",
       "3         4.30         0.10         8.70         6.10        13.90   \n",
       "4         5.60         0.40        10.10         6.90        16.40   \n",
       "\n",
       "   DP03_0055PE  DP03_0056PE  DP03_0057PE  DP03_0058PE  DP03_0059PE  \\\n",
       "0        10.70        12.70        16.60        10.10         9.90   \n",
       "1        11.80        12.80        17.50        10.00         8.40   \n",
       "2        11.50        16.00        18.10        10.80         9.20   \n",
       "3        12.80        17.60        19.40        10.30         8.10   \n",
       "4        13.00        11.90        18.50         9.70         9.00   \n",
       "\n",
       "   DP03_0060PE  DP03_0061PE  DP03_0064PE  DP03_0066PE  DP03_0068PE  \\\n",
       "0         1.40         1.00        69.70        39.90        17.20   \n",
       "1         1.90         2.40        66.90        41.60        19.80   \n",
       "2         3.10         2.80        78.50        29.80        17.70   \n",
       "3         1.50         1.60        72.20        37.70        17.20   \n",
       "4         2.60         1.70        75.20        30.00        15.10   \n",
       "\n",
       "   DP03_0070PE  DP03_0072PE  DP03_0074PE  DP03_0076PE  DP03_0077PE  \\\n",
       "0         7.40         1.70        18.20         9.00         5.20   \n",
       "1         9.90         2.30        17.10         5.00         5.70   \n",
       "2         7.80         1.90        15.60         4.80         3.30   \n",
       "3         7.10         2.60        14.90         6.70         3.40   \n",
       "4         8.30         1.90        23.50         7.00         4.90   \n",
       "\n",
       "   DP03_0078PE  DP03_0079PE  DP03_0080PE  DP03_0081PE  DP03_0082PE  \\\n",
       "0        11.00         9.20        14.00        21.30        12.30   \n",
       "1        13.70        10.90        14.00        22.20        11.20   \n",
       "2        10.80        10.90        16.50        19.70        13.70   \n",
       "3        10.90        11.50        18.90        22.00        12.60   \n",
       "4        14.00        12.90        11.70        19.90        12.30   \n",
       "\n",
       "   DP03_0083PE  DP03_0084PE  DP03_0085PE  DP03_0096PE  DP03_0097PE  \\\n",
       "0        14.20         2.10         1.50        88.40        60.30   \n",
       "1        11.40         2.60         3.50        89.10        58.00   \n",
       "2        12.40         4.00         3.90        86.40        58.00   \n",
       "3        10.00         2.00         2.00        87.20        57.00   \n",
       "4        11.40         3.70         2.30        88.50        53.30   \n",
       "\n",
       "   DP03_0098PE  DP03_0099PE  DP03_0101PE  DP03_0105PE  DP03_0106PE  \\\n",
       "0        39.80        11.60         2.10        84.80        79.70   \n",
       "1        44.00        10.90         3.90        86.70        79.70   \n",
       "2        39.50        13.60         4.90        80.40        73.10   \n",
       "3        41.50        12.80         7.00        83.90        77.00   \n",
       "4        43.50        11.50         5.00        86.20        77.00   \n",
       "\n",
       "   DP03_0107PE  DP03_0108PE  DP03_0116PE  DP03_0117PE  DP03_0119PE  \\\n",
       "0         7.40        15.20        47.20        41.40        19.40   \n",
       "1         9.20        13.30        38.60        51.40        15.70   \n",
       "2         9.60        19.60        41.70        49.00        13.20   \n",
       "3        10.60        16.10        38.30        54.30        14.70   \n",
       "4        11.70        13.80        31.10        54.20        19.00   \n",
       "\n",
       "   DP03_0120PE  DP03_0122PE  DP03_0125PE  DP03_0128PE  DP03_0129PE  \\\n",
       "0        31.50        10.60        40.00        24.90        36.50   \n",
       "1        28.70         8.80        38.90        21.50        33.60   \n",
       "2        21.20         5.50        35.30        18.90        27.60   \n",
       "3        23.60         8.70        38.30        18.80        27.30   \n",
       "4        27.70         5.10        41.30        24.60        37.00   \n",
       "\n",
       "   DP03_0130PE  DP03_0132PE  DP03_0133PE  DP03_0134PE  DP03_0135PE  \\\n",
       "0        35.90        35.90        21.70        23.40        15.70   \n",
       "1        32.90        33.40        18.00        19.70        12.50   \n",
       "2        27.40        25.00        16.00        17.80         7.50   \n",
       "3        27.10        27.90        15.90        17.00        11.70   \n",
       "4        36.90        33.80        19.70        20.60        15.20   \n",
       "\n",
       "   DP03_0136PE  DP03_0137PE  DP04_0002PE  DP04_0003PE  DP04_0007PE  \\\n",
       "0        21.20        41.10        82.20        17.80        67.10   \n",
       "1        17.90        38.50        85.90        14.10        75.00   \n",
       "2        15.70        32.20        90.20         9.80        69.50   \n",
       "3        16.60        33.80        89.10        10.90        76.50   \n",
       "4        22.80        33.20        85.60        14.40        69.00   \n",
       "\n",
       "   DP04_0008PE  DP04_0009PE  DP04_0010PE  DP04_0011PE  DP04_0012PE  \\\n",
       "0         0.80         1.40         2.80         2.20         3.20   \n",
       "1         0.30         4.30         1.20         1.40         0.00   \n",
       "2         1.30         3.40         6.70         4.40         4.90   \n",
       "3         1.40         2.90         2.30         2.10         1.80   \n",
       "4         1.10         3.10         5.50         8.00         2.90   \n",
       "\n",
       "   DP04_0013PE  DP04_0014PE  DP04_0015PE  DP04_0017PE  DP04_0018PE  \\\n",
       "0         2.70        19.90         0.00         0.00         1.20   \n",
       "1         1.50        15.80         0.40         0.30         2.40   \n",
       "2         3.60         6.20         0.00         1.30         7.30   \n",
       "3         1.00        11.90         0.00         0.60         4.00   \n",
       "4         1.30         9.00         0.20         0.30         1.70   \n",
       "\n",
       "   DP04_0019PE  DP04_0020PE  DP04_0021PE  DP04_0022PE  DP04_0023PE  \\\n",
       "0        12.80        15.30        14.80        17.70        12.50   \n",
       "1        15.70        13.60        18.30        19.40        10.60   \n",
       "2        19.20        20.50        13.60        17.70         8.80   \n",
       "3        17.40        23.50        17.70        15.50         7.90   \n",
       "4        17.70        15.80        15.80        18.80        13.10   \n",
       "\n",
       "   DP04_0024PE  DP04_0025PE  DP04_0026PE  DP04_0028PE  DP04_0029PE  \\\n",
       "0        14.10         5.20         6.40         3.20         1.30   \n",
       "1         8.50         4.00         7.10         2.40         0.90   \n",
       "2         5.40         2.30         3.90         1.10         2.20   \n",
       "3         5.90         3.60         3.90         1.70         1.30   \n",
       "4         8.60         4.80         3.40         1.30         1.60   \n",
       "\n",
       "   DP04_0030PE  DP04_0031PE  DP04_0032PE  DP04_0033PE  DP04_0034PE  \\\n",
       "0         6.30        16.80        25.40        21.20        13.90   \n",
       "1         4.70        12.20        35.20        21.10        11.60   \n",
       "2         9.60        16.10        22.20        19.30        12.80   \n",
       "3         4.20        12.90        30.90        22.60        13.80   \n",
       "4         6.20        19.20        27.30        18.90        12.70   \n",
       "\n",
       "   DP04_0035PE  DP04_0036PE  DP04_0039PE  DP04_0040PE  DP04_0041PE  \\\n",
       "0         6.10         5.90         3.40         5.70        29.90   \n",
       "1         5.60         6.20         2.60         5.10        23.10   \n",
       "2         8.30         8.30         1.20         8.20        27.00   \n",
       "3         6.50         6.10         1.80         5.30        23.80   \n",
       "4         7.20         5.50         1.40         6.20        27.10   \n",
       "\n",
       "   DP04_0042PE  DP04_0043PE  DP04_0044PE  DP04_0046PE  DP04_0047PE  \\\n",
       "0        46.90        12.30         1.80        66.10        33.90   \n",
       "1        60.00         7.80         1.30        72.60        27.40   \n",
       "2        49.20        12.00         2.30        58.90        41.10   \n",
       "3        55.40        11.90         1.70        76.40        23.60   \n",
       "4        50.60        12.80         1.80        57.10        42.90   \n",
       "\n",
       "   DP04_0051PE  DP04_0052PE  DP04_0053PE  DP04_0054PE  DP04_0055PE  \\\n",
       "0         4.30        30.60        31.90        13.10         7.60   \n",
       "1         3.30        28.40        31.90        14.30         9.20   \n",
       "2         5.80        41.90        29.30        12.50         4.70   \n",
       "3         3.90        27.70        35.00        18.20         8.10   \n",
       "4         6.20        33.60        33.60        13.60         5.30   \n",
       "\n",
       "   DP04_0056PE  DP04_0058PE  DP04_0059PE  DP04_0060PE  DP04_0061PE  \\\n",
       "0        12.50         6.40        37.30        33.50        22.90   \n",
       "1        12.80         6.60        31.40        40.30        21.70   \n",
       "2         5.80         7.40        33.50        41.10        17.90   \n",
       "3         7.20         3.90        33.10        41.10        22.00   \n",
       "4         7.70        10.80        39.70        31.60        17.80   \n",
       "\n",
       "   DP04_0063PE  DP04_0064PE  DP04_0065PE  DP04_0066PE  DP04_0067PE  \\\n",
       "0        41.40         5.30        50.10         0.30         0.00   \n",
       "1        25.80         6.70        59.10         0.20         0.00   \n",
       "2        39.30         5.40        53.70         0.00         0.00   \n",
       "3        35.40         3.90        53.10         0.20         0.10   \n",
       "4        47.50         5.70        45.50         0.30         0.00   \n",
       "\n",
       "   DP04_0068PE  DP04_0069PE  DP04_0070PE  DP04_0071PE  DP04_0073PE  \\\n",
       "0         2.80         0.00         0.00         0.10         0.20   \n",
       "1         6.10         0.00         1.80         0.40         0.10   \n",
       "2         1.20         0.00         0.20         0.20         0.10   \n",
       "3         5.90         0.00         0.70         0.70         0.20   \n",
       "4         0.60         0.00         0.40         0.20         0.50   \n",
       "\n",
       "   DP04_0074PE  DP04_0075PE  DP04_0078PE  DP04_0079PE  DP04_0081PE  \\\n",
       "0         0.40         2.40         0.80         1.20        29.50   \n",
       "1         0.40         2.20         2.40         0.40        17.80   \n",
       "2         1.10         2.70         1.90         0.50        11.30   \n",
       "3         0.70         2.90         2.80         1.00        13.70   \n",
       "4         0.70         3.50         3.00         1.00        17.70   \n",
       "\n",
       "   DP04_0082PE  DP04_0083PE  DP04_0084PE  DP04_0085PE  DP04_0086PE  \\\n",
       "0        30.90        10.80        11.10        13.30         3.00   \n",
       "1        32.10        19.70        14.00        11.00         3.30   \n",
       "2        23.90        24.10        17.70        13.10         6.40   \n",
       "3        31.00        24.20        16.60        10.40         3.40   \n",
       "4        31.00        21.70        14.30        11.20         3.50   \n",
       "\n",
       "   DP04_0088PE  DP04_0091PE  DP04_0094PE  DP04_0096PE  DP04_0097PE  \\\n",
       "0         0.00        48.20         7.70        21.20         6.60   \n",
       "1         0.20        51.70         6.10        28.50         6.90   \n",
       "2         1.30        63.00         3.40        27.50        13.40   \n",
       "3         0.00        56.40         4.80        31.30         7.80   \n",
       "4         0.10        64.30         2.40        33.90        12.20   \n",
       "\n",
       "   DP04_0098PE  DP04_0099PE  DP04_0100PE  DP04_0103PE  DP04_0104PE  \\\n",
       "0         3.90         0.30         2.80        31.50        38.30   \n",
       "1         1.00         0.60         0.50        30.30        43.70   \n",
       "2         5.30         2.20         2.20        28.80        39.60   \n",
       "3         2.50         0.50         1.30        32.70        36.90   \n",
       "4         3.50         1.90         0.40        26.40        37.30   \n",
       "\n",
       "   DP04_0106PE  DP04_0107PE  DP04_0108PE  DP04_0112PE  DP04_0113PE  \\\n",
       "0         3.30         1.40         0.60        16.00         4.90   \n",
       "1         5.10         1.30         0.20        10.20         7.50   \n",
       "2         7.00         1.30         0.80        14.80         8.50   \n",
       "3         3.80         1.40         0.30        15.20        10.60   \n",
       "4         6.70         1.90         0.80        16.70         8.20   \n",
       "\n",
       "   DP04_0114PE  DP04_0119PE  DP04_0120PE  DP04_0121PE  DP04_0122PE  \\\n",
       "0         5.60        16.40        10.00        10.10         4.30   \n",
       "1        11.80        16.40        12.00         5.80         2.40   \n",
       "2         4.90        19.10         9.60         5.70         3.20   \n",
       "3         5.80        21.90        14.60         5.70         3.20   \n",
       "4         5.10        21.50        12.30         6.00         4.50   \n",
       "\n",
       "   DP04_0123PE  DP04_0124PE  DP04_0127PE  DP04_0128PE  DP04_0129PE  \\\n",
       "0         3.30         8.50        31.10        64.70         2.40   \n",
       "1         1.40         7.60        34.70        60.30         5.00   \n",
       "2         1.70         7.40        18.00        67.40        12.00   \n",
       "3         1.90         6.30        23.90        70.60         4.50   \n",
       "4         2.30         7.90        21.00        65.80        11.70   \n",
       "\n",
       "   DP04_0130PE  DP04_0131PE  DP04_0132PE  DP04_0133PE  DP04_0138PE  \\\n",
       "0         1.20         0.00         0.60         0.00        14.10   \n",
       "1         0.00         0.00         0.00         0.00        10.60   \n",
       "2         2.20         0.40         0.10         0.10        14.30   \n",
       "3         0.20         0.80         0.00         0.00        14.60   \n",
       "4         1.30         0.20         0.00         0.00        11.20   \n",
       "\n",
       "   DP04_0139PE  DP04_0140PE  DP04_0141PE  DP04_0142PE  DP05_0002PE  \\\n",
       "0         5.40        15.70         6.10        39.10        47.60   \n",
       "1         3.70        11.70         7.50        50.10        48.90   \n",
       "2        13.90        11.10         8.50        39.30        48.70   \n",
       "3        15.60        12.20         8.20        36.20        49.20   \n",
       "4        10.60         8.90        10.10        44.50        47.20   \n",
       "\n",
       "   DP05_0003PE  DP05_0004PE  DP05_0005PE  DP05_0006PE  DP05_0007PE  \\\n",
       "0        52.40         6.10         6.00         5.60         9.90   \n",
       "1        51.10         6.00         6.90         6.20         6.00   \n",
       "2        51.30         7.00         7.80         6.10         7.30   \n",
       "3        50.80         6.10         6.90         7.60         6.70   \n",
       "4        52.80         7.70         8.00         7.60         7.20   \n",
       "\n",
       "   DP05_0008PE  DP05_0009PE  DP05_0010PE  DP05_0011PE  DP05_0012PE  \\\n",
       "0        10.20        11.40        10.60        11.70         5.40   \n",
       "1         5.90        11.70        11.50        13.80         7.10   \n",
       "2         8.20        15.00        12.80        12.00         5.50   \n",
       "3         5.90        12.10        12.90        13.80         6.90   \n",
       "4         6.70        13.10        12.10        13.30         5.80   \n",
       "\n",
       "   DP05_0013PE  DP05_0014PE  DP05_0015PE  DP05_0016PE  DP05_0018PE  \\\n",
       "0         6.50         8.70         5.70         2.10        78.60   \n",
       "1         6.40        10.30         5.40         2.70        76.90   \n",
       "2         5.40         7.50         3.70         1.70        75.20   \n",
       "3         5.90         9.20         4.50         1.60        74.90   \n",
       "4         6.10         7.30         3.80         1.10        71.90   \n",
       "\n",
       "   DP05_0019PE  DP05_0020PE  DP05_0021PE  DP05_0023PE  DP05_0024PE  \\\n",
       "0        70.20        20.60        16.60        46.70        53.30   \n",
       "1        73.40        22.00        18.30        48.60        51.40   \n",
       "2        70.30        16.20        12.80        47.80        52.20   \n",
       "3        71.70        18.90        15.30        48.60        51.40   \n",
       "4        67.90        15.50        12.20        46.00        54.00   \n",
       "\n",
       "   DP05_0026PE  DP05_0027PE  DP05_0030PE  DP05_0033PE  DP05_0034PE  \\\n",
       "0        42.10        57.90         1.00        34.80         0.30   \n",
       "1        45.20        54.80         2.10        11.80         0.50   \n",
       "2        42.20        57.80         1.90        13.80         0.60   \n",
       "3        44.60        55.40         3.10         1.30         2.00   \n",
       "4        42.10        57.90         2.70        50.70         0.20   \n",
       "\n",
       "   DP05_0035PE  DP05_0036PE  DP05_0037PE  DP05_0038PE  DP05_0039PE  \\\n",
       "0         0.00         0.00         0.00         0.00         1.10   \n",
       "1         0.30         0.00         0.00         0.00         0.10   \n",
       "2         0.10         0.00         0.00         0.00         1.20   \n",
       "3         1.00         0.00         0.00         0.30         1.80   \n",
       "4         0.10         0.00         0.00         0.00         0.70   \n",
       "\n",
       "   DP05_0040PE  DP05_0041PE  DP05_0042PE  DP05_0043PE  DP05_0044PE  \\\n",
       "0         0.10         0.10         0.00         0.00         0.00   \n",
       "1         0.00         0.00         0.00         0.00         0.00   \n",
       "2         0.20         0.40         0.20         0.10         0.10   \n",
       "3         0.00         0.00         0.50         0.00         0.10   \n",
       "4         0.10         0.10         0.20         0.00         0.10   \n",
       "\n",
       "   DP05_0045PE  DP05_0046PE  DP05_0047PE  DP05_0048PE  DP05_0049PE  \\\n",
       "0         0.10         0.80         0.00         0.00         0.00   \n",
       "1         0.00         0.10         0.00         0.00         0.00   \n",
       "2         0.10         0.20         0.10         0.00         0.00   \n",
       "3         0.30         0.90         0.00         0.00         0.00   \n",
       "4         0.10         0.10         0.20         0.10         0.00   \n",
       "\n",
       "   DP05_0050PE  DP05_0051PE  DP05_0052PE  DP05_0053PE  DP05_0054PE  \\\n",
       "0         0.00         0.00         2.80         1.00         0.70   \n",
       "1         0.00         0.00         0.20         2.10         0.60   \n",
       "2         0.00         0.10         1.60         1.90         1.00   \n",
       "3         0.00         0.00         1.50         3.10         0.50   \n",
       "4         0.00         0.00         0.50         2.70         0.80   \n",
       "\n",
       "   DP05_0055PE  DP05_0056PE  DP05_0057PE  DP05_0060PE  DP05_0061PE  \\\n",
       "0         0.10         0.00         0.00        35.80         0.40   \n",
       "1         1.00         0.10         0.00        12.70         1.80   \n",
       "2         0.40         0.10         0.20        15.10         1.30   \n",
       "3         2.40         0.10         0.00         1.90         4.50   \n",
       "4         0.30         0.10         1.00        52.80         1.70   \n",
       "\n",
       "   DP05_0062PE  DP05_0063PE  DP05_0064PE  DP05_0066PE  DP05_0067PE  \\\n",
       "0         1.10         0.00         3.00         2.60         2.20   \n",
       "1         0.20         0.10         0.20         3.80         3.20   \n",
       "2         1.30         0.10         1.70         4.70         3.80   \n",
       "3         1.90         0.10         1.60         7.00         4.50   \n",
       "4         0.80         0.20         0.70         2.30         2.00   \n",
       "\n",
       "   DP05_0068PE  DP05_0069PE  DP05_0070PE  DP05_0073PE  DP05_0074PE  \\\n",
       "0         0.00         0.00         0.40        34.70         0.30   \n",
       "1         0.00         0.00         0.60        11.80         0.50   \n",
       "2         0.10         0.00         0.80        13.80         0.30   \n",
       "3         0.30         0.00         2.20         1.30         1.40   \n",
       "4         0.10         0.00         0.20        50.60         0.20   \n",
       "\n",
       "   DP05_0075PE  DP05_0076PE  DP05_0077PE  DP05_0078PE  DP05_0079PE  \\\n",
       "0         1.10         0.00         1.40         0.70         0.00   \n",
       "1         0.10         0.00         0.00         2.10         0.00   \n",
       "2         1.20         0.10         0.10         1.90         0.10   \n",
       "3         1.70         0.00         0.00         3.00         0.00   \n",
       "4         0.70         0.20         0.10         2.40         0.00   \n",
       "\n",
       "   DP05_0080PE  DP05_0083PE  DP05_0084PE  hillary  trump  margin  \n",
       "0         0.70        46.80        53.20     0.35   0.61    0.26  \n",
       "1         2.10        48.70        51.30     0.34   0.61    0.28  \n",
       "2         1.80        47.70        52.30     0.30   0.64    0.35  \n",
       "3         3.00        48.90        51.10     0.20   0.74    0.54  \n",
       "4         2.40        45.60        54.40     0.53   0.44   -0.09  "
      ]
     },
     "execution_count": 506,
     "metadata": {},
     "output_type": "execute_result"
    }
   ],
   "source": [
    "var_dict_2016[2016].head()"
   ]
  },
  {
   "cell_type": "code",
   "execution_count": 509,
   "metadata": {},
   "outputs": [],
   "source": [
    "X = var_dict_2016[2016].iloc[:, :-3]\n",
    "y = var_dict_2016[2016].margin"
   ]
  },
  {
   "cell_type": "code",
   "execution_count": 510,
   "metadata": {},
   "outputs": [],
   "source": [
    "X_train, X_test, y_train, y_test = train_test_split(X, y, random_state=0)"
   ]
  },
  {
   "cell_type": "code",
   "execution_count": 511,
   "metadata": {},
   "outputs": [],
   "source": [
    "scaler = StandardScaler()\n",
    "X_train_scaled = scaler.fit_transform(X_train.iloc[:, 1:])\n",
    "X_test_scaled = scaler.transform(X_test.iloc[:, 1:])"
   ]
  },
  {
   "cell_type": "code",
   "execution_count": 512,
   "metadata": {},
   "outputs": [
    {
     "name": "stderr",
     "output_type": "stream",
     "text": [
      "/Users/kmiyaki/anaconda3/lib/python3.7/site-packages/xgboost/core.py:587: FutureWarning: Series.base is deprecated and will be removed in a future version\n",
      "  if getattr(data, 'base', None) is not None and \\\n"
     ]
    },
    {
     "name": "stdout",
     "output_type": "stream",
     "text": [
      "[12:28:20] WARNING: src/objective/regression_obj.cu:152: reg:linear is now deprecated in favor of reg:squarederror.\n",
      "train:  0.9225834597284056\n",
      "test:  0.8391941858507279\n"
     ]
    }
   ],
   "source": [
    "xgr = XGBRegressor()\n",
    "xgr.fit(X_train_scaled, \n",
    "        y_train,\n",
    "        eval_set=[(X_train_scaled, y_train), (X_test_scaled, y_test)],\n",
    "        early_stopping_rounds=10,\n",
    "        verbose=False)\n",
    "print(\"train: \", xgr.score(X_train_scaled, y_train))\n",
    "print(\"test: \", xgr.score(X_test_scaled, y_test))"
   ]
  },
  {
   "cell_type": "code",
   "execution_count": 515,
   "metadata": {},
   "outputs": [
    {
     "name": "stderr",
     "output_type": "stream",
     "text": [
      "/Users/kmiyaki/anaconda3/lib/python3.7/site-packages/sklearn/ensemble/forest.py:245: FutureWarning: The default value of n_estimators will change from 10 in version 0.20 to 100 in 0.22.\n",
      "  \"10 in version 0.20 to 100 in 0.22.\", FutureWarning)\n"
     ]
    },
    {
     "name": "stdout",
     "output_type": "stream",
     "text": [
      "train:  0.9603786864744578\n",
      "test:  0.7831190660844338\n"
     ]
    }
   ],
   "source": [
    "rfr = RandomForestRegressor()\n",
    "rfr.fit(X_train_scaled, \n",
    "        y_train)\n",
    "print(\"train: \", rfr.score(X_train_scaled, y_train))\n",
    "print(\"test: \", rfr.score(X_test_scaled, y_test))"
   ]
  },
  {
   "cell_type": "code",
   "execution_count": 516,
   "metadata": {},
   "outputs": [
    {
     "name": "stdout",
     "output_type": "stream",
     "text": [
      "train:  0.9398598536583705\n",
      "test:  0.8035007457859742\n"
     ]
    }
   ],
   "source": [
    "svr = SVR()\n",
    "svr.fit(X_train_scaled, \n",
    "        y_train)\n",
    "print(\"train: \", svr.score(X_train_scaled, y_train))\n",
    "print(\"test: \", svr.score(X_test_scaled, y_test))"
   ]
  },
  {
   "cell_type": "code",
   "execution_count": 526,
   "metadata": {},
   "outputs": [
    {
     "name": "stderr",
     "output_type": "stream",
     "text": [
      "/Users/kmiyaki/anaconda3/lib/python3.7/site-packages/xgboost/core.py:587: FutureWarning: Series.base is deprecated and will be removed in a future version\n",
      "  if getattr(data, 'base', None) is not None and \\\n"
     ]
    },
    {
     "name": "stdout",
     "output_type": "stream",
     "text": [
      "[12:35:01] WARNING: src/objective/regression_obj.cu:152: reg:linear is now deprecated in favor of reg:squarederror.\n",
      "train:  0.905660853753877\n",
      "test:  0.8215430236167641\n"
     ]
    }
   ],
   "source": [
    "xgr = XGBRegressor(max_depth=4,\n",
    "                   reg_alpha=5,\n",
    "                   reg_lambda=30\n",
    "                  )\n",
    "xgr.fit(X_train_scaled, \n",
    "        y_train,\n",
    "        eval_set=[(X_train_scaled, y_train), (X_test_scaled, y_test)],\n",
    "        early_stopping_rounds=10,\n",
    "        verbose=False)\n",
    "print(\"train: \", xgr.score(X_train_scaled, y_train))\n",
    "print(\"test: \", xgr.score(X_test_scaled, y_test))"
   ]
  },
  {
   "cell_type": "code",
   "execution_count": null,
   "metadata": {},
   "outputs": [
    {
     "name": "stderr",
     "output_type": "stream",
     "text": [
      "/Users/kmiyaki/anaconda3/lib/python3.7/site-packages/xgboost/core.py:587: FutureWarning: Series.base is deprecated and will be removed in a future version\n",
      "  if getattr(data, 'base', None) is not None and \\\n"
     ]
    },
    {
     "name": "stdout",
     "output_type": "stream",
     "text": [
      "[13:04:20] WARNING: src/objective/regression_obj.cu:152: reg:linear is now deprecated in favor of reg:squarederror.\n"
     ]
    },
    {
     "name": "stderr",
     "output_type": "stream",
     "text": [
      "/Users/kmiyaki/anaconda3/lib/python3.7/site-packages/xgboost/core.py:587: FutureWarning: Series.base is deprecated and will be removed in a future version\n",
      "  if getattr(data, 'base', None) is not None and \\\n"
     ]
    },
    {
     "name": "stdout",
     "output_type": "stream",
     "text": [
      "[13:04:24] WARNING: src/objective/regression_obj.cu:152: reg:linear is now deprecated in favor of reg:squarederror.\n"
     ]
    },
    {
     "name": "stderr",
     "output_type": "stream",
     "text": [
      "/Users/kmiyaki/anaconda3/lib/python3.7/site-packages/xgboost/core.py:587: FutureWarning: Series.base is deprecated and will be removed in a future version\n",
      "  if getattr(data, 'base', None) is not None and \\\n"
     ]
    },
    {
     "name": "stdout",
     "output_type": "stream",
     "text": [
      "[13:04:27] WARNING: src/objective/regression_obj.cu:152: reg:linear is now deprecated in favor of reg:squarederror.\n"
     ]
    },
    {
     "name": "stderr",
     "output_type": "stream",
     "text": [
      "/Users/kmiyaki/anaconda3/lib/python3.7/site-packages/xgboost/core.py:587: FutureWarning: Series.base is deprecated and will be removed in a future version\n",
      "  if getattr(data, 'base', None) is not None and \\\n"
     ]
    },
    {
     "name": "stdout",
     "output_type": "stream",
     "text": [
      "[13:04:32] WARNING: src/objective/regression_obj.cu:152: reg:linear is now deprecated in favor of reg:squarederror.\n"
     ]
    },
    {
     "name": "stderr",
     "output_type": "stream",
     "text": [
      "/Users/kmiyaki/anaconda3/lib/python3.7/site-packages/xgboost/core.py:587: FutureWarning: Series.base is deprecated and will be removed in a future version\n",
      "  if getattr(data, 'base', None) is not None and \\\n"
     ]
    },
    {
     "name": "stdout",
     "output_type": "stream",
     "text": [
      "[13:04:35] WARNING: src/objective/regression_obj.cu:152: reg:linear is now deprecated in favor of reg:squarederror.\n"
     ]
    },
    {
     "name": "stderr",
     "output_type": "stream",
     "text": [
      "/Users/kmiyaki/anaconda3/lib/python3.7/site-packages/xgboost/core.py:587: FutureWarning: Series.base is deprecated and will be removed in a future version\n",
      "  if getattr(data, 'base', None) is not None and \\\n"
     ]
    },
    {
     "name": "stdout",
     "output_type": "stream",
     "text": [
      "[13:04:39] WARNING: src/objective/regression_obj.cu:152: reg:linear is now deprecated in favor of reg:squarederror.\n"
     ]
    },
    {
     "name": "stderr",
     "output_type": "stream",
     "text": [
      "/Users/kmiyaki/anaconda3/lib/python3.7/site-packages/xgboost/core.py:587: FutureWarning: Series.base is deprecated and will be removed in a future version\n",
      "  if getattr(data, 'base', None) is not None and \\\n"
     ]
    },
    {
     "name": "stdout",
     "output_type": "stream",
     "text": [
      "[13:04:43] WARNING: src/objective/regression_obj.cu:152: reg:linear is now deprecated in favor of reg:squarederror.\n"
     ]
    },
    {
     "name": "stderr",
     "output_type": "stream",
     "text": [
      "/Users/kmiyaki/anaconda3/lib/python3.7/site-packages/xgboost/core.py:587: FutureWarning: Series.base is deprecated and will be removed in a future version\n",
      "  if getattr(data, 'base', None) is not None and \\\n"
     ]
    },
    {
     "name": "stdout",
     "output_type": "stream",
     "text": [
      "[13:04:47] WARNING: src/objective/regression_obj.cu:152: reg:linear is now deprecated in favor of reg:squarederror.\n"
     ]
    }
   ],
   "source": [
    "xgr_scores = {}\n",
    "xgr_feature_sets = []\n",
    "k=0\n",
    "for i in range(0, 10, 1):\n",
    "    for j in range(0, 10, 1):\n",
    "        X_train, X_test, y_train, y_test = train_test_split(X, y)\n",
    "        scaler = StandardScaler()\n",
    "        X_train_scaled = scaler.fit_transform(X_train.iloc[:, 1:])\n",
    "        X_test_scaled = scaler.transform(X_test.iloc[:, 1:])\n",
    "        xgr = XGBRegressor(reg_alpha=i, reg_lambda=j)\n",
    "        xgr.fit(X_train_scaled, y_train)\n",
    "\n",
    "        \n",
    "        xgr_features = pd.merge(pd.DataFrame(xgr.feature_importances_, \n",
    "                                             index=X.iloc[:, 1:].columns,\n",
    "                                             columns=[\"importance\"]\n",
    "                                            ).sort_values(by=\"importance\", \n",
    "                                                          ascending=False), \n",
    "                                var_description, \n",
    "                                how=\"left\",\n",
    "                                right_index=True, \n",
    "                                left_index=True)\n",
    "        xgr_scores[k] = [i,\n",
    "                         j,\n",
    "                         xgr.score(X_train_scaled, y_train),\n",
    "                         xgr.score(X_test_scaled, y_test),\n",
    "                         np.sum(xgr_features.importance>0)]\n",
    "        xgr_feature_sets.append(xgr_features)\n",
    "        k += 1"
   ]
  },
  {
   "cell_type": "code",
   "execution_count": null,
   "metadata": {},
   "outputs": [],
   "source": [
    "xgr_reg_score = pd.DataFrame(xgr_scores, \n",
    "                             index=[\"alpha\",\n",
    "                                    \"lambda\",\n",
    "                                    \"train\",\n",
    "                                    \"test\",\n",
    "                                    \"n_features\"\n",
    "                                   ]).T"
   ]
  },
  {
   "cell_type": "code",
   "execution_count": null,
   "metadata": {},
   "outputs": [],
   "source": [
    "xgr_reg_score.sort_values(by=\"test\", ascending=False).head(20)"
   ]
  },
  {
   "cell_type": "code",
   "execution_count": null,
   "metadata": {
    "scrolled": true
   },
   "outputs": [],
   "source": [
    "plt.scatter(xgr_reg_score.n_features, \n",
    "            xgr_reg_score.train,\n",
    "            s=10,\n",
    "            alpha=0.5\n",
    "           )\n",
    "plt.scatter(xgr_reg_score.n_features,\n",
    "            xgr_reg_score.test,\n",
    "            s=10,\n",
    "            alpha=0.5\n",
    "           )\n",
    "plt.title(\"XGBoost Regressor: No of Features and Scores\")\n",
    "plt.ylabel(\"Score\")\n",
    "plt.xlabel(\"Number of Features\")\n",
    "plt.xlim(170, 0)\n",
    "plt.legend([\"Train\",\"Test\"])\n",
    "plt.tight_layout()\n",
    "plt.savefig(\"../images/xgr_reg_score\")"
   ]
  },
  {
   "cell_type": "code",
   "execution_count": null,
   "metadata": {},
   "outputs": [],
   "source": []
  }
 ],
 "metadata": {
  "kernelspec": {
   "display_name": "Python 3",
   "language": "python",
   "name": "python3"
  },
  "language_info": {
   "codemirror_mode": {
    "name": "ipython",
    "version": 3
   },
   "file_extension": ".py",
   "mimetype": "text/x-python",
   "name": "python",
   "nbconvert_exporter": "python",
   "pygments_lexer": "ipython3",
   "version": "3.7.3"
  }
 },
 "nbformat": 4,
 "nbformat_minor": 2
}
